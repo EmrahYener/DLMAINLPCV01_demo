{
  "nbformat": 4,
  "nbformat_minor": 0,
  "metadata": {
    "colab": {
      "name": "machine_translation_pytorch.ipynb",
      "provenance": [],
      "collapsed_sections": [],
      "toc_visible": true
    },
    "kernelspec": {
      "name": "python3",
      "display_name": "Python 3"
    },
    "language_info": {
      "name": "python"
    },
    "accelerator": "GPU",
    "gpuClass": "standard"
  },
  "cells": [
    {
      "cell_type": "markdown",
      "source": [
        "# **Machine Translation**\n",
        "\n",
        "Machine translation (MT) is the task of automatically translating text or speech from one natural language to another. MT is a subfield of NLP that leverages the disciplines of artificial intelligence, information theory, computer science, and statistics.\n",
        "\n",
        "To build an MT system, we can find different frameworks with statistical machine translation (SMT) and neural machine translation (NMT).\n",
        "\n",
        "SMT replaces classic rule-based MT systems with models that learn translation through examples. Translations in SMT are generated on the basis of statistical models whose parameters are derived from the analysis of bilingual text corpora.\n",
        "\n",
        "NMT uses an artificial neural network to learn a statistical\n",
        "model for MT. Unlike a phrase-based SMT system, an NMT system consists of a single, large neural network that reads a sentence and outputs a translation. Normally an NMT system is built on bidirectional recurrent neural networks (RNNs) using an encoder-attention-decoder architecture  [[1]](#scrollTo=hC1nskpFvqjO).\n",
        "\n",
        "Since NMT is becoming increasingly popular, there are already many toolkits available. This notebook shows an example of NMT with an encoder-attention-decoder architecture, i.e. a sequence-to-sequence network with an attention mechanism.\n",
        "\n",
        "Some of the explanations, codes and pictures used in this notebook are taken from [[2]](https://pytorch.org/tutorials/intermediate/seq2seq_translation_tutorial.html).\n",
        "\n",
        "\n",
        "\n",
        "\n"
      ],
      "metadata": {
        "id": "2e5UAIVWvhSM"
      }
    },
    {
      "cell_type": "markdown",
      "source": [
        "## **NMT with sequence-to-sequence network**\n",
        "An RNN is a network that operates on a sequence and uses its own output as input for subsequent steps.\n",
        "\n",
        "A sequence-to-sequence network (also denoted as seq2seq network or encoder-decoder network) is a model consisting of two RNNs which are denoted as encoder and decoder. The encoder reads an input sequence and outputs a single vector, called context vector. The context vector summarizes the entire input sequence into a single fixed-length vector. The decoder reads that vector to produce an output sequence.\n",
        "\n",
        "Unlike sequence prediction with a single RNN, where every input corresponds to an output, the seq2seq model frees us from sequence length and order, which makes it ideal for translation between two languages.\n",
        "\n",
        "There are two common RNN architectures, long short-term memory (LSTM) and gated recurrent units (GRU). In this example, we will use use GRU architecture. For more details about GRU, please refer to [[3]](https://towardsdatascience.com/understanding-gru-networks-2ef37df6c9be).\n",
        "\n",
        "\n",
        "\n"
      ],
      "metadata": {
        "id": "gc1j6t2uvk2d"
      }
    },
    {
      "cell_type": "markdown",
      "source": [
        "\n",
        "In this example, we will also use an attention mechanism to improve the model efficency. With an attention mechanism, the decoder learns to focus over a specific range of the input sequence.\n",
        "\n",
        "For machine translation with a seq2seq network, we will apply the following steps:\n",
        "\n",
        "* Upload dataset\n",
        "* Import libraries\n",
        "* Create classes and functions\n",
        "* Perform model training\n",
        "* Perform model evaluation\n",
        "* Visualize attention\n",
        "\n",
        "For more details about the seq2seq architecture, please refer to [[4]](https://arxiv.org/abs/1409.3215)."
      ],
      "metadata": {
        "id": "k7sOTYviXjRv"
      }
    },
    {
      "cell_type": "markdown",
      "source": [
        "### Upload dataset\n",
        "The dataset of this project ``eng-fra.txt`` contains 135,842 tab separated English-to-French translation pairs [[5]](https://www.manythings.org/anki/).\n",
        "\n",
        "To upload the dataset, we clone the related IU GitHub portfolio [[6]](https://github.com/iubh/DLMAINLPCV01).\n",
        "\n",
        "\n",
        "This dataset contains two sentences in each line. The first sentence of each line is an English text and the second sentence is its corresponding French translation. You can see a few example sentences below:\n",
        "\n",
        "* You are free to go.\tVous êtes libres de partir.\n",
        "* You are impossible.\tVous êtes insupportable.\n",
        "* You are overworked.\tTu es surmené.\n",
        "* You are very brave.\tTu es très courageux.\n"
      ],
      "metadata": {
        "id": "BjQmYSv_L1rl"
      }
    },
    {
      "cell_type": "code",
      "source": [
        "# Clone the IH GitHub portfolio\n",
        "!git clone https://github.com/iubh/DLMAINLPCV01.git"
      ],
      "metadata": {
        "colab": {
          "base_uri": "https://localhost:8080/"
        },
        "id": "P7WZu6jTycEC",
        "outputId": "e9ab8279-1110-40de-eb70-f779df6cdde8"
      },
      "execution_count": 1,
      "outputs": [
        {
          "output_type": "stream",
          "name": "stdout",
          "text": [
            "Cloning into 'DLMAINLPCV01'...\n",
            "remote: Enumerating objects: 855, done.\u001b[K\n",
            "remote: Counting objects: 100% (36/36), done.\u001b[K\n",
            "remote: Compressing objects: 100% (36/36), done.\u001b[K\n",
            "remote: Total 855 (delta 14), reused 0 (delta 0), pack-reused 819\u001b[K\n",
            "Receiving objects: 100% (855/855), 86.76 MiB | 15.77 MiB/s, done.\n",
            "Resolving deltas: 100% (410/410), done.\n"
          ]
        }
      ]
    },
    {
      "cell_type": "markdown",
      "source": [
        "### Import libraries\n",
        "We import libraries to prepare the dataset and create a seq2seq network. Also, we use the ``matplotlib`` library to visualize the diagrams of the training loss and the attention mechanism."
      ],
      "metadata": {
        "id": "XDBQk6bWL_q9"
      }
    },
    {
      "cell_type": "code",
      "execution_count": 2,
      "metadata": {
        "id": "IhKv8UVDWf9D"
      },
      "outputs": [],
      "source": [
        "# Import \"open\" library to open the dataset \"eng-fra.txt\"\n",
        "from io import open\n",
        "\n",
        "# Import the \"unicodedata\" library to normalize the dataset \"eng-fra.txt\"\n",
        "import unicodedata\n",
        "\n",
        "# Import \"re\" library to use regex in the function \"normalizeString\" \n",
        "import re\n",
        "\n",
        "# Import \"random\" library to choose or print random sentence pairs\n",
        "import random\n",
        "\n",
        "# Import \"pytorch\" libraries for creating seq2seq network\n",
        "import torch\n",
        "import torch.nn as nn\n",
        "from torch import optim\n",
        "import torch.nn.functional as F\n",
        "\n",
        "# Define PyTorch device to run CUDA operations. If CUDA is not available, PyTorch uses CPU\n",
        "device = torch.device(\"cuda\" if torch.cuda.is_available() else \"cpu\")\n",
        "\n",
        "# Import \"time\" and \"math\" libraries to print time elapsed and time remaining with the \"timeSince\" function\n",
        "import time\n",
        "import math\n",
        "\n",
        "\n",
        "# Import \"matplotlib\" libraries to visualize training loss and attention\n",
        "import matplotlib.pyplot as plt\n",
        "import matplotlib.ticker as ticker\n",
        "\n",
        "\n",
        "from torchtext.data.metrics import bleu_score"
      ]
    },
    {
      "cell_type": "markdown",
      "source": [
        "### Prepare dataset\n",
        "In this section, we prepare our dataset to be processed by the seq2seq network.\n",
        "\n",
        "We create the following class:\n",
        "* ``Language``\n",
        "\n",
        "We create the following functions:\n",
        "* ``normalizeString``\n",
        "* ``readLanguages``\n",
        "* ``filterPairs``\n"
      ],
      "metadata": {
        "id": "nQ_bn0BTTxjF"
      }
    },
    {
      "cell_type": "markdown",
      "source": [
        "#### Create ``Language`` class\n",
        "The class ``Language`` contains the following functions:\n",
        "*  ``__init__``: initializes a language instance.\n",
        "* ``addWord``: is a helper function that runs inside the function ``addSentence``. It creates a mapping between words and corresponding indexes and saves the mapping to the dictionaries ``word2index`` and ``index2word``. The indexes are needed for mapping words to embeddings. The function also creates a mapping between words and their occurrences and saves the mapping to the dictionary ``word2count``.\n",
        "* ``addSentence``: runs the function ``addWord`` over each sentence.\n"
      ],
      "metadata": {
        "id": "P6Sf6w9KCObS"
      }
    },
    {
      "cell_type": "code",
      "source": [
        "# We assign the first two indexes to SOS (start-of-sequence) and EOS (end-of-sequence) tokens\n",
        "SOS_token = 0\n",
        "EOS_token = 1\n",
        "\n",
        "# This class contains 3 functions. \n",
        "## \"__init__\" is used to initialize a language instance\n",
        "## \"addWord\" is used to create a mapping between words and indexes. It also counts the frequency of each word.\n",
        "## \"addSentence\" is used to run the function \"addWord\" over each sentence.\n",
        "class Language:\n",
        "    def __init__(self, name):\n",
        "        self.name = name\n",
        "        self.word2index = {}\n",
        "        self.word2count = {}\n",
        "        self.index2word = {0: \"SOS\", 1: \"EOS\"}\n",
        "        self.word_index = 2   # The first two index numbers are assigned to SOS and EOS. The variable \"word_index\" starts from 2.\n",
        "\n",
        "    def addWord(self, word):\n",
        "        if word not in self.word2index:\n",
        "            self.word2index[word] = self.word_index\n",
        "            self.word2count[word] = 1\n",
        "            self.index2word[self.word_index] = word\n",
        "            self.word_index += 1\n",
        "        else:\n",
        "            self.word2count[word] += 1\n",
        "    \n",
        "    def addSentence(self, sentence):\n",
        "        for word in sentence.split(' '):\n",
        "            self.addWord(word)"
      ],
      "metadata": {
        "id": "Ir3eqPdNYL4J"
      },
      "execution_count": 3,
      "outputs": []
    },
    {
      "cell_type": "markdown",
      "source": [
        "#### Create ``normalizeString`` function\n",
        "In this section, we create the function ``normalizeString`` to normalize the dataset. \n",
        "It is used to lowercase the string and insert whitespaces after punctuation marks. Also, it executes the helper function ``removeStringAccent``.\n",
        "\n",
        "The helper function ``removeStringAccent`` is used to remove accents from a given string. In the French alphabet, some letters have accent marks such as â, ê, î, ô, û. The function ``removeStringAccent`` takes a unicode string and returns a string without accents. You can see an example below:\n",
        "* With accent: 'Découvrez tous les logiciels à télécharger'\n",
        "\n",
        "* Without accent: 'Decouvrez tous les logiciels a telecharger'"
      ],
      "metadata": {
        "id": "xCo3T8_-Cw9W"
      }
    },
    {
      "cell_type": "code",
      "source": [
        "# Define a helper function to remove string accents\n",
        "def removeStringAccent(s):\n",
        "    return ''.join(\n",
        "        c for c in unicodedata.normalize('NFD', s)\n",
        "        if unicodedata.category(c) != 'Mn'\n",
        "    )\n",
        "\n",
        "# Define the function \"normalizeString\" \n",
        "## Execute the function \"removeStringAccent\" \n",
        "## Lowercase the characters\n",
        "## Insert whitespaces after punctuation marks.\n",
        "def normalizeString(s):\n",
        "    s = removeStringAccent(s.lower().strip())\n",
        "    s = re.sub(r\"([.!?])\", r\" \\1\", s)\n",
        "    s = re.sub(r\"[^a-zA-Z.!?]+\", r\" \", s)\n",
        "    return s"
      ],
      "metadata": {
        "id": "qJ1Nm8fdYOlQ"
      },
      "execution_count": 4,
      "outputs": []
    },
    {
      "cell_type": "markdown",
      "source": [
        "#### Create ``readLanguages`` function\n",
        "At the [Upload dataset](#scrollTo=BjQmYSv_L1rl) step, we have cloned the IU GitHub portfolio. As explained in that section, the dataset ``eng-fra.txt`` contains sentence pairs. The function ``readLanguages`` reads the dataset, normalizes the sentence pairs and defines the language of the first and second sentence. \n",
        "\n",
        "This function has 3 inputs:\n",
        "* ``language1`` and ``language2``: are string variables. They allow us to define the language of the first and second sentences of each sentence pair.\n",
        "* ``reverse``: is a boolean variable. The sentence pair order is first English and then French to be used for an English-French translation. If we want to change the order of sentence pairs to be used for a French-English translation, we set ``reverse=True``.\n",
        "\n",
        "\n",
        "``readLanguages`` normalizes sentence pairs with the function ``normalizeString`` and saves them to the list ``pairs``. \n",
        "\n",
        "Additionally, ``readLanguages`` calls the ``Language`` class and initializes two language instances ``input_language`` and ``output_language``.\n",
        "\n",
        "It returns the three outputs ``input_language``, ``output_language``and ``pairs``.\n"
      ],
      "metadata": {
        "id": "0FW_sqGdCy2d"
      }
    },
    {
      "cell_type": "code",
      "source": [
        "# Create the function \"readLanguages\" to:\n",
        "## read the dataset \"eng-fra.txt\"\n",
        "## create English-French sentence pairs (or French-English if \"reverse=True\") \n",
        "## initialize language instances \"input_language\" and \"output_language\"\n",
        "def readLanguages(language1, language2, reverse=False):\n",
        "    print(\"Reading lines...\")\n",
        "\n",
        "    # Read the dataset and split into lines\n",
        "    lines = open('/content//DLMAINLPCV01/data/nlp/%s-%s.txt' % (language1, language2), encoding='utf-8').\\\n",
        "        read().strip().split('\\n')\n",
        "\n",
        "    # Split every line into pairs and normalize\n",
        "    pairs = [[normalizeString(s) for s in l.split('\\t')] for l in lines]\n",
        "\n",
        "    # Reverse pairs, make language instances\n",
        "    if reverse:\n",
        "        pairs = [list(reversed(p)) for p in pairs]\n",
        "        input_language = Language(language2)\n",
        "        output_language = Language(language1)\n",
        "    else:\n",
        "        input_language = Language(language1)\n",
        "        output_language = Language(language2)\n",
        "\n",
        "\n",
        "    return input_language, output_language, pairs"
      ],
      "metadata": {
        "id": "MFmTzfhlYQyq"
      },
      "execution_count": 5,
      "outputs": []
    },
    {
      "cell_type": "markdown",
      "source": [
        "#### Create ``filterPairs`` function\n",
        "We have created functions to read our dataset. However, our dataset contains 135,842 sentence pairs. To quickly setup a first MT system, we create a subset of these sentence pairs using the function ``filterPairs``. The purpose of this function is to trim the dataset to only relatively short and simple sentences.\n",
        "\n",
        "For this, we use two variables, the integer ``max_length`` and the list ``eng_prefixes``.\n",
        "\n",
        "The integer ``max_length`` defines the maximum length of the sentences. In this example, we set ``max_length=10``.\n",
        "\n",
        "The list ``eng_prefixes`` is used to choose only the sentences which begin with pronouns and a form of ``to be``."
      ],
      "metadata": {
        "id": "xn4HsFfXC1VF"
      }
    },
    {
      "cell_type": "code",
      "source": [
        "# Define the integer ``max_length`` and set to 10\n",
        "max_length = 10\n",
        "\n",
        "# Define the list ``eng_prefixes``\n",
        "eng_prefixes = (\n",
        "    \"i am \", \"i m \",\n",
        "    \"he is\", \"he s \",\n",
        "    \"she is\", \"she s \",\n",
        "    \"you are\", \"you re \",\n",
        "    \"we are\", \"we re \",\n",
        "    \"they are\", \"they re \" )\n",
        "\n",
        "# Define the helper function \"filterPair\" to filter sentence pairs according to ``max_length`` and ``eng_prefixes``\n",
        "## Return the given sentence pair \"p\" if it meets the conditions\n",
        "def filterPair(p):\n",
        "    return len(p[0].split(' ')) < max_length and \\\n",
        "        len(p[1].split(' ')) < max_length and \\\n",
        "        p[1].startswith(eng_prefixes)\n",
        "\n",
        "# Create the function \"filterPairs\" \n",
        "## Run the function \"filterPair\" over all sentence pairs\n",
        "## Return all filtered sentence pairs\n",
        "def filterPairs(pairs):\n",
        "    return [pair for pair in pairs if filterPair(pair)]\n",
        "\n"
      ],
      "metadata": {
        "id": "mpOk5FMvYTVg"
      },
      "execution_count": 6,
      "outputs": []
    },
    {
      "cell_type": "code",
      "source": [
        "from torch.utils.data import random_split"
      ],
      "metadata": {
        "id": "6uVzgCmdOdiL"
      },
      "execution_count": 8,
      "outputs": []
    },
    {
      "cell_type": "code",
      "source": [
        "# define afunction to create test and evaluation sets by using filtered pairs.\n",
        "## for this we use 80% training and 20% evaluation\n"
      ],
      "metadata": {
        "id": "EBJCjIsHMjNi"
      },
      "execution_count": null,
      "outputs": []
    },
    {
      "cell_type": "markdown",
      "source": [
        "#### Execute functions and create dataset\n",
        "In the previous steps, we cloned the GitHub portfolio and created the functions to prepare the dataset. Now we create the function ``prepareData`` which executes the previous functions and performs the following tasks:\n",
        "\n",
        "* Read text file and split lines into sentence pairs\n",
        "* Normalize text, filter by length and content\n",
        "* Create the list ``pairs`` which contains sentence pairs\n",
        "* Return the instances ``input_language`` and ``output_language`` of the class ``Language`` to provide word-index mappings for both languages\n",
        "* Return the list ``pairs`` containing our sentence pairs after our normalization steps."
      ],
      "metadata": {
        "id": "nve9EjYQC3Vp"
      }
    },
    {
      "cell_type": "code",
      "source": [
        "# Create the function \"prepareData\"\n",
        "def prepareData(language1, language2, reverse=False):\n",
        "    input_language, output_language, pairs = readLanguages(language1, language2, reverse)\n",
        "    print(\"\\nRead %s sentence pairs\" % len(pairs))\n",
        "\n",
        "    pairs = filterPairs(pairs)\n",
        "    print(\"Trimmed to %s sentence pairs\" % len(pairs))\n",
        "\n",
        "\n",
        "    train_data, test_data = random_split(pairs, [8599, 2000])\n",
        "\n",
        "\n",
        "    for pair in train_data:\n",
        "        input_language.addSentence(pair[0])\n",
        "        output_language.addSentence(pair[1])\n",
        "\n",
        "    print(\"Train data: Trimmed to %s sentence pairs\" % len(train_data))\n",
        "    for pair in test_data:\n",
        "        input_language.addSentence(pair[0])\n",
        "        output_language.addSentence(pair[1])\n",
        "    print(\"Test data: Trimmed to %s sentence pairs\" % len(test_data))\n",
        "\n",
        "\n",
        "    print(\"\\nCounted words:\")\n",
        "    print(\"Input language and word index:\",input_language.name, input_language.word_index)\n",
        "    print(\"Output language and word index:\", output_language.name, output_language.word_index)\n",
        "\n",
        "    return input_language, output_language, pairs\n",
        "\n",
        "\n",
        "# Run the function \"prepareData\" and print a random sentence pair\n",
        "input_language, output_language, train_data = prepareData('eng', 'fra', True)\n",
        "input_language, output_language, test_data = prepareData('eng', 'fra', True)\n",
        "print(\"\"\"\\nA random sample from the list \"pairs\": \"\"\")\n",
        "print(random.choice(train_data))\n",
        "print(random.choice(test_data))"
      ],
      "metadata": {
        "colab": {
          "base_uri": "https://localhost:8080/"
        },
        "id": "uNX85w7cYVTh",
        "outputId": "864d6530-4e64-4b2f-fb7a-fbf60f3ea1f6"
      },
      "execution_count": 14,
      "outputs": [
        {
          "output_type": "stream",
          "name": "stdout",
          "text": [
            "Reading lines...\n",
            "\n",
            "Read 135842 sentence pairs\n",
            "Trimmed to 10599 sentence pairs\n",
            "Train data: Trimmed to 8599 sentence pairs\n",
            "Test data: Trimmed to 2000 sentence pairs\n",
            "\n",
            "Counted words:\n",
            "Input language and word index: fra 4345\n",
            "Output language and word index: eng 2803\n",
            "Reading lines...\n",
            "\n",
            "Read 135842 sentence pairs\n",
            "Trimmed to 10599 sentence pairs\n",
            "Train data: Trimmed to 8599 sentence pairs\n",
            "Test data: Trimmed to 2000 sentence pairs\n",
            "\n",
            "Counted words:\n",
            "Input language and word index: fra 4345\n",
            "Output language and word index: eng 2803\n",
            "\n",
            "A random sample from the list \"pairs\": \n",
            "['il a deux ans de plus que mary .', 'he s two years older than mary is .']\n",
            "['je ne suis pas du tout romantique .', 'i am not romantic at all .']\n"
          ]
        }
      ]
    },
    {
      "cell_type": "code",
      "source": [
        "# Run this function to see the first 20 keys and values of the dictionary \"index2word\"\n",
        "for k,v in input_language.index2word.items():\n",
        "  print(k, v)\n",
        "  if k==19:\n",
        "    break"
      ],
      "metadata": {
        "colab": {
          "base_uri": "https://localhost:8080/"
        },
        "id": "Y1n3dahKlWFt",
        "outputId": "c3591421-69ce-448a-bcd6-9ec0df3d270e"
      },
      "execution_count": 15,
      "outputs": [
        {
          "output_type": "stream",
          "name": "stdout",
          "text": [
            "0 SOS\n",
            "1 EOS\n",
            "2 c\n",
            "3 est\n",
            "4 une\n",
            "5 dactylographe\n",
            "6 .\n",
            "7 vous\n",
            "8 etes\n",
            "9 celle\n",
            "10 qui\n",
            "11 m\n",
            "12 a\n",
            "13 entrainee\n",
            "14 chantez\n",
            "15 tout\n",
            "16 le\n",
            "17 temps\n",
            "18 ce\n",
            "19 sont\n"
          ]
        }
      ]
    },
    {
      "cell_type": "markdown",
      "source": [
        "#### Create ``tensorsFromPair`` function\n",
        "We have created sentence pairs and mapped each word to an index. In this section, we create the function ``tensorsFromPair`` which returns two tensors:\n",
        "* ``input_tensor``: contains the indexes of the words in the input sentence\n",
        "* ``target_tensor``: contains the indexes of the words in the target sentence\n",
        "\n",
        "While creating these tensors, we append the ``EOS`` token (index=1) to both sequences. However, we do not include the ``SOS`` token to both sequences. We will use the ``SOS`` token as the initial decoder input to start the decoding process. The usage of the ``SOS`` and ``EOS`` tokens will be described in more detail in the [Create EncoderRNN class](#scrollTo=GaVMAFRmDGEb) and [Create AttnDecoderRNN class](#scrollTo=8wKGu0TGDNr2) sections. \n",
        "\n",
        "In the following figure, we see an ``input_tensor`` and a ``target_tensor``:\n",
        "* Input sentence: \"how are you\"\n",
        "* Target sentence: \"comment allez vous\"\n",
        "\n",
        "![tensors](https://drive.google.com/uc?export=view&id=1jEoc4a9mUH7sx1A7IK-GghBWDr_gCaGl)\n",
        "\n",
        "\n"
      ],
      "metadata": {
        "id": "Db2P_4jtDS8v"
      }
    },
    {
      "cell_type": "code",
      "source": [
        "# Create the function \"tensorsFromPair()\"\n",
        "## This function takes a sentence pair as input\n",
        "## It executes the helper function \"tensorFromSentence()\" over the given sentence pair\n",
        "## The first sentence of the given pair \"pair[0]\" is returned as \"input_tensor\" and second sentence \"pair[1]\" is \"target_tensor\"\n",
        "def tensorsFromPair(pairs):\n",
        "    input_tensor = tensorFromSentence(input_language, pairs[0])\n",
        "    target_tensor = tensorFromSentence(output_language, pairs[1])\n",
        "    return (input_tensor, target_tensor)\n",
        "\n",
        "\n",
        "\n",
        "# Create the helper function \"tensorFromSentence()\"\n",
        "## It executes the helper function \"indexesFromSentence()\" over a given sentence\n",
        "## It creates the 2D tensor \"indexes\" which contains word indexes with corresponding language \n",
        "## The data type \"torch.long\" states that the returned variable is a tensor\n",
        "def tensorFromSentence(language, sentence):\n",
        "    indexes = indexesFromSentence(language, sentence)\n",
        "    indexes.append(EOS_token)\n",
        "    return torch.tensor(indexes, dtype=torch.long, device=device).view(-1, 1)\n",
        "\n",
        "# Create the helper function \"indexesFromSentence()\"\n",
        "## It iterates over each sentence and returns the index number of each word\n",
        "def indexesFromSentence(language, sentence):\n",
        "    return [language.word2index[word] for word in sentence.split(' ')]"
      ],
      "metadata": {
        "id": "uwDXAOkwZWDP"
      },
      "execution_count": 27,
      "outputs": []
    },
    {
      "cell_type": "markdown",
      "source": [
        "### Prepare seq2seq network\n",
        "\n",
        "We have now completed the preparation steps of our dataset. Now we create the seq2seq network.\n",
        "\n",
        "We create the following classes:\n",
        "* ``EncoderRNN``\n",
        "* ``AttnDecoderRNN``\n",
        "\n",
        "We create the following functions:\n",
        "* ``tensorsFromPair``\n",
        "* ``train`` \n",
        "* ``timeSince``\n",
        "* ``trainIters``\n",
        "* ``showPlot``\n",
        "* ``evalute``\n",
        "* ``evaluateRandomly``"
      ],
      "metadata": {
        "id": "JVRkUFHE6FOV"
      }
    },
    {
      "cell_type": "markdown",
      "source": [
        "#### Create ``EncoderRNN`` class\n",
        "As we explained before, our seq2seq model contains two RNNs. The first RNN is called encoder and the second one is called decoder. The encoder reads the input sequence until the token ``EOS`` occurs and sends the most relevant information in form of one vector, i.e. the context vector, to the decoder. Then the decoder generates the output sequence.\n",
        "\n",
        "The figure below demonstrates how each word of the English sentence \"how are you\" together with the end token ``EOS`` is fed to the encoder. Since the sequence has 4 elements, it takes 4 timesteps to read this entire sequence. The process of the encoder is listed below:\n",
        "\n",
        "1.   The ``nn.Embedding`` module of the ``torch.nn`` library produces the word embedding for a given word index.\n",
        "2.   The encoder reads the first word embedding of the input sequence.\n",
        "3.   The GRU module inside the encoder performs a mathematical transformation of the input in its hidden state and produces a so-called hidden vector.\n",
        "4.   This hidden vector together with the word embedding of the next word token is input in the next timestep.\n",
        "5.   This operation is repeated until the ``EOS`` token occurs. \n",
        "6.   The ``EOS`` token indicated the encoder to send the context vector to the decoder.\n",
        "\n",
        "We can see the encoder process in the figure below:\n",
        "\n",
        "\n",
        "![encoder](https://drive.google.com/uc?export=view&id=17O043yS7k1joOuvqUy0WslTOvJYvjQB4)\n"
      ],
      "metadata": {
        "id": "GaVMAFRmDGEb"
      }
    },
    {
      "cell_type": "code",
      "source": [
        "# Create the class \"EncoderRNN\" that holds our weights, bias, and method for the forward step. \n",
        "# input_size: is the number of inputs. That means the size of sentences. We define it from total word index numbers.\n",
        "# hidden_size: is a hyperparameter. It defines the size of the hidden state (the length of the output vector of the encoder RNN). \n",
        "## In the training phase, we will set it to 256. Then the hidden state at each time step will be a vector of length 256.\n",
        "class EncoderRNN(nn.Module):\n",
        "    def __init__(self, input_size, hidden_size):\n",
        "        super(EncoderRNN, self).__init__()\n",
        "        self.hidden_size = hidden_size\n",
        "\n",
        "        # Initialize a 2d-array\n",
        "        ## When class is called, pytorch automatically fills this 2d-array with random weight parameters\n",
        "        self.embedding = nn.Embedding(input_size, hidden_size)\n",
        "\n",
        "        # Create gated recurrent unit (GRU) with input_dim=hidden_size and hidden_dim=hidden_size\n",
        "        self.gru = nn.GRU(hidden_size, hidden_size)\n",
        "    \n",
        "    # This function shapes the input and output format of the encoder GRU network\n",
        "    def forward(self, input, hidden):\n",
        "        embedded = self.embedding(input).view(1, 1, -1)\n",
        "        input_gru = embedded\n",
        "        input_gru, hidden = self.gru(input_gru, hidden)\n",
        "        return  input_gru, hidden\n",
        "    \n",
        "    # Create a tensor filled with zeros with a size of 1x256\n",
        "    ## We use this tensor for the hidden state\n",
        "    def initHidden(self):\n",
        "        return torch.zeros(1, 1, self.hidden_size, device=device)"
      ],
      "metadata": {
        "id": "KhV6kXuLceXe"
      },
      "execution_count": 17,
      "outputs": []
    },
    {
      "cell_type": "markdown",
      "source": [
        "#### Create ``AttnDecoderRNN`` class\n",
        "The decoder is another RNN that takes the encoder's output vector, i.e. the context vector, and outputs a sequence of words i.e. the translation.\n",
        "\n",
        "The context vector is used as the initial hidden state of the decoder.\n",
        "\n",
        "At each decoding step, the decoder is given an input token and hidden vector. The initial input token is the ``SOS`` token, and the first hidden vector is the context vector (the encoder’s last hidden vector). The ``SOS`` token is not a part of the target tensor. This token is sent to the decoder by the function ``train`` to start the decoder process.\n",
        "\n",
        "As we have explained before, we will use an attention mechanism to improve the model efficiency. Attention allows the decoder network to “focus” on a different part of the context vector for every step of the decoder’s outputs. First, we calculate a set of attention weights. These weights are multiplied by the context vector to create a weighted hidden vector for the decoder. The result contains information about that specific part of the input sequence, and thus helps the decoder choose the right output words. Since our example word sequence has 4 elements, it takes 4 timesteps to read the entire sequence. The training process of the decoder is listed below:\n",
        "\n",
        "1.   In the first timestep, the decoder predicts the first token of the target sentence. Since there is no previous word, we send the ``SOS`` token as the input of the first timestep.\n",
        "2.   The input token of the decoder is sent to the embedding layer. The ``nn.Embedding`` module of the ``torch.nn`` library produces a word embedding for the given word index.\n",
        "3.   The embedded token is first processed in the attention mechanism and then fed to the GRU.\n",
        "4.   The context vector from the encoder is multiplied by the attention weights which are calculated by the attention mechanism. The resulting vector is fed to the GRU as the hidden vector of the first timestep.\n",
        "5.   The GRU module inside the decoder performs a mathematical transformation of the input in its hidden state and produces a hidden vector.\n",
        "6.   This hidden vector together with the word embedding of the next word token is input in the next timestep.\n",
        "7.   We compare each input token with the output token of the previous timestep and calculate the loss.\n",
        "8.   This operation is repeated until the GRU module predicts the token ``EOS``. \n",
        "9.   When this occurs, the predicted output sentence, i.e. the translation is completed and the total loss value for this iteration is calculated. Based on the loss value, the weights in the hidden layers are updated.\n",
        "\n",
        "We can see the training process of the decoder in the figure below:\n",
        "\n",
        "![encoder](https://drive.google.com/uc?export=view&id=1v-cBsbVNzqIaDUJa-sSEhdvXjw5dNpF6)\n",
        "\n",
        "\n",
        "\n"
      ],
      "metadata": {
        "id": "8wKGu0TGDNr2"
      }
    },
    {
      "cell_type": "code",
      "source": [
        "# Create the class \"AttnDecoderRNN\"\n",
        "## This class contains functions for the decoder and the attention mechanism. \n",
        "## To initialize a decoder with attention mechanism, we define two parameters, \"hidden_size\" and \"output_size\"  \n",
        "### \"hidden_size\": is a hyperparameter. It defines the length of the hidden state vector.\n",
        "### \"output_size\": is the size of the output vector, i.e. the total number of words. We define it by using the variable \"word_index\".\n",
        "### The output size of the encoder should match the input size of the decoder. Therefore, the decoder \"hidden_size\" and the encoder \"hidden_size\" has to be the same.\n",
        "class AttnDecoderRNN(nn.Module):\n",
        "    def __init__(self, hidden_size, output_size, dropout_p=0.1, max_length=max_length):\n",
        "        super(AttnDecoderRNN, self).__init__()\n",
        "        self.hidden_size = hidden_size\n",
        "        self.output_size = output_size\n",
        "        self.dropout_p = dropout_p\n",
        "        self.max_length = max_length\n",
        "\n",
        "        self.embedding = nn.Embedding(self.output_size, self.hidden_size)\n",
        "        self.attn = nn.Linear(self.hidden_size * 2, self.max_length)\n",
        "        self.attn_combine = nn.Linear(self.hidden_size * 2, self.hidden_size)\n",
        "        self.dropout = nn.Dropout(self.dropout_p)\n",
        "        self.gru = nn.GRU(self.hidden_size, self.hidden_size)\n",
        "        self.out = nn.Linear(self.hidden_size, self.output_size)\n",
        "\n",
        "    # This function shapes the input and output format of the decoder RNN, defines the activation functions and also calculates the attention weights\n",
        "    def forward(self, input, hidden, encoder_outputs):\n",
        "        embedded = self.embedding(input).view(1, 1, -1)\n",
        "        embedded = self.dropout(embedded)\n",
        "\n",
        "        attn_weights = F.softmax(\n",
        "            self.attn(torch.cat((embedded[0], hidden[0]), 1)), dim=1)\n",
        "        \n",
        "        # Multiplication of the context vector and attention weights\n",
        "        attn_applied = torch.bmm(attn_weights.unsqueeze(0),\n",
        "                                 encoder_outputs.unsqueeze(0))\n",
        "\n",
        "        output = torch.cat((embedded[0], attn_applied[0]), 1)\n",
        "        output = self.attn_combine(output).unsqueeze(0)\n",
        "\n",
        "        output = F.relu(output)\n",
        "        output, hidden = self.gru(output, hidden)\n",
        "\n",
        "        output = F.log_softmax(self.out(output[0]), dim=1)\n",
        "        return output, hidden, attn_weights\n",
        "\n",
        "    # Create a tensor filled with zeros with a size of 1x256\n",
        "    ## We use this tensor for the hidden state\n",
        "    def initHidden(self):\n",
        "        return torch.zeros(1, 1, self.hidden_size, device=device)"
      ],
      "metadata": {
        "id": "YyPPc35KZTNd"
      },
      "execution_count": 18,
      "outputs": []
    },
    {
      "cell_type": "markdown",
      "source": [
        "#### Create ``train`` function\n",
        "We have created the functions of the encoder and decoder. In this section, we create the function ``train`` which defines the encoder and decoder processes for one iteration. During the model training, we will call this function by using the ``trainIters`` function.  \n",
        "\n",
        "The function ``train`` feeds the input sentence to the encoder and keeps track of every encoder output, the hidden vectors and the context vector. Then it sends the ``SOS`` token as the first input to the decoder. Additionally, ``train`` sends the context vector of the encoder as the first hidden vector of the decoder. When the output token of the decoder is ``EOS``, the function saves the decoder outputs and returns the training loss.\n",
        "\n",
        "To improve the efficiency of the training process, we use an algorithm which is called \"teacher forcing\". In some iterations, this algorithm uses the real target token's index as the next input instead of the decoder’s predicted token's index. The percentage of using the real target token's indexes is defined in the variable ``teacher_forcing_ratio``.\n",
        "\n",
        "For more details about the teacher forcing algorithm, please refer to [[7]](https://towardsdatascience.com/what-is-teacher-forcing-3da6217fed1c)."
      ],
      "metadata": {
        "id": "PrPFjU4DDVeR"
      }
    },
    {
      "cell_type": "code",
      "source": [
        "# Set the float variable \"teacher_forcing _ratio\"\n",
        "## This variable is used to set the usage ratio of the teacher forcing algorithm in each iteration\n",
        "## We set \"teacher_forcing_ratio = 0.5\" which means that we use this algorithm in 50% of total iterations\n",
        "teacher_forcing_ratio = 0.5\n",
        "\n",
        "# Create the function \"train\"\n",
        "def train(input_tensor, target_tensor, encoder, decoder, encoder_optimizer, decoder_optimizer, criterion, max_length=max_length):\n",
        "    encoder_hidden = encoder.initHidden()\n",
        "\n",
        "    encoder_optimizer.zero_grad()\n",
        "    decoder_optimizer.zero_grad()\n",
        "    input_length = input_tensor.size(0)\n",
        "    target_length = target_tensor.size(0)\n",
        "    encoder_outputs = torch.zeros(max_length, encoder.hidden_size, device=device)\n",
        "    loss = 0\n",
        "\n",
        "    for ei in range(input_length):\n",
        "        encoder_output, encoder_hidden = encoder(\n",
        "            input_tensor[ei], encoder_hidden)\n",
        "        encoder_outputs[ei] = encoder_output[0, 0]\n",
        "\n",
        "    decoder_input = torch.tensor([[SOS_token]], device=device)\n",
        "    decoder_hidden = encoder_hidden\n",
        "\n",
        "    # Create an if-else statement for the teacher forcing algorithm\n",
        "    use_teacher_forcing = True if random.random() < teacher_forcing_ratio else False\n",
        "    if use_teacher_forcing:\n",
        "        # Teacher forcing: Feed the target as the next input\n",
        "        for di in range(target_length):\n",
        "            decoder_output, decoder_hidden, decoder_attention = decoder(\n",
        "                decoder_input, decoder_hidden, encoder_outputs)\n",
        "            loss += criterion(decoder_output, target_tensor[di])\n",
        "            decoder_input = target_tensor[di]  # Teacher forcing\n",
        "\n",
        "    else:\n",
        "        # Without teacher forcing: use its own predictions as the next input\n",
        "        for di in range(target_length):\n",
        "            decoder_output, decoder_hidden, decoder_attention = decoder(\n",
        "                decoder_input, decoder_hidden, encoder_outputs)\n",
        "            topv, topi = decoder_output.topk(1)\n",
        "            decoder_input = topi.squeeze().detach()  # detach from history as input\n",
        "\n",
        "            loss += criterion(decoder_output, target_tensor[di])\n",
        "            if decoder_input.item() == EOS_token:\n",
        "                break\n",
        "\n",
        "    loss.backward()\n",
        "    encoder_optimizer.step()\n",
        "    decoder_optimizer.step()\n",
        "\n",
        "    return loss.item() / target_length"
      ],
      "metadata": {
        "id": "MuIjuxt1ZYRO"
      },
      "execution_count": 19,
      "outputs": []
    },
    {
      "cell_type": "markdown",
      "source": [
        "#### Create ``timeSince`` function\n",
        "We create the function ``timeSince`` which prints ``Time elapsed`` and ``Time remaining`` given the current time and iterations.\n"
      ],
      "metadata": {
        "id": "UP8BRRcUDY5g"
      }
    },
    {
      "cell_type": "code",
      "source": [
        "# Create the function \"timeSince\"\n",
        "## It calculates and returns the time elapsed and estimated time\n",
        "def timeSince(since, percent):\n",
        "    now = time.time()\n",
        "    s = now - since\n",
        "    es = s / (percent)\n",
        "    rs = es - s\n",
        "    return 'Time elapsed: %s   Time remaining: %s' % (asMinutes(s), asMinutes(rs))\n",
        "\n",
        "# Create the helper function \"asMinutes\". \n",
        "## It returns the time elapsed as the minutes and runs inside the \"timeSince\" function\n",
        "def asMinutes(s):\n",
        "    m = math.floor(s / 60)\n",
        "    s -= m * 60\n",
        "    return '%dm %ds' % (m, s)"
      ],
      "metadata": {
        "id": "ki88yvNrZcBi"
      },
      "execution_count": 20,
      "outputs": []
    },
    {
      "cell_type": "markdown",
      "source": [
        "#### Create ``showPlot`` function\n",
        "We create the function ``showPlot`` to plot the training loss. For this, we use the ``matplotlib`` library."
      ],
      "metadata": {
        "id": "Xow4x52_DiSX"
      }
    },
    {
      "cell_type": "code",
      "source": [
        "# Create the function ``showPlot``\n",
        "def showPlot(points):\n",
        "    plt.figure()\n",
        "    fig, ax = plt.subplots()\n",
        "    # this locator puts ticks at regular intervals\n",
        "    loc = ticker.MultipleLocator(base=0.2)\n",
        "    ax.yaxis.set_major_locator(loc)\n",
        "    plt.plot(points)"
      ],
      "metadata": {
        "id": "P3kM2GFOZq3s"
      },
      "execution_count": 21,
      "outputs": []
    },
    {
      "cell_type": "markdown",
      "source": [
        "#### Create ``trainIters`` function\n",
        "We have created all functions to train our model. In this section, we create the function ``trainIters`` which executes the previous functions and performs the following tasks:\n",
        "\n",
        "* Start a timer.\n",
        "* Define the encoder and decoder optimizer algorithm. We will use the stochastic gradient descent (SDG) method.\n",
        "* Define criterion to calculate the loss. We will use the negative log-likelihood loss (NLLLoss).\n",
        "* Choose a sentence pair for training.\n",
        "* Calculate total training loss and call the function ``showPlot`` to plot the loss values.\n",
        "* Call the function ``train`` according to the defined ``n_iters`` variable which stands for the number of iterations.\n",
        "* Print the progress (% of examples, time elapsed, time estimated) and average loss."
      ],
      "metadata": {
        "id": "KVByGNEtDbdx"
      }
    },
    {
      "cell_type": "code",
      "source": [
        "# Create the function \"trainIters\"\n",
        "def trainIters(encoder, decoder, n_iters, print_every=1000, plot_every=100, learning_rate=0.01):\n",
        "    #Start timer\n",
        "    start = time.time()\n",
        "\n",
        "    # Define the optimizer algorithm\n",
        "    encoder_optimizer = optim.SGD(encoder.parameters(), lr=learning_rate)\n",
        "    decoder_optimizer = optim.SGD(decoder.parameters(), lr=learning_rate)\n",
        "    training_pairs = [tensorsFromPair(random.choice(train_data))\n",
        "                      for i in range(n_iters)]\n",
        "\n",
        "    # Define the loss algorithm\n",
        "    plot_losses = []\n",
        "    print_loss_total = 0  # Reset every print_every\n",
        "    plot_loss_total = 0  # Reset every plot_every\n",
        "    criterion = nn.NLLLoss()\n",
        "\n",
        "    # Create the loop for encoder and decoder\n",
        "    for iter in range(1, n_iters + 1):\n",
        "        training_pair = training_pairs[iter - 1]\n",
        "        input_tensor = training_pair[0]\n",
        "        target_tensor = training_pair[1]\n",
        "\n",
        "        loss = train(input_tensor, target_tensor, encoder,\n",
        "                     decoder, encoder_optimizer, decoder_optimizer, criterion)\n",
        "        print_loss_total += loss\n",
        "        plot_loss_total += loss\n",
        "\n",
        "        if iter % print_every == 0:\n",
        "            print_loss_avg = print_loss_total / print_every\n",
        "            print_loss_total = 0\n",
        "            print('%s  Iteration: %d   Progress: %d%%    Loss: %.4f' % (timeSince(start, iter / n_iters),\n",
        "                                         iter, iter / n_iters * 100, print_loss_avg))\n",
        "\n",
        "        if iter % plot_every == 0:\n",
        "            plot_loss_avg = plot_loss_total / plot_every\n",
        "            plot_losses.append(plot_loss_avg)\n",
        "            plot_loss_total = 0\n",
        "\n",
        "    # Plot a graphic which shows training loss\n",
        "    showPlot(plot_losses)"
      ],
      "metadata": {
        "id": "6lSrutlwZeJD"
      },
      "execution_count": 22,
      "outputs": []
    },
    {
      "cell_type": "markdown",
      "source": [
        "#### Create ``evalute`` function\n",
        "We have created all functions to train our model. Now, we create the function ``evaluate``. This function uses the ``EncoderRNN`` and ``AttnDecoderRNN`` classes to simply translate an input sentence. Additionally, it stores the decoder’s attention outputs which can be used to plot the confusion matrix."
      ],
      "metadata": {
        "id": "nRTAi3nyDkX3"
      }
    },
    {
      "cell_type": "code",
      "source": [
        "# Create the function \"evalute\"\n",
        "def evaluate(encoder, decoder, sentence, max_length=max_length):\n",
        "    with torch.no_grad():\n",
        "        input_tensor = tensorFromSentence(input_language, sentence)\n",
        "        input_length = input_tensor.size()[0]\n",
        "        encoder_hidden = encoder.initHidden()\n",
        "\n",
        "        encoder_outputs = torch.zeros(max_length, encoder.hidden_size, device=device)\n",
        "\n",
        "        for ei in range(input_length):\n",
        "            encoder_output, encoder_hidden = encoder(input_tensor[ei],\n",
        "                                                     encoder_hidden)\n",
        "            encoder_outputs[ei] += encoder_output[0, 0]\n",
        "\n",
        "        decoder_input = torch.tensor([[SOS_token]], device=device)  # SOS\n",
        "\n",
        "        decoder_hidden = encoder_hidden\n",
        "\n",
        "        decoded_words = []\n",
        "        decoder_attentions = torch.zeros(max_length, max_length)\n",
        "\n",
        "        for di in range(max_length):\n",
        "            decoder_output, decoder_hidden, decoder_attention = decoder(\n",
        "                decoder_input, decoder_hidden, encoder_outputs)\n",
        "            decoder_attentions[di] = decoder_attention.data\n",
        "\n",
        "            # The function \"topk()\" returns the k largest elements of the given input tensor along a given dimension\n",
        "            ## It returns the token with the highest probability score (softmax function)\n",
        "            topv, topi = decoder_output.data.topk(1)\n",
        "\n",
        "            # Check if the token with the highest probability score is the token \"EOS\"\n",
        "            ## If the token is \"EOS\", then finish the sequence\n",
        "            ## If the token is not \"EOS\", continue to loop inside the decoder and add each decoded word to the output sentence\n",
        "            if topi.item() == EOS_token:\n",
        "                decoded_words.append('<EOS>')\n",
        "                break\n",
        "            else:\n",
        "                decoded_words.append(output_language.index2word[topi.item()])\n",
        "\n",
        "            decoder_input = topi.squeeze().detach()\n",
        "\n",
        "        return decoded_words, decoder_attentions[:di + 1]\n",
        "\n",
        "# Create the function \"evaluateRandomly\" to call the function \"evaluate\" for random sentence pairs\n",
        "def evaluateRandomly(encoder, decoder, n_sample):\n",
        "    outputsentences=[]\n",
        "    targetsentences=[]\n",
        "\n",
        "    for i in range(n_sample):\n",
        "        pair = random.choice(test_data)\n",
        "        print('Input sentence: ', pair[0])\n",
        "        print('Correct translation: ', pair[1])\n",
        "        output_words, attentions = evaluate(encoder, decoder, pair[0])\n",
        "        output_sentence = ' '.join(output_words)\n",
        "        print('Predicted translation: ', output_sentence)\n",
        "        print('')\n"
      ],
      "metadata": {
        "id": "UkEPWNi-ZthF"
      },
      "execution_count": 26,
      "outputs": []
    },
    {
      "cell_type": "markdown",
      "source": [
        "### Perform model training\n",
        "With all these helper functions in place, we can initialize our seq2seq network and start training.\n",
        "\n",
        "Remember that to save time for this exercise we use a subset of our trainig data which was filtered with the ``filterPairs`` function. Due to this small dataset, we use a relatively small network with 256 hidden nodes and a single GRU layer. If case you want to build a seq2seq network with more training data, you can adjust the ``filterPairs`` function and use a network with more parameters (e.g., the parameters in ``trainIters``, ``hidden_size``, etc).\n",
        "\n",
        "Note: With the small training data set and 75,000 iterations, the training process will take about 25 minutes."
      ],
      "metadata": {
        "id": "kaiWQIiZDqlx"
      }
    },
    {
      "cell_type": "code",
      "source": [
        "# We set the number of hidden layers to 256\n",
        "hidden_size = 256\n",
        "\n",
        "# We initialize our encoder RNN\n",
        "## input_size of our encoder RNN is the length of our word index of the input language. In our example, the input language is French and the word index is 4345\n",
        "## hidden_size of our encoder RNN is 256, which is a hyperparameter we set\n",
        "### It defines the number of features of the hidden state\n",
        "## we connect our encoder RNN to device (if GPU available GPU, if not, CPU.)\n",
        "encoder1 = EncoderRNN(input_language.word_index, hidden_size).to(device)\n",
        "\n",
        "# We initialize our decoder RNN\n",
        "## input_size of our decoder RNN is 256, which is same as the output size of encoder RNN\n",
        "## output_size of our decoder RNN is the length of our word index of the output language. In our example, the output language is English and the word index is 2803\n",
        "## we connect our encoder RNN to device (if GPU available GPU, if not, CPU.)\n",
        "attn_decoder1 = AttnDecoderRNN(hidden_size, output_language.word_index, dropout_p=0.1).to(device)\n",
        "\n",
        "# Now encoder and decoder RNNs are ready.\n",
        "## We execute the function \"trainIters()\" to perform the training process.\n",
        "## we set encoder and decoder parametes. \n",
        "## We set training iterations to 75000\n",
        "## We print progress for every 7500 iterations. \n",
        "## We show training loss for every 500 iterations. \n",
        "## The learning rate is 0.01\n",
        "trainIters(encoder1, attn_decoder1, 75000, print_every=7500, plot_every=500, learning_rate=0.01)"
      ],
      "metadata": {
        "colab": {
          "base_uri": "https://localhost:8080/",
          "height": 458
        },
        "id": "gBmQV7JxZy1g",
        "outputId": "c04f6b72-baac-4425-d034-29cfb77bd74d"
      },
      "execution_count": 25,
      "outputs": [
        {
          "output_type": "stream",
          "name": "stdout",
          "text": [
            "Time elapsed: 1m 37s   Time remaining: 14m 39s  Iteration: 7500   Progress: 10%    Loss: 2.6684\n",
            "Time elapsed: 3m 12s   Time remaining: 12m 48s  Iteration: 15000   Progress: 20%    Loss: 2.0683\n",
            "Time elapsed: 4m 46s   Time remaining: 11m 8s  Iteration: 22500   Progress: 30%    Loss: 1.6934\n",
            "Time elapsed: 6m 21s   Time remaining: 9m 32s  Iteration: 30000   Progress: 40%    Loss: 1.4082\n",
            "Time elapsed: 7m 55s   Time remaining: 7m 55s  Iteration: 37500   Progress: 50%    Loss: 1.1941\n",
            "Time elapsed: 9m 32s   Time remaining: 6m 21s  Iteration: 45000   Progress: 60%    Loss: 1.0225\n",
            "Time elapsed: 11m 6s   Time remaining: 4m 45s  Iteration: 52500   Progress: 70%    Loss: 0.8825\n",
            "Time elapsed: 12m 42s   Time remaining: 3m 10s  Iteration: 60000   Progress: 80%    Loss: 0.7777\n",
            "Time elapsed: 14m 18s   Time remaining: 1m 35s  Iteration: 67500   Progress: 90%    Loss: 0.6466\n",
            "Time elapsed: 15m 54s   Time remaining: 0m 0s  Iteration: 75000   Progress: 100%    Loss: 0.5675\n"
          ]
        },
        {
          "output_type": "display_data",
          "data": {
            "text/plain": [
              "<Figure size 432x288 with 0 Axes>"
            ]
          },
          "metadata": {}
        },
        {
          "output_type": "display_data",
          "data": {
            "text/plain": [
              "<Figure size 432x288 with 1 Axes>"
            ],
            "image/png": "[encoded data removed]"
          },
          "metadata": {
            "needs_background": "light"
          }
        }
      ]
    },
    {
      "cell_type": "markdown",
      "source": [
        "### Perform model evaluation\n",
        "\n",
        "We have completed the training process. Now, we use the function ``evaluateTest`` to evaluate the our test set. "
      ],
      "metadata": {
        "id": "BEErKTDEQcte"
      }
    },
    {
      "cell_type": "code",
      "source": [
        "#  Execute the function \"evaluateRandomly()\" to print random results and to compare them with the correct translations\n",
        "## To improve the results, we can increase the number of iterations and change the hyperparameters such as learning rate and teacher forcing ratio.\n",
        "evaluateRandomly(encoder1, attn_decoder1, n_sample=10)"
      ],
      "metadata": {
        "colab": {
          "base_uri": "https://localhost:8080/"
        },
        "id": "7yt-N-wLcLpB",
        "outputId": "97ab84b3-8a52-4c82-886a-e57f9ebb670c"
      },
      "execution_count": 28,
      "outputs": [
        {
          "output_type": "stream",
          "name": "stdout",
          "text": [
            "Input sentence:  je n en ai pas encore termine .\n",
            "Correct translation:  i m not finished yet .\n",
            "Predicted translation:  i m not done yet . <EOS>\n",
            "\n",
            "Input sentence:  il aime la natation .\n",
            "Correct translation:  he is fond of swimming .\n",
            "Predicted translation:  he is fond of swimming . <EOS>\n",
            "\n",
            "Input sentence:  je ne vais pas mentir .\n",
            "Correct translation:  i m not going to lie .\n",
            "Predicted translation:  i m not going to <EOS>\n",
            "\n",
            "Input sentence:  nous attendons la publication de son ouvrage .\n",
            "Correct translation:  we are expecting the publication of his book .\n",
            "Predicted translation:  we are under his of his her . <EOS>\n",
            "\n",
            "Input sentence:  elle est apparemment une honnete femme .\n",
            "Correct translation:  she is apparently an honest woman .\n",
            "Predicted translation:  she s wearing an honest . <EOS>\n",
            "\n",
            "Input sentence:  je n ai pas fini .\n",
            "Correct translation:  i m not done .\n",
            "Predicted translation:  i m not done . <EOS>\n",
            "\n",
            "Input sentence:  tu es etourdi .\n",
            "Correct translation:  you re forgetful .\n",
            "Predicted translation:  you re resilient . <EOS>\n",
            "\n",
            "Input sentence:  tu es un homme si mechant .\n",
            "Correct translation:  you re such a mean man .\n",
            "Predicted translation:  you are such a great man . <EOS>\n",
            "\n",
            "Input sentence:  je suis trop fatigue pour continuer de marcher .\n",
            "Correct translation:  i m too tired to walk any further .\n",
            "Predicted translation:  i am too tired to keep up up . <EOS>\n",
            "\n",
            "Input sentence:  je suis plutot occupee .\n",
            "Correct translation:  i m pretty busy .\n",
            "Predicted translation:  i m busy kind . <EOS>\n",
            "\n"
          ]
        }
      ]
    },
    {
      "cell_type": "markdown",
      "source": [
        "### Visualize translations with attention data\n",
        "We visualize the translated sentences together with the attention weights for each word. Since the attention mechanism is used to weight specific encoder outputs of the input sequence, we can see where the network is focused most at each time step.\n",
        "\n",
        "To visualize the attention weights for each word in a given translation, we define the function ``evaluateAndShowAttention``."
      ],
      "metadata": {
        "id": "rLBGtNwLDvhg"
      }
    },
    {
      "cell_type": "code",
      "source": [
        "# Create the helper function \"showAttention\"\n",
        "## This function creates a confusion matrix with the given attention data\n",
        "## The columns indicate the input steps and rows indicate output steps\n",
        "def showAttention(input_sentence, output_words, attentions):\n",
        "    # Set up figure with colorbar\n",
        "    fig = plt.figure()\n",
        "    ax = fig.add_subplot(111)\n",
        "    cax = ax.matshow(attentions.numpy(), cmap='bone')\n",
        "    fig.colorbar(cax)\n",
        "\n",
        "    # Set up axes\n",
        "    ax.set_xticklabels([''] + input_sentence.split(' ') +\n",
        "                       ['<EOS>'], rotation=90)\n",
        "    ax.set_yticklabels([''] + output_words)\n",
        "\n",
        "    # Show label at every tick\n",
        "    ax.xaxis.set_major_locator(ticker.MultipleLocator(1))\n",
        "    ax.yaxis.set_major_locator(ticker.MultipleLocator(1))\n",
        "\n",
        "    plt.show()\n",
        "\n",
        "# This function calls the function \"evaluate\" and uses input tokens and output tokens as the labels of the x and y axis of the graphic\n",
        "## The inputs tokens are used as labels of the y axis and the output tokens are for the x axis\n",
        "# This function also calls the helper function \"show Attention\"\n",
        "def evaluateAndShowAttention(input_sentence):\n",
        "    output_words, attentions = evaluate(\n",
        "        encoder1, attn_decoder1, input_sentence)\n",
        "    print('input =', input_sentence)\n",
        "    print('output =', ' '.join(output_words))\n",
        "    showAttention(input_sentence, output_words, attentions)\n"
      ],
      "metadata": {
        "id": "Qe2edzPMcSaJ"
      },
      "execution_count": 29,
      "outputs": []
    },
    {
      "cell_type": "markdown",
      "source": [
        "#### Translation 1\n",
        "Translate the following French sentence:\n",
        "* \"elle a cinq ans de moins que moi .\"\n",
        "\n",
        "Additionally, plot the attention weights for the translation."
      ],
      "metadata": {
        "id": "yf4iiNS663Qj"
      }
    },
    {
      "cell_type": "code",
      "source": [
        "evaluateAndShowAttention(\"elle a cinq ans de moins que moi .\")"
      ],
      "metadata": {
        "colab": {
          "base_uri": "https://localhost:8080/",
          "height": 333
        },
        "id": "cn6Utapj4Vu8",
        "outputId": "e2d8d44e-eea1-4abc-9b8e-e091dfac9bf7"
      },
      "execution_count": 30,
      "outputs": [
        {
          "output_type": "stream",
          "name": "stdout",
          "text": [
            "input = elle a cinq ans de moins que moi .\n",
            "output = she s five years younger than i am . <EOS>\n"
          ]
        },
        {
          "output_type": "display_data",
          "data": {
            "text/plain": [
              "<Figure size 432x288 with 2 Axes>"
            ],
            "image/png": "[encoded data removed]"
          },
          "metadata": {
            "needs_background": "light"
          }
        }
      ]
    },
    {
      "cell_type": "markdown",
      "source": [
        "#### Translation 2\n",
        "Translate the following French sentence:\n",
        "* \"elle est trop petit .\"\n",
        "\n",
        "Additionally, plot the attention weights for the translation."
      ],
      "metadata": {
        "id": "23t0WF7M7Z5q"
      }
    },
    {
      "cell_type": "code",
      "source": [
        "evaluateAndShowAttention(\"elle est trop petit .\")"
      ],
      "metadata": {
        "id": "AHw88bZh6rBW",
        "outputId": "5ccfcd74-1920-4640-af7b-df0a7c8d9b79",
        "colab": {
          "base_uri": "https://localhost:8080/",
          "height": 305
        }
      },
      "execution_count": 32,
      "outputs": [
        {
          "output_type": "stream",
          "name": "stdout",
          "text": [
            "input = elle est trop petit .\n",
            "output = she s too short . <EOS>\n"
          ]
        },
        {
          "output_type": "display_data",
          "data": {
            "text/plain": [
              "<Figure size 432x288 with 2 Axes>"
            ],
            "image/png": "[encoded data removed]"
          },
          "metadata": {
            "needs_background": "light"
          }
        }
      ]
    },
    {
      "cell_type": "markdown",
      "source": [
        "#### Translation 3\n",
        "Translate the following French sentence:\n",
        "* \"je ne crains pas de mourir .\"\n",
        "\n",
        "Additionally, plot the attention weights for the translation."
      ],
      "metadata": {
        "id": "87VzNiJU7bmR"
      }
    },
    {
      "cell_type": "code",
      "source": [
        "evaluateAndShowAttention(\"je ne crains pas de mourir .\")"
      ],
      "metadata": {
        "id": "yf2XiJEU6sQP",
        "outputId": "f0f06710-48a6-4177-d23a-d3f5c42819a0",
        "colab": {
          "base_uri": "https://localhost:8080/",
          "height": 332
        }
      },
      "execution_count": 33,
      "outputs": [
        {
          "output_type": "stream",
          "name": "stdout",
          "text": [
            "input = je ne crains pas de mourir .\n",
            "output = i m not afraid to die . <EOS>\n"
          ]
        },
        {
          "output_type": "display_data",
          "data": {
            "text/plain": [
              "<Figure size 432x288 with 2 Axes>"
            ],
            "image/png": "[encoded data removed]"
          },
          "metadata": {
            "needs_background": "light"
          }
        }
      ]
    },
    {
      "cell_type": "markdown",
      "source": [
        "#### Translation 4\n",
        "Translate the following French sentence:\n",
        "* \"c est un jeune directeur plein de talent .\"\n",
        "\n",
        "Additionally, plot the attention weights for the translation."
      ],
      "metadata": {
        "id": "IEwlDogy7cuN"
      }
    },
    {
      "cell_type": "code",
      "source": [
        "evaluateAndShowAttention(\"c est un jeune directeur plein de talent .\")"
      ],
      "metadata": {
        "id": "6AArJf3r6tQk",
        "outputId": "7b5cf79b-17f4-42ff-8d33-84c79fb56b7b",
        "colab": {
          "base_uri": "https://localhost:8080/",
          "height": 340
        }
      },
      "execution_count": 34,
      "outputs": [
        {
          "output_type": "stream",
          "name": "stdout",
          "text": [
            "input = c est un jeune directeur plein de talent .\n",
            "output = he s a talented young man . <EOS>\n"
          ]
        },
        {
          "output_type": "display_data",
          "data": {
            "text/plain": [
              "<Figure size 432x288 with 2 Axes>"
            ],
            "image/png": "[encoded data removed]"
          },
          "metadata": {
            "needs_background": "light"
          }
        }
      ]
    },
    {
      "cell_type": "markdown",
      "source": [
        "# **References**\n",
        "REFERENCES WILL BE COMPLETED AT THE END\n",
        "- [1] NLP and Computer Vision_DLMAINLPCV01 Course Book\n",
        "- [2] https://pytorch.org/tutorials/intermediate/seq2seq_translation_tutorial.html\n",
        "- [3] https://towardsdatascience.com/understanding-gru-networks-2ef37df6c9be\n",
        "- [4] https://arxiv.org/abs/1409.3215\n",
        "- [5] https://www.manythings.org/anki\n",
        "- [6] https://github.com/iubh/DLMAINLPCV01\n",
        "- [7] https://towardsdatascience.com/what-is-teacher-forcing-3da6217fed1c"
      ],
      "metadata": {
        "id": "hC1nskpFvqjO"
      }
    },
    {
      "cell_type": "markdown",
      "source": [
        "Copyright © 2022 IU International University of Applied Sciences"
      ],
      "metadata": {
        "id": "mKIjY6bxvsWg"
      }
    }
  ]
}