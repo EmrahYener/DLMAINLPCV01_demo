{
  "nbformat": 4,
  "nbformat_minor": 0,
  "metadata": {
    "colab": {
      "name": "machine_translation_pytorch.ipynb",
      "provenance": [],
      "collapsed_sections": [],
      "toc_visible": true,
      "include_colab_link": true
    },
    "kernelspec": {
      "name": "python3",
      "display_name": "Python 3"
    },
    "language_info": {
      "name": "python"
    },
    "accelerator": "GPU",
    "gpuClass": "standard"
  },
  "cells": [
    {
      "cell_type": "markdown",
      "metadata": {
        "id": "view-in-github",
        "colab_type": "text"
      },
      "source": [
        "<a href=\"https://colab.research.google.com/github/EmrahYener/DLMAINLPCV01_demo/blob/master/machine_translation_pytorch.ipynb\" target=\"_parent\"><img src=\"https://colab.research.google.com/assets/colab-badge.svg\" alt=\"Open In Colab\"/></a>"
      ]
    },
    {
      "cell_type": "markdown",
      "source": [
        "# **Machine Translation**\n",
        "\n",
        "Machine translation (MT) is the task of automatically translating text or speech from one natural language to another. MT is a subfield of NLP that leverages the disciplines of artificial intelligence, information theory, computer science, and statistics.\n",
        "\n",
        "To build an MT system, we can find different frameworks with statistical machine translation (SMT) and neural machine translation (NMT).\n",
        "\n",
        "SMT replaces classic rule-based MT systems with models that learn translation through examples. Translations in SMT are generated on the basis of statistical models whose parameters are derived from the analysis of bilingual text corpora.\n",
        "\n",
        "NMT uses an artificial neural network to learn a statistical\n",
        "model for MT. Unlike a phrase-based SMT system, an NMT system consists of a single, large neural network that reads a sentence and outputs a translation. Normally an NMT system is built on bidirectional recurrent neural networks (RNNs) using an encoder-attention-decoder architecture  [[1]](#scrollTo=hC1nskpFvqjO).\n",
        "\n",
        "Since NMT is becoming increasingly popular, there are already many toolkits available. This notebook shows an example of NMT with an encoder-attention-decoder architecture, i.e. a sequence-to-sequence network with an attention mechanism.\n",
        "\n",
        "Some of the explanations, codes and pictures used in this notebook are taken from [[2]](https://pytorch.org/tutorials/intermediate/seq2seq_translation_tutorial.html).\n",
        "\n",
        "\n",
        "\n",
        "\n"
      ],
      "metadata": {
        "id": "2e5UAIVWvhSM"
      }
    },
    {
      "cell_type": "markdown",
      "source": [
        "## **NMT with sequence-to-sequence network**\n",
        "An RNN is a network that operates on a sequence and uses its own output as input for subsequent steps.\n",
        "\n",
        "A sequence-to-sequence network (also denoted as seq2seq network or encoder-decoder network) is a model consisting of two RNNs which are denoted as encoder and decoder. The encoder reads an input sequence and outputs a single vector. The decoder reads that vector to produce an output sequence.\n",
        "\n",
        "Unlike sequence prediction with a single RNN, where every input corresponds to an output, the seq2seq model frees us from sequence length and order, which makes it ideal for translation between two languages.\n",
        "\n",
        "There are two common RNN architectures, long short-term memory (LSTM) and gated recurrent units (GRU). In this example, we will use GRU architecture. For more detail about GRU, please refer to [[xx]](https://towardsdatascience.com/understanding-gru-networks-2ef37df6c9be).\n",
        "\n",
        "\n",
        "\n",
        "![gru](https://pytorch.org/tutorials/_images/seq2seq_ts.png)\n",
        "\n",
        "\n"
      ],
      "metadata": {
        "id": "gc1j6t2uvk2d"
      }
    },
    {
      "cell_type": "markdown",
      "source": [
        "\n",
        "In this example, we will also use an attention mechanism to improve the model efficency. With an attention mechanism, the decoder learns to focus over a specific range of the input sequence.\n",
        "\n",
        "For machine translation with a seq2seq network, we will apply the following steps:\n",
        "\n",
        "* Upload dataset\n",
        "* Import libraries\n",
        "* Create classes and functions\n",
        "* Perform model training\n",
        "* Perform model evaluation\n",
        "* Visualize attention\n",
        "\n",
        "For more details about the seq2seq architecture, please refer to [[3]](https://arxiv.org/abs/1409.3215)."
      ],
      "metadata": {
        "id": "k7sOTYviXjRv"
      }
    },
    {
      "cell_type": "markdown",
      "source": [
        "### Upload dataset\n",
        "The dataset of this project ``eng-fra.txt`` contains thousands of tab separated English-to-French translation pairs [[4]](https://www.manythings.org/anki/).\n",
        "\n",
        "To upload the dataset, we clone the related IU GitHub portfolio [[5]](https://github.com/iubh/DLMAINLPCV01).\n",
        "\n",
        "\n",
        "This dataset contains two sentences in each line. The first sentence of each line is an English text and the second sentence is the French translation of it. You can see a few example lines below:\n",
        "\n",
        "* You are free to go.\tVous êtes libres de partir.\n",
        "* You are impossible.\tVous êtes insupportable.\n",
        "* You are overworked.\tTu es surmené.\n",
        "* You are very brave.\tTu es très courageux.\n",
        "\n",
        "The dataset contains 135,842 sentence pairs.\n"
      ],
      "metadata": {
        "id": "BjQmYSv_L1rl"
      }
    },
    {
      "cell_type": "code",
      "source": [
        "# Clone the IH GitHub portfolio\n",
        "!git clone https://github.com/iubh/DLMAINLPCV01.git"
      ],
      "metadata": {
        "colab": {
          "base_uri": "https://localhost:8080/"
        },
        "id": "P7WZu6jTycEC",
        "outputId": "b431eaec-1127-4603-d322-a98eb80e2b37"
      },
      "execution_count": null,
      "outputs": [
        {
          "output_type": "stream",
          "name": "stdout",
          "text": [
            "Cloning into 'DLMAINLPCV01'...\n",
            "remote: Enumerating objects: 819, done.\u001b[K\n",
            "remote: Counting objects: 100% (179/179), done.\u001b[K\n",
            "remote: Compressing objects: 100% (47/47), done.\u001b[K\n",
            "remote: Total 819 (delta 142), reused 160 (delta 132), pack-reused 640\u001b[K\n",
            "Receiving objects: 100% (819/819), 86.65 MiB | 22.38 MiB/s, done.\n",
            "Resolving deltas: 100% (393/393), done.\n"
          ]
        }
      ]
    },
    {
      "cell_type": "markdown",
      "source": [
        "### Import libraries\n",
        "We import libraries to prepare the dataset and create a seq2seq network. Also we use the ``matplotlib`` library to visualize the diagrams of the training loss and the attention mechanism."
      ],
      "metadata": {
        "id": "XDBQk6bWL_q9"
      }
    },
    {
      "cell_type": "code",
      "execution_count": null,
      "metadata": {
        "id": "IhKv8UVDWf9D"
      },
      "outputs": [],
      "source": [
        "# Import \"open\" library to open the dataset \"eng-fra.txt\"\n",
        "from io import open\n",
        "\n",
        "# Import the \"unicodedata\" library to normalize the dataset \"eng-fra.txt\"\n",
        "import unicodedata\n",
        "\n",
        "# Import \"re\" library to use regex in the \"normalizeString\" function\n",
        "import re\n",
        "\n",
        "# Import \"random\" library to choose or print random sentence pairs\n",
        "import random\n",
        "\n",
        "# Import \"pytorch\" libraries for creating seq2seq network\n",
        "import torch\n",
        "import torch.nn as nn\n",
        "from torch import optim\n",
        "import torch.nn.functional as F\n",
        "\n",
        "# Define PyTorch device to run CUDA operations. If CUDA is not available, PyTorch uses CPU\n",
        "device = torch.device(\"cuda\" if torch.cuda.is_available() else \"cpu\")\n",
        "\n",
        "# Import \"time\" and \"math\" libraries to print time elapsed and time remaining with the \"timeSince\" function\n",
        "import time\n",
        "import math\n",
        "\n",
        "\n",
        "# Import \"matplotlib\" libraries to visualize training loss and attention\n",
        "import matplotlib.pyplot as plt\n",
        "import matplotlib.ticker as ticker"
      ]
    },
    {
      "cell_type": "markdown",
      "source": [
        "### Prepare dataset\n",
        "In this section, we prepare our dataset for the seq2seq network.\n",
        "\n",
        "We create the following class:\n",
        "* ``Language``\n",
        "\n",
        "We create the following functions:\n",
        "* ``normalizeString``\n",
        "* ``readLanguages``\n",
        "* ``filterPairs``\n"
      ],
      "metadata": {
        "id": "nQ_bn0BTTxjF"
      }
    },
    {
      "cell_type": "markdown",
      "source": [
        "#### Create ``Language`` class\n",
        "The class ``Language`` contains the following functions:\n",
        "*  ``__init__``: initializes a language instance.\n",
        "* ``addWord``: is a helper function that runs inside the ``addSentence`` function. It creates mapping between words and corresponding indexes and saves to the dictionaries ``word2index`` and ``index2word``. It also creates mapping between words and their occurences and saves to the dictionary ``word2count``.\n",
        "* ``addSentence``: runs the ``addWord`` function over each sentence.\n"
      ],
      "metadata": {
        "id": "P6Sf6w9KCObS"
      }
    },
    {
      "cell_type": "code",
      "source": [
        "# We assign the first two indexes to SOS (start-of-sequence) and EOS (end-of-sequence) tokens\n",
        "SOS_token = 0\n",
        "EOS_token = 1\n",
        "\n",
        "# This class contains 3 functions. \n",
        "## \"__init__\" is used to initialize a language instance\n",
        "## \"addWord\" is used to create mapping between words and indexes. It also counts the frequency of each word.\n",
        "## \"addSentence\" is used to run \"addWord\" function over each sentence.\n",
        "class Language:\n",
        "    def __init__(self, name):\n",
        "        self.name = name\n",
        "        self.word2index = {}\n",
        "        self.word2count = {}\n",
        "        self.index2word = {0: \"SOS\", 1: \"EOS\"}\n",
        "        self.word_index = 2   # The first two index numbers are assigned to SOS and EOS. The variable \"word_index\" starts from 2.\n",
        "\n",
        "    def addWord(self, word):\n",
        "        if word not in self.word2index:\n",
        "            self.word2index[word] = self.word_index\n",
        "            self.word2count[word] = 1\n",
        "            self.index2word[self.word_index] = word\n",
        "            self.word_index += 1\n",
        "        else:\n",
        "            self.word2count[word] += 1\n",
        "\n",
        "    def addSentence(self, sentence):\n",
        "        for word in sentence.split(' '):\n",
        "            self.addWord(word)"
      ],
      "metadata": {
        "id": "Ir3eqPdNYL4J"
      },
      "execution_count": null,
      "outputs": []
    },
    {
      "cell_type": "markdown",
      "source": [
        "#### Create ``normalizeString`` function\n",
        "In this section, we create the function ``normalizeString`` to normalize the dataset. \n",
        "It is used to lowercase the string, remove non-letter characters and exclamation marks. Also it executes the helper function ``removeStringAccent``.\n",
        "\n",
        "The helper function ``removeStringAccent`` is used to remove accents from a given string. In the French alphabet, some letters have accent marks such as â, ê, î, ô, û. The function ``removeStringAccent`` takes a unicode string and returns a string without accents. You can see an example below:\n",
        "* With accent: 'Découvrez tous les logiciels à télécharger'\n",
        "\n",
        "* Without accent: 'Decouvrez tous les logiciels a telecharger'"
      ],
      "metadata": {
        "id": "xCo3T8_-Cw9W"
      }
    },
    {
      "cell_type": "code",
      "source": [
        "# Define a helper function to remove string accents\n",
        "def removeStringAccent(s):\n",
        "    return ''.join(\n",
        "        c for c in unicodedata.normalize('NFD', s)\n",
        "        if unicodedata.category(c) != 'Mn'\n",
        "    )\n",
        "\n",
        "# Define the \"normalizeString\" function\n",
        "## Execute the \"removeStringAccent\" function\n",
        "## Lowercase the characters\n",
        "## Remove the non-letter characters and exclamation marks\n",
        "def normalizeString(s):\n",
        "    s = removeStringAccent(s.lower().strip())\n",
        "    s = re.sub(r\"([.!?])\", r\" \\1\", s)\n",
        "    s = re.sub(r\"[^a-zA-Z.!?]+\", r\" \", s)\n",
        "    return s"
      ],
      "metadata": {
        "id": "qJ1Nm8fdYOlQ"
      },
      "execution_count": null,
      "outputs": []
    },
    {
      "cell_type": "markdown",
      "source": [
        "#### Create ``readLanguages`` function\n",
        "At the [Upload dataset](#scrollTo=BjQmYSv_L1rl) step, we have cloned the IU GitHub portfolio. As expained in that section, the dataset ``eng-fra.txt`` contains sentence pairs. The function ``readLanguages`` reads the dataset, prepares sentence pairs and defines the language of the first and second sentences of the pairs. \n",
        "\n",
        "This function has 3 inputs:\n",
        "* ``language1`` and ``language2``: are string variables. They allow us to define the language of the first and second sentences of each pair.\n",
        "* ``reverse``: is a boolean variable. The sentence pairs are all English to French, so if we want to  change the order of sentence pairs as French to English, we set ``reverse=True``.\n",
        "\n",
        "\n",
        "This function normalizes sentece pairs with the ``normalizeString`` function and saves them to the list ``pairs``. \n",
        "\n",
        "This function also calls the ``Language`` class and initializes two language instances ``input_language`` and ``output_language``.\n",
        "\n",
        "It returns three outputs ``input_language``, ``output_language``and ``pairs``.\n"
      ],
      "metadata": {
        "id": "0FW_sqGdCy2d"
      }
    },
    {
      "cell_type": "code",
      "source": [
        "# Create the \"readLanguages\" function to:\n",
        "## read the dataset \"eng-fra.txt\"\n",
        "## create English-French sentence pairs (or French-English if \"reverse=True\") \n",
        "## initialize language instances \"input_language\" and \"output_language\"\n",
        "def readLanguages(language1, language2, reverse=False):\n",
        "    print(\"Reading lines...\")\n",
        "\n",
        "    # Read the dataset and split into lines\n",
        "    lines = open('/content//DLMAINLPCV01/data/nlp/%s-%s.txt' % (language1, language2), encoding='utf-8').\\\n",
        "        read().strip().split('\\n')\n",
        "\n",
        "    # Split every line into pairs and normalize\n",
        "    pairs = [[normalizeString(s) for s in l.split('\\t')] for l in lines]\n",
        "\n",
        "    # Reverse pairs, make language instances\n",
        "    if reverse:\n",
        "        pairs = [list(reversed(p)) for p in pairs]\n",
        "        input_language = Language(language2)\n",
        "        output_language = Language(language1)\n",
        "    else:\n",
        "        input_language = Language(language1)\n",
        "        output_language = Language(language2)\n",
        "\n",
        "\n",
        "    return input_language, output_language, pairs"
      ],
      "metadata": {
        "id": "MFmTzfhlYQyq"
      },
      "execution_count": null,
      "outputs": []
    },
    {
      "cell_type": "markdown",
      "source": [
        "#### Create ``filterPairs`` function\n",
        "We have created functions to read our dataset. However, our dataset contains 135,842 sentence pairs and we can filter out some sentences to reduce the training time.\n",
        "\n",
        "In this section we create the function ``filterPairs`` to filter some of the sentence pairs. The purpose of this function is to trim the dataset to only relatively short and simple sentences.\n",
        "\n",
        "To filter the sentence pairs by length and content, we use two variables, the integer ``max_length`` and the list ``eng_prefixes``.\n",
        "\n",
        "The integer ``max_length`` defines the maximum length of the sentences. In this example, we set ``max_length=10``.\n",
        "\n",
        "The list ``eng_prefixes`` is used to choose only the sentences which begin with the following words:\n",
        "* \"i am \", \"i m \",\n",
        "* \"he is\", \"he s \",\n",
        "* \"she is\", \"she s \",\n",
        "* \"you are\", \"you re \",\n",
        "* \"we are\", \"we re \",\n",
        "* \"they are\", \"they re \"\n"
      ],
      "metadata": {
        "id": "xn4HsFfXC1VF"
      }
    },
    {
      "cell_type": "code",
      "source": [
        "# Define the integer ``max_length`` and set to 10\n",
        "max_length = 10\n",
        "\n",
        "# Define the list ``eng_prefixes``\n",
        "eng_prefixes = (\n",
        "    \"i am \", \"i m \",\n",
        "    \"he is\", \"he s \",\n",
        "    \"she is\", \"she s \",\n",
        "    \"you are\", \"you re \",\n",
        "    \"we are\", \"we re \",\n",
        "    \"they are\", \"they re \" )\n",
        "\n",
        "# Define the helper function \"filterPair\" to filter sentence pairs according to ``max_length`` and ``eng_prefixes``\n",
        "## Return the given sentence pair \"p\" if it meets the conditions\n",
        "def filterPair(p):\n",
        "    return len(p[0].split(' ')) < max_length and \\\n",
        "        len(p[1].split(' ')) < max_length and \\\n",
        "        p[1].startswith(eng_prefixes)\n",
        "\n",
        "# Create the \"filterPairs\" function\n",
        "## Run \"filterPair\" function over all sentence pairs\n",
        "## Return all filtered sentence pairs\n",
        "def filterPairs(pairs):\n",
        "    return [pair for pair in pairs if filterPair(pair)]\n",
        "\n",
        "\n",
        "# execute the \"filterPairs\" function\n",
        "\n"
      ],
      "metadata": {
        "id": "mpOk5FMvYTVg"
      },
      "execution_count": null,
      "outputs": []
    },
    {
      "cell_type": "markdown",
      "source": [
        "#### Create ``tensorsFromPair`` function\n",
        "In this section we will create the function ``tensorsFromPair`` which creates a two tensors where the key is the word index and the value is the corresponding word vector. It returns the tensors ``input_tensor`` which represents the input language and ``output_tensor`` which represents the output language."
      ],
      "metadata": {
        "id": "Db2P_4jtDS8v"
      }
    },
    {
      "cell_type": "code",
      "source": [
        "# Create the function \"tensorsFromPair()\"\n",
        "## It executes the helper function \"tensorFromSentence()\" and creates input and output tensors of the encoder RNN.\n",
        "def tensorsFromPair(pair):\n",
        "    input_tensor = tensorFromSentence(input_language, pair[0])\n",
        "    target_tensor = tensorFromSentence(output_language, pair[1])\n",
        "    return (input_tensor, target_tensor)\n",
        "\n",
        "# Create the helper function \"tensorFromSentence()\"\n",
        "## It executes the helper function \"indexesFromSentence()\" over a given sentence\n",
        "def tensorFromSentence(language, sentence):\n",
        "    indexes = indexesFromSentence(language, sentence)\n",
        "    indexes.append(EOS_token)\n",
        "    return torch.tensor(indexes, dtype=torch.long, device=device).view(-1, 1)\n",
        "\n",
        "# Create the helper function \"indexesFromSentence()\"\n",
        "def indexesFromSentence(language, sentence):\n",
        "    return [language.word2index[word] for word in sentence.split(' ')]"
      ],
      "metadata": {
        "id": "uwDXAOkwZWDP"
      },
      "execution_count": null,
      "outputs": []
    },
    {
      "cell_type": "markdown",
      "source": [
        "#### Execute functions and create dataset\n",
        "In the previous steps, we have cloned the GitHub portfolio and created the functions to prepare the dataset. Now we create the function \"``prepareData`` which executes the previous functions and peforms the following tasks:\n",
        "\n",
        "* Read text file and split lines into pairs\n",
        "* Normalize text, filter by length and content\n",
        "* Create the list ``pairs`` which contains sentence pairs\n",
        "* Return the language instances ``input_language`` and ``output_language``\n",
        "* Return the list ``pairs``"
      ],
      "metadata": {
        "id": "nve9EjYQC3Vp"
      }
    },
    {
      "cell_type": "code",
      "source": [
        "# Create \"prepareData\" function\n",
        "def prepareData(language1, language2, reverse=False):\n",
        "    input_language, output_language, pairs = readLanguages(language1, language2, reverse)\n",
        "    print(\"\\nRead %s sentence pairs\" % len(pairs))\n",
        "\n",
        "    pairs = filterPairs(pairs)\n",
        "    print(\"Trimmed to %s sentence pairs\" % len(pairs))\n",
        " \n",
        "    for pair in pairs:\n",
        "        input_language.addSentence(pair[0])\n",
        "        output_language.addSentence(pair[1])\n",
        "\n",
        "    print(\"\\nCounted words:\")\n",
        "    print(input_language.name, input_language.word_index)\n",
        "    print(output_language.name, output_language.word_index)\n",
        "\n",
        "    return input_language, output_language, pairs\n",
        "\n",
        "\n",
        "# Run \"prepareData\" function and print a random sentence pair\n",
        "input_language, output_language, pairs = prepareData('eng', 'fra', True)\n",
        "print(\"\"\"\\nA random sample from the list \"pairs\": \"\"\")\n",
        "print(random.choice(pairs))"
      ],
      "metadata": {
        "colab": {
          "base_uri": "https://localhost:8080/"
        },
        "id": "uNX85w7cYVTh",
        "outputId": "f644c87d-fd41-4927-c689-5349a015dbe0"
      },
      "execution_count": null,
      "outputs": [
        {
          "output_type": "stream",
          "name": "stdout",
          "text": [
            "Reading lines...\n",
            "\n",
            "Read 135842 sentence pairs\n",
            "Trimmed to 10599 sentence pairs\n",
            "\n",
            "Counted words:\n",
            "fra 4345\n",
            "eng 2803\n",
            "\n",
            "A random sample from the list \"pairs\": \n",
            "['nous n y sommes pas encore .', 'we re not yet there .']\n"
          ]
        }
      ]
    },
    {
      "cell_type": "markdown",
      "source": [
        "### Prepare seq2seq network\n",
        "\n",
        "We have prepared the dataset. Now we create the seq2seq network.\n",
        "\n",
        "We create the following classes:\n",
        "* ``EncoderRNN``\n",
        "* ``AttnDecoderRNN``\n",
        "\n",
        "We create the following functions:\n",
        "* ``tensorsFromPair``\n",
        "* ``train`` \n",
        "* ``timeSince``\n",
        "* ``trainIters``\n",
        "* ``showPlot``\n",
        "* ``evalute``\n",
        "* ``evaluateRandomly``"
      ],
      "metadata": {
        "id": "JVRkUFHE6FOV"
      }
    },
    {
      "cell_type": "markdown",
      "source": [
        "#### Create ``EncoderRNN`` class\n",
        "As we explained before, seq2seq model contains two RNN`s. The first RNN is called encoder and the second one called decoder. The encoder reads the input sequence and sends what it has understood to the decoder. Then the decoder generates the output sequence.\n",
        "\n",
        "Since encoder and decoder are RNN`s, they have loops. When the encoder reads the label SOS (end of sentence), it sends the context to the decoder.\n",
        "\n",
        "If we want to ask \"how are you\" then we have to brake it down into 3 tokens. We also append a start of sequence (<SOS>) and end of sequence (<EOS>) token to the start and end of sentence, respectively.  Since it has 5 elements, it will take the RNN 5 timesteps to read this entire sequence. Each time it reads an input, does a transformation on its hidden state, then sends that hidden state output to the next timestep. We move from one timestep to the next (from one token to the other).\n",
        "\n",
        "\n",
        "![encoder](https://drive.google.com/uc?export=view&id=1A7Rkj9KKsdAttPqR7cDA3_d922vbtMMu)\n",
        "\n"
      ],
      "metadata": {
        "id": "GaVMAFRmDGEb"
      }
    },
    {
      "cell_type": "code",
      "source": [
        "# Create the class \"EncoderRNN\" that holds our weights, bias, and method for the forward step. \n",
        "# input_size: is the number of inputs. That means the size of sentences. We define it from total word index numbers.\n",
        "# hidden_size: is a hyperparameter. It defines the size of the hidden state (the length of the output vector of the encoder RNN). \n",
        "## In the training phase, we will set it to 256. Then the hidden state at each time step will be a vector of length 256.\n",
        "class EncoderRNN(nn.Module):\n",
        "    def __init__(self, input_size, hidden_size):\n",
        "        super(EncoderRNN, self).__init__()\n",
        "        self.hidden_size = hidden_size\n",
        "\n",
        "        # Initialize a 2d-array\n",
        "        ## When class is called, pytorch automatilcally fills this 2d-array with random weight parameters\n",
        "        self.embedding = nn.Embedding(input_size, hidden_size)\n",
        "\n",
        "        # Create gated recurrent unit (GRU) with input_dim=hidden_size and hidden_dim=hidden_size\n",
        "        self.gru = nn.GRU(hidden_size, hidden_size)\n",
        "    \n",
        "    # This function shapes the input and output format of the encoder GRU network\n",
        "    def forward(self, input, hidden):\n",
        "        embedded = self.embedding(input).view(1, 1, -1)\n",
        "        input_gru = embedded\n",
        "        input_gru, hidden = self.gru(input_gru, hidden)\n",
        "        return  input_gru, hidden\n",
        "    \n",
        "    # Create a tensor filled with zeros with a size of 1x256\n",
        "    def initHidden(self):\n",
        "        return torch.zeros(1, 1, self.hidden_size, device=device)"
      ],
      "metadata": {
        "id": "KhV6kXuLceXe"
      },
      "execution_count": null,
      "outputs": []
    },
    {
      "cell_type": "markdown",
      "source": [
        "#### Create ``AttnDecoderRNN`` class\n",
        "The decoder is another RNN that takes the encoder output vector(s) and outputs a sequence of words to create the translation.\n",
        "\n",
        "In the simplest seq2seq decoder we use only last output of the encoder. This last output is sometimes called the context vector as it encodes context from the entire sequence. This context vector is used as the initial hidden state of the decoder.\n",
        "\n",
        "At every step of decoding, the decoder is given an input token and hidden state. The initial input token is the start-of-string <SOS> token, and the first hidden state is the context vector (the encoder’s last hidden state).\n",
        "\n",
        "![encoder](https://drive.google.com/uc?export=view&id=1dxoPoRB3K3z5DIeu__Kvk8ez8b5fvakz)\n",
        "\n",
        "\n",
        "As we have explained before, we will use an attention mechanism to improve the model efficency. Attention allows the decoder network to “focus” on a different part of the encoder’s outputs for every step of the decoder’s own outputs. First we calculate a set of attention weights. These will be multiplied by the encoder output vectors to create a weighted combination. The result (called attn_applied in the code) should contain information about that specific part of the input sequence, and thus help the decoder choose the right output words.\n",
        "\n",
        "![encoder](https://i.imgur.com/1152PYf.png)"
      ],
      "metadata": {
        "id": "8wKGu0TGDNr2"
      }
    },
    {
      "cell_type": "code",
      "source": [
        "# Create the class \"AttnDecoderRNN\"\n",
        "## This class contains the functions for the decoder RNN and the attention mechanism \n",
        "## hidden_size: is a hyperparameter. It defines the length of the input vector. \n",
        "### Since the output size of the encoder should match the input size of the decoder, decoder \"hidden_size\" and the encoder \"hidden_size\" has to be same.\n",
        "## output_size: is the size of the output vector. That means the total number of words. We define it from the variable word_index.\n",
        "class AttnDecoderRNN(nn.Module):\n",
        "    def __init__(self, hidden_size, output_size, dropout_p=0.1, max_length=max_length):\n",
        "        super(AttnDecoderRNN, self).__init__()\n",
        "        self.hidden_size = hidden_size\n",
        "        self.output_size = output_size\n",
        "        self.dropout_p = dropout_p\n",
        "        self.max_length = max_length\n",
        "\n",
        "        self.embedding = nn.Embedding(self.output_size, self.hidden_size)\n",
        "        self.attn = nn.Linear(self.hidden_size * 2, self.max_length)\n",
        "        self.attn_combine = nn.Linear(self.hidden_size * 2, self.hidden_size)\n",
        "        self.dropout = nn.Dropout(self.dropout_p)\n",
        "        self.gru = nn.GRU(self.hidden_size, self.hidden_size)\n",
        "        self.out = nn.Linear(self.hidden_size, self.output_size)\n",
        "\n",
        "    # This function shapes the input and output format of the decoder RNN, defines the activation functions and also calculates the attention weights\n",
        "    def forward(self, input, hidden, encoder_outputs):\n",
        "        embedded = self.embedding(input).view(1, 1, -1)\n",
        "        embedded = self.dropout(embedded)\n",
        "\n",
        "        attn_weights = F.softmax(\n",
        "            self.attn(torch.cat((embedded[0], hidden[0]), 1)), dim=1)\n",
        "        attn_applied = torch.bmm(attn_weights.unsqueeze(0),\n",
        "                                 encoder_outputs.unsqueeze(0))\n",
        "\n",
        "        output = torch.cat((embedded[0], attn_applied[0]), 1)\n",
        "        output = self.attn_combine(output).unsqueeze(0)\n",
        "\n",
        "        output = F.relu(output)\n",
        "        output, hidden = self.gru(output, hidden)\n",
        "\n",
        "        output = F.log_softmax(self.out(output[0]), dim=1)\n",
        "        return output, hidden, attn_weights\n",
        "\n",
        "    # Create a tensor filled with zeros with a size of 1x256\n",
        "    def initHidden(self):\n",
        "        return torch.zeros(1, 1, self.hidden_size, device=device)"
      ],
      "metadata": {
        "id": "YyPPc35KZTNd"
      },
      "execution_count": null,
      "outputs": []
    },
    {
      "cell_type": "markdown",
      "source": [
        "#### Create ``train`` function\n",
        "We have created the functions of encoder and decoder. In this section we create a the function ``train`` to run the input sentence through the encoder, and keep track of every output and the latest hidden state (output of the previous timestep). Then the decoder is given the <SOS> token as its first input, and the last hidden state of the encoder as its first hidden state.\n",
        "\n",
        "In this function, we will also use the teacher forcing concept which uses the real target outputs as each next input, instead of using the decoder’s guess as the next input. Teacher forcing improves the training process."
      ],
      "metadata": {
        "id": "PrPFjU4DDVeR"
      }
    },
    {
      "cell_type": "code",
      "source": [
        "# Turn teacher_forcing_ratio up to use more of it.\n",
        "teacher_forcing_ratio = 0.5\n",
        "\n",
        "\n",
        "def calculate_loss(input_tensor, target_tensor, encoder, decoder, encoder_optimizer, decoder_optimizer, criterion, max_length=max_length):\n",
        "    encoder_hidden = encoder.initHidden()\n",
        "\n",
        "    encoder_optimizer.zero_grad()\n",
        "    decoder_optimizer.zero_grad()\n",
        "\n",
        "    input_length = input_tensor.size(0)\n",
        "    target_length = target_tensor.size(0)\n",
        "\n",
        "    encoder_outputs = torch.zeros(max_length, encoder.hidden_size, device=device)\n",
        "\n",
        "    loss = 0\n",
        "\n",
        "    for ei in range(input_length):\n",
        "        encoder_output, encoder_hidden = encoder(\n",
        "            input_tensor[ei], encoder_hidden)\n",
        "        encoder_outputs[ei] = encoder_output[0, 0]\n",
        "\n",
        "    decoder_input = torch.tensor([[SOS_token]], device=device)\n",
        "\n",
        "    decoder_hidden = encoder_hidden\n",
        "\n",
        "    use_teacher_forcing = True if random.random() < teacher_forcing_ratio else False\n",
        "\n",
        "    if use_teacher_forcing:\n",
        "        # Teacher forcing: Feed the target as the next input\n",
        "        for di in range(target_length):\n",
        "            decoder_output, decoder_hidden, decoder_attention = decoder(\n",
        "                decoder_input, decoder_hidden, encoder_outputs)\n",
        "            loss += criterion(decoder_output, target_tensor[di])\n",
        "            decoder_input = target_tensor[di]  # Teacher forcing\n",
        "\n",
        "    else:\n",
        "        # Without teacher forcing: use its own predictions as the next input\n",
        "        for di in range(target_length):\n",
        "            decoder_output, decoder_hidden, decoder_attention = decoder(\n",
        "                decoder_input, decoder_hidden, encoder_outputs)\n",
        "            topv, topi = decoder_output.topk(1)\n",
        "            decoder_input = topi.squeeze().detach()  # detach from history as input\n",
        "\n",
        "            loss += criterion(decoder_output, target_tensor[di])\n",
        "            if decoder_input.item() == EOS_token:\n",
        "                break\n",
        "\n",
        "    loss.backward()\n",
        "\n",
        "    encoder_optimizer.step()\n",
        "    decoder_optimizer.step()\n",
        "\n",
        "    return loss.item() / target_length"
      ],
      "metadata": {
        "id": "MuIjuxt1ZYRO"
      },
      "execution_count": null,
      "outputs": []
    },
    {
      "cell_type": "markdown",
      "source": [
        "#### Create ``timeSince`` function\n",
        "In this section, we create the function ``timeSince`` which prints time elapsed and estimated time remaining given the current time and progress %.\n"
      ],
      "metadata": {
        "id": "UP8BRRcUDY5g"
      }
    },
    {
      "cell_type": "code",
      "source": [
        "# Create the function \"timeSince\"\n",
        "## It calculates and returns the time elapsed and estimated time\n",
        "def timeSince(since, percent):\n",
        "    now = time.time()\n",
        "    s = now - since\n",
        "    es = s / (percent)\n",
        "    rs = es - s\n",
        "    return '%s (- %s)' % (asMinutes(s), asMinutes(rs))\n",
        "\n",
        "# Create the helper function \"asMinutes\". \n",
        "## It returns the time elapsed as the minutes and runs inside the \"timeSince\" function\n",
        "def asMinutes(s):\n",
        "    m = math.floor(s / 60)\n",
        "    s -= m * 60\n",
        "    return '%dm %ds' % (m, s)"
      ],
      "metadata": {
        "id": "ki88yvNrZcBi"
      },
      "execution_count": null,
      "outputs": []
    },
    {
      "cell_type": "markdown",
      "source": [
        "#### Create ``trainIters`` function\n",
        "The whole training process looks like this:\n",
        "\n",
        "* Start a timer\n",
        "* Initialize optimizers and criterion\n",
        "* Create set of training pairs\n",
        "* Start empty losses array for plotting\n",
        "\n",
        "Then we call train many times and occasionally print the progress (% of examples, time so far, estimated time) and average loss."
      ],
      "metadata": {
        "id": "KVByGNEtDbdx"
      }
    },
    {
      "cell_type": "code",
      "source": [
        "def trainIters(encoder, decoder, n_iters, print_every=1000, plot_every=100, learning_rate=0.01):\n",
        "    start = time.time()\n",
        "    plot_losses = []\n",
        "    print_loss_total = 0  # Reset every print_every\n",
        "    plot_loss_total = 0  # Reset every plot_every\n",
        "\n",
        "    encoder_optimizer = optim.SGD(encoder.parameters(), lr=learning_rate)\n",
        "    decoder_optimizer = optim.SGD(decoder.parameters(), lr=learning_rate)\n",
        "    training_pairs = [tensorsFromPair(random.choice(pairs))\n",
        "                      for i in range(n_iters)]\n",
        "    criterion = nn.NLLLoss()\n",
        "\n",
        "    for iter in range(1, n_iters + 1):\n",
        "        training_pair = training_pairs[iter - 1]\n",
        "        input_tensor = training_pair[0]\n",
        "        target_tensor = training_pair[1]\n",
        "\n",
        "        loss = calculate_loss(input_tensor, target_tensor, encoder,\n",
        "                     decoder, encoder_optimizer, decoder_optimizer, criterion)\n",
        "        print_loss_total += loss\n",
        "        plot_loss_total += loss\n",
        "\n",
        "        if iter % print_every == 0:\n",
        "            print_loss_avg = print_loss_total / print_every\n",
        "            print_loss_total = 0\n",
        "            print('%s (%d %d%%) %.4f' % (timeSince(start, iter / n_iters),\n",
        "                                         iter, iter / n_iters * 100, print_loss_avg))\n",
        "\n",
        "        if iter % plot_every == 0:\n",
        "            plot_loss_avg = plot_loss_total / plot_every\n",
        "            plot_losses.append(plot_loss_avg)\n",
        "            plot_loss_total = 0\n",
        "\n",
        "    showPlot(plot_losses)"
      ],
      "metadata": {
        "id": "6lSrutlwZeJD"
      },
      "execution_count": null,
      "outputs": []
    },
    {
      "cell_type": "markdown",
      "source": [
        "#### Create ``showPlot`` function\n",
        "Plotting is done with matplotlib, using the array of loss values plot_losses saved while training."
      ],
      "metadata": {
        "id": "Xow4x52_DiSX"
      }
    },
    {
      "cell_type": "code",
      "source": [
        "def showPlot(points):\n",
        "    plt.figure()\n",
        "    fig, ax = plt.subplots()\n",
        "    # this locator puts ticks at regular intervals\n",
        "    loc = ticker.MultipleLocator(base=0.2)\n",
        "    ax.yaxis.set_major_locator(loc)\n",
        "    plt.plot(points)"
      ],
      "metadata": {
        "id": "P3kM2GFOZq3s"
      },
      "execution_count": null,
      "outputs": []
    },
    {
      "cell_type": "markdown",
      "source": [
        "#### Create ``evalute`` function\n",
        "Evaluation is mostly the same as training, but there are no targets so we simply feed the decoder’s predictions back to itself for each step. Every time it predicts a word we add it to the output string, and if it predicts the EOS token we stop there. We also store the decoder’s attention outputs for display later."
      ],
      "metadata": {
        "id": "nRTAi3nyDkX3"
      }
    },
    {
      "cell_type": "code",
      "source": [
        "def evaluate(encoder, decoder, sentence, max_length=max_length):\n",
        "    with torch.no_grad():\n",
        "        input_tensor = tensorFromSentence(input_language, sentence)\n",
        "        input_length = input_tensor.size()[0]\n",
        "        encoder_hidden = encoder.initHidden()\n",
        "\n",
        "        encoder_outputs = torch.zeros(max_length, encoder.hidden_size, device=device)\n",
        "\n",
        "        for ei in range(input_length):\n",
        "            encoder_output, encoder_hidden = encoder(input_tensor[ei],\n",
        "                                                     encoder_hidden)\n",
        "            encoder_outputs[ei] += encoder_output[0, 0]\n",
        "\n",
        "        decoder_input = torch.tensor([[SOS_token]], device=device)  # SOS\n",
        "\n",
        "        decoder_hidden = encoder_hidden\n",
        "\n",
        "        decoded_words = []\n",
        "        decoder_attentions = torch.zeros(max_length, max_length)\n",
        "\n",
        "        for di in range(max_length):\n",
        "            decoder_output, decoder_hidden, decoder_attention = decoder(\n",
        "                decoder_input, decoder_hidden, encoder_outputs)\n",
        "            decoder_attentions[di] = decoder_attention.data\n",
        "            topv, topi = decoder_output.data.topk(1)\n",
        "            if topi.item() == EOS_token:\n",
        "                decoded_words.append('<EOS>')\n",
        "                break\n",
        "            else:\n",
        "                decoded_words.append(output_language.index2word[topi.item()])\n",
        "\n",
        "            decoder_input = topi.squeeze().detach()\n",
        "\n",
        "        return decoded_words, decoder_attentions[:di + 1]"
      ],
      "metadata": {
        "id": "UkEPWNi-ZthF"
      },
      "execution_count": null,
      "outputs": []
    },
    {
      "cell_type": "markdown",
      "source": [
        "#### Create ``evaluateRandomly`` function\n",
        "We can evaluate random sentences from the training set and print out the input, target, and output to make some subjective quality judgements:"
      ],
      "metadata": {
        "id": "Ywvs0scNDnB5"
      }
    },
    {
      "cell_type": "code",
      "source": [
        "def evaluateRandomly(encoder, decoder, n=10):\n",
        "    for i in range(n):\n",
        "        pair = random.choice(pairs)\n",
        "        print('Input sentence: ', pair[0])\n",
        "        print('Correct translation: ', pair[1])\n",
        "        output_words, attentions = evaluate(encoder, decoder, pair[0])\n",
        "        output_sentence = ' '.join(output_words)\n",
        "        print('Predicted translation: ', output_sentence)\n",
        "        print('')"
      ],
      "metadata": {
        "id": "79pgtksJZvmN"
      },
      "execution_count": null,
      "outputs": []
    },
    {
      "cell_type": "markdown",
      "source": [
        "### Perform model training\n",
        "With all these helper functions in place (it looks like extra work, but it makes it easier to run multiple experiments) we can actually initialize a network and start training.\n",
        "\n",
        "Remember that the input sentences were heavily filtered. For this small dataset we can use relatively small networks of 256 hidden nodes and a single GRU layer. After about 40 minutes on a MacBook CPU we’ll get some reasonable results."
      ],
      "metadata": {
        "id": "kaiWQIiZDqlx"
      }
    },
    {
      "cell_type": "code",
      "source": [
        "# We set the number of hidden layers to 256\n",
        "hidden_size = 256\n",
        "\n",
        "# We initialize our encoder RNN\n",
        "## input_size of our encoder RNN is the length of our word index of the input language\n",
        "## hidden_size of our encoder RNN is 256, which is a hyperparameter we set.\n",
        "## we connect our encoder RNN to device (if GPU available GPU, if not, CPU.)\n",
        "encoder1 = EncoderRNN(input_language.word_index, hidden_size).to(device)\n",
        "\n",
        "# We initialize our decoder RNN\n",
        "## input_size of our decoder RNN is 256, which is same as the output size of encoder RNN\n",
        "## onput_size of our decoder RNN is the length of our word index of the output language\n",
        "## we connect our encoder RNN to device (if GPU available GPU, if not, CPU.)\n",
        "attn_decoder1 = AttnDecoderRNN(hidden_size, output_language.word_index, dropout_p=0.1).to(device)\n",
        "\n",
        "# Now encoder and decoder RNNs are ready.\n",
        "## We execute the function \"trainIters()\" to perform the training process.\n",
        "## we set encoder and decoder parametes. \n",
        "## We set training iterations to 20000\n",
        "## We print process for every 5000 iterations. \n",
        "## We show training loss for every 100 iterations. \n",
        "## The learning rate is 0.01\n",
        "trainIters(encoder1, attn_decoder1, 20000, print_every=5000, plot_every=100, learning_rate=0.01)"
      ],
      "metadata": {
        "colab": {
          "base_uri": "https://localhost:8080/",
          "height": 352
        },
        "id": "gBmQV7JxZy1g",
        "outputId": "19190d19-c756-4555-b0be-c66d6a158f97"
      },
      "execution_count": null,
      "outputs": [
        {
          "output_type": "stream",
          "name": "stdout",
          "text": [
            "1m 3s (- 3m 10s) (5000 25%) 2.8503\n",
            "2m 5s (- 2m 5s) (10000 50%) 2.3184\n",
            "3m 8s (- 1m 2s) (15000 75%) 1.9651\n",
            "4m 11s (- 0m 0s) (20000 100%) 1.7218\n"
          ]
        },
        {
          "output_type": "display_data",
          "data": {
            "text/plain": [
              "<Figure size 432x288 with 0 Axes>"
            ]
          },
          "metadata": {}
        },
        {
          "output_type": "display_data",
          "data": {
            "text/plain": [
              "<Figure size 432x288 with 1 Axes>"
            ],
            "image/png": "[encoded data removed]"
          },
          "metadata": {
            "needs_background": "light"
          }
        }
      ]
    },
    {
      "cell_type": "markdown",
      "source": [
        "### Perform model evaluation"
      ],
      "metadata": {
        "id": "BEErKTDEQcte"
      }
    },
    {
      "cell_type": "code",
      "source": [
        "#  Execute the function \"evaluateRandomly()\" to print random results and to compare them with the correct translations\n",
        "evaluateRandomly(encoder1, attn_decoder1)"
      ],
      "metadata": {
        "colab": {
          "base_uri": "https://localhost:8080/"
        },
        "id": "7yt-N-wLcLpB",
        "outputId": "f3307339-f4cc-44d7-a675-0dd525681978"
      },
      "execution_count": null,
      "outputs": [
        {
          "output_type": "stream",
          "name": "stdout",
          "text": [
            "Input sentence:  vous etes en securite .\n",
            "Correct translation:  you re safe .\n",
            "Predicted translation:  you re safe . <EOS>\n",
            "\n",
            "Input sentence:  je suis desole mais vous devez partir .\n",
            "Correct translation:  i m sorry but you need to leave .\n",
            "Predicted translation:  i m sorry but you to have . <EOS>\n",
            "\n",
            "Input sentence:  elle ecrit constamment des lettres .\n",
            "Correct translation:  she is constantly writing letters .\n",
            "Predicted translation:  she is afraid of the . <EOS>\n",
            "\n",
            "Input sentence:  je ne suis pas vraiment occupe .\n",
            "Correct translation:  i m not really busy .\n",
            "Predicted translation:  i m not busy busy busy . <EOS>\n",
            "\n",
            "Input sentence:  nous sommes prudentes .\n",
            "Correct translation:  we re careful .\n",
            "Predicted translation:  we re broke . <EOS>\n",
            "\n",
            "Input sentence:  j attends ton aide .\n",
            "Correct translation:  i m waiting for your help .\n",
            "Predicted translation:  i m doing your your help . <EOS>\n",
            "\n",
            "Input sentence:  je suis extremement gras .\n",
            "Correct translation:  i m extremely fat .\n",
            "Predicted translation:  i m a too . <EOS>\n",
            "\n",
            "Input sentence:  je suis contente que tu sois la .\n",
            "Correct translation:  i m glad you re here .\n",
            "Predicted translation:  i m glad you you here . <EOS>\n",
            "\n",
            "Input sentence:  je suis la fille d un gentilhomme .\n",
            "Correct translation:  i am a gentleman s daughter .\n",
            "Predicted translation:  i m a a a a a a . .\n",
            "\n",
            "Input sentence:  je suis epuise .\n",
            "Correct translation:  i m worn out .\n",
            "Predicted translation:  i am exhausted . <EOS>\n",
            "\n"
          ]
        }
      ]
    },
    {
      "cell_type": "markdown",
      "source": [
        "### Visualize attention\n",
        "A useful property of the attention mechanism is its highly interpretable outputs. Because it is used to weight specific encoder outputs of the input sequence, we can imagine looking where the network is focused most at each time step.\n",
        "\n",
        "You could simply run plt.matshow(attentions) to see attention output displayed as a matrix, with the columns being input steps and rows being output steps:"
      ],
      "metadata": {
        "id": "rLBGtNwLDvhg"
      }
    },
    {
      "cell_type": "code",
      "source": [
        "output_words, attentions = evaluate(\n",
        "    encoder1, attn_decoder1, \"je suis trop froid .\")\n",
        "plt.matshow(attentions.numpy())\n",
        "\n",
        "# plt.title('Confusion matrix')\n",
        "# plt.colorbar()\n",
        "# plt.ylabel('True label')\n",
        "# plt.xlabel('Predicted label')\n",
        "plt.show()\n"
      ],
      "metadata": {
        "colab": {
          "base_uri": "https://localhost:8080/",
          "height": 275
        },
        "id": "f1S5toUrcQqM",
        "outputId": "7457062e-7e8d-4667-fe68-dd2cd8aefdff"
      },
      "execution_count": null,
      "outputs": [
        {
          "output_type": "display_data",
          "data": {
            "text/plain": [
              "<Figure size 480x288 with 1 Axes>"
            ],
            "image/png": "[encoded data removed]"
          },
          "metadata": {
            "needs_background": "light"
          }
        }
      ]
    },
    {
      "cell_type": "markdown",
      "source": [
        "For a better viewing experience we will do the extra work of adding axes and labels:"
      ],
      "metadata": {
        "id": "oLQqPo8LD1zm"
      }
    },
    {
      "cell_type": "code",
      "source": [
        "def showAttention(input_sentence, output_words, attentions):\n",
        "    # Set up figure with colorbar\n",
        "    fig = plt.figure()\n",
        "    ax = fig.add_subplot(111)\n",
        "    cax = ax.matshow(attentions.numpy(), cmap='bone')\n",
        "    fig.colorbar(cax)\n",
        "\n",
        "    # Set up axes\n",
        "    ax.set_xticklabels([''] + input_sentence.split(' ') +\n",
        "                       ['<EOS>'], rotation=90)\n",
        "    ax.set_yticklabels([''] + output_words)\n",
        "\n",
        "    # Show label at every tick\n",
        "    ax.xaxis.set_major_locator(ticker.MultipleLocator(1))\n",
        "    ax.yaxis.set_major_locator(ticker.MultipleLocator(1))\n",
        "\n",
        "    plt.show()\n",
        "\n",
        "\n",
        "def evaluateAndShowAttention(input_sentence):\n",
        "    output_words, attentions = evaluate(\n",
        "        encoder1, attn_decoder1, input_sentence)\n",
        "    print('input =', input_sentence)\n",
        "    print('output =', ' '.join(output_words))\n",
        "    showAttention(input_sentence, output_words, attentions)\n"
      ],
      "metadata": {
        "id": "Qe2edzPMcSaJ"
      },
      "execution_count": null,
      "outputs": []
    },
    {
      "cell_type": "code",
      "source": [
        "evaluateAndShowAttention(\"elle a cinq ans de moins que moi .\")\n",
        "\n",
        "evaluateAndShowAttention(\"elle est trop petit .\")\n",
        "\n",
        "evaluateAndShowAttention(\"je ne crains pas de mourir .\")\n",
        "\n",
        "evaluateAndShowAttention(\"c est un jeune directeur plein de talent .\")"
      ],
      "metadata": {
        "colab": {
          "base_uri": "https://localhost:8080/",
          "height": 1000
        },
        "id": "cn6Utapj4Vu8",
        "outputId": "537efe15-0766-4974-939c-599b2253483d"
      },
      "execution_count": null,
      "outputs": [
        {
          "output_type": "stream",
          "name": "stdout",
          "text": [
            "input = elle a cinq ans de moins que moi .\n",
            "output = she is two years older than me . <EOS>\n"
          ]
        },
        {
          "output_type": "display_data",
          "data": {
            "text/plain": [
              "<Figure size 432x288 with 2 Axes>"
            ],
            "image/png": "[encoded data removed]"
          },
          "metadata": {
            "needs_background": "light"
          }
        },
        {
          "output_type": "stream",
          "name": "stdout",
          "text": [
            "input = elle est trop petit .\n",
            "output = she is too too . <EOS>\n"
          ]
        },
        {
          "output_type": "display_data",
          "data": {
            "text/plain": [
              "<Figure size 432x288 with 2 Axes>"
            ],
            "image/png": "[encoded data removed]"
          },
          "metadata": {
            "needs_background": "light"
          }
        },
        {
          "output_type": "stream",
          "name": "stdout",
          "text": [
            "input = je ne crains pas de mourir .\n",
            "output = i m not going to die . <EOS>\n"
          ]
        },
        {
          "output_type": "display_data",
          "data": {
            "text/plain": [
              "<Figure size 432x288 with 2 Axes>"
            ],
            "image/png": "[encoded data removed]"
          },
          "metadata": {
            "needs_background": "light"
          }
        },
        {
          "output_type": "stream",
          "name": "stdout",
          "text": [
            "input = c est un jeune directeur plein de talent .\n",
            "output = he is a very of a of . . <EOS>\n"
          ]
        },
        {
          "output_type": "display_data",
          "data": {
            "text/plain": [
              "<Figure size 432x288 with 2 Axes>"
            ],
            "image/png": "[encoded data removed]"
          },
          "metadata": {
            "needs_background": "light"
          }
        }
      ]
    },
    {
      "cell_type": "markdown",
      "source": [
        "# **References**\n",
        "\n",
        "- [1] NLP and Computer Vision_DLMAINLPCV01 Course Book\n",
        "- [2] https://opennmt.net/\n",
        "- [3] https://github.com/OpenNMT/OpenNMT-py#quickstart\n",
        "\n",
        "\n",
        "https://pytorch.org/docs/stable/generated/torch.nn.GRU.html\n",
        "\n",
        "https://stackoverflow.com/questions/59085745/what-is-the-inputs-to-a-torch-nn-gru-function-in-pytorch\n",
        "\n",
        ".view()\n",
        "https://pytorch.org/tutorials/beginner/nlp/word_embeddings_tutorial.html\n",
        "\n",
        "https://pytorch.org/docs/stable/tensor_view.html\n",
        "\n",
        "\n",
        "\n"
      ],
      "metadata": {
        "id": "hC1nskpFvqjO"
      }
    },
    {
      "cell_type": "markdown",
      "source": [
        "Copyright © 2022 IU International University of Applied Sciences"
      ],
      "metadata": {
        "id": "mKIjY6bxvsWg"
      }
    },
    {
      "cell_type": "markdown",
      "source": [
        "# Notes for me\n",
        "It is necessary to have both the model, and the data on the same device, either CPU or GPU, for the model to process data. Data on CPU and model on GPU, or vice-versa, will result in a Runtime error.\n",
        "\n",
        "You can set a variable device to cuda if it's available, else it will be set to cpu, and then transfer data and model to device :"
      ],
      "metadata": {
        "id": "CEUdhrQemJtZ"
      }
    },
    {
      "cell_type": "code",
      "source": [
        "import torch\n",
        "\n",
        "device = 'cuda' if torch.cuda.is_available() else 'cpu'\n",
        "model.to(device)\n",
        "data = data.to(device)"
      ],
      "metadata": {
        "id": "tTdvGtKBf7Nn"
      },
      "execution_count": null,
      "outputs": []
    },
    {
      "cell_type": "code",
      "source": [
        "# My code\n",
        "hidden_size = 256\n",
        "encoder1 = EncoderRNN(input_lang.word_index, hidden_size).to(device)\n",
        "attn_decoder1 = AttnDecoderRNN(hidden_size, output_lang.word_index, dropout_p=0.1).to(device)\n",
        "\n",
        "trainIters(encoder1, attn_decoder1, 20000, print_every=5000, plot_every=100, learning_rate=0.01)\n"
      ],
      "metadata": {
        "id": "TiMCuxKNf19z"
      },
      "execution_count": null,
      "outputs": []
    },
    {
      "cell_type": "markdown",
      "source": [
        "\n",
        "Consider the sentence “Je ne suis pas le chat noir” → “I am not the black cat”. Most of the words in the input sentence have a direct translation in the output sentence, but are in slightly different orders, e.g. “chat noir” and “black cat”. Because of the “ne-pas” construction in the French language, there is also one more word in the input sentence. It would be difficult to produce a correct translation directly from the sequence of input words.\n",
        "\n",
        "![seq2seq](https://raw.githubusercontent.com/iubh/DLMAINLPCV01/master/data/nlp/seq2seq.png)\n",
        "\n"
      ],
      "metadata": {
        "id": "d9dd1RqHcJ1S"
      }
    }
  ]
}