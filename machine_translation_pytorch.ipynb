{
  "nbformat": 4,
  "nbformat_minor": 0,
  "metadata": {
    "colab": {
      "name": "machine_translation_pytorch.ipynb",
      "provenance": [],
      "collapsed_sections": [],
      "toc_visible": true,
      "include_colab_link": true
    },
    "kernelspec": {
      "name": "python3",
      "display_name": "Python 3"
    },
    "language_info": {
      "name": "python"
    },
    "accelerator": "GPU",
    "gpuClass": "standard"
  },
  "cells": [
    {
      "cell_type": "markdown",
      "metadata": {
        "id": "view-in-github",
        "colab_type": "text"
      },
      "source": [
        "<a href=\"https://colab.research.google.com/github/EmrahYener/DLMAINLPCV01_demo/blob/master/machine_translation_pytorch.ipynb\" target=\"_parent\"><img src=\"https://colab.research.google.com/assets/colab-badge.svg\" alt=\"Open In Colab\"/></a>"
      ]
    },
    {
      "cell_type": "markdown",
      "source": [
        "# **Machine Translation**\n",
        "\n",
        "Machine translation (MT) is the task of automatically translating text or speech from one natural language to another. MT is a subfield of NLP that leverages the disciplines of artificial intelligence, information theory, computer science, and statistics.\n",
        "\n",
        "To build an MT system, we can find different frameworks with statistical machine translation (SMT) and neural machine translation (NMT).\n",
        "\n",
        "SMT replaces classic rule-based MT systems with models that learn translation through examples. Translations in SMT are generated on the basis of statistical models whose parameters are derived from the analysis of bilingual text corpora.\n",
        "\n",
        "NMT uses an artificial neural network to learn a statistical\n",
        "model for MT. Unlike a phrase-based SMT system, an NMT system consists of a single, large neural network that reads a sentence and outputs a translation. Normally an NMT system is built on bidirectional recurrent neural networks (RNNs) using an encoder-attention-decoder architecture  [[1]](#scrollTo=hC1nskpFvqjO).\n",
        "\n",
        "Since NMT is becoming increasingly popular, there are already many toolkits available. This notebook shows an example of NMT with an encoder-attention-decoder architecture, i.e. a sequence-to-sequence network with an attention mechanism.\n",
        "\n",
        "Some of the explanations, codes and pictures used in this notebook are taken from [[2]](https://pytorch.org/tutorials/intermediate/seq2seq_translation_tutorial.html).\n",
        "\n",
        "\n"
      ],
      "metadata": {
        "id": "2e5UAIVWvhSM"
      }
    },
    {
      "cell_type": "markdown",
      "source": [
        "## **Machine translation with sequence-to-sequence network**\n",
        "A recurrent neural network (RNN) is a network that operates on a sequence and uses its own output as input for subsequent steps.\n",
        "\n",
        "A sequence-to-sequence network (also denoted as seq2seq network or encoder-decoder network) is a model consisting of two RNNs which are denoted as encoder and decoder. The encoder reads an input sequence and outputs a single vector. The decoder reads that vector to produce an output sequence.\n",
        "\n",
        "Unlike sequence prediction with a single RNN, where every input corresponds to an output, the seq2seq model frees us from sequence length and order, which makes it ideal for translation between two languages.\n",
        "\n",
        "Consider the sentence “Je ne suis pas le chat noir” → “I am not the black cat”. Most of the words in the input sentence have a direct translation in the output sentence, but are in slightly different orders, e.g. “chat noir” and “black cat”. Because of the “ne-pas” construction in the French language, there is also one more word in the input sentence. It would be difficult to produce a correct translation directly from the sequence of input words.\n",
        "\n",
        "![seq2seq](https://raw.githubusercontent.com/iubh/DLMAINLPCV01/master/data/nlp/seq2seq.png)\n",
        "\n",
        "\n",
        "In this example, we will also use an attention mechanism to improve the model efficency. With an attention mechanism, the decoder learns to focus over a specific range of the input sequence.\n",
        "\n",
        "For machine translation with a seq2seq network, we will apply the following steps:\n",
        "\n",
        "* Upload dataset\n",
        "* Import libraries\n",
        "* Create classes and functions\n",
        "* Perform model training\n",
        "* Perform model evaluation\n",
        "* Visualize attention\n",
        "\n",
        "For more details about the seq2seq architecture, please refer to [[3]](https://arxiv.org/abs/1409.3215).\n",
        "\n",
        "\n"
      ],
      "metadata": {
        "id": "gc1j6t2uvk2d"
      }
    },
    {
      "cell_type": "markdown",
      "source": [
        "### Upload dataset\n",
        "The dataset of this project ``eng-fra.txt`` contains thousands of tab separated English-to-French translation pairs [[4]](https://www.manythings.org/anki/).\n",
        "\n",
        "To upload the dataset, we clone the related IU GitHub portfolio [[5]](https://github.com/iubh/DLMAINLPCV01)."
      ],
      "metadata": {
        "id": "BjQmYSv_L1rl"
      }
    },
    {
      "cell_type": "code",
      "source": [
        "!git clone https://github.com/iubh/DLMAINLPCV01.git"
      ],
      "metadata": {
        "colab": {
          "base_uri": "https://localhost:8080/"
        },
        "id": "P7WZu6jTycEC",
        "outputId": "cb037b78-0652-424a-9f39-cb70fd63ee09"
      },
      "execution_count": null,
      "outputs": [
        {
          "output_type": "stream",
          "name": "stdout",
          "text": [
            "Cloning into 'DLMAINLPCV01'...\n",
            "remote: Enumerating objects: 819, done.\u001b[K\n",
            "remote: Counting objects: 100% (179/179), done.\u001b[K\n",
            "remote: Compressing objects: 100% (55/55), done.\u001b[K\n",
            "remote: Total 819 (delta 142), reused 142 (delta 124), pack-reused 640\u001b[K\n",
            "Receiving objects: 100% (819/819), 86.65 MiB | 6.72 MiB/s, done.\n",
            "Resolving deltas: 100% (393/393), done.\n"
          ]
        }
      ]
    },
    {
      "cell_type": "markdown",
      "source": [
        "### Import libraries\n",
        "We import libraries to prepare the dataset and create a seq2seq network. Also we use the ``matplotlib`` library to visualize the diagrams of the training loss and the attention mechanism."
      ],
      "metadata": {
        "id": "XDBQk6bWL_q9"
      }
    },
    {
      "cell_type": "code",
      "execution_count": null,
      "metadata": {
        "id": "IhKv8UVDWf9D"
      },
      "outputs": [],
      "source": [
        "# Import \"open\" library to open the dataset \"eng-fra.txt\"\n",
        "from io import open\n",
        "\n",
        "# Import the unicodedata library to normalize the dataset \"eng-fra.txt\" since it contains unicode data.\n",
        "import unicodedata\n",
        "\n",
        "# Import \"re\" library to use regex in the \"normalizeString\" function\n",
        "import re\n",
        "\n",
        "# Import \"random\" library to choose or print random sentence pairs\n",
        "import random\n",
        "\n",
        "# Import pytorch libraries for creating seq2seq network\n",
        "import torch\n",
        "import torch.nn as nn\n",
        "from torch import optim\n",
        "import torch.nn.functional as F\n",
        "\n",
        "# Define PyTorch device to run CUDA operations. If CUDA is not available, PyTorch uses CPU.\n",
        "device = torch.device(\"cuda\" if torch.cuda.is_available() else \"cpu\")\n",
        "\n",
        "# Import matplotlib libraries to visualize training loss and attention\n",
        "import matplotlib.pyplot as plt\n",
        "import matplotlib.ticker as ticker"
      ]
    },
    {
      "cell_type": "markdown",
      "source": [
        "### Create classes and functions\n",
        "In this section, we create classes and functions for data preparation, training, evaluation and visualization processes. We create the following classes:\n",
        "* ``Language``\n",
        "* ``EncoderRNN``\n",
        "* ``DecoderRNN``\n",
        "* ``AttnDecoderRNN``\n",
        "\n",
        "We create the following functions:\n",
        "* ``normalizeString``\n",
        "* ``readLanguages``\n",
        "* ``filterPairs``\n",
        "* ``prepareData``\n",
        "* ``tensorsFromPair``\n",
        "* ``train``\n",
        "* ``timeSince``\n",
        "* ``trainIters``\n",
        "* ``showPlot``\n",
        "* ``evalute``\n",
        "* ``evaluateRandomly``\n"
      ],
      "metadata": {
        "id": "nQ_bn0BTTxjF"
      }
    },
    {
      "cell_type": "markdown",
      "source": [
        "#### Create ``Language`` class\n",
        "The class ``Language`` contains the following functions:\n",
        "*  ``__init__``: initializes a language instance.\n",
        "* ``addWord``: is a helper function that runs inside the ``addWord`` function. It creates mapping between words and corresponding indexes and saves to the dictionaries ``word2index`` and ``index2word``. It also creates mapping between words and their occurences and saves to the dictionary ``word2count``.\n",
        "* ``addSentence``: runs the ``addWord`` function over each sentence.\n"
      ],
      "metadata": {
        "id": "P6Sf6w9KCObS"
      }
    },
    {
      "cell_type": "code",
      "source": [
        "# We assign the first two indexes to SOS (start-of-sequence) and EOS (end-of-sequence) tokens\n",
        "SOS_token = 0\n",
        "EOS_token = 1\n",
        "\n",
        "# This class contains 3 functions. \n",
        "## \"__init__\" is used to initialize a language instance\n",
        "## \"addWord\" is used to create mapping between words and indexes. It also counts the frequency of each word.\n",
        "## \"addSentence\" is used to run \"addWord\" function over each sentence.\n",
        "class Language:\n",
        "    def __init__(self, name):\n",
        "        self.name = name\n",
        "        self.word2index = {}\n",
        "        self.word2count = {}\n",
        "        self.index2word = {0: \"SOS\", 1: \"EOS\"}\n",
        "        self.word_index = 2   # The first two index numbers are assigned to SOS and EOS. We set first word index to 2.\n",
        "\n",
        "    def addWord(self, word):\n",
        "        if word not in self.word2index:\n",
        "            self.word2index[word] = self.word_index\n",
        "            self.word2count[word] = 1\n",
        "            self.index2word[self.word_index] = word\n",
        "            self.word_index += 1\n",
        "        else:\n",
        "            self.word2count[word] += 1\n",
        "\n",
        "    def addSentence(self, sentence):\n",
        "        for word in sentence.split(' '):\n",
        "            self.addWord(word)"
      ],
      "metadata": {
        "id": "Ir3eqPdNYL4J"
      },
      "execution_count": null,
      "outputs": []
    },
    {
      "cell_type": "markdown",
      "source": [
        "#### Create ``normalizeString`` function\n",
        "In this section, we create the function ``normalizeString`` to normalize the dataset. \n",
        "It is used to lowercase the string, remove non-letter characters and most of the punctuations. Also it executes another function ``removeStringAccent``.\n",
        "\n",
        "The function ``removeStringAccent`` is used to remove accents from a given string. In the French alphabet, some letters have accent marks such as â, ê, î, ô, û. The function ``removeStringAccent`` takes a unicode string and returns a string without accents. You can see an example below:\n",
        "* With accent: 'Découvrez tous les logiciels à télécharger'\n",
        "\n",
        "* Without accent: 'Decouvrez tous les logiciels a telecharger'"
      ],
      "metadata": {
        "id": "xCo3T8_-Cw9W"
      }
    },
    {
      "cell_type": "code",
      "source": [
        "# Define a helper function to remove string accents\n",
        "def removeStringAccent(s):\n",
        "    return ''.join(\n",
        "        c for c in unicodedata.normalize('NFD', s)\n",
        "        if unicodedata.category(c) != 'Mn'\n",
        "    )\n",
        "\n",
        "# Define the \"normalizeString\" function\n",
        "## Execute the \"removeStringAccent\" function\n",
        "## Lowercase and remove non-letter characters\n",
        "def normalizeString(s):\n",
        "    s = removeStringAccent(s.lower().strip())\n",
        "    s = re.sub(r\"([.!?])\", r\" \\1\", s)\n",
        "    s = re.sub(r\"[^a-zA-Z.!?]+\", r\" \", s)\n",
        "    return s"
      ],
      "metadata": {
        "id": "qJ1Nm8fdYOlQ"
      },
      "execution_count": null,
      "outputs": []
    },
    {
      "cell_type": "markdown",
      "source": [
        "#### Create ``readLanguages`` function\n",
        "At the [Upload dataset](#scrollTo=BjQmYSv_L1rl) step, we have cloned the IU GitHub portfolio. Now we create the function ``readLanguages`` to read the dataset ``eng-fra.txt``. The dataset contains two sentences in each line. The first sentence of each line is an English text and the second sentence is the French translation of it. You can see a few example lines below:\n",
        "\n",
        "* You are free to go.\tVous êtes libres de partir.\n",
        "* You are impossible.\tVous êtes insupportable.\n",
        "* You are overworked.\tTu es surmené.\n",
        "* You are very brave.\tTu es très courageux.\n",
        "\n",
        "\n",
        "This function reads the given file and split into lines. Then it splits lines into sentence pairs and normalizes them with the ``normalizeString`` function. The pairs are saved to the list ``pairs``.\n",
        "\n",
        "After normalization, it calls``Language`` class and initilaizes language instances ``input_lang`` and ``output_lang``.\n",
        "\n",
        "The sentence pairs are all English to French, so if we want to translate from French to English, we should set ``reverse=True`` to reverse the pairs.\n",
        "\n",
        "The function returns ``input_lang``, ``output_lang``and ``pairs``.\n"
      ],
      "metadata": {
        "id": "0FW_sqGdCy2d"
      }
    },
    {
      "cell_type": "code",
      "source": [
        "# Create \"readLanguages\" function which is used to:\n",
        "## read dataset\n",
        "## create sentence pairs\n",
        "## initialize language instances \"input_lang\" and \"output_lang\"\n",
        "def readLanguages(lang1, lang2, reverse=False):\n",
        "    print(\"Reading lines...\")\n",
        "\n",
        "    # Read the file and split into lines\n",
        "    lines = open('/content//DLMAINLPCV01/data/nlp/%s-%s.txt' % (lang1, lang2), encoding='utf-8').\\\n",
        "        read().strip().split('\\n')\n",
        "\n",
        "    # Split every line into pairs and normalize\n",
        "    pairs = [[normalizeString(s) for s in l.split('\\t')] for l in lines]\n",
        "\n",
        "    # Reverse pairs, make Language instances\n",
        "    if reverse:\n",
        "        pairs = [list(reversed(p)) for p in pairs]\n",
        "        input_lang = Language(lang2)\n",
        "        output_lang = Language(lang1)\n",
        "    else:\n",
        "        input_lang = Language(lang1)\n",
        "        output_lang = Language(lang2)\n",
        "\n",
        "    return input_lang, output_lang, pairs"
      ],
      "metadata": {
        "id": "MFmTzfhlYQyq"
      },
      "execution_count": null,
      "outputs": []
    },
    {
      "cell_type": "markdown",
      "source": [
        "#### Create ``filterPairs`` function\n",
        "In this section we create the function ``filterPairs`` to filter some of the sentence pairs. The purpose of this function is to trim the dataset to only relatively short and simple sentences. This process will decrease the traininig duration.\n",
        "\n",
        "To filter the sentence pairs by length and content, we use the integer ``max_length`` and the list ``eng_prefixes``.\n",
        "\n",
        "The integer ``max_length`` defines the maximum length of the sentences. In this example, we set ``max_length=10``.\n",
        "\n",
        "The list ``eng_prefixes`` is used to choose only the sentences which begin with the following words:\n",
        "* \"i am \", \"i m \",\n",
        "* \"he is\", \"he s \",\n",
        "* \"she is\", \"she s \",\n",
        "* \"you are\", \"you re \",\n",
        "* \"we are\", \"we re \",\n",
        "* \"they are\", \"they re \"\n"
      ],
      "metadata": {
        "id": "xn4HsFfXC1VF"
      }
    },
    {
      "cell_type": "code",
      "source": [
        "# Define the integer ``max_length`` and set to 10\n",
        "max_length = 10\n",
        "\n",
        "# Define the list ``eng_prefixes``\n",
        "eng_prefixes = (\n",
        "    \"i am \", \"i m \",\n",
        "    \"he is\", \"he s \",\n",
        "    \"she is\", \"she s \",\n",
        "    \"you are\", \"you re \",\n",
        "    \"we are\", \"we re \",\n",
        "    \"they are\", \"they re \"\n",
        ")\n",
        "\n",
        "# Define the helper function \"filterPair\" to filter sentence pairs according to ``max_length`` and ``eng_prefixes``\n",
        "## Return the given sentence pair \"p\" if it meets the conditions\n",
        "def filterPair(p):\n",
        "    return len(p[0].split(' ')) < max_length and \\\n",
        "        len(p[1].split(' ')) < max_length and \\\n",
        "        p[1].startswith(eng_prefixes)\n",
        "\n",
        "# Create the \"filterPairs\" function\n",
        "## Run \"filterPair\" function over all sentence pairs\n",
        "## Return all filtered sentence pairs\n",
        "def filterPairs(pairs):\n",
        "    return [pair for pair in pairs if filterPair(pair)]"
      ],
      "metadata": {
        "id": "mpOk5FMvYTVg"
      },
      "execution_count": null,
      "outputs": []
    },
    {
      "cell_type": "markdown",
      "source": [
        "#### Create ``prepareData`` function\n",
        "The full process for preparing the data is:\n",
        "\n",
        "* Read text file and split into lines, split lines into pairs\n",
        "* Normalize text, filter by length and content\n",
        "* Make word lists from sentences in pairs"
      ],
      "metadata": {
        "id": "nve9EjYQC3Vp"
      }
    },
    {
      "cell_type": "code",
      "source": [
        "# Create \"prepareData\" function\n",
        "def prepareData(lang1, lang2, reverse=False):\n",
        "    input_lang, output_lang, pairs = readLanguages(lang1, lang2, reverse)\n",
        "    print(\"Read %s sentence pairs\" % len(pairs))\n",
        "    pairs = filterPairs(pairs)\n",
        "    print(\"Trimmed to %s sentence pairs\" % len(pairs))\n",
        "    print(\"Counting words...\")\n",
        "    for pair in pairs:\n",
        "        input_lang.addSentence(pair[0])\n",
        "        output_lang.addSentence(pair[1])\n",
        "    print(\"Counted words:\")\n",
        "    print(input_lang.name, input_lang.word_index)\n",
        "    print(output_lang.name, output_lang.word_index)\n",
        "    return input_lang, output_lang, pairs\n",
        "\n",
        "# Run \"prepareData\" function and print a random sentence pair\n",
        "input_lang, output_lang, pairs = prepareData('eng', 'fra', True)\n",
        "print(random.choice(pairs))"
      ],
      "metadata": {
        "colab": {
          "base_uri": "https://localhost:8080/"
        },
        "id": "uNX85w7cYVTh",
        "outputId": "7d20e961-8b65-4165-dc09-7cc04fece4d4"
      },
      "execution_count": null,
      "outputs": [
        {
          "output_type": "stream",
          "name": "stdout",
          "text": [
            "Reading lines...\n",
            "Read 135842 sentence pairs\n",
            "Trimmed to 10599 sentence pairs\n",
            "Counting words...\n",
            "Counted words:\n",
            "fra 4345\n",
            "eng 2803\n",
            "['je suis heureux de te voir .', 'i am happy to meet you .']\n"
          ]
        }
      ]
    },
    {
      "cell_type": "markdown",
      "source": [
        "#### Create ``EncoderRNN`` class\n",
        "Udacity: As we explained before, seq2seq model contains two RNN`s. The first RNN is called as encoder and the second one is decoder. The encoder reads the input sequence and and hands it over what it has understood to the decoder. Then the decoder generates the output sequence.\n",
        "By \"hands it over what it has understood\" we mean a fixed size tensor that is called \"state\", or sometimes it is called \"context\". No matter the input or output sequences are, the size of cotext remains always the same which was declared when we built the model at the beginning.\n",
        "\n",
        "The encoder summarizes wtah it has understood into a context variable or a state. and it hands it over to the decoder.\n",
        "\n",
        "Since encoder and decoder are RNN`s, they have loops.End os input sewuence label is important, when it sees thi tag, then it hands over the context to decoder.\n",
        "If we want to ask \"how are you?\" then we have to brake it down into 4 tokens. SIcne it has 4 elements, it will take the RNN 4 timesteps to read this entire sequence. Each time it reads an input, does a transformation on its hidden state, then sends that hidden state output to the next timestep. We move from one timestep to the next (from one token to the other).\n",
        "What is hiddenstate: we can say, the number of hidden units inside the cell. It is morelikely to be the hiddenstate inside the long short term memory cell (LSTM).\n",
        "\n",
        "The size of the network is a hyperparameter that we cen set to built the model. The bigger the states (the bigger the size), the more capacity of the model to learn and look at patterns and try to understand them. But more resource intensive will be to train or deoploy in terms of processing and memory demand. It is a trade off that we usually face with models in general.\n",
        "\n",
        "A similar process happens on the decoder side, as well. So we begin by feeding it the data which is generated by the encoder. And it generates the output\n",
        "elements by elements. If we unroll the decoder, just like we did earlier with\n",
        "the encoder, so we can see that we are actually feeding it back every element\n",
        "that it outputs.\n",
        "\n",
        "This allows it to be more coherent as each timestep sort of remembers what the\n",
        "previous timestep has committed to.\n",
        "\n",
        "Detailed:\n",
        "Now that we have an unrolled example of input and output of the network, let's go another level deeper, and look at some of the parameters of the model. So at this point of the course you know that you can't just feed words directly to the network. We need to turn the words into vectors first. This is the same concept we saw in word2vec and the sentiment analysis RNN lessons. \n",
        "\n",
        "Our first set of parameters are the ways that we multiply the input vectors by every time we take an element. So we have U, which is the input matrix of weights that we multiply the inputs with. And then we have A, which we multiply the hidden state as it travels between time steps of the encoder, and also out to the decoder. We also have another matrix of weights called V that we multiply the hidden state when the decoder outputs its values, and another one called B that goes that's multiplied\n",
        "by the hidden state when it travels between decoder time stamps. The last major component of such a model is a fully connected layer at the output\n",
        "to translate the state of the network into an output we can choose. So these would be the output logits. The number of these logits is the same as the size of our vocabulary. The logit with the highest value corresponds to the word that the model wants to output.\n",
        "So we'll take an example. We'll clarify a little bit. So let's look at this\n",
        "simple vocabulary. So if we only have that one example of input and output,\n",
        "how are you, I am good, we will have a vocabulary of size 11. Never mind the first four. So these are set. These will be useful later. So we reserve the\n",
        "first four spots in the vocabulary for PAD, for EOS, which is in the sentence.UNK is unknown, and then we also have GO. So we've seen GO in some of these.\n",
        "But we'll get to that later in the implementation stage. And then we have the\n",
        "list of our words that we actually use in our training data. So this is our vocabulary. It has 11 elements. And so at each time step of the decoder,\n",
        "the output of this network will tell us which element is most likely to be generated, based on the training data. So this is a small example, so we have a small vocabulary. In real data sets, you'll outcome across vocabularies of tens of thousands usually of examples. So you'll have tens of thousands of logits in that last layer of the network. So luckily, this is probably the last time\n",
        "you'll have to look at this view of the network. Tensorflow defines an API for sequence to sequence that hides away a lot of these details. And you just have to use its API to define how you want the network to work.\n",
        "\n",
        "\n",
        "\n",
        "\n",
        "The encoder of a seq2seq network is an RNN that outputs some value for every word from the input sentence. For every input word the encoder outputs a vector and a hidden state, and uses the hidden state for the next input word.\n",
        "\n",
        "![encoder](https://pytorch.org/tutorials/_images/encoder-network.png)\n",
        "\n"
      ],
      "metadata": {
        "id": "GaVMAFRmDGEb"
      }
    },
    {
      "cell_type": "code",
      "source": [
        "# Create the class \"EncoderRNN\"\n",
        "# input_size - Defines the number of features that define each element (time-stamp) of the input sequence\n",
        "# hidden_size - Defines the size of the hidden state. Therefore, if hidden_size is set as 4, then the hidden state at each time step is a vector of length 4\n",
        "class EncoderRNN(nn.Module):\n",
        "    def __init__(self, input_size, hidden_size):\n",
        "        super(EncoderRNN, self).__init__()\n",
        "        self.hidden_size = hidden_size\n",
        "\n",
        "        self.embedding = nn.Embedding(input_size, hidden_size)\n",
        "        self.gru = nn.GRU(hidden_size, hidden_size)\n",
        "\n",
        "    def forward(self, input, hidden):\n",
        "        embedded = self.embedding(input).view(1, 1, -1)\n",
        "        output = embedded\n",
        "        output, hidden = self.gru(output, hidden)\n",
        "        return output, hidden\n",
        "\n",
        "    def initHidden(self):\n",
        "        return torch.zeros(1, 1, self.hidden_size, device=device)"
      ],
      "metadata": {
        "id": "xx2sLGePZOSu"
      },
      "execution_count": null,
      "outputs": []
    },
    {
      "cell_type": "markdown",
      "source": [
        "#### Create ``AttnDecoderRNN`` class\n",
        "Attention Decoder\n",
        "If only the context vector is passed between the encoder and decoder, that single vector carries the burden of encoding the entire sentence.\n",
        "\n",
        "Attention allows the decoder network to “focus” on a different part of the encoder’s outputs for every step of the decoder’s own outputs. First we calculate a set of attention weights. These will be multiplied by the encoder output vectors to create a weighted combination. The result (called attn_applied in the code) should contain information about that specific part of the input sequence, and thus help the decoder choose the right output words.\n",
        "\n",
        "![encoder](https://i.imgur.com/1152PYf.png)\n",
        "\n",
        "\n",
        "Calculating the attention weights is done with another feed-forward layer attn, using the decoder’s input and hidden state as inputs. Because there are sentences of all sizes in the training data, to actually create and train this layer we have to choose a maximum sentence length (input length, for encoder outputs) that it can apply to. Sentences of the maximum length will use all the attention weights, while shorter sentences will only use the first few.\n",
        "\n",
        "![encoder](https://pytorch.org/tutorials/_images/attention-decoder-network.png)"
      ],
      "metadata": {
        "id": "8wKGu0TGDNr2"
      }
    },
    {
      "cell_type": "code",
      "source": [
        "class AttnDecoderRNN(nn.Module):\n",
        "    def __init__(self, hidden_size, output_size, dropout_p=0.1, max_length=max_length):\n",
        "        super(AttnDecoderRNN, self).__init__()\n",
        "        self.hidden_size = hidden_size\n",
        "        self.output_size = output_size\n",
        "        self.dropout_p = dropout_p\n",
        "        self.max_length = max_length\n",
        "\n",
        "        self.embedding = nn.Embedding(self.output_size, self.hidden_size)\n",
        "        self.attn = nn.Linear(self.hidden_size * 2, self.max_length)\n",
        "        self.attn_combine = nn.Linear(self.hidden_size * 2, self.hidden_size)\n",
        "        self.dropout = nn.Dropout(self.dropout_p)\n",
        "        self.gru = nn.GRU(self.hidden_size, self.hidden_size)\n",
        "        self.out = nn.Linear(self.hidden_size, self.output_size)\n",
        "\n",
        "    def forward(self, input, hidden, encoder_outputs):\n",
        "        embedded = self.embedding(input).view(1, 1, -1)\n",
        "        embedded = self.dropout(embedded)\n",
        "\n",
        "        attn_weights = F.softmax(\n",
        "            self.attn(torch.cat((embedded[0], hidden[0]), 1)), dim=1)\n",
        "        attn_applied = torch.bmm(attn_weights.unsqueeze(0),\n",
        "                                 encoder_outputs.unsqueeze(0))\n",
        "\n",
        "        output = torch.cat((embedded[0], attn_applied[0]), 1)\n",
        "        output = self.attn_combine(output).unsqueeze(0)\n",
        "\n",
        "        output = F.relu(output)\n",
        "        output, hidden = self.gru(output, hidden)\n",
        "\n",
        "        output = F.log_softmax(self.out(output[0]), dim=1)\n",
        "        return output, hidden, attn_weights\n",
        "\n",
        "    def initHidden(self):\n",
        "        return torch.zeros(1, 1, self.hidden_size, device=device)"
      ],
      "metadata": {
        "id": "YyPPc35KZTNd"
      },
      "execution_count": null,
      "outputs": []
    },
    {
      "cell_type": "markdown",
      "source": [
        "#### Create ``tensorsFromPair`` function\n",
        "To train, for each pair we will need an input tensor (indexes of the words in the input sentence) and target tensor (indexes of the words in the target sentence). While creating these vectors we will append the EOS token to both sequences."
      ],
      "metadata": {
        "id": "Db2P_4jtDS8v"
      }
    },
    {
      "cell_type": "code",
      "source": [
        "def tensorsFromPair(pair):\n",
        "    input_tensor = tensorFromSentence(input_lang, pair[0])\n",
        "    target_tensor = tensorFromSentence(output_lang, pair[1])\n",
        "    return (input_tensor, target_tensor)\n",
        "\n",
        "def tensorFromSentence(lang, sentence):\n",
        "    indexes = indexesFromSentence(lang, sentence)\n",
        "    indexes.append(EOS_token)\n",
        "    return torch.tensor(indexes, dtype=torch.long, device=device).view(-1, 1)\n",
        "\n",
        "def indexesFromSentence(lang, sentence):\n",
        "    return [lang.word2index[word] for word in sentence.split(' ')]"
      ],
      "metadata": {
        "id": "uwDXAOkwZWDP"
      },
      "execution_count": null,
      "outputs": []
    },
    {
      "cell_type": "markdown",
      "source": [
        "#### Create ``train`` function\n",
        "To train we run the input sentence through the encoder, and keep track of every output and the latest hidden state. Then the decoder is given the <SOS> token as its first input, and the last hidden state of the encoder as its first hidden state.\n",
        "\n",
        "“Teacher forcing” is the concept of using the real target outputs as each next input, instead of using the decoder’s guess as the next input. Using teacher forcing causes it to converge faster but when the trained network is exploited, it may exhibit instability.\n",
        "\n",
        "You can observe outputs of teacher-forced networks that read with coherent grammar but wander far from the correct translation - intuitively it has learned to represent the output grammar and can “pick up” the meaning once the teacher tells it the first few words, but it has not properly learned how to create the sentence from the translation in the first place.\n",
        "\n",
        "Because of the freedom PyTorch’s autograd gives us, we can randomly choose to use teacher forcing or not with a simple if statement. Turn teacher_forcing_ratio up to use more of it."
      ],
      "metadata": {
        "id": "PrPFjU4DDVeR"
      }
    },
    {
      "cell_type": "code",
      "source": [
        "teacher_forcing_ratio = 0.5\n",
        "\n",
        "\n",
        "def train(input_tensor, target_tensor, encoder, decoder, encoder_optimizer, decoder_optimizer, criterion, max_length=max_length):\n",
        "    encoder_hidden = encoder.initHidden()\n",
        "\n",
        "    encoder_optimizer.zero_grad()\n",
        "    decoder_optimizer.zero_grad()\n",
        "\n",
        "    input_length = input_tensor.size(0)\n",
        "    target_length = target_tensor.size(0)\n",
        "\n",
        "    encoder_outputs = torch.zeros(max_length, encoder.hidden_size, device=device)\n",
        "\n",
        "    loss = 0\n",
        "\n",
        "    for ei in range(input_length):\n",
        "        encoder_output, encoder_hidden = encoder(\n",
        "            input_tensor[ei], encoder_hidden)\n",
        "        encoder_outputs[ei] = encoder_output[0, 0]\n",
        "\n",
        "    decoder_input = torch.tensor([[SOS_token]], device=device)\n",
        "\n",
        "    decoder_hidden = encoder_hidden\n",
        "\n",
        "    use_teacher_forcing = True if random.random() < teacher_forcing_ratio else False\n",
        "\n",
        "    if use_teacher_forcing:\n",
        "        # Teacher forcing: Feed the target as the next input\n",
        "        for di in range(target_length):\n",
        "            decoder_output, decoder_hidden, decoder_attention = decoder(\n",
        "                decoder_input, decoder_hidden, encoder_outputs)\n",
        "            loss += criterion(decoder_output, target_tensor[di])\n",
        "            decoder_input = target_tensor[di]  # Teacher forcing\n",
        "\n",
        "    else:\n",
        "        # Without teacher forcing: use its own predictions as the next input\n",
        "        for di in range(target_length):\n",
        "            decoder_output, decoder_hidden, decoder_attention = decoder(\n",
        "                decoder_input, decoder_hidden, encoder_outputs)\n",
        "            topv, topi = decoder_output.topk(1)\n",
        "            decoder_input = topi.squeeze().detach()  # detach from history as input\n",
        "\n",
        "            loss += criterion(decoder_output, target_tensor[di])\n",
        "            if decoder_input.item() == EOS_token:\n",
        "                break\n",
        "\n",
        "    loss.backward()\n",
        "\n",
        "    encoder_optimizer.step()\n",
        "    decoder_optimizer.step()\n",
        "\n",
        "    return loss.item() / target_length"
      ],
      "metadata": {
        "id": "MuIjuxt1ZYRO"
      },
      "execution_count": null,
      "outputs": []
    },
    {
      "cell_type": "markdown",
      "source": [
        "#### Create ``timeSince`` function\n",
        "This is a helper function to print time elapsed and estimated time remaining given the current time and progress %."
      ],
      "metadata": {
        "id": "UP8BRRcUDY5g"
      }
    },
    {
      "cell_type": "code",
      "source": [
        "import time\n",
        "import math\n",
        "\n",
        "def timeSince(since, percent):\n",
        "    now = time.time()\n",
        "    s = now - since\n",
        "    es = s / (percent)\n",
        "    rs = es - s\n",
        "    return '%s (- %s)' % (asMinutes(s), asMinutes(rs))\n",
        "\n",
        "def asMinutes(s):\n",
        "    m = math.floor(s / 60)\n",
        "    s -= m * 60\n",
        "    return '%dm %ds' % (m, s)"
      ],
      "metadata": {
        "id": "ki88yvNrZcBi"
      },
      "execution_count": null,
      "outputs": []
    },
    {
      "cell_type": "markdown",
      "source": [
        "#### Create ``trainIters`` function\n",
        "The whole training process looks like this:\n",
        "\n",
        "* Start a timer\n",
        "* Initialize optimizers and criterion\n",
        "* Create set of training pairs\n",
        "* Start empty losses array for plotting\n",
        "\n",
        "Then we call train many times and occasionally print the progress (% of examples, time so far, estimated time) and average loss."
      ],
      "metadata": {
        "id": "KVByGNEtDbdx"
      }
    },
    {
      "cell_type": "code",
      "source": [
        "def trainIters(encoder, decoder, n_iters, print_every=1000, plot_every=100, learning_rate=0.01):\n",
        "    start = time.time()\n",
        "    plot_losses = []\n",
        "    print_loss_total = 0  # Reset every print_every\n",
        "    plot_loss_total = 0  # Reset every plot_every\n",
        "\n",
        "    encoder_optimizer = optim.SGD(encoder.parameters(), lr=learning_rate)\n",
        "    decoder_optimizer = optim.SGD(decoder.parameters(), lr=learning_rate)\n",
        "    training_pairs = [tensorsFromPair(random.choice(pairs))\n",
        "                      for i in range(n_iters)]\n",
        "    criterion = nn.NLLLoss()\n",
        "\n",
        "    for iter in range(1, n_iters + 1):\n",
        "        training_pair = training_pairs[iter - 1]\n",
        "        input_tensor = training_pair[0]\n",
        "        target_tensor = training_pair[1]\n",
        "\n",
        "        loss = train(input_tensor, target_tensor, encoder,\n",
        "                     decoder, encoder_optimizer, decoder_optimizer, criterion)\n",
        "        print_loss_total += loss\n",
        "        plot_loss_total += loss\n",
        "\n",
        "        if iter % print_every == 0:\n",
        "            print_loss_avg = print_loss_total / print_every\n",
        "            print_loss_total = 0\n",
        "            print('%s (%d %d%%) %.4f' % (timeSince(start, iter / n_iters),\n",
        "                                         iter, iter / n_iters * 100, print_loss_avg))\n",
        "\n",
        "        if iter % plot_every == 0:\n",
        "            plot_loss_avg = plot_loss_total / plot_every\n",
        "            plot_losses.append(plot_loss_avg)\n",
        "            plot_loss_total = 0\n",
        "\n",
        "    showPlot(plot_losses)"
      ],
      "metadata": {
        "id": "6lSrutlwZeJD"
      },
      "execution_count": null,
      "outputs": []
    },
    {
      "cell_type": "markdown",
      "source": [
        "#### Create ``showPlot`` function\n",
        "Plotting is done with matplotlib, using the array of loss values plot_losses saved while training."
      ],
      "metadata": {
        "id": "Xow4x52_DiSX"
      }
    },
    {
      "cell_type": "code",
      "source": [
        "def showPlot(points):\n",
        "    plt.figure()\n",
        "    fig, ax = plt.subplots()\n",
        "    # this locator puts ticks at regular intervals\n",
        "    loc = ticker.MultipleLocator(base=0.2)\n",
        "    ax.yaxis.set_major_locator(loc)\n",
        "    plt.plot(points)"
      ],
      "metadata": {
        "id": "P3kM2GFOZq3s"
      },
      "execution_count": null,
      "outputs": []
    },
    {
      "cell_type": "markdown",
      "source": [
        "#### Create ``evalute`` function\n",
        "Evaluation is mostly the same as training, but there are no targets so we simply feed the decoder’s predictions back to itself for each step. Every time it predicts a word we add it to the output string, and if it predicts the EOS token we stop there. We also store the decoder’s attention outputs for display later."
      ],
      "metadata": {
        "id": "nRTAi3nyDkX3"
      }
    },
    {
      "cell_type": "code",
      "source": [
        "def evaluate(encoder, decoder, sentence, max_length=max_length):\n",
        "    with torch.no_grad():\n",
        "        input_tensor = tensorFromSentence(input_lang, sentence)\n",
        "        input_length = input_tensor.size()[0]\n",
        "        encoder_hidden = encoder.initHidden()\n",
        "\n",
        "        encoder_outputs = torch.zeros(max_length, encoder.hidden_size, device=device)\n",
        "\n",
        "        for ei in range(input_length):\n",
        "            encoder_output, encoder_hidden = encoder(input_tensor[ei],\n",
        "                                                     encoder_hidden)\n",
        "            encoder_outputs[ei] += encoder_output[0, 0]\n",
        "\n",
        "        decoder_input = torch.tensor([[SOS_token]], device=device)  # SOS\n",
        "\n",
        "        decoder_hidden = encoder_hidden\n",
        "\n",
        "        decoded_words = []\n",
        "        decoder_attentions = torch.zeros(max_length, max_length)\n",
        "\n",
        "        for di in range(max_length):\n",
        "            decoder_output, decoder_hidden, decoder_attention = decoder(\n",
        "                decoder_input, decoder_hidden, encoder_outputs)\n",
        "            decoder_attentions[di] = decoder_attention.data\n",
        "            topv, topi = decoder_output.data.topk(1)\n",
        "            if topi.item() == EOS_token:\n",
        "                decoded_words.append('<EOS>')\n",
        "                break\n",
        "            else:\n",
        "                decoded_words.append(output_lang.index2word[topi.item()])\n",
        "\n",
        "            decoder_input = topi.squeeze().detach()\n",
        "\n",
        "        return decoded_words, decoder_attentions[:di + 1]"
      ],
      "metadata": {
        "id": "UkEPWNi-ZthF"
      },
      "execution_count": null,
      "outputs": []
    },
    {
      "cell_type": "markdown",
      "source": [
        "#### Create ``evaluateRandomly`` function\n",
        "We can evaluate random sentences from the training set and print out the input, target, and output to make some subjective quality judgements:"
      ],
      "metadata": {
        "id": "Ywvs0scNDnB5"
      }
    },
    {
      "cell_type": "code",
      "source": [
        "def evaluateRandomly(encoder, decoder, n=10):\n",
        "    for i in range(n):\n",
        "        pair = random.choice(pairs)\n",
        "        print('>', pair[0])\n",
        "        print('=', pair[1])\n",
        "        output_words, attentions = evaluate(encoder, decoder, pair[0])\n",
        "        output_sentence = ' '.join(output_words)\n",
        "        print('<', output_sentence)\n",
        "        print('')"
      ],
      "metadata": {
        "id": "79pgtksJZvmN"
      },
      "execution_count": null,
      "outputs": []
    },
    {
      "cell_type": "markdown",
      "source": [
        "### Perform model training\n",
        "With all these helper functions in place (it looks like extra work, but it makes it easier to run multiple experiments) we can actually initialize a network and start training.\n",
        "\n",
        "Remember that the input sentences were heavily filtered. For this small dataset we can use relatively small networks of 256 hidden nodes and a single GRU layer. After about 40 minutes on a MacBook CPU we’ll get some reasonable results."
      ],
      "metadata": {
        "id": "kaiWQIiZDqlx"
      }
    },
    {
      "cell_type": "code",
      "source": [
        "# Create the class \"EncoderRNN\"\n",
        "# In this section we are creating a neural network\n",
        "# input_size - Defines the number of features that define each element (time-stamp) of the input sequence\n",
        "# hidden_size - Defines the size of the hidden state. Therefore, if hidden_size is set as 4, then the hidden state at each time step is a vector of length 4\n",
        "\n",
        "# the input size of the neural network is the number of inputs. that means the size of sentences. we get it from total word index numbers.\n",
        "# hidden size number is a hyperparameter. we will decide it. in the training phase, we will set it to 256.\n",
        "## Pytorch:Next up, we’ll use nn.Module and nn.Parameter, for a clearer and more concise training loop. \n",
        "## We subclass nn.Module (which itself is a class and able to keep track of state). \n",
        "## In this case, we want to create a class that holds our weights, bias, and method for the forward step. \n",
        "## nn.Module has a number of attributes and methods (such as .parameters() and .zero_grad()) which we will be using.\n",
        "\n",
        "class EncoderRNN(nn.Module):\n",
        "    def __init__(self, input_size, hidden_size):\n",
        "        super(EncoderRNN, self).__init__()\n",
        "        self.hidden_size = hidden_size\n",
        "\n",
        "        self.embedding = nn.Embedding(input_size, hidden_size)\n",
        "        self.gru = nn.GRU(hidden_size, hidden_size)\n",
        "\n",
        "    def forward(self, input, hidden):\n",
        "        embedded = self.embedding(input).view(1, 1, -1)\n",
        "        output = embedded\n",
        "        output, hidden = self.gru(output, hidden)\n",
        "        return output, hidden\n",
        "    # creates a tensor filled with zeros with a size of 1x256\n",
        "    def initHidden(self):\n",
        "        return torch.zeros(1, 1, self.hidden_size, device=device)"
      ],
      "metadata": {
        "id": "KhV6kXuLceXe"
      },
      "execution_count": null,
      "outputs": []
    },
    {
      "cell_type": "code",
      "source": [
        "# We set the number of hidden layers to 256\n",
        "hidden_size = 256\n",
        "encoder1 = EncoderRNN(input_lang.word_index, hidden_size).to(device)\n",
        "attn_decoder1 = AttnDecoderRNN(hidden_size, output_lang.word_index, dropout_p=0.1).to(device)\n",
        "\n",
        "trainIters(encoder1, attn_decoder1, 20000, print_every=5000, plot_every=100, learning_rate=0.01)"
      ],
      "metadata": {
        "colab": {
          "base_uri": "https://localhost:8080/",
          "height": 352
        },
        "id": "gBmQV7JxZy1g",
        "outputId": "c7e5dd5b-1fdc-4d10-aed0-fb728ec0c944"
      },
      "execution_count": null,
      "outputs": [
        {
          "output_type": "stream",
          "name": "stdout",
          "text": [
            "1m 14s (- 3m 42s) (5000 25%) 2.8604\n",
            "2m 21s (- 2m 21s) (10000 50%) 2.2862\n",
            "3m 28s (- 1m 9s) (15000 75%) 1.9564\n",
            "4m 35s (- 0m 0s) (20000 100%) 1.7463\n"
          ]
        },
        {
          "output_type": "display_data",
          "data": {
            "text/plain": [
              "<Figure size 432x288 with 0 Axes>"
            ]
          },
          "metadata": {}
        },
        {
          "output_type": "display_data",
          "data": {
            "text/plain": [
              "<Figure size 432x288 with 1 Axes>"
            ],
            "image/png": "[encoded data removed]"
          },
          "metadata": {
            "needs_background": "light"
          }
        }
      ]
    },
    {
      "cell_type": "markdown",
      "source": [
        "### Perform model evaluation"
      ],
      "metadata": {
        "id": "BEErKTDEQcte"
      }
    },
    {
      "cell_type": "code",
      "source": [
        "evaluateRandomly(encoder1, attn_decoder1)"
      ],
      "metadata": {
        "colab": {
          "base_uri": "https://localhost:8080/"
        },
        "id": "7yt-N-wLcLpB",
        "outputId": "0b53a22c-ba51-4d06-cd05-05f6525c11fd"
      },
      "execution_count": null,
      "outputs": [
        {
          "output_type": "stream",
          "name": "stdout",
          "text": [
            "> il est toujours ponctuel pour ses rendez vous .\n",
            "= he s always on time for his appointments .\n",
            "< he s always on on a on a . .\n",
            "\n",
            "> c est un jeune homme d affaires prometteur .\n",
            "= he is a promising young businessman .\n",
            "< he is a good person . <EOS>\n",
            "\n",
            "> elle est tres photogenique .\n",
            "= she is very photogenic .\n",
            "< she is very busy . <EOS>\n",
            "\n",
            "> je ne fais que regarder merci .\n",
            "= i m just looking thank you .\n",
            "< i m just waiting for . . <EOS>\n",
            "\n",
            "> c est un gentil garcon .\n",
            "= he s a sweet guy .\n",
            "< he s a nice boy . <EOS>\n",
            "\n",
            "> elles l adorent .\n",
            "= they re very fond of him .\n",
            "< they re reading . <EOS>\n",
            "\n",
            "> tu ne pretes meme pas attention .\n",
            "= you re not even paying attention .\n",
            "< you re not always all hungry . <EOS>\n",
            "\n",
            "> vous en faites partie .\n",
            "= you re part of this .\n",
            "< you re late . <EOS>\n",
            "\n",
            "> vous etes mignonne dans votre genre .\n",
            "= you re kind of cute .\n",
            "< you re always on of . . <EOS>\n",
            "\n",
            "> je n en ai pas fini avec vous .\n",
            "= i m not done with you .\n",
            "< i m not finished . . <EOS>\n",
            "\n"
          ]
        }
      ]
    },
    {
      "cell_type": "markdown",
      "source": [
        "### Visualize attention\n",
        "A useful property of the attention mechanism is its highly interpretable outputs. Because it is used to weight specific encoder outputs of the input sequence, we can imagine looking where the network is focused most at each time step.\n",
        "\n",
        "You could simply run plt.matshow(attentions) to see attention output displayed as a matrix, with the columns being input steps and rows being output steps:"
      ],
      "metadata": {
        "id": "rLBGtNwLDvhg"
      }
    },
    {
      "cell_type": "code",
      "source": [
        "output_words, attentions = evaluate(\n",
        "    encoder1, attn_decoder1, \"je suis trop froid .\")\n",
        "plt.matshow(attentions.numpy())\n",
        "\n",
        "# plt.title('Confusion matrix')\n",
        "# plt.colorbar()\n",
        "# plt.ylabel('True label')\n",
        "# plt.xlabel('Predicted label')\n",
        "plt.show()\n"
      ],
      "metadata": {
        "colab": {
          "base_uri": "https://localhost:8080/",
          "height": 275
        },
        "id": "f1S5toUrcQqM",
        "outputId": "d86d1cbb-301e-45c2-a132-101138921dfd"
      },
      "execution_count": null,
      "outputs": [
        {
          "output_type": "display_data",
          "data": {
            "text/plain": [
              "<Figure size 480x288 with 1 Axes>"
            ],
            "image/png": "[encoded data removed]"
          },
          "metadata": {
            "needs_background": "light"
          }
        }
      ]
    },
    {
      "cell_type": "markdown",
      "source": [
        "For a better viewing experience we will do the extra work of adding axes and labels:"
      ],
      "metadata": {
        "id": "oLQqPo8LD1zm"
      }
    },
    {
      "cell_type": "code",
      "source": [
        "def showAttention(input_sentence, output_words, attentions):\n",
        "    # Set up figure with colorbar\n",
        "    fig = plt.figure()\n",
        "    ax = fig.add_subplot(111)\n",
        "    cax = ax.matshow(attentions.numpy(), cmap='bone')\n",
        "    fig.colorbar(cax)\n",
        "\n",
        "    # Set up axes\n",
        "    ax.set_xticklabels([''] + input_sentence.split(' ') +\n",
        "                       ['<EOS>'], rotation=90)\n",
        "    ax.set_yticklabels([''] + output_words)\n",
        "\n",
        "    # Show label at every tick\n",
        "    ax.xaxis.set_major_locator(ticker.MultipleLocator(1))\n",
        "    ax.yaxis.set_major_locator(ticker.MultipleLocator(1))\n",
        "\n",
        "    plt.show()\n",
        "\n",
        "\n",
        "def evaluateAndShowAttention(input_sentence):\n",
        "    output_words, attentions = evaluate(\n",
        "        encoder1, attn_decoder1, input_sentence)\n",
        "    print('input =', input_sentence)\n",
        "    print('output =', ' '.join(output_words))\n",
        "    showAttention(input_sentence, output_words, attentions)\n"
      ],
      "metadata": {
        "id": "Qe2edzPMcSaJ"
      },
      "execution_count": null,
      "outputs": []
    },
    {
      "cell_type": "code",
      "source": [
        "evaluateAndShowAttention(\"elle a cinq ans de moins que moi .\")\n",
        "\n",
        "evaluateAndShowAttention(\"elle est trop petit .\")\n",
        "\n",
        "evaluateAndShowAttention(\"je ne crains pas de mourir .\")\n",
        "\n",
        "evaluateAndShowAttention(\"c est un jeune directeur plein de talent .\")"
      ],
      "metadata": {
        "colab": {
          "base_uri": "https://localhost:8080/",
          "height": 1000
        },
        "id": "cn6Utapj4Vu8",
        "outputId": "96e507c6-5cb6-4092-c846-bf8ad83d4da4"
      },
      "execution_count": null,
      "outputs": [
        {
          "output_type": "stream",
          "name": "stdout",
          "text": [
            "input = elle a cinq ans de moins que moi .\n",
            "output = she s two years older than me . <EOS>\n"
          ]
        },
        {
          "output_type": "display_data",
          "data": {
            "text/plain": [
              "<Figure size 432x288 with 2 Axes>"
            ],
            "image/png": "[encoded data removed]"
          },
          "metadata": {
            "needs_background": "light"
          }
        },
        {
          "output_type": "stream",
          "name": "stdout",
          "text": [
            "input = elle est trop petit .\n",
            "output = she s too loud . <EOS>\n"
          ]
        },
        {
          "output_type": "display_data",
          "data": {
            "text/plain": [
              "<Figure size 432x288 with 2 Axes>"
            ],
            "image/png": "[encoded data removed]"
          },
          "metadata": {
            "needs_background": "light"
          }
        },
        {
          "output_type": "stream",
          "name": "stdout",
          "text": [
            "input = je ne crains pas de mourir .\n",
            "output = i m afraid to . . . <EOS>\n"
          ]
        },
        {
          "output_type": "display_data",
          "data": {
            "text/plain": [
              "<Figure size 432x288 with 2 Axes>"
            ],
            "image/png": "[encoded data removed]"
          },
          "metadata": {
            "needs_background": "light"
          }
        },
        {
          "output_type": "stream",
          "name": "stdout",
          "text": [
            "input = c est un jeune directeur plein de talent .\n",
            "output = he is a in . . . . <EOS>\n"
          ]
        },
        {
          "output_type": "display_data",
          "data": {
            "text/plain": [
              "<Figure size 432x288 with 2 Axes>"
            ],
            "image/png": "[encoded data removed]"
          },
          "metadata": {
            "needs_background": "light"
          }
        }
      ]
    },
    {
      "cell_type": "markdown",
      "source": [
        "# **References**\n",
        "\n",
        "- [1] NLP and Computer Vision_DLMAINLPCV01 Course Book\n",
        "- [2] https://opennmt.net/\n",
        "- [3] https://github.com/OpenNMT/OpenNMT-py#quickstart\n"
      ],
      "metadata": {
        "id": "hC1nskpFvqjO"
      }
    },
    {
      "cell_type": "markdown",
      "source": [
        "Copyright © 2022 IU International University of Applied Sciences"
      ],
      "metadata": {
        "id": "mKIjY6bxvsWg"
      }
    },
    {
      "cell_type": "markdown",
      "source": [
        "# Notes for me\n",
        "It is necessary to have both the model, and the data on the same device, either CPU or GPU, for the model to process data. Data on CPU and model on GPU, or vice-versa, will result in a Runtime error.\n",
        "\n",
        "You can set a variable device to cuda if it's available, else it will be set to cpu, and then transfer data and model to device :"
      ],
      "metadata": {
        "id": "CEUdhrQemJtZ"
      }
    },
    {
      "cell_type": "code",
      "source": [
        "import torch\n",
        "\n",
        "device = 'cuda' if torch.cuda.is_available() else 'cpu'\n",
        "model.to(device)\n",
        "data = data.to(device)"
      ],
      "metadata": {
        "id": "tTdvGtKBf7Nn"
      },
      "execution_count": null,
      "outputs": []
    },
    {
      "cell_type": "code",
      "source": [
        "# My code\n",
        "hidden_size = 256\n",
        "encoder1 = EncoderRNN(input_lang.word_index, hidden_size).to(device)\n",
        "attn_decoder1 = AttnDecoderRNN(hidden_size, output_lang.word_index, dropout_p=0.1).to(device)\n",
        "\n",
        "trainIters(encoder1, attn_decoder1, 20000, print_every=5000, plot_every=100, learning_rate=0.01)\n"
      ],
      "metadata": {
        "id": "TiMCuxKNf19z"
      },
      "execution_count": null,
      "outputs": []
    }
  ]
}