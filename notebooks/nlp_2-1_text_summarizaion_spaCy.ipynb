{
  "nbformat": 4,
  "nbformat_minor": 0,
  "metadata": {
    "kernelspec": {
      "display_name": "Python 3",
      "language": "python",
      "name": "python3"
    },
    "language_info": {
      "codemirror_mode": {
        "name": "ipython",
        "version": 3
      },
      "file_extension": ".py",
      "mimetype": "text/x-python",
      "name": "python",
      "nbconvert_exporter": "python",
      "pygments_lexer": "ipython3",
      "version": "3.8.2"
    },
    "nbTranslate": {
      "displayLangs": [
        "*"
      ],
      "hotkey": "alt-t",
      "langInMainMenu": true,
      "sourceLang": "en",
      "targetLang": "fr",
      "useGoogleTranslate": true
    },
    "colab": {
      "name": "nlp_2-1_text_summarizaion_spaCy.ipynb",
      "provenance": [],
      "collapsed_sections": [],
      "toc_visible": true
    }
  },
  "cells": [
    {
      "cell_type": "markdown",
      "metadata": {
        "id": "-LGamZ8S_zyb"
      },
      "source": [
        "# **Text summarization**\n",
        "\n",
        "Text summarizer can give a short summary of a large text. <br>\n",
        "[SpaCy](www.spacy.io) together with [pyTextRank](https://github.com/DerwenAI/pytextrank) have a text summriziation model which is presented in this notebook.\n",
        "\n",
        "the following example is based on that code-snippet for pytextrank: [spacy.io.universe](https://spacy.io/universe/project/spacy-pytextrank#gatsby-noscript)"
      ]
    },
    {
      "cell_type": "markdown",
      "metadata": {
        "id": "xavxSpS-f3CI"
      },
      "source": [
        "#### install additional libraries"
      ]
    },
    {
      "cell_type": "code",
      "metadata": {
        "id": "RQIo1p4uAC8C"
      },
      "source": [
        "!pip install pytextrank==3.0.1"
      ],
      "execution_count": null,
      "outputs": []
    },
    {
      "cell_type": "code",
      "metadata": {
        "id": "t2uM17aTAKNJ"
      },
      "source": [
        "!pip install wikipedia==1.4.0"
      ],
      "execution_count": null,
      "outputs": []
    },
    {
      "cell_type": "code",
      "metadata": {
        "id": "FhdAZJnug3T8"
      },
      "source": [
        "# download language model for spacy\r\n",
        "!python -m spacy download en_core_web_sm"
      ],
      "execution_count": null,
      "outputs": []
    },
    {
      "cell_type": "markdown",
      "metadata": {
        "id": "9HsF9N9igEwQ"
      },
      "source": [
        "#### load resources"
      ]
    },
    {
      "cell_type": "code",
      "metadata": {
        "id": "pa3QK56i_zyx"
      },
      "source": [
        "# resources\n",
        "#\n",
        "import spacy\n",
        "import pytextrank\n",
        "import wikipedia\n",
        "#\n",
        "# Load English tokenizer, tagger, parser, NER and word vectors\n",
        "sp = spacy.load('en_core_web_sm')\n",
        "#\n",
        "# core-model with German language:\n",
        "#sp = spacy.load('de_core_news_sm')\n",
        "#"
      ],
      "execution_count": 8,
      "outputs": []
    },
    {
      "cell_type": "code",
      "metadata": {
        "id": "upP_NK5B_zy1"
      },
      "source": [
        "# prepare pipeline\n",
        "#\n",
        "sp.add_pipe('textrank', last=True)"
      ],
      "execution_count": null,
      "outputs": []
    },
    {
      "cell_type": "markdown",
      "metadata": {
        "id": "jNrFjnW5gRQL"
      },
      "source": [
        "#### fetch text from wikipedia"
      ]
    },
    {
      "cell_type": "code",
      "metadata": {
        "id": "XlNvOdnL_zy2"
      },
      "source": [
        "# data\n",
        "#\n",
        "# fetch the wikipedia site about coronavirus 2 with the wikipedia library\n",
        "#\n",
        "# https://en.wikipedia.org/wiki/Severe_acute_respiratory_syndrome_coronavirus_2\n",
        "#\n",
        "# doc = sp(wikipedia.page('Severe_acute_respiratory_syndrome_coronavirus_2').content)\n",
        "#\n",
        "doc = sp(wikipedia.page('Fussball-Bundesliga').content)"
      ],
      "execution_count": 13,
      "outputs": []
    },
    {
      "cell_type": "markdown",
      "metadata": {
        "id": "0UY9tc47jAEh"
      },
      "source": [
        "#### summarize text"
      ]
    },
    {
      "cell_type": "code",
      "metadata": {
        "colab": {
          "base_uri": "https://localhost:8080/"
        },
        "id": "6uAQ3lU3_zy4",
        "outputId": "91923f80-56e9-4de4-c444-e8ea0919b501"
      },
      "source": [
        "# summarize the text with textrank\n",
        "#\n",
        "for sent in doc._.textrank.summary():\n",
        "    print(sent)"
      ],
      "execution_count": 14,
      "outputs": [
        {
          "output_type": "stream",
          "text": [
            "Bayern Munich has won the title 29 times, the most among Bundesliga clubs.\n",
            "The Bundesliga has the lowest ticket prices and the highest average attendance among Europe's five major leagues.\n",
            "= Attendances ===\n",
            "\n",
            "Based on its per-game average, the Bundesliga is the best-attended association football league in the world; out of all sports, its average of 45,116 fans per game during the 2011–12 season was the second highest of any professional sports league worldwide, behind only the National Football League of the United States.\n",
            "Having won the Champions League in 1997 and a number of Bundesliga titles, Dortmund had gambled on maintaining their success with an expensive group of largely foreign players but failed, narrowly escaping liquidation in 2006.\n"
          ],
          "name": "stdout"
        }
      ]
    },
    {
      "cell_type": "code",
      "metadata": {
        "colab": {
          "base_uri": "https://localhost:8080/"
        },
        "id": "iFV3IDyL_zy7",
        "outputId": "9d7ad0ef-a69e-44f3-9d73-234812798343"
      },
      "source": [
        "# compare to the summary which can be given from the wikipedia library:\n",
        "#\n",
        "# print(wikipedia.page('Severe_acute_respiratory_syndrome_coronavirus_2').summary)\n",
        "print(wikipedia.page('Fussball-Bundesliga').summary)"
      ],
      "execution_count": 15,
      "outputs": [
        {
          "output_type": "stream",
          "text": [
            "The Bundesliga (German: [ˈbʊndəsˌliːɡa] (listen); lit.  'Federal League'), sometimes referred to as the Fußball-Bundesliga ([ˌfuːsbal-]) or 1. Bundesliga ([ˌeːɐ̯stə-]), is a professional association football league in Germany. At the top of the German football league system, the Bundesliga is Germany's primary football competition. The Bundesliga comprises 18 teams and operates on a system of promotion and relegation with the 2. Bundesliga. Seasons run from August to May. Most games are played on Saturdays and Sundays, with a few games played on weekdays. All of the Bundesliga clubs qualify for the DFB-Pokal. The winner of the Bundesliga qualifies for the DFL-Supercup.\n",
            "Fifty-six clubs have competed in the Bundesliga since its founding. Bayern Munich has won the title 29 times, the most among Bundesliga clubs. However, the Bundesliga has seen other champions, with Borussia Dortmund, Hamburger SV, Werder Bremen, Borussia Mönchengladbach, and VfB Stuttgart most prominent among them. The Bundesliga is one of the top national leagues, ranked fourth in Europe according to UEFA's league coefficient ranking for the 2020–21 season, based on performances in European competitions over the past five seasons. The Bundesliga is the number one football league in the world in terms of average attendance; out of all sports, its average of 45,134 fans per game during the 2011–12 season was the second-highest of any sports league in the world after the American National Football League. The Bundesliga is broadcast on television in over 200 countries.The Bundesliga was founded in 1962 in Dortmund and the first season started in 1963. The structure and organisation of the Bundesliga, along with Germany's other football leagues, have undergone frequent changes. The Bundesliga was founded by the Deutscher Fußball-Bund (English: German Football Association), but is now operated by the Deutsche Fußball Liga (English: German Football League).\n"
          ],
          "name": "stdout"
        }
      ]
    },
    {
      "cell_type": "code",
      "metadata": {
        "colab": {
          "base_uri": "https://localhost:8080/"
        },
        "id": "kuYQjDd-_zy9",
        "outputId": "d6872b6f-3447-47fb-d179-4152d824bb50"
      },
      "source": [
        "# examine the top-ranked phrases in the document\n",
        "#\n",
        "# display the first 10:\n",
        "\n",
        "for i in range(0,9):\n",
        "  p = doc._.phrases[i]\n",
        "  print('{:.4f} {:5d}  {}'.format(p.rank, p.count, p.text))\n",
        "  print(p.chunks)"
      ],
      "execution_count": 17,
      "outputs": [
        {
          "output_type": "stream",
          "text": [
            "0.0935     3  Bundesliga clubs\n",
            "[Bundesliga clubs, Bundesliga clubs, Bundesliga clubs]\n",
            "0.0834     1  Bundesliga club Borussia Dortmund\n",
            "[Bundesliga club Borussia Dortmund]\n",
            "0.0828     2  Bundesliga titles\n",
            "[Bundesliga titles, Bundesliga titles]\n",
            "0.0794     1  Bundesliga matches\n",
            "[Bundesliga matches]\n",
            "0.0784    95  Bundesliga\n",
            "[Bundesliga, Bundesliga, Bundesliga, Bundesliga, Bundesliga, Bundesliga, Bundesliga, Bundesliga, Bundesliga, Bundesliga, Bundesliga, Bundesliga, Bundesliga, Bundesliga, Bundesliga, Bundesliga, Bundesliga, Bundesliga, Bundesliga, Bundesliga, Bundesliga, Bundesliga, Bundesliga, Bundesliga, Bundesliga, Bundesliga, Bundesliga, Bundesliga, Bundesliga, Bundesliga, Bundesliga, Bundesliga, Bundesliga, Bundesliga, Bundesliga, Bundesliga, Bundesliga, Bundesliga, Bundesliga, Bundesliga, Bundesliga, Bundesliga, Bundesliga, Bundesliga, Bundesliga, Bundesliga, Bundesliga, Bundesliga, Bundesliga, Bundesliga, Bundesliga, Bundesliga, Bundesliga, Bundesliga, Bundesliga, Bundesliga, Bundesliga, Bundesliga, Bundesliga, Bundesliga, Bundesliga, Bundesliga, Bundesliga, Bundesliga, Bundesliga, Bundesliga, Bundesliga, Bundesliga, Bundesliga, Bundesliga, Bundesliga, Bundesliga, Bundesliga, Bundesliga, Bundesliga, Bundesliga, Bundesliga, Bundesliga, Bundesliga, Bundesliga, Bundesliga, Bundesliga, Bundesliga, Bundesliga, Bundesliga, Bundesliga, Bundesliga, Bundesliga, Bundesliga, Bundesliga, Bundesliga, Bundesliga, Bundesliga, Bundesliga, Bundesliga]\n",
            "0.0778     1  First Bundesliga\n",
            "[First Bundesliga]\n",
            "0.0770     1  First Bundesliga champions\n",
            "[First Bundesliga champions]\n",
            "0.0766     1  foreign Bundesliga players\n",
            "[foreign Bundesliga players]\n",
            "0.0718     1  German clubs\n",
            "[German clubs]\n"
          ],
          "name": "stdout"
        }
      ]
    },
    {
      "cell_type": "markdown",
      "metadata": {
        "id": "T2oMgGVZAivX"
      },
      "source": [
        "Copyright © 2021 IUBH Internationale Hochschule"
      ]
    }
  ]
}
