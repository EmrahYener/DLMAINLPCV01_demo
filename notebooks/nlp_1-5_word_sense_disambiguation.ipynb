{
 "cells": [
  {
   "cell_type": "markdown",
   "metadata": {},
   "source": [
    "**word sense disambiguation**\n",
    "\n",
    "In this notebook the disambiguation of words with the **n**atural **l**anguage **t**ool **k**it (``nltk``) is schown. For the following examples the the ``Lesk`` algorithm is used. \n",
    "\n",
    "usage of the lesk-method:$ \\qquad $ [nltk.wsd.lesk](https://www.nltk.org/api/nltk.html#nltk.wsd.lesk)<br>\n",
    "how-to: $\\qquad \\qquad \\qquad \\quad$ [nltk.howto.wsd](http://www.nltk.org/howto/wsd.html)"
   ]
  },
  {
   "cell_type": "code",
   "execution_count": 1,
   "metadata": {},
   "outputs": [],
   "source": [
    "# import resources\n",
    "#\n",
    "from nltk.wsd import lesk\n",
    "from nltk.corpus import wordnet as wn\n",
    "#"
   ]
  },
  {
   "cell_type": "markdown",
   "metadata": {},
   "source": [
    "<a id=\"example_1\">**ambiguation of the word _bank_**</a>"
   ]
  },
  {
   "cell_type": "code",
   "execution_count": 2,
   "metadata": {},
   "outputs": [
    {
     "name": "stdout",
     "output_type": "stream",
     "text": [
      "=============== analyse sentence 1 =================\n",
      "\n",
      "Context: I went to the bank to deposit my money.\n",
      "Sense: Synset('savings_bank.n.02')\n",
      "Definition: a container (usually with a slot in the top) for keeping money at home\n",
      "\n",
      "=============== analyse sentence 2 =================\n",
      "\n",
      "Context: The river bank was full of dead fishes.\n",
      "Sense: Synset('bank.n.09')\n",
      "Definition: a building in which the business of banking transacted\n",
      "\n",
      "=============== all definitions of 'bank'===============\n",
      "\t Synset('bank.n.01') sloping land (especially the slope beside a body of water)\n",
      "\t Synset('depository_financial_institution.n.01') a financial institution that accepts deposits and channels the money into lending activities\n",
      "\t Synset('bank.n.03') a long ridge or pile\n",
      "\t Synset('bank.n.04') an arrangement of similar objects in a row or in tiers\n",
      "\t Synset('bank.n.05') a supply or stock held in reserve for future use (especially in emergencies)\n",
      "\t Synset('bank.n.06') the funds held by a gambling house or the dealer in some gambling games\n",
      "\t Synset('bank.n.07') a slope in the turn of a road or track; the outside is higher than the inside in order to reduce the effects of centrifugal force\n",
      "\t Synset('savings_bank.n.02') a container (usually with a slot in the top) for keeping money at home\n",
      "\t Synset('bank.n.09') a building in which the business of banking transacted\n",
      "\t Synset('bank.n.10') a flight maneuver; aircraft tips laterally about its longitudinal axis (especially in turning)\n",
      "\t Synset('bank.v.01') tip laterally\n",
      "\t Synset('bank.v.02') enclose with a bank\n",
      "\t Synset('bank.v.03') do business with a bank or keep an account at a bank\n",
      "\t Synset('bank.v.04') act as the banker in a game or in gambling\n",
      "\t Synset('bank.v.05') be in the banking business\n",
      "\t Synset('deposit.v.02') put into a bank account\n",
      "\t Synset('bank.v.07') cover with ashes so to control the rate of burning\n",
      "\t Synset('trust.v.01') have confidence or faith in\n"
     ]
    }
   ],
   "source": [
    "# \n",
    "bank_sents = ['I went to the bank to deposit my money.',\n",
    "              'The river bank was full of dead fishes.']\n",
    "#\n",
    "print( \"=============== analyse sentence 1 =================\\n\")\n",
    "print( \"Context:\", bank_sents[0])\n",
    "answer = lesk(bank_sents[0], 'bank') \n",
    "print( \"Sense:\", answer)\n",
    "print( \"Definition:\",answer.definition())\n",
    "#\n",
    "print( \"\\n=============== analyse sentence 2 =================\\n\")\n",
    "print( \"Context:\", bank_sents[1])\n",
    "answer = lesk(bank_sents[1].split(), 'bank', 'n')\n",
    "print( \"Sense:\", answer)\n",
    "print( \"Definition:\", answer.definition())\n",
    "#\n",
    "print( \"\\n=============== all definitions of \\'bank\\'===============\")\n",
    "for s in wn.synsets('bank'):\n",
    "    print('\\t', s, s.definition())\n",
    "#\n"
   ]
  },
  {
   "cell_type": "markdown",
   "metadata": {},
   "source": [
    "<a id=\"example_1\">**ambiguation of the word *plant***</a>"
   ]
  },
  {
   "cell_type": "code",
   "execution_count": 3,
   "metadata": {},
   "outputs": [
    {
     "name": "stdout",
     "output_type": "stream",
     "text": [
      "=============== analyse sentence 1 =================\n",
      "\n",
      "Context: The workers at the industrial plant were overworked.\n",
      "Sense: Synset('plant.n.03')\n",
      "Definition: an actor situated in the audience whose acting is rehearsed but seems spontaneous to the audience\n",
      "\n",
      "=============== analyse sentence 2 =================\n",
      "\n",
      "Context: The plant was no longer bearing flowers.\n",
      "Sense: Synset('plant.n.02')\n",
      "Definition: (botany) a living organism lacking the power of locomotion\n",
      "\n",
      "=============== all definitions of 'plant'===============\n",
      "\t Synset('plant.n.01') buildings for carrying on industrial labor\n",
      "\t Synset('plant.n.02') (botany) a living organism lacking the power of locomotion\n",
      "\t Synset('plant.n.03') an actor situated in the audience whose acting is rehearsed but seems spontaneous to the audience\n",
      "\t Synset('plant.n.04') something planted secretly for discovery by another\n",
      "\t Synset('plant.v.01') put or set (seeds, seedlings, or plants) into the ground\n",
      "\t Synset('implant.v.01') fix or set securely or deeply\n",
      "\t Synset('establish.v.02') set up or lay the groundwork for\n",
      "\t Synset('plant.v.04') place into a river\n",
      "\t Synset('plant.v.05') place something or someone in a certain position in order to secretly observe or deceive\n",
      "\t Synset('plant.v.06') put firmly in the mind\n"
     ]
    }
   ],
   "source": [
    "#\n",
    "plant_sents = ['The workers at the industrial plant were overworked.', 'The plant was no longer bearing flowers.']\n",
    "#\n",
    "#\n",
    "print( \"=============== analyse sentence 1 =================\\n\")\n",
    "print( \"Context:\", plant_sents[0])\n",
    "answer_1 = lesk(plant_sents[0].split(),'plant','n')\n",
    "print( \"Sense:\", answer_1)\n",
    "print( \"Definition:\",answer_1.definition())\n",
    "#\n",
    "print( \"\\n=============== analyse sentence 2 =================\\n\")\n",
    "print( \"Context:\", plant_sents[1])\n",
    "answer_2 = lesk(plant_sents[1],'plant','n')\n",
    "print( \"Sense:\", answer_2)\n",
    "print( \"Definition:\",answer_2.definition())\n",
    "#\n",
    "print( \"\\n=============== all definitions of \\'plant\\'===============\")\n",
    "for s in wn.synsets('plant'):\n",
    "    print('\\t', s, s.definition())\n",
    "#"
   ]
  },
  {
   "cell_type": "markdown",
   "metadata": {},
   "source": [
    "<a id=\"example_1\">**ambiguation of the word *fair***</a>"
   ]
  },
  {
   "cell_type": "code",
   "execution_count": 4,
   "metadata": {},
   "outputs": [
    {
     "name": "stdout",
     "output_type": "stream",
     "text": [
      "=============== analyse sentence 1 =================\n",
      "\n",
      "Context: Everyone needs to be given a fair chance in the competition.\n",
      "Sense: Synset('fairly.r.02')\n",
      "Definition: without favoring one party, in a fair evenhanded manner\n",
      "\n",
      "=============== analyse sentence 2 =================\n",
      "\n",
      "Context: The annual fair in our city is next weekend.\n",
      "Sense: Synset('fair.n.03')\n",
      "Definition: a competitive exhibition of farm products\n",
      "\n",
      "=============== all definitions of 'fair'===============\n",
      "\t Synset('carnival.n.03') a traveling show; having sideshows and rides and games of skill etc.\n",
      "\t Synset('fair.n.02') gathering of producers to promote business\n",
      "\t Synset('fair.n.03') a competitive exhibition of farm products\n",
      "\t Synset('bazaar.n.03') a sale of miscellany; often for charity\n",
      "\t Synset('fair.v.01') join so that the external surfaces blend smoothly\n",
      "\t Synset('fair.a.01') free from favoritism or self-interest or bias or deception; conforming with established standards or rules\n",
      "\t Synset('fair.s.02') not excessive or extreme\n",
      "\t Synset('bonny.s.01') very pleasing to the eye\n",
      "\t Synset('fair.a.04') (of a baseball) hit between the foul lines\n",
      "\t Synset('average.s.03') lacking exceptional quality or ability\n",
      "\t Synset('fair.s.06') attractively feminine\n",
      "\t Synset('clean.s.11') (of a manuscript) having few alterations or corrections\n",
      "\t Synset('honest.s.07') gained or earned without cheating or stealing\n",
      "\t Synset('fair.s.09') free of clouds or rain\n",
      "\t Synset('fair.s.10') (used of hair or skin) pale or light-colored\n",
      "\t Synset('fairly.r.03') in conformity with the rules or laws and without fraud or cheating\n",
      "\t Synset('fairly.r.02') without favoring one party, in a fair evenhanded manner\n"
     ]
    }
   ],
   "source": [
    "sntc_1 = \"Everyone needs to be given a fair chance in the competition.\"\n",
    "sntc_2 = \"The annual fair in our city is next weekend.\"\n",
    "\n",
    "print( \"=============== analyse sentence 1 =================\\n\")\n",
    "#\n",
    "print( \"Context:\", sntc_1)\n",
    "answer_1 = lesk(sntc_1,'fair')\n",
    "print( \"Sense:\", answer_1)\n",
    "print( \"Definition:\",answer_1.definition())\n",
    "#\n",
    "#\n",
    "print( \"\\n=============== analyse sentence 2 =================\\n\")\n",
    "print( \"Context:\", sntc_2)\n",
    "answer_2 = lesk(sntc_2,'fair', 'n')\n",
    "print( \"Sense:\", answer_2)\n",
    "print( \"Definition:\",answer_2.definition())\n",
    "#\n",
    "print( \"\\n=============== all definitions of \\'fair\\'===============\")\n",
    "for s in wn.synsets('fair'):\n",
    "    print('\\t', s, s.definition())"
   ]
  },
  {
   "cell_type": "code",
   "execution_count": 5,
   "metadata": {},
   "outputs": [
    {
     "name": "stdout",
     "output_type": "stream",
     "text": [
      "bank.n.01sloping land (especially the slope beside a body of water)\n",
      "set.n.01: a group of things of the same kind that belong together and are so used\n",
      "put.v.01: put into a certain place or abstract location\n"
     ]
    }
   ],
   "source": [
    "from nltk.corpus import wordnet as wn\n",
    "\n",
    "def get_first_sense(word, pos=None):\n",
    "    if pos:\n",
    "        synsets = wn.synsets(word,pos)\n",
    "    else:\n",
    "        synsets = wn.synsets(word)\n",
    "    return synsets[0]\n",
    "\n",
    "best_synset = get_first_sense('bank')\n",
    "print(best_synset.name() + best_synset.definition())\n",
    "best_synset = get_first_sense('set','n')\n",
    "print('%s: %s' % (best_synset.name(), best_synset.definition()))\n",
    "best_synset = get_first_sense('set','v')\n",
    "print('%s: %s' % (best_synset.name(), best_synset.definition()))"
   ]
  },
  {
   "cell_type": "code",
   "execution_count": 6,
   "metadata": {},
   "outputs": [
    {
     "name": "stdout",
     "output_type": "stream",
     "text": [
      "Synset('savings_bank.n.02')\n",
      "Synset('bank.n.07')\n",
      "Synset('bank.v.07')\n",
      "Synset('bank.n.09')\n",
      "Synset('deposit.v.02')\n"
     ]
    }
   ],
   "source": [
    "# print(lesk('I went to the bank to deposit my money.', 'bank', 'n'))\n",
    "print(lesk('I went to the bank to deposit my money.', 'bank'))\n",
    "print(lesk(bank_sents[0].split(), 'bank', 'n'))\n",
    "print(lesk(bank_sents[0].split(), 'bank'))\n",
    "print(lesk(bank_sents[1].split(), 'bank', 'n'))\n",
    "print(lesk(bank_sents[1].split(), 'bank'))"
   ]
  },
  {
   "cell_type": "markdown",
   "metadata": {},
   "source": [
    "Copyright © 2020 IUBH Internationale Hochschule"
   ]
  }
 ],
 "metadata": {
  "kernelspec": {
   "display_name": "Python 3",
   "language": "python",
   "name": "python3"
  },
  "language_info": {
   "codemirror_mode": {
    "name": "ipython",
    "version": 3
   },
   "file_extension": ".py",
   "mimetype": "text/x-python",
   "name": "python",
   "nbconvert_exporter": "python",
   "pygments_lexer": "ipython3",
   "version": "3.8.2"
  },
  "nbTranslate": {
   "displayLangs": [
    "*"
   ],
   "hotkey": "alt-t",
   "langInMainMenu": true,
   "sourceLang": "en",
   "targetLang": "fr",
   "useGoogleTranslate": true
  }
 },
 "nbformat": 4,
 "nbformat_minor": 4
}
