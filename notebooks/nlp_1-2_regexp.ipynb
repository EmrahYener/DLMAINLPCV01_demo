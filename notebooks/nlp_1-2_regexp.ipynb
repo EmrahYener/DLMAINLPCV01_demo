{
  "nbformat": 4,
  "nbformat_minor": 0,
  "metadata": {
    "kernelspec": {
      "display_name": "Python 3",
      "language": "python",
      "name": "python3"
    },
    "language_info": {
      "codemirror_mode": {
        "name": "ipython",
        "version": 3
      },
      "file_extension": ".py",
      "mimetype": "text/x-python",
      "name": "python",
      "nbconvert_exporter": "python",
      "pygments_lexer": "ipython3",
      "version": "3.8.2"
    },
    "nbTranslate": {
      "displayLangs": [
        "*"
      ],
      "hotkey": "alt-t",
      "langInMainMenu": true,
      "sourceLang": "en",
      "targetLang": "fr",
      "useGoogleTranslate": true
    },
    "colab": {
      "name": "nlp_1p2_regexp.ipynb",
      "provenance": [],
      "collapsed_sections": [],
      "toc_visible": true
    }
  },
  "cells": [
    {
      "cell_type": "markdown",
      "metadata": {
        "id": "i8EfESNNankA"
      },
      "source": [
        "# **Regular Expressions**\n",
        "\n",
        "Regular expressions (also called “RegEx”) are a powerful tool and a standardized language to search for patterns in strings.\n",
        "\n",
        "Regular expressions in Python are compiled into pattern objects, which have methods for various operations such as searching for pattern matches or performing string substitutions. The most significant ones are:\n",
        "- ``match()``:$\\qquad$ Determine if the regular expression matches at the beginning of the string.<br>\n",
        "- ``search()``:$\\qquad$ Scan a string, looking for any location where this regular expression matches.<br>\n",
        "- ``findall()``:$\\qquad$ Find all substrings where the regular expression matches, and return them as a list.<br>\n",
        "- ``finditer()``:$\\qquad$ Find all substrings where the regular expression matches, and return them as an iterator.<br>\n",
        "\n",
        "This notebook shows examples for the following meta-character settings:\n",
        "- Anchors\n",
        "- Quantifiers\n",
        "- Disjunctions\n",
        "- Character Classes\n",
        "\n",
        "Further Python documentation:\n",
        "- Regular expression syntax in the library ``re``: https://docs.python.org/3/library/re.html)\n",
        "- Regular Expression HOWTO: https://docs.python.org/3/howto/regex.html#regex-howto"
      ]
    },
    {
      "cell_type": "code",
      "metadata": {
        "id": "VmYmsxu4ankY"
      },
      "source": [
        "# Load 're' module for all following code cells\n",
        "import re"
      ],
      "execution_count": null,
      "outputs": []
    },
    {
      "cell_type": "markdown",
      "metadata": {
        "id": "t8E9--jiankb"
      },
      "source": [
        "## **Anchors mark a position in the string**\n",
        "\n",
        "- $\\text{^}$ : $\\quad$ means the beginning of the string\n",
        "- $\\text{\\$}$: $\\quad$  means the end of the string"
      ]
    },
    {
      "cell_type": "code",
      "metadata": {
        "colab": {
          "base_uri": "https://localhost:8080/"
        },
        "id": "CoZ1BlC7ankc",
        "outputId": "718ef01b-47fc-4240-c4bb-f5d1e2653f21"
      },
      "source": [
        "# Define regular expression\n",
        "reg = re.compile('^banana')\n",
        "\n",
        "# Does the sentence \"bananas are cheap\" begin with \"banana\"?\n",
        "p = reg.search(\"bananas are cheap\")\n",
        "\n",
        "# Show results:\n",
        "if p:\n",
        "    # Print the string which matches the regular expression\n",
        "    print('matching string:\\t' + p.group())\n",
        "    \n",
        "    # Print the first and last character of the match\n",
        "    print('index of first and last matching character in the sentence: \\t start: {} \\t end: {}'.format(p.start(), p.end()))\n",
        "    \n",
        "    # Print the start and end position as tuple:\n",
        "    print('index of first and last matching charcter as tuple: \\t{}'.format(p.span()))\n",
        "else:\n",
        "    print(\"no match\")\n"
      ],
      "execution_count": null,
      "outputs": [
        {
          "output_type": "stream",
          "text": [
            "matching string:\tbanana\n",
            "index of first and last matching character in the sentence: \t start: 0 \t end: 6\n",
            "index of first and last matching charcter as tuple: \t(0, 6)\n"
          ],
          "name": "stdout"
        }
      ]
    },
    {
      "cell_type": "code",
      "metadata": {
        "colab": {
          "base_uri": "https://localhost:8080/"
        },
        "id": "3O0t2i5dankg",
        "outputId": "9a98dfc7-2f9a-4ee3-f7f8-f36ffa922984"
      },
      "source": [
        "# Check if the sentence \"I have a banana\" ends with \"banana\"\n",
        "reg = re.compile('banana$')\n",
        "\n",
        "p = reg.search(\"I have a banana\")\n",
        "\n",
        "# Show results:\n",
        "\n",
        "if p:\n",
        "  # Print the string which matches the regular expression\n",
        "  print('matching string:\\t' + p.group())\n",
        "  \n",
        "  # Print the first and last character of the match\n",
        "  print('index of first and last matching character in the sentence: \\t start: {} \\t end: {}'.format(p.start(), p.end()))\n",
        "  \n",
        "  # Print the start and end position as tuple:\n",
        "  print('index of first and last matching charcter as tuple: \\t{}'.format(p.span()))\n",
        "  \n",
        "else:\n",
        "    print(\"no match\")"
      ],
      "execution_count": null,
      "outputs": [
        {
          "output_type": "stream",
          "text": [
            "matching string:\tbanana\n",
            "index of first and last matching character in the sentence: \t start: 9 \t end: 15\n",
            "index of first and last matching charcter as tuple: \t(9, 15)\n"
          ],
          "name": "stdout"
        }
      ]
    },
    {
      "cell_type": "code",
      "metadata": {
        "colab": {
          "base_uri": "https://localhost:8080/"
        },
        "id": "4EDrbIwnoTsZ",
        "outputId": "5698c74b-49fa-4bbc-b057-d9f59805c18b"
      },
      "source": [
        "# '^' means the beginning of a string\n",
        "# '$' means the end of a string\n",
        "\n",
        "reg = re.compile('^banana$')\n",
        " \n",
        "# Do the following strings begin and end with 'banana'?\n",
        "print(reg.search('bananas are cheap'))\n",
        "\n",
        "print(reg.search('I have a banana'))\n",
        "\n",
        "print(reg.search('banana').group())"
      ],
      "execution_count": null,
      "outputs": [
        {
          "output_type": "stream",
          "text": [
            "None\n",
            "None\n",
            "banana\n"
          ],
          "name": "stdout"
        }
      ]
    },
    {
      "cell_type": "markdown",
      "metadata": {
        "id": "7GY_8SY7MxQf"
      },
      "source": [
        "#### Alternative method: Use module functions for matches in string variable\n",
        "\n",
        "Regular expressions are compiled into pattern objects, which have methods for various operations such as searching for pattern matches or performing string substitutions.<br>\n",
        "The ``re`` module defines several functions, constants, and an exception. Some of the functions are simplified versions of the full featured methods for compiled regular expressions. Most non-trivial applications always use the compiled form."
      ]
    },
    {
      "cell_type": "code",
      "metadata": {
        "id": "r-zUdydWMpr2",
        "colab": {
          "base_uri": "https://localhost:8080/"
        },
        "outputId": "fbffe689-2371-49f3-ad39-4d1f7eed4719"
      },
      "source": [
        "# Alternative method: Use the module function search() for matches in string variable\n",
        "p = re.search('^banana', 'bananas are cheap')\n",
        "\n",
        "# Show results:\n",
        "if p:\n",
        "    # Print the string which matches the regular expression\n",
        "    print('matching string:\\t' + p.group())\n",
        "    \n",
        "    # Print the first and last character of the match\n",
        "    print('index of first and last matching character in the sentence: \\t start: {} \\t end: {}'.format(p.start(), p.end()))\n",
        "    \n",
        "    # Print the start and end position as tuple:\n",
        "    print('index of first and last matching charcter as tuple: \\t{}'.format(p.span()))\n",
        "else:\n",
        "    print(\"no match\")"
      ],
      "execution_count": null,
      "outputs": [
        {
          "output_type": "stream",
          "text": [
            "matching string:\tbanana\n",
            "index of first and last matching character in the sentence: \t start: 0 \t end: 6\n",
            "index of first and last matching charcter as tuple: \t(0, 6)\n"
          ],
          "name": "stdout"
        }
      ]
    },
    {
      "cell_type": "code",
      "metadata": {
        "colab": {
          "base_uri": "https://localhost:8080/"
        },
        "id": "F6xZn3SdgaA-",
        "outputId": "ee6e92d7-b5c0-4f40-9aeb-529429786599"
      },
      "source": [
        "# The function match() would return the same result\n",
        "#\n",
        "# Note:\n",
        "# match() only checks if the regular expression matches at the beginning of the string\n",
        "# while search() scans the whole string for a match. \n",
        "# It is important to keep this distinction in mind. \n",
        "\n",
        "# Note:\n",
        "# match() only reports a successful match which starts at 0. \n",
        "# If the match does not start at 0, match() does not report it.\n",
        "\n",
        "# See also [search() vs. match()](https://docs.python.org/3/library/re.html#search-vs-match)\n",
        "\n",
        "p = re.match('^banana', 'bananas are cheap')\n",
        "\n",
        "if p:\n",
        "  print('matching string: ' + p.group())"
      ],
      "execution_count": null,
      "outputs": [
        {
          "output_type": "stream",
          "text": [
            "matching string: banana\n"
          ],
          "name": "stdout"
        }
      ]
    },
    {
      "cell_type": "markdown",
      "metadata": {
        "id": "Rf4tEmyuankj"
      },
      "source": [
        "## **Quantifiers indicate the number of repetitions of the previous character**\n",
        "\n",
        "- $\\text{*}$: $\\quad$  means 0 or more\n",
        "- $\\text{+}$: $\\quad$ means 1 or more\n",
        "- $\\text{?}$: $\\quad$ means 0 or 1 repetitions\n",
        "- If more precise quantifiers are needed, the number of repetitions can be written in curly brackets."
      ]
    },
    {
      "cell_type": "code",
      "metadata": {
        "colab": {
          "base_uri": "https://localhost:8080/"
        },
        "id": "fa6CZQn8hWE_",
        "outputId": "1fccd669-ddf2-4d0e-fb9e-96012f705535"
      },
      "source": [
        "# '?' means 0 or 1 repetitions\n",
        "reg = re.compile('ba?nana')\n",
        "\n",
        "print(reg.search('banana').group())\n",
        "print(reg.search('bnana').group())\n",
        "print(reg.search('baaaaanana'))"
      ],
      "execution_count": null,
      "outputs": [
        {
          "output_type": "stream",
          "text": [
            "banana\n",
            "bnana\n",
            "None\n"
          ],
          "name": "stdout"
        }
      ]
    },
    {
      "cell_type": "code",
      "metadata": {
        "colab": {
          "base_uri": "https://localhost:8080/"
        },
        "id": "U3W7HfpZhWBk",
        "outputId": "3026e180-508c-40d9-c395-0543d96bdd8f"
      },
      "source": [
        "# '+' means 1 or more repetitions\n",
        "reg = re.compile('ba+nana')\n",
        "\n",
        "print(reg.search('banana').group())\n",
        "print(reg.search('bnana'))\n",
        "print(reg.search('baaaaanana').group())"
      ],
      "execution_count": null,
      "outputs": [
        {
          "output_type": "stream",
          "text": [
            "banana\n",
            "None\n",
            "baaaaanana\n"
          ],
          "name": "stdout"
        }
      ]
    },
    {
      "cell_type": "code",
      "metadata": {
        "colab": {
          "base_uri": "https://localhost:8080/"
        },
        "id": "eKenVK1vhV_S",
        "outputId": "a01bcd52-6c9d-4321-a2a7-e0f0680cf4c1"
      },
      "source": [
        "# '*' means 0 or more repetitions\n",
        "reg = re.compile('ba*nana')\n",
        "\n",
        "print(reg.search('banana').group())\n",
        "print(reg.search('bnana').group())\n",
        "print(reg.search('baaaaanana').group())"
      ],
      "execution_count": null,
      "outputs": [
        {
          "output_type": "stream",
          "text": [
            "banana\n",
            "bnana\n",
            "baaaaanana\n"
          ],
          "name": "stdout"
        }
      ]
    },
    {
      "cell_type": "code",
      "metadata": {
        "colab": {
          "base_uri": "https://localhost:8080/"
        },
        "id": "iZIT8o30hV9A",
        "outputId": "60c8e373-098a-486a-e561-166aeaacf1a6"
      },
      "source": [
        "# 'a{2,7}' means that the letter 'a' must repeat at least 2 times and \n",
        "# at maximum 7 times for the string to match the pattern\n",
        "reg = re.compile('a{2,7}')\n",
        "\n",
        "print(reg.search('banana'))\n",
        "print(reg.search('bnana'))\n",
        "print(reg.search('baaaaanana').group())"
      ],
      "execution_count": null,
      "outputs": [
        {
          "output_type": "stream",
          "text": [
            "None\n",
            "None\n",
            "aaaaa\n"
          ],
          "name": "stdout"
        }
      ]
    },
    {
      "cell_type": "markdown",
      "metadata": {
        "id": "HoCP2GKqankn"
      },
      "source": [
        "## **Disjunctions represent a logical OR**\n",
        "\n",
        "Disjunctions are written in squared brackets ``[ ]`` or separated by the pipe sign ``|``."
      ]
    },
    {
      "cell_type": "code",
      "metadata": {
        "colab": {
          "base_uri": "https://localhost:8080/"
        },
        "id": "Lw1j1CYyiDXD",
        "outputId": "ec88a396-bfb8-4607-a33f-f3bd150b8592"
      },
      "source": [
        "# 'b[aou]nana' matches strings which have either 'a', 'o' or 'u' as 2nd character.\n",
        "reg = re.compile('b[aou]nana')\n",
        "\n",
        "print(reg.search('banana').group())\n",
        "print(reg.search('bonana').group())\n",
        "print(reg.search('bunana').group())"
      ],
      "execution_count": null,
      "outputs": [
        {
          "output_type": "stream",
          "text": [
            "banana\n",
            "bonana\n",
            "bunana\n"
          ],
          "name": "stdout"
        }
      ]
    },
    {
      "cell_type": "code",
      "metadata": {
        "colab": {
          "base_uri": "https://localhost:8080/"
        },
        "id": "MhEND9CliDTj",
        "outputId": "52292f95-23cd-4cb6-cbd0-a00b347a6578"
      },
      "source": [
        "# 'b(a|o|u)nana' matches strings which have either 'a', 'o' or 'u' as 2nd character.\n",
        "reg = re.compile('b(a|o|u)nana')\n",
        "\n",
        "print(reg.search('banana').group())\n",
        "print(reg.search('bonana').group())\n",
        "print(reg.search('bunana').group())"
      ],
      "execution_count": null,
      "outputs": [
        {
          "output_type": "stream",
          "text": [
            "banana\n",
            "bonana\n",
            "bunana\n"
          ],
          "name": "stdout"
        }
      ]
    },
    {
      "cell_type": "code",
      "metadata": {
        "colab": {
          "base_uri": "https://localhost:8080/"
        },
        "id": "qpZQFcC5iDQX",
        "outputId": "a2eeb260-41ff-4d13-caf4-8ee4bc1d476b"
      },
      "source": [
        "# 'banana|bonana|bunana' matches strings which contain either 'banana', 'bonana' or 'bunana'.\n",
        "reg = re.compile('banana|bonana|bunana')\n",
        "\n",
        "print(reg.search('banana').group())\n",
        "print(reg.search('bonana').group())\n",
        "print(reg.search('bunana').group())"
      ],
      "execution_count": null,
      "outputs": [
        {
          "output_type": "stream",
          "text": [
            "banana\n",
            "bonana\n",
            "bunana\n"
          ],
          "name": "stdout"
        }
      ]
    },
    {
      "cell_type": "markdown",
      "metadata": {
        "id": "v8__BV-uankq"
      },
      "source": [
        "## **Character classes represent certain groups of characters.**\n",
        "\n",
        "* $\\text{\\d or [0-9]}\\quad \\quad \\quad \\quad$ :   matches digits\n",
        "* $\\text{\\w or [0-9A-Za-z_]}\\quad$ :  matches alphanumeric characters and underscores\n",
        "* $\\text{\\s} \\qquad \\qquad \\qquad \\qquad$:  matches white space characters\n",
        "* $. \\qquad \\qquad \\qquad \\qquad$ :  matches any character"
      ]
    },
    {
      "cell_type": "code",
      "metadata": {
        "colab": {
          "base_uri": "https://localhost:8080/"
        },
        "id": "lvuE_qzeankq",
        "outputId": "cfc2b124-02ef-4959-f978-7115a4158af7"
      },
      "source": [
        "# This regular expression matches strings which start with 'Hello' and end with 1 following word\n",
        "reg = re.compile('^Hello \\w+$')\n",
        "\n",
        "print(reg.search('Hello World').group())\n",
        "print(reg.search('Hello new World'))"
      ],
      "execution_count": null,
      "outputs": [
        {
          "output_type": "stream",
          "text": [
            "Hello World\n",
            "None\n"
          ],
          "name": "stdout"
        }
      ]
    },
    {
      "cell_type": "code",
      "metadata": {
        "colab": {
          "base_uri": "https://localhost:8080/"
        },
        "id": "6Ea1hOpuCTnk",
        "outputId": "84fdb724-d0a0-4cc1-8f9b-725e0e2565d4"
      },
      "source": [
        "# The expression would match strings which start with 'Hello'\n",
        "reg = re.compile('^Hello.+$')\n",
        "\n",
        "print(reg.search('Hello World').group())\n",
        "print(reg.search('Hello new World').group())"
      ],
      "execution_count": null,
      "outputs": [
        {
          "output_type": "stream",
          "text": [
            "Hello World\n",
            "Hello new World\n"
          ],
          "name": "stdout"
        }
      ]
    },
    {
      "cell_type": "markdown",
      "metadata": {
        "id": "j5RqQDag2ksH"
      },
      "source": [
        "## **Find regular expressions in files**"
      ]
    },
    {
      "cell_type": "code",
      "metadata": {
        "id": "a5MPCO_T0zRJ"
      },
      "source": [
        "# Create sample text file\n",
        "\n",
        "text =\"This is a sample text which contains several characters.\\n\\\n",
        "For example, I bought cheap bananas today.\"\n",
        "\n",
        "# Write content in output file\n",
        "with open(\"/content/regText.txt\", 'w') as file:\n",
        "  file.write(text)"
      ],
      "execution_count": null,
      "outputs": []
    },
    {
      "cell_type": "code",
      "metadata": {
        "colab": {
          "base_uri": "https://localhost:8080/"
        },
        "id": "Ugkw9ErK3kcX",
        "outputId": "91b6dd26-7ed5-4d3b-edcb-be6cad887e16"
      },
      "source": [
        "#@title\n",
        "# Find the epression 'text' in sample file 'regText.txt'\n",
        "\n",
        "!grep text '/content/regText.txt'"
      ],
      "execution_count": null,
      "outputs": [
        {
          "output_type": "stream",
          "text": [
            "This is a sample text which contains several characters.\n"
          ],
          "name": "stdout"
        }
      ]
    },
    {
      "cell_type": "code",
      "metadata": {
        "colab": {
          "base_uri": "https://localhost:8080/"
        },
        "id": "vFLlcKWC8Q5u",
        "outputId": "e21ecfa6-55cb-4da6-eea1-6a168001e7cb"
      },
      "source": [
        "# Replace the word banana with test in regText.txt\n",
        "\n",
        "!sed -e 's/banana/test/' regText.txt"
      ],
      "execution_count": null,
      "outputs": [
        {
          "output_type": "stream",
          "text": [
            "This is a sample text which contains several characters.\n",
            "For example, I bought cheap tests today."
          ],
          "name": "stdout"
        }
      ]
    },
    {
      "cell_type": "markdown",
      "metadata": {
        "id": "7ZPgsZNYanks"
      },
      "source": [
        "Copyright © 2021 IU International University of Applied Sciences"
      ]
    }
  ]
}