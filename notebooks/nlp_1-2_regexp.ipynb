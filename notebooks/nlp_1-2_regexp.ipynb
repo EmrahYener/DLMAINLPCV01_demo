{
  "nbformat": 4,
  "nbformat_minor": 0,
  "metadata": {
    "kernelspec": {
      "display_name": "Python 3",
      "language": "python",
      "name": "python3"
    },
    "language_info": {
      "codemirror_mode": {
        "name": "ipython",
        "version": 3
      },
      "file_extension": ".py",
      "mimetype": "text/x-python",
      "name": "python",
      "nbconvert_exporter": "python",
      "pygments_lexer": "ipython3",
      "version": "3.8.2"
    },
    "nbTranslate": {
      "displayLangs": [
        "*"
      ],
      "hotkey": "alt-t",
      "langInMainMenu": true,
      "sourceLang": "en",
      "targetLang": "fr",
      "useGoogleTranslate": true
    },
    "colab": {
      "name": "nlp_1p2_regexp.ipynb",
      "provenance": [],
      "collapsed_sections": [],
      "toc_visible": true
    }
  },
  "cells": [
    {
      "cell_type": "markdown",
      "metadata": {
        "id": "i8EfESNNankA"
      },
      "source": [
        "# **Regular Expressions**\n",
        "\n",
        "This notebook was prepared to help students improve their coding skills and show code examples about Regular expressions (also called “RegEx”).\n",
        "\n",
        "The notebook contains two main sections about each topic:\n",
        "- Definition\n",
        "- Code examples\n",
        "\n",
        "To improve your understanding, you can change the strings in the examples and execute the code again.\n",
        "\n",
        "\n",
        "\n"
      ]
    },
    {
      "cell_type": "markdown",
      "source": [
        "## **1- Introduction**\n",
        "\n",
        "Regular expressions in Python are compiled into pattern objects, which have methods for various operations such as searching for pattern matches or performing string substitutions. The most significant ones are:\n",
        "- ``match()``:$\\qquad$ Determine if the regular expression matches at the beginning of the string.<br>\n",
        "- ``search()``:$\\qquad$ Scan a string, looking for any location where this regular expression matches.<br>\n",
        "- ``findall()``:$\\qquad$ Find all substrings where the regular expression matches, and return them as a list.<br>\n",
        "- ``finditer()``:$\\qquad$ Find all substrings where the regular expression matches, and return them as an iterator.<br>\n",
        "\n",
        "#### **Content:**\n",
        "This notebook shows examples for the following meta-character settings:\n",
        "- Anchors\n",
        "- Quantifiers\n",
        "- Disjunctions\n",
        "- Character Classes"
      ],
      "metadata": {
        "id": "LYmBsulexuUJ"
      }
    },
    {
      "cell_type": "markdown",
      "metadata": {
        "id": "t8E9--jiankb"
      },
      "source": [
        "## **2- Anchors mark a position in the string**\n",
        "\n",
        "Anchors do not match any character. Instead, they match a position before, after, or between characters. They can be used to **“anchor”** the regex match at a certain position. \n",
        "\n",
        "<ul>\n",
        "<li><b>$\\text{^}$ :   means the beginning of the string </b></li>\n",
        "<ul>\n",
        "<li>The caret <b>^</b> matches the position before the first character in the string. </li>\n",
        "<li> Applying <b>^a</b> to <b>abc</b> matches <b>a</b>. </li>\n",
        "<li><b>^b</b> does not match <b>abc</b> at all, because the <b>b</b> cannot be matched right after the start of the string, matched by <b>^</b>. </li>\n",
        "</ul>\n",
        "<li><b>$\\text{\\$}$:   means the end of the string</b></li>\n",
        "<ul>\n",
        "\n",
        "<li>Similarly, <b>$\\$$</b> matches right after the last character in the string. <b>c$\\$$</b> matches c in abc, while <b>$\\$$</b> does not match at all.</li>\n",
        "</ul>\n",
        "</ul>\n",
        "\n",
        "To work with regular expressions, you should import the <b>re</b> module. The <b>re</b> module provides a set of powerful regular expression facilities, which allows you to quickly check whether a given string matches a given pattern (using the match function), or contains such a pattern (using the search function)."
      ]
    },
    {
      "cell_type": "markdown",
      "source": [
        "#### **Code Examples:**"
      ],
      "metadata": {
        "id": "7_A7l96Lcbne"
      }
    },
    {
      "cell_type": "markdown",
      "source": [
        "\n",
        "<b>1. </b>   The following example shows how to use <b>^</b> expression to find if a string <b>begins</b> with the word \"banana\":"
      ],
      "metadata": {
        "id": "2Pi53F6f7A5e"
      }
    },
    {
      "cell_type": "code",
      "metadata": {
        "colab": {
          "base_uri": "https://localhost:8080/"
        },
        "id": "CoZ1BlC7ankc",
        "outputId": "6214471b-dac5-41c0-d80a-3990eb57ed4a"
      },
      "source": [
        "# import the 're' module\n",
        "import re\n",
        "\n",
        "# Define the regular expression by using '^'\n",
        "reg = re.compile('^banana')\n",
        "\n",
        "# Define strings for the search function:\n",
        "p1 = reg.search(\"are bananas cheap?\")\n",
        "p2 = reg.search(\"bananas are cheap.\")\n",
        "\n",
        "# Show results:\n",
        "if p1:\n",
        "    # Print the result:\n",
        "    print(\"The string 'p1' begins with '\" + p1.group()+\"'\")\n",
        "\n",
        "    # Print the first and last character of the match\n",
        "    print(\"index of first and last matching character in the sentence 'p1': \\t start: {} \\t end: {}\".format(p1.start(), p1.end()))\n",
        "    \n",
        "    # Print the start and end position as tuple:\n",
        "    print('index of first and last matching charcter as tuple: \\t{}'.format(p1.span()))\n",
        "\n",
        "else:\n",
        "    print(\"The string 'p1' does not begin with 'banana'.\")\n",
        "\n",
        "if p2:\n",
        "    # Print the string which matches the regular expression\n",
        "    print(\"The string 'p2' begins with '\" + p2.group()+\"'.\")\n",
        "\n",
        "    # Print the first and last character of the match\n",
        "    print(\"index of first and last matching character in the sentence 'p2': \\t start: {} \\t end: {}\".format(p2.start(), p2.end()))\n",
        "    \n",
        "    # Print the start and end position as tuple:\n",
        "    print('index of first and last matching charcter as tuple: \\t{}'.format(p2.span()))\n",
        "    \n",
        "else:\n",
        "    print(\"The string 'p2' does not begin with 'banana'\")\n"
      ],
      "execution_count": null,
      "outputs": [
        {
          "output_type": "stream",
          "name": "stdout",
          "text": [
            "The string 'p1' does not begin with 'banana'.\n",
            "The string 'p2' begins with 'banana'.\n",
            "index of first and last matching character in the sentence 'p2': \t start: 0 \t end: 6\n",
            "index of first and last matching charcter as tuple: \t(0, 6)\n"
          ]
        }
      ]
    },
    {
      "cell_type": "markdown",
      "source": [
        "<br></br>\n",
        "<b>2.</b>  The following example shows how to use <b>$</b> expression to find if a string <b>ends</b> with the word \"banana\":"
      ],
      "metadata": {
        "id": "hSXYxCv-_Gk5"
      }
    },
    {
      "cell_type": "code",
      "metadata": {
        "colab": {
          "base_uri": "https://localhost:8080/"
        },
        "id": "3O0t2i5dankg",
        "outputId": "bf48e5ad-4917-48be-b2dc-ecd986be0710"
      },
      "source": [
        "# import the 're' module\n",
        "import re\n",
        "\n",
        "# Define the regular expression by using '$'\n",
        "reg = re.compile('banana$')\n",
        "\n",
        "# Define strings for the search function:\n",
        "p1 = reg.search(\"I have a banana\")\n",
        "p2 = reg.search(\"have a banana and an apple\")\n",
        "\n",
        "# Show results:\n",
        "if p1:\n",
        "    # Print the result:\n",
        "    print(\"The string 'p1' ends with '\" + p1.group()+\"'\")\n",
        "\n",
        "    # Print the first and last character of the match\n",
        "    print(\"index of first and last matching character in the sentence 'p1': \\t start: {} \\t end: {}\".format(p1.start(), p1.end()))\n",
        "    \n",
        "    # Print the start and end position as tuple:\n",
        "    print('index of first and last matching charcter as tuple: \\t{}'.format(p1.span()))\n",
        "\n",
        "else:\n",
        "    print(\"The string 'p1' does not end with 'banana'.\")\n",
        "\n",
        "if p2:\n",
        "    # Print the string which matches the regular expression\n",
        "    print(\"The string 'p2' ends with '\" + p2.group()+\"'.\")\n",
        "\n",
        "    # Print the first and last character of the match\n",
        "    print(\"index of first and last matching character in the sentence 'p2': \\t start: {} \\t end: {}\".format(p2.start(), p2.end()))\n",
        "    \n",
        "    # Print the start and end position as tuple:\n",
        "    print('index of first and last matching charcter as tuple: \\t{}'.format(p2.span()))\n",
        "    \n",
        "else:\n",
        "    print(\"The string 'p2' does not end with 'banana'\")\n",
        "\n"
      ],
      "execution_count": null,
      "outputs": [
        {
          "output_type": "stream",
          "name": "stdout",
          "text": [
            "The string 'p1' ends with 'banana'\n",
            "index of first and last matching character in the sentence 'p1': \t start: 9 \t end: 15\n",
            "index of first and last matching charcter as tuple: \t(9, 15)\n",
            "The string 'p2' does not end with 'banana'\n"
          ]
        }
      ]
    },
    {
      "cell_type": "markdown",
      "source": [
        "<br></br>\n",
        "<b>3.</b>  The following example shows how to use <b>$</b> and <b>^</b> expressions to find an exact match for the string “banana”:"
      ],
      "metadata": {
        "id": "po21AOfLA-Ug"
      }
    },
    {
      "cell_type": "code",
      "metadata": {
        "colab": {
          "base_uri": "https://localhost:8080/"
        },
        "id": "4EDrbIwnoTsZ",
        "outputId": "23f40ef6-4b05-414d-a0c6-c93be580ea68"
      },
      "source": [
        "# import the 're' module\n",
        "import re\n",
        "\n",
        "# Define the regular expression by using '^' and '$'\n",
        "reg = re.compile('^banana$')\n",
        " \n",
        "# Define strings for the search function:\n",
        "p1=reg.search('bananas are cheap')\n",
        "p2=reg.search('I have a banana')\n",
        "p3=reg.search('I have a banana and an apple')\n",
        "p4=reg.search('banana')\n",
        "\n",
        "print(p1)\n",
        "\n",
        "print(p2)\n",
        "\n",
        "print(p3)\n",
        "\n",
        "print(p4.group())"
      ],
      "execution_count": null,
      "outputs": [
        {
          "output_type": "stream",
          "name": "stdout",
          "text": [
            "None\n",
            "None\n",
            "None\n",
            "banana\n"
          ]
        }
      ]
    },
    {
      "cell_type": "markdown",
      "metadata": {
        "id": "7GY_8SY7MxQf"
      },
      "source": [
        "#### **Alternative method: Use module functions for matches in the string variable**\n",
        "\n",
        "Regular expressions are compiled into pattern objects, which have methods for various operations such as searching for pattern matches or performing string substitutions.<br>\n",
        "The ``re`` module defines several functions, constants, and an exception. Some of the functions are simplified versions of the full-featured methods for compiled regular expressions. Most non-trivial applications always use the compiled form."
      ]
    },
    {
      "cell_type": "markdown",
      "source": [
        "#### **Code Examples:**"
      ],
      "metadata": {
        "id": "L3POvJKaI7uZ"
      }
    },
    {
      "cell_type": "markdown",
      "source": [
        "\n",
        "<b>1.</b> The following example shows an alternative coding style which combines these two command lines:\n",
        "\n",
        "\n",
        "*   reg = re.compile('^banana')\n",
        "*   p=reg.search('bananas are cheap')\n",
        "\n"
      ],
      "metadata": {
        "id": "gLZwaH6HLDsI"
      }
    },
    {
      "cell_type": "code",
      "metadata": {
        "id": "r-zUdydWMpr2",
        "colab": {
          "base_uri": "https://localhost:8080/"
        },
        "outputId": "fc178239-d349-4dd6-95c7-68dc246e703f"
      },
      "source": [
        "# import the 're' module\n",
        "import re\n",
        "\n",
        "# Alternative method: Use the module function search() for matches in the string variable\n",
        "# re.search('pattern_to_be_searched', 'string')\n",
        "\n",
        "p = re.search('^banana', 'bananas are cheap')\n",
        "\n",
        "# Show results:\n",
        "if p:\n",
        "    # Print the string which matches the pattern\n",
        "    print('matching string:\\t' + p.group())\n",
        "    \n",
        "    # Print the first and last character of the match\n",
        "    print('index of first and last matching character in the sentence: \\t start: {} \\t end: {}'.format(p.start(), p.end()))\n",
        "    \n",
        "    # Print the start and end position as tuple:\n",
        "    print('index of first and last matching charcter as tuple: \\t{}'.format(p.span()))\n",
        "else:\n",
        "    print(\"The string does not begin with 'banana'\")"
      ],
      "execution_count": null,
      "outputs": [
        {
          "output_type": "stream",
          "name": "stdout",
          "text": [
            "matching string:\tbanana\n",
            "index of first and last matching character in the sentence: \t start: 0 \t end: 6\n",
            "index of first and last matching charcter as tuple: \t(0, 6)\n"
          ]
        }
      ]
    },
    {
      "cell_type": "markdown",
      "source": [
        "<br></br>\n",
        "<b>2.</b> In all the examples above, we have used the search() function. We can alternatively use the match() function. The following example compares the match() and the search() functions:\n"
      ],
      "metadata": {
        "id": "3UjGc1ezLtqn"
      }
    },
    {
      "cell_type": "code",
      "metadata": {
        "colab": {
          "base_uri": "https://localhost:8080/"
        },
        "id": "F6xZn3SdgaA-",
        "outputId": "eca8cdb1-8455-4a79-e061-a979b4274fb0"
      },
      "source": [
        "# The function match() would return the same result\n",
        "#\n",
        "# NOTE:\n",
        "# The match() function only checks if the regular expression matches at the beginning of the string\n",
        "# while the search() function scans the whole string for a match. \n",
        "# It is important to keep this distinction in mind. \n",
        "\n",
        "# NOTE:\n",
        "# The match() function only returns a successful match which starts at 0. \n",
        "# If the match does not start at 0, the match() function returns \"None\".\n",
        "\n",
        "# For more detailed comparison of the search() and  match() functions: https://docs.python.org/3/library/re.html#search-vs-match\n",
        "\n",
        "p_match_pattern = re.match('^banana', 'bananas are cheap')\n",
        "p_search_pattern = re.search('^banana', 'bananas are cheap')\n",
        "\n",
        "if p_match_pattern:\n",
        "  print('match function matching string: ' + p_match_pattern.group())\n",
        "\n",
        "if p_search_pattern:\n",
        "  print('search function matching string: ' + p_search_pattern.group())"
      ],
      "execution_count": null,
      "outputs": [
        {
          "output_type": "stream",
          "name": "stdout",
          "text": [
            "match function matching string: banana\n",
            "search function matching string: banana\n"
          ]
        }
      ]
    },
    {
      "cell_type": "markdown",
      "source": [
        "<a id='001'></a>"
      ],
      "metadata": {
        "id": "4bYW2A-UpbH0"
      }
    },
    {
      "cell_type": "markdown",
      "metadata": {
        "id": "Rf4tEmyuankj"
      },
      "source": [
        "## **3- Quantifiers indicate the number of repetitions of the previous character**\n",
        "\n",
        "\n",
        "<ul>\n",
        "\n",
        "<li><b>Match multiple characters (zero or more) </b></li>\n",
        "<ul>\n",
        "<li>A regular expression followed by an asterisk <b>(*)</b> matches 0 or more characters in front of the asterisk. If any matching string is found, the first matching string in a line is used. </li>\n",
        "<li>For example, the below regular expression matches \"cl\",\"col\",\"cool\",\"cool\",…,\"coooooooooool\":</li>\n",
        "<b>co*l</b>\n",
        "</ul>\n",
        "\n",
        "<li><b>Find one or more characters</b></li>\n",
        "<ul>\n",
        "<li>A regular expression followed by a plus sign <b>(+)</b> matches 1 or more characters in fron of the plus. If there is any choice, the first matching string in a line is used.</li>\n",
        "<li>For example, the below regular expression matches \"col\",\"cool\",…,\"cooooooooooool\":</li>\n",
        "<b>co+l</b>\n",
        "</ul>\n",
        "\n",
        "<li><b>Find zero or one character</b></li>\n",
        "<ul>\n",
        "<li>A regular expression followed by a question mark (?) matches 1 or 0 character in front of the question mark.</li>\n",
        "<li>For example, the below regular expression matches \"apple\" and \"apples\":</li>\n",
        "<b>apples?</b>\n",
        "</ul>\n",
        "\n",
        "<li><b>Define range quantifier</b></li>\n",
        "<ul>\n",
        "<li>The opening and closing curly brackets <b>{ }</b> are used as range quantifiers. The number of repetitions can be written between curly brackets.</li>\n",
        "<li>For example, the below regular expression matches matches \"aa\" or \"aaa\":</li>\n",
        "<b>a{2,3}</b>\n",
        "</ul>\n",
        "\n",
        "</ul>\n",
        "\n"
      ]
    },
    {
      "cell_type": "markdown",
      "source": [
        "#### **Code Examples:**"
      ],
      "metadata": {
        "id": "Nt6xE5oWNTwB"
      }
    },
    {
      "cell_type": "markdown",
      "source": [
        "\n",
        "<b>1.</b> The following example shows how to use <b>?</b> expression to find an exact match for the strings “banana” and \"bnana\":\n"
      ],
      "metadata": {
        "id": "S3hKy8ko_FSn"
      }
    },
    {
      "cell_type": "code",
      "metadata": {
        "colab": {
          "base_uri": "https://localhost:8080/"
        },
        "id": "fa6CZQn8hWE_",
        "outputId": "1fccd669-ddf2-4d0e-fb9e-96012f705535"
      },
      "source": [
        "# import the 're' module\n",
        "import re\n",
        "\n",
        "# Define the regular expression by using '?' which means 0 or 1 repetitions\n",
        "reg = re.compile('ba?nana')\n",
        "\n",
        "# Define strings for the search function and print the matching patterns for each string:\n",
        "print(reg.search('banana').group())\n",
        "print(reg.search('bnana').group())\n",
        "print(reg.search('baaaaanana'))"
      ],
      "execution_count": null,
      "outputs": [
        {
          "output_type": "stream",
          "text": [
            "banana\n",
            "bnana\n",
            "None\n"
          ],
          "name": "stdout"
        }
      ]
    },
    {
      "cell_type": "markdown",
      "source": [
        "<br></br>\n",
        "<b>2.</b> The following example shows how to use <b>+</b> expression to find a match for the string “banana” and other variations where the first 'a' letter repeats more than once:"
      ],
      "metadata": {
        "id": "erqZkm_MCKFO"
      }
    },
    {
      "cell_type": "code",
      "metadata": {
        "colab": {
          "base_uri": "https://localhost:8080/"
        },
        "id": "U3W7HfpZhWBk",
        "outputId": "72736117-5d82-4bec-bdae-bd23f40fc209"
      },
      "source": [
        "# import the 're' module\n",
        "import re\n",
        "\n",
        "# Define the regular expression by using '+' which means 1 or more repetitions\n",
        "reg = re.compile('ba+nana')\n",
        "\n",
        "# Define strings for the search function and print the matching patterns for each string:\n",
        "print(reg.search('banana').group())\n",
        "print(reg.search('bnana'))\n",
        "print(reg.search('baaaaanana').group())"
      ],
      "execution_count": 1,
      "outputs": [
        {
          "output_type": "stream",
          "name": "stdout",
          "text": [
            "banana\n",
            "None\n",
            "baaaaanana\n"
          ]
        }
      ]
    },
    {
      "cell_type": "markdown",
      "source": [
        "<br></br>\n",
        "<b>3.</b> The following example shows how to use <b>*</b> expression to find a match for the string “banana” and other variations where the first 'a' letter does not exist or repeats at least once:"
      ],
      "metadata": {
        "id": "pSPwkIPpEB6b"
      }
    },
    {
      "cell_type": "code",
      "metadata": {
        "colab": {
          "base_uri": "https://localhost:8080/"
        },
        "id": "eKenVK1vhV_S",
        "outputId": "a01bcd52-6c9d-4321-a2a7-e0f0680cf4c1"
      },
      "source": [
        "# import the 're' module\n",
        "import re\n",
        "\n",
        "# Define the regular expression by using '*' which means 0 or more repetitions\n",
        "reg = re.compile('ba*nana')\n",
        "\n",
        "# Define strings for the search function and print the matching patterns for each string:\n",
        "print(reg.search('banana').group())\n",
        "print(reg.search('bnana').group())\n",
        "print(reg.search('baaaaanana').group())"
      ],
      "execution_count": null,
      "outputs": [
        {
          "output_type": "stream",
          "text": [
            "banana\n",
            "bnana\n",
            "baaaaanana\n"
          ],
          "name": "stdout"
        }
      ]
    },
    {
      "cell_type": "markdown",
      "source": [
        "<br></br>\n",
        "<b>4.</b> The following example shows how to use <b>{ }</b> expression to find a match for the string “banana” where the first 'a' letter repeats at least 2 times and at maximum 7 times:"
      ],
      "metadata": {
        "id": "G6FiVRnJF2kh"
      }
    },
    {
      "cell_type": "code",
      "metadata": {
        "colab": {
          "base_uri": "https://localhost:8080/"
        },
        "id": "iZIT8o30hV9A",
        "outputId": "9ffc344b-b61d-45c3-86a0-031e4b01ec15"
      },
      "source": [
        "# import the 're' module\n",
        "import re\n",
        "\n",
        "# Define the regular expression by using '{}'\n",
        "# a{2,7} means that the letter 'a' must repeat at least 2 times and at maximum 7 times for the string to match the pattern\n",
        "reg = re.compile('a{2,7}')\n",
        "\n",
        "# Define strings for the search function and print the matching patterns for each string:\n",
        "print(reg.search('banana'))\n",
        "print(reg.search('bnana'))\n",
        "print(reg.search('baaaaanana').group())"
      ],
      "execution_count": 2,
      "outputs": [
        {
          "output_type": "stream",
          "name": "stdout",
          "text": [
            "None\n",
            "None\n",
            "aaaaa\n"
          ]
        }
      ]
    },
    {
      "cell_type": "markdown",
      "metadata": {
        "id": "HoCP2GKqankn"
      },
      "source": [
        "## **4- Disjunctions represent a logical OR**\n",
        "\n",
        "In order to match one string <b>OR</b> another, the disjunction operator is used.\n",
        "\n",
        "Disjunctions are written in squared brackets <b>'[ ]'</b> or separated by the pipe sign <b>'|'</b>.\n",
        "\n",
        "For example, <b>[aA]pple</b> matches both ‘apple’ and ‘Apple’."
      ]
    },
    {
      "cell_type": "markdown",
      "source": [
        "#### **Code Examples:**"
      ],
      "metadata": {
        "id": "QOoSS0I3LwyT"
      }
    },
    {
      "cell_type": "markdown",
      "source": [
        "\n",
        "<b>1.</b> The following example shows how to use <b>[ ]</b> expression to find an exact match for the strings “banana”, \"bonana\" and \"bunana\":"
      ],
      "metadata": {
        "id": "7IRxwPQALzeb"
      }
    },
    {
      "cell_type": "code",
      "metadata": {
        "colab": {
          "base_uri": "https://localhost:8080/"
        },
        "id": "Lw1j1CYyiDXD",
        "outputId": "9c16489b-50c4-48de-e540-3b7293c51274"
      },
      "source": [
        "# import the 're' module\n",
        "import re\n",
        "\n",
        "# Define the regular expression by using '[]'\n",
        "# The regular expression 'b[aou]nana' matches strings which have either 'a', 'o' or 'u' as 2nd character.\n",
        "reg = re.compile('b[aou]nana')\n",
        "\n",
        "# Define strings for the search function and print the matching patterns for each string:\n",
        "print(reg.search('banana').group())\n",
        "print(reg.search('bonana').group())\n",
        "print(reg.search('bunana').group())\n",
        "print(reg.search('binana'))"
      ],
      "execution_count": 3,
      "outputs": [
        {
          "output_type": "stream",
          "name": "stdout",
          "text": [
            "banana\n",
            "bonana\n",
            "bunana\n",
            "None\n"
          ]
        }
      ]
    },
    {
      "cell_type": "markdown",
      "source": [
        "<br></br>\n",
        "<b>2.</b> The following example shows how to use <b>\"|\"</b> expression to find an exact match for the strings “banana”, \"bonana\" and \"bunana\":"
      ],
      "metadata": {
        "id": "YgwgRlXsxNN3"
      }
    },
    {
      "cell_type": "code",
      "metadata": {
        "colab": {
          "base_uri": "https://localhost:8080/"
        },
        "id": "MhEND9CliDTj",
        "outputId": "dbd4415a-2719-46aa-8257-c2db23fbf849"
      },
      "source": [
        "# import the 're' module\n",
        "import re\n",
        "\n",
        "# Define the regular expression by using '|'\n",
        "# The regular expression 'b(a|o|u)nana' matches strings which have either 'a', 'o' or 'u' as 2nd character.\n",
        "reg = re.compile('b(a|o|u)nana')\n",
        "\n",
        "# Define strings for the search function and print the matching patterns for each string:\n",
        "print(reg.search('banana').group())\n",
        "print(reg.search('bonana').group())\n",
        "print(reg.search('bunana').group())\n",
        "print(reg.search('binana'))"
      ],
      "execution_count": 4,
      "outputs": [
        {
          "output_type": "stream",
          "name": "stdout",
          "text": [
            "banana\n",
            "bonana\n",
            "bunana\n",
            "None\n"
          ]
        }
      ]
    },
    {
      "cell_type": "markdown",
      "source": [
        "<br></br>\n",
        "<b>3.</b> The following example shows how to use <b>\"|\"</b> expression to find an exact match for the strings “banana”, \"bonana\" and \"bunana\":"
      ],
      "metadata": {
        "id": "3QHLTsnhyINd"
      }
    },
    {
      "cell_type": "code",
      "metadata": {
        "colab": {
          "base_uri": "https://localhost:8080/"
        },
        "id": "qpZQFcC5iDQX",
        "outputId": "5183adbe-ad9d-4b95-b0cf-4a2affb86a04"
      },
      "source": [
        "# import the 're' module\n",
        "import re\n",
        "\n",
        "# Define the regular expression by using '|'\n",
        "# The reglar expression 'banana|bonana|bunana' matches strings which contain either 'banana', 'bonana' or 'bunana'.\n",
        "reg = re.compile('banana|bonana|bunana')\n",
        "\n",
        "# Define strings for the search function and print the matching patterns for each string:\n",
        "print(reg.search('banana').group())\n",
        "print(reg.search('bonana').group())\n",
        "print(reg.search('bunana').group())\n",
        "print(reg.search('binana'))"
      ],
      "execution_count": 5,
      "outputs": [
        {
          "output_type": "stream",
          "name": "stdout",
          "text": [
            "banana\n",
            "bonana\n",
            "bunana\n",
            "None\n"
          ]
        }
      ]
    },
    {
      "cell_type": "markdown",
      "metadata": {
        "id": "v8__BV-uankq"
      },
      "source": [
        "## **5- Character classes represent certain groups of characters.**\n",
        "\n",
        "The pattern [0–9] matches any single-digit number but on the contrary, the pattern ‘[^ 0-9]’ matches any single digit character that is not a digit.\n",
        "\n",
        "\n",
        "\n",
        "<ul>\n",
        "\n",
        "<li><b>\"\\d\" or \"[0-9]\" matches digits</b></li>\n",
        "<ul>\n",
        "<li>The pattern [0–9] matches any single-digit number.</li>\n",
        "<li>However, the pattern ‘[^ 0-9]’ matches any single digit character that is not a digit.</li>\n",
        "<li>IMPORTANT: In the Section 2, it is shown that the \"^\" sign works as an anchor when it is used outside a character set.\n",
        "But inside a character set, it works as a complement operator, i.e. matches any character other than the ones mentioned inside the character set.</li>\n",
        "</ul>\n",
        "\n",
        "<li><b>\"\\w\" or \"[0-9A-Za-z_]\" matches alphanumeric characters and underscores</b></li>\n",
        "<li><b>\"\\s\" matches white space characters</b></li>\n",
        "<li><b>\".\" matches any character</b></li>\n",
        "\n",
        "</ul>\n"
      ]
    },
    {
      "cell_type": "markdown",
      "source": [
        "#### **Code Examples:**"
      ],
      "metadata": {
        "id": "qH1geJz35ZBH"
      }
    },
    {
      "cell_type": "markdown",
      "source": [
        "\n",
        "<b>1.</b> The following example shows how to use <b>[ ]</b> expression to find an alphanumerical pattern:"
      ],
      "metadata": {
        "id": "wQEr0S8B5bT1"
      }
    },
    {
      "cell_type": "code",
      "source": [
        "# import the 're' module\n",
        "import re\n",
        "\n",
        "# Define the regular expression by using '[]'\n",
        "# The reglar expression '[abc]+[123]' matches strings where the pattern contains the letters a, b or c at the beginning and the numbers 1,2 or 3 at the end.\n",
        "reg = re.compile('[abc]+[123]')\n",
        "\n",
        "# Define strings for the search function and print the matching patterns for each string:\n",
        "print(reg.search('a1'))\n",
        "print(reg.search('45'))\n",
        "print(reg.search('ab23'))\n",
        "print(reg.search('44ee'))\n"
      ],
      "metadata": {
        "id": "xRULs-2i5nB4",
        "outputId": "9b34cc84-518d-41be-9e98-9cbf7b00664d",
        "colab": {
          "base_uri": "https://localhost:8080/"
        }
      },
      "execution_count": 11,
      "outputs": [
        {
          "output_type": "stream",
          "name": "stdout",
          "text": [
            "<re.Match object; span=(0, 2), match='a1'>\n",
            "None\n",
            "<re.Match object; span=(0, 3), match='ab2'>\n",
            "None\n"
          ]
        }
      ]
    },
    {
      "cell_type": "markdown",
      "source": [
        "<br></br>\n",
        "<b>2.</b> The following example shows how to use <b>\"^\"</b>, <b>\"\\w\"</b> and <b>\"$\"</b>  expressions to find a string which contains only two words where the first word is \"Hello\":"
      ],
      "metadata": {
        "id": "I0W1wiUf8eE7"
      }
    },
    {
      "cell_type": "code",
      "metadata": {
        "colab": {
          "base_uri": "https://localhost:8080/"
        },
        "id": "lvuE_qzeankq",
        "outputId": "dd5e0c46-c5f7-4eb6-aa0c-db319577b1b3"
      },
      "source": [
        "# import the 're' module\n",
        "import re\n",
        "\n",
        "# This regular expression matches strings which start with 'Hello' and end with 1 following word\n",
        "reg = re.compile('^Hello \\w+$')\n",
        "\n",
        "# Define strings for the search function and print the matching patterns for each string:\n",
        "print(reg.search('Hello world').group())\n",
        "print(reg.search('Hello everyone').group())\n",
        "print(reg.search('Hello new world'))"
      ],
      "execution_count": 14,
      "outputs": [
        {
          "output_type": "stream",
          "name": "stdout",
          "text": [
            "Hello world\n",
            "Hello everyone\n",
            "None\n"
          ]
        }
      ]
    },
    {
      "cell_type": "markdown",
      "source": [
        "<br></br>\n",
        "<b>3.</b> The following example shows how to use <b>\"^\"</b> , <b>  \".\"</b> ,  <b>  \"+\"</b> and <b>\"$\"</b>  expressions to find any string where the first word is \"Hello\":"
      ],
      "metadata": {
        "id": "JG0QrMYt-i9C"
      }
    },
    {
      "cell_type": "code",
      "metadata": {
        "colab": {
          "base_uri": "https://localhost:8080/"
        },
        "id": "6Ea1hOpuCTnk",
        "outputId": "e37b039a-5d0d-4d1e-8775-e23ce79913f1"
      },
      "source": [
        "# import the 're' module\n",
        "import re\n",
        "\n",
        "# The expression would match strings which start with 'Hello'\n",
        "reg = re.compile('^Hello.+$')\n",
        "\n",
        "\n",
        "# Define strings for the search function and print the matching patterns for each string:\n",
        "print(reg.search('Hello world'))\n",
        "print(reg.search('Hello everyone'))\n",
        "print(reg.search('Hello new world'))\n",
        "print(reg.search('Say Hello new world'))"
      ],
      "execution_count": 19,
      "outputs": [
        {
          "output_type": "stream",
          "name": "stdout",
          "text": [
            "<re.Match object; span=(0, 11), match='Hello world'>\n",
            "<re.Match object; span=(0, 14), match='Hello everyone'>\n",
            "<re.Match object; span=(0, 15), match='Hello new world'>\n",
            "None\n"
          ]
        }
      ]
    },
    {
      "cell_type": "markdown",
      "source": [
        "<br></br>\n",
        "<b>4.</b> The following code finds all whitespaces in the given string and prints them:\n",
        "\n"
      ],
      "metadata": {
        "id": "tAk2hTZTB53_"
      }
    },
    {
      "cell_type": "code",
      "source": [
        "# import the 're' module\n",
        "import re\n",
        "\n",
        "# Define strings for the search function and print the white spaces for each string:\n",
        "result = re.findall(r'[\\s]', 'The Indian Express')\n",
        "\n",
        "print(result)"
      ],
      "metadata": {
        "id": "WyshVOLvCEcf",
        "outputId": "f0b00138-344e-4d8a-dfe5-7198f7448eec",
        "colab": {
          "base_uri": "https://localhost:8080/"
        }
      },
      "execution_count": 22,
      "outputs": [
        {
          "output_type": "stream",
          "name": "stdout",
          "text": [
            "[' ', ' ']\n"
          ]
        }
      ]
    },
    {
      "cell_type": "markdown",
      "metadata": {
        "id": "j5RqQDag2ksH"
      },
      "source": [
        "## **6- Find regular expressions in files**\n",
        "\n",
        "Text editors such as Vim and Emacs can be used to find and optionally replace text by using regular expressions. At the command line or in shell scripts, these operations can also be performed, for example, with <b>sed</b> or <b>grep</b>.\n",
        "\n",
        "\n",
        "\n",
        "<ul>\n",
        "\n",
        "<li><b>sed:</b></li>\n",
        "<ul>\n",
        "<li>sed is a stream editor, for manipulating text from files or input streams.</li>\n",
        "<li>Although the simple searching and sorting can be performed using sed command, using regex with sed enables advanced level matching in text files.</li>\n",
        "</ul>\n",
        "\n",
        "\n",
        "<li><b>grep:</b></li>\n",
        "<ul>\n",
        "<li>grep is used to read a stream, file or list of files, and print the lines containing a match for the pattern.\n",
        "</li>\n",
        "<li>It allows us to search plain text files for specific lines using regular expressions.</li>\n",
        "</ul>\n",
        "\n",
        "\n",
        "</ul>\n"
      ]
    },
    {
      "cell_type": "markdown",
      "source": [
        "#### **Code Examples:**"
      ],
      "metadata": {
        "id": "csbKWOc8NcnL"
      }
    },
    {
      "cell_type": "markdown",
      "source": [
        "\n",
        "<b>1.</b> The following code defines a txt file which contains two lines of string. \n",
        "\n",
        "Then it creates a txt file \"regText.txt\" and writes the defined string in this txt file.\n"
      ],
      "metadata": {
        "id": "brBcM4P_Nexs"
      }
    },
    {
      "cell_type": "code",
      "metadata": {
        "id": "a5MPCO_T0zRJ"
      },
      "source": [
        "# Create sample text file\n",
        "\n",
        "text =\"This is a sample text which contains several characters.\\n\\\n",
        "       For example, I bought cheap bananas today.\"\n",
        "\n",
        "# Write content in output file\n",
        "with open(\"/content/regText.txt\", 'w') as file:\n",
        "  file.write(text)"
      ],
      "execution_count": 26,
      "outputs": []
    },
    {
      "cell_type": "markdown",
      "source": [
        "<br></br>\n",
        "<b>2.</b> The following code runs a search within the \"regText.txt\" file, then finds and returns the line which contains the word \"text\":\n"
      ],
      "metadata": {
        "id": "g_pK1UBHOcnT"
      }
    },
    {
      "cell_type": "code",
      "metadata": {
        "colab": {
          "base_uri": "https://localhost:8080/"
        },
        "id": "Ugkw9ErK3kcX",
        "outputId": "c8397596-7809-4c3b-97e6-afabe3681ec8"
      },
      "source": [
        "# Find the epression 'text' in sample file 'regText.txt'\n",
        "\n",
        "!grep text '/content/regText.txt'"
      ],
      "execution_count": 24,
      "outputs": [
        {
          "output_type": "stream",
          "name": "stdout",
          "text": [
            "This is a sample text which contains several characters.\n"
          ]
        }
      ]
    },
    {
      "cell_type": "markdown",
      "source": [
        "<br></br>\n",
        "<b>3.</b> The following code runs a search within the \"regText.txt\" file, then finds the word \"banana\" and replaces it with the word \"test\":"
      ],
      "metadata": {
        "id": "gfItr--kPNsj"
      }
    },
    {
      "cell_type": "code",
      "metadata": {
        "colab": {
          "base_uri": "https://localhost:8080/"
        },
        "id": "vFLlcKWC8Q5u",
        "outputId": "c9d5183b-b6e5-4598-d2ae-f6f262801e92"
      },
      "source": [
        "# Replace the word banana with test in regText.txt\n",
        "\n",
        "!sed -e 's/banana/test/' regText.txt"
      ],
      "execution_count": 25,
      "outputs": [
        {
          "output_type": "stream",
          "name": "stdout",
          "text": [
            "This is a sample text which contains several characters.\n",
            "For example, I bought cheap tests today."
          ]
        }
      ]
    },
    {
      "cell_type": "markdown",
      "source": [
        "## 7- Appendix\n",
        "### Further Python documentation:\n",
        "- Regular expression syntax in the library ``re``: https://docs.python.org/3/library/re.html)\n",
        "- Regular Expression HOWTO: https://docs.python.org/3/howto/regex.html#regex-howto\n",
        "\n",
        "### Sources:\n",
        "- https://www.regular-expressions.info/anchors.html\n",
        "- https://linuxhint.com/use-sed-command-with-regex/\n",
        "- https://www.adamponting.com/regular-expressions-grep-and-sed/\n",
        "- https://www.delftstack.com/howto/python/grep-python/\n"
      ],
      "metadata": {
        "id": "Al4v1MD0ZhJq"
      }
    },
    {
      "cell_type": "markdown",
      "metadata": {
        "id": "7ZPgsZNYanks"
      },
      "source": [
        "Copyright © 2021 IU International University of Applied Sciences"
      ]
    }
  ]
}