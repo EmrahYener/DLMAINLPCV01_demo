{
  "nbformat": 4,
  "nbformat_minor": 0,
  "metadata": {
    "colab": {
      "name": "cv_convolution_filters_OpenCV.ipynb",
      "provenance": [],
      "collapsed_sections": [],
      "toc_visible": true
    },
    "kernelspec": {
      "name": "python3",
      "display_name": "Python 3"
    }
  },
  "cells": [
    {
      "cell_type": "markdown",
      "metadata": {
        "id": "SkmFSELQvMIz"
      },
      "source": [
        "# Applying filters to an image with OpenCV\n",
        "\n",
        "A filter can be defined as a function that takes an image as input and returns a modi\u0002fied version of the image as output (Szeliski, 2010). It can apply effects to the image,\n",
        "extract useful information such as edges and corners, and implement techniques such\n",
        "as smoothing and inpainting.\n",
        "\n",
        "This notebook shows different filters which can easily be created and applied to an image.<br>\n",
        "Following filers will be shown:\n",
        "* 2D convolution\n",
        "* Image Blurring (smoothing)\n",
        "  - averaging\n",
        "  - gaussian filtering\n",
        "  - median filtering\n",
        "\n",
        "The code below is based on the OpenCV-python tutorial [``Smoothing Images``](https://opencv-python-tutroals.readthedocs.io/en/latest/py_tutorials/py_imgproc/py_filtering/py_filtering.html)"
      ]
    },
    {
      "cell_type": "markdown",
      "metadata": {
        "id": "1NcluKOyHwNf"
      },
      "source": [
        "## Load Image"
      ]
    },
    {
      "cell_type": "code",
      "metadata": {
        "id": "W4464G5TvEua",
        "colab": {
          "base_uri": "https://localhost:8080/"
        },
        "outputId": "6d60a2be-7b9d-4c5e-b92f-e2e6f70d57c8"
      },
      "source": [
        "# Load pictures from github repository to colab space\n",
        "\n",
        "!curl --remote-name -H 'Accept: application/vnd.github.v3.raw' --location https://raw.githubusercontent.com/iubh/DLMAIEAIS01_DEV/master/data/cv_pictures/baboon.jpg"
      ],
      "execution_count": null,
      "outputs": [
        {
          "output_type": "stream",
          "text": [
            "  % Total    % Received % Xferd  Average Speed   Time    Time     Time  Current\n",
            "                                 Dload  Upload   Total   Spent    Left  Speed\n",
            "100  175k  100  175k    0     0   379k      0 --:--:-- --:--:-- --:--:--  378k\n"
          ],
          "name": "stdout"
        }
      ]
    },
    {
      "cell_type": "markdown",
      "metadata": {
        "id": "Zq47n4f6T7hI"
      },
      "source": [
        "## Adding noise to image\n",
        "\n",
        "With the function ``add_noise()`` it is possible to add either a ``salt-and-pepper`` effect or ``gaussian-noise`` to an image."
      ]
    },
    {
      "cell_type": "code",
      "metadata": {
        "id": "AHS3P5DMT67F"
      },
      "source": [
        "# Function add_noise(image, mode, par_01, par_02)\n",
        "#\n",
        "# @ param image: original image to add noise to (grayscale)\n",
        "# @ param mode:  noise adding mode -> 'gauss' / 'sp' (salt-and-pepper)\n",
        "# @ param par_01: guass: 'mean' (default: 0)   | 'sp': ratio of white and black pixels (default: 0.2)\n",
        "# @ param par_02: gauss: 'sigma (default: 100) | 'sp': amount of pixels to count in for randomly choosing (default: 0.5)\n",
        "\n",
        "def add_noise(image, mode, par_01=None, par_02=None):\n",
        "  if mode == \"gauss\":\n",
        "    # Temporary array for random distribution\n",
        "    gauss = np.zeros(image.shape, np.uint8) \n",
        "    \n",
        "    mean = 0\n",
        "    if par_01 != None:\n",
        "      mean = par_01\n",
        "    sigma = 100\n",
        "    if par_02 != None:\n",
        "      sigma = par_02\n",
        "\n",
        "    # Create the random distribution    \n",
        "    cv2.randn(gauss, mean, sigma) \n",
        "    # Add the noise to the original image\n",
        "    noisy = cv2.add(image, gauss) \n",
        "    return noisy\n",
        "    \n",
        "  #---------------------------------------\n",
        "  if mode == \"sp\":\n",
        "    row,col = image.shape\n",
        "    s_vs_p = 0.2\n",
        "    \n",
        "    if par_01 != None:\n",
        "      s_vs_p = par_01\n",
        "    amount = 0.5\n",
        "    if par_02 !=  None:\n",
        "      amount = par_02\n",
        "    \n",
        "    out = np.copy(image)\n",
        "    # Color random pixels in white\n",
        "    num_salt = np.ceil(amount * image.size * s_vs_p)\n",
        "    coords = [np.random.randint(0, i - 1, int(num_salt)) for i in image.shape]\n",
        "    out[coords] = 1\n",
        "    \n",
        "    # Color random pixels in black\n",
        "    num_pepper = np.ceil(amount* image.size * (1. - s_vs_p))\n",
        "    coords = [np.random.randint(0, i - 1, int(num_pepper)) for i in image.shape]\n",
        "    out[coords] = 0\n",
        "    return out"
      ],
      "execution_count": null,
      "outputs": []
    },
    {
      "cell_type": "markdown",
      "metadata": {
        "id": "vqBUCuy6pQcq"
      },
      "source": [
        "# load resources"
      ]
    },
    {
      "cell_type": "code",
      "metadata": {
        "id": "ethTDQT7ToUN"
      },
      "source": [
        "# Load modules\n",
        "import cv2\n",
        "import numpy as np\n",
        "\n",
        "# A replacement for the cv2.imshow() function to use in jupyter-notebooks\n",
        "from google.colab.patches import cv2_imshow \n",
        "\n",
        "# Pyplot for visualising comparisons\n",
        "import matplotlib.pyplot as plt"
      ],
      "execution_count": null,
      "outputs": []
    },
    {
      "cell_type": "markdown",
      "metadata": {
        "id": "xrERfJtEwnfP"
      },
      "source": [
        "# 2D Convolution\n",
        "\n",
        "OpenCV provides a function, cv2.filter2D(), to convolve a kernel with an image. As an example, we will try an averaging filter on an image. A 5x5 averaging filter kernel can be defined as follows:\n",
        "\n",
        "$$K =  \\frac{1}{25} \\begin{bmatrix} 1 & 1 & 1 & 1 & 1  \\\\ 1 & 1 & 1 & 1 & 1 \\\\ 1 & 1 & 1 & 1 & 1 \\\\ 1 & 1 & 1 & 1 & 1 \\\\ 1 & 1 & 1 & 1 & 1 \\end{bmatrix}$$\n",
        "\n",
        "Filtering with the above kernel results in the following being performed: for each pixel, a 5x5 window is centered on this pixel, all pixels falling within this window are summed up, and the result is then divided by 25. This equates to computing the average of the pixel values inside that window. This operation is performed for all the pixels in the image to produce the output filtered image.\n",
        "\n",
        "**[source: //opencv-python-tutroals.readthedocs.io](https://opencv-python-tutroals.readthedocs.io/en/latest/py_tutorials/py_imgproc/py_filtering/py_filtering.html)**"
      ]
    },
    {
      "cell_type": "code",
      "metadata": {
        "id": "QVUjpr5WvhCC",
        "colab": {
          "base_uri": "https://localhost:8080/",
          "height": 431
        },
        "outputId": "1b851eb0-e6ec-4d80-82fd-e5a4539b77ae"
      },
      "source": [
        "img = cv2.imread('baboon.jpg')\n",
        "\n",
        "# Create Kernel matrix\n",
        "kernel = np.ones((5,5),np.float32)/25\n",
        "\n",
        "# Filter image and save result in another image\n",
        "dst = cv2.filter2D(img,-1,kernel)\n",
        "\n",
        "# Show 2 images in one row\n",
        "plt.subplots(1,2, figsize =(15,15),sharey=True)\n",
        "\n",
        "# Original picture\n",
        "plt.subplot(121)\n",
        "im1_conv = cv2.cvtColor(img, cv2.COLOR_BGR2RGB)\n",
        "plt.imshow(im1_conv)\n",
        "plt.title('Original image'), plt.xticks([]), plt.yticks([])\n",
        "\n",
        "# Filtered picture\n",
        "plt.subplot(122)\n",
        "im2_conv = cv2.cvtColor(dst, cv2.COLOR_BGR2RGB)\n",
        "plt.imshow(im2_conv)\n",
        "plt.title('2D-Filtered image'), plt.xticks([]), plt.yticks([])\n",
        "\n",
        "plt.show()"
      ],
      "execution_count": null,
      "outputs": [
        {
          "output_type": "display_data",
          "data": {
            "text/plain": [
              "<Figure size 1080x1080 with 2 Axes>"
            ]
          },
          "metadata": {
            "tags": []
          }
        }
      ]
    },
    {
      "cell_type": "markdown",
      "metadata": {
        "id": "j1LccaiRwvjr"
      },
      "source": [
        "# Image Blurring (Smoothing)\n",
        "\n",
        "Image blurring is achieved by convolving the image with a low-pass filter kernel.<br> It is useful for removing noise. It actually removes high frequency content (e.g: noise, edges) from the image resulting in edges being blurred when this is filter is applied. (Well, there are blurring techniques which do not blur edges). OpenCV provides mainly four types of blurring techniques.\n",
        "\n",
        "**[source: //opencv-python-tutroals.readthedocs.io](https://opencv-python-tutroals.readthedocs.io/en/latest/py_tutorials/py_imgproc/py_filtering/py_filtering.html)**"
      ]
    },
    {
      "cell_type": "markdown",
      "metadata": {
        "id": "f2it84nTtNtd"
      },
      "source": [
        "### Averaging\n",
        "This is done by convolving the image with a normalized box filter. It simply takes the average of all the pixels under kernel area and replaces the central element with this average. This is done by the function cv2.blur() or cv2.boxFilter(). Check the docs for more details about the kernel. We should specify the width and height of kernel. A 3x3 normalized box filter would look like this:\n",
        "\n",
        "$$K =  \\frac{1}{9} \\begin{bmatrix} 1 & 1 & 1  \\\\ 1 & 1 & 1 \\\\ 1 & 1 & 1 \\end{bmatrix}$$\n",
        "\n",
        "**[source: //opencv-python-tutroals.readthedocs.io](https://opencv-python-tutroals.readthedocs.io/en/latest/py_tutorials/py_imgproc/py_filtering/py_filtering.html)**"
      ]
    },
    {
      "cell_type": "code",
      "metadata": {
        "id": "zsp_RQ6MwwJw",
        "colab": {
          "base_uri": "https://localhost:8080/",
          "height": 431
        },
        "outputId": "826c0a54-b9a3-4b4c-ade5-03854e7fc8c0"
      },
      "source": [
        "# Load original image\n",
        "img = cv2.imread('baboon.jpg')\n",
        "\n",
        "# Load filter kernel\n",
        "blur = cv2.blur(img,(5,5))\n",
        "\n",
        "# Show 2 images in one row\n",
        "plt.subplots(1,2, figsize =(15,15),sharey=True)\n",
        "\n",
        "# Original picture\n",
        "plt.subplot(121)\n",
        "im1_conv = cv2.cvtColor(img, cv2.COLOR_BGR2RGB)\n",
        "plt.imshow(im1_conv)\n",
        "plt.title('Original image'), plt.xticks([]), plt.yticks([])\n",
        "\n",
        "# Filtered picture\n",
        "plt.subplot(122)\n",
        "im2_conv = cv2.cvtColor(blur, cv2.COLOR_BGR2RGB)\n",
        "plt.imshow(im2_conv)\n",
        "plt.title('Blurred image'), plt.xticks([]), plt.yticks([])\n",
        "\n",
        "plt.show()"
      ],
      "execution_count": null,
      "outputs": [
        {
          "output_type": "display_data",
          "data": {
            "text/plain": [
              "<Figure size 1080x1080 with 2 Axes>"
            ]
          },
          "metadata": {
            "tags": []
          }
        }
      ]
    },
    {
      "cell_type": "markdown",
      "metadata": {
        "id": "ZvMQAS0Ct_lp"
      },
      "source": [
        "### Gaussian Filtering\n",
        "In this approach, instead of a box filter consisting of equal filter coefficients, a Gaussian kernel is used. It is done with the function, ``cv2.GaussianBlur()``. We should specify the width and height of the kernel which should be positive and odd. We also should specify the standard deviation in the X and Y directions, sigmaX and sigmaY respectively. If only sigmaX is specified, sigmaY is taken as equal to sigmaX. If both are given as zeros, they are calculated from the kernel size. Gaussian filtering is highly effective in removing Gaussian noise from the image.\n",
        "\n",
        "**[source: //opencv-python-tutroals.readthedocs.io](https://opencv-python-tutroals.readthedocs.io/en/latest/py_tutorials/py_imgproc/py_filtering/py_filtering.html)**"
      ]
    },
    {
      "cell_type": "code",
      "metadata": {
        "id": "QiNHh4PBuS7r",
        "colab": {
          "base_uri": "https://localhost:8080/",
          "height": 431
        },
        "outputId": "ebb26069-4658-4496-ddbe-05bfeaf77d5d"
      },
      "source": [
        "# Load original image\n",
        "img = cv2.imread('baboon.jpg')\n",
        "\n",
        "# Load Gaussian-Blurr kernel\n",
        "blur_gs = cv2.GaussianBlur(img, (5,5), 0)\n",
        "\n",
        "# Show 2 images in one row\n",
        "plt.subplots(1,2, figsize =(15,15),sharey=True)\n",
        "\n",
        "# Original picture\n",
        "plt.subplot(121)\n",
        "im1_conv = cv2.cvtColor(img, cv2.COLOR_BGR2RGB)\n",
        "plt.imshow(im1_conv)\n",
        "plt.title('Original image'), plt.xticks([]), plt.yticks([])\n",
        "\n",
        "# Filtered picture\n",
        "plt.subplot(122)\n",
        "im2_conv = cv2.cvtColor(blur_gs, cv2.COLOR_BGR2RGB)\n",
        "plt.imshow(im2_conv)\n",
        "plt.title('Gaussian-Blurred image'), plt.xticks([]), plt.yticks([])\n",
        "\n",
        "plt.show()"
      ],
      "execution_count": null,
      "outputs": [
        {
          "output_type": "display_data",
          "data": {
            "text/plain": [
              "<Figure size 1080x1080 with 2 Axes>"
            ]
          },
          "metadata": {
            "tags": []
          }
        }
      ]
    },
    {
      "cell_type": "markdown",
      "metadata": {
        "id": "3lQw6Vs6utNO"
      },
      "source": [
        "### Median Filtering\n",
        "Here, the function ``cv2.medianBlur()`` computes the median of all the pixels under the kernel window and the central pixel is replaced with this median value. This is highly effective in removing salt-and-pepper noise. One interesting thing to note is that, in the Gaussian and box filters, the filtered value for the central element can be a value which may not exist in the original image. However this is not the case in median filtering, since the central element is always replaced by some pixel value in the image. This reduces the noise effectively. The kernel size must be a positive odd integer.\n",
        "\n",
        "**[source: //opencv-python-tutroals.readthedocs.io](https://opencv-python-tutroals.readthedocs.io/en/latest/py_tutorials/py_imgproc/py_filtering/py_filtering.html)**"
      ]
    },
    {
      "cell_type": "code",
      "metadata": {
        "id": "nK-RAFPKuiaT",
        "colab": {
          "base_uri": "https://localhost:8080/",
          "height": 431
        },
        "outputId": "4a188df9-fdad-4a47-f066-8d4a75d9aa4d"
      },
      "source": [
        "# Load original image\n",
        "img = cv2.imread('baboon.jpg')\n",
        "\n",
        "# Create filtered image. The ksize parameter must be odd and greater than 1.\n",
        "median = cv2.medianBlur(img, 5)\n",
        "\n",
        "# Show 2 images in one row\n",
        "plt.subplots(1,2, figsize =(15,15),sharey=True)\n",
        "\n",
        "# Original picture\n",
        "plt.subplot(121)\n",
        "im1_conv = cv2.cvtColor(img, cv2.COLOR_BGR2RGB)\n",
        "plt.imshow(im1_conv)\n",
        "plt.title('Original image'), plt.xticks([]), plt.yticks([])\n",
        "\n",
        "# Filtered picture\n",
        "plt.subplot(122)  \n",
        "im2_conv = cv2.cvtColor(median, cv2.COLOR_BGR2RGB)\n",
        "plt.imshow(im2_conv)\n",
        "plt.title('Median-Blurred image'), plt.xticks([]), plt.yticks([])\n",
        "\n",
        "plt.show()"
      ],
      "execution_count": null,
      "outputs": [
        {
          "output_type": "display_data",
          "data": {
            "text/plain": [
              "<Figure size 1080x1080 with 2 Axes>"
            ]
          },
          "metadata": {
            "tags": []
          }
        }
      ]
    },
    {
      "cell_type": "markdown",
      "metadata": {
        "id": "k-RUFsTN3pw9"
      },
      "source": [
        "### Salt-and-Pepper noise\n",
        "\n",
        "With the function 'add_noise()' it is possible to create a salt-and-pepper effect on an image.<br>\n",
        "Salt-and-pepper noise can be aplied only to greyscale images."
      ]
    },
    {
      "cell_type": "code",
      "metadata": {
        "id": "pHbgK4_xwc9t",
        "colab": {
          "base_uri": "https://localhost:8080/",
          "height": 485
        },
        "outputId": "be3bd818-3266-4c79-8bac-c596bb4b651a"
      },
      "source": [
        "# Reading the color image and convert it to greyscale image \n",
        "img = cv2.imread('baboon.jpg', cv2.IMREAD_GRAYSCALE) \n",
        "\n",
        "# add_noise(image, mode, par_01, par_02)\n",
        "# @ param image: original image to add noise to (grayscale)\n",
        "# @ param mode:  noise adding mode -> 'gauss' / 'sp' (salt-and-pepper)\n",
        "# @ param par_01: guass: 'mean' (default: 0)   | 'sp': ratio of white and black pixels (default: 0.2)\n",
        "# @ param par_02: gauss: 'sigma (default: 100) | 'sp': amount of pixels to count in for randomly choosing (default: 0.5)\n",
        "\n",
        "img_sp = add_noise(img, 'sp')\n",
        "\n",
        "# medianBlur() filters noise from the image. the ksize parameter must be odd and greater than 1.\n",
        "median_sp = cv2.medianBlur(img_sp, 5)\n",
        "\n",
        "# Show 2 images in one row\n",
        "plt.subplots(1,2, figsize =(15,15),sharey=True)\n",
        "\n",
        "# Original picture\n",
        "plt.subplot(121)\n",
        "im1_conv = cv2.cvtColor(img_sp, cv2.COLOR_BGR2RGB)\n",
        "plt.imshow(im1_conv)\n",
        "plt.title('Salt-And-Pepper image'), plt.xticks([]), plt.yticks([])\n",
        "\n",
        "# Filtered picture\n",
        "plt.subplot(122)\n",
        "im2_conv = cv2.cvtColor(median_sp, cv2.COLOR_BGR2RGB)\n",
        "plt.imshow(im2_conv)\n",
        "plt.title('Median-Blurred image'), plt.xticks([]), plt.yticks([])\n",
        "\n",
        "plt.show()"
      ],
      "execution_count": null,
      "outputs": [
        {
          "output_type": "stream",
          "text": [
            "/usr/local/lib/python3.7/dist-packages/ipykernel_launcher.py:41: FutureWarning: Using a non-tuple sequence for multidimensional indexing is deprecated; use `arr[tuple(seq)]` instead of `arr[seq]`. In the future this will be interpreted as an array index, `arr[np.array(seq)]`, which will result either in an error or a different result.\n",
            "/usr/local/lib/python3.7/dist-packages/ipykernel_launcher.py:46: FutureWarning: Using a non-tuple sequence for multidimensional indexing is deprecated; use `arr[tuple(seq)]` instead of `arr[seq]`. In the future this will be interpreted as an array index, `arr[np.array(seq)]`, which will result either in an error or a different result.\n"
          ],
          "name": "stderr"
        },
        {
          "output_type": "display_data",
          "data": {
            "text/plain": [
              "<Figure size 1080x1080 with 2 Axes>"
            ]
          },
          "metadata": {
            "tags": []
          }
        }
      ]
    },
    {
      "cell_type": "markdown",
      "metadata": {
        "id": "1hbqYrdFsMXI"
      },
      "source": [
        "### Filtering gaussian noise"
      ]
    },
    {
      "cell_type": "code",
      "metadata": {
        "id": "mqfBN6eV1eaN",
        "colab": {
          "base_uri": "https://localhost:8080/",
          "height": 431
        },
        "outputId": "ea0cc8ce-20b6-445c-e440-f73b93a665c7"
      },
      "source": [
        "# the noise adding can only be done with grayscaled images\n",
        "img = cv2.imread('baboon.jpg', cv2.IMREAD_GRAYSCALE) \n",
        "#\n",
        "# add_noise(image, mode, par_01, par_02)\n",
        "# @ param image: original image to add noise to (grayscale)\n",
        "# @ param mode:  noise adding mode -> 'gauss' / 'sp' (salt-and-pepper)\n",
        "# @ param par_01: guass: 'mean' (default: 0)   | 'sp': ratio of white and black pixels (default: 0.2)\n",
        "# @ param par_02: gauss: 'sigma (default: 100) | 'sp': amount of pixels to count in for randomly choosing (default: 0.5)\n",
        "#\n",
        "img_gs = add_noise(img, 'gauss', 0, 50) # add noise to image\n",
        "\n",
        "# medianBlur() filters noise from the image. the ksize parameter must be odd and greater than 1.\n",
        "median_gs = cv2.medianBlur(img_gs,  3)\n",
        "\n",
        "# Show 2 images in one row\n",
        "plt.subplots(1,2, figsize =(15,15),sharey=True)\n",
        "\n",
        "# Original picture\n",
        "plt.subplot(121)\n",
        "im1_conv = cv2.cvtColor(img_gs, cv2.COLOR_BGR2RGB)\n",
        "plt.imshow(im1_conv)\n",
        "plt.title('Gaussian-noise image'), plt.xticks([]), plt.yticks([])\n",
        "\n",
        "# Filtered picture\n",
        "plt.subplot(122)\n",
        "im2_conv = cv2.cvtColor(median_gs, cv2.COLOR_BGR2RGB)\n",
        "plt.imshow(im2_conv)\n",
        "plt.title('Median-Blurred image'), plt.xticks([]), plt.yticks([])\n",
        "\n",
        "plt.show()"
      ],
      "execution_count": null,
      "outputs": [
        {
          "output_type": "display_data",
          "data": {
            "text/plain": [
              "<Figure size 1080x1080 with 2 Axes>"
            ]
          },
          "metadata": {
            "tags": []
          }
        }
      ]
    },
    {
      "source": [
        "Copyright © 2021 IU International University of Applied Sciences"
      ],
      "cell_type": "markdown",
      "metadata": {}
    }
  ]
}