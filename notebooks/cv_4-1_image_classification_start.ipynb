{
  "nbformat": 4,
  "nbformat_minor": 0,
  "metadata": {
    "colab": {
      "name": "cv_4-1_image_classification_start.ipynb",
      "provenance": [],
      "collapsed_sections": [],
      "authorship_tag": "ABX9TyP42h0PgCQgTq8OF4f153dE"
    },
    "kernelspec": {
      "name": "python3",
      "display_name": "Python 3"
    },
    "language_info": {
      "name": "python"
    }
  },
  "cells": [
    {
      "cell_type": "markdown",
      "metadata": {
        "id": "9pK_qMkXC96-"
      },
      "source": [
        "# Image Classification\n",
        "\n",
        "Image classification is the task of labeling an input image with a class from a set of\n",
        "predefined categories (Zou et al., 2019). Image classification is the foundation for many\n",
        "other computer vision tasks since many computer vision problems can be modeled as\n",
        "classification problems. Examples for classification problems include object detection\n",
        "and object segmentation. \n",
        "\n",
        "In the following you can find some image classification exammples applied with [PyTorch](https://github.com/pytorch/pytorch)\n",
        "\n",
        "Following code samples come from this github repository: [bentrevett/pytorch-image-classification](https://github.com/bentrevett/pytorch-image-classification)"
      ]
    },
    {
      "cell_type": "markdown",
      "metadata": {
        "id": "tnlJeNDcFF2-"
      },
      "source": [
        "Tutorials<br>\n",
        "1 - Multilayer Perceptron [![Open In Colab](https://colab.research.google.com/assets/colab-badge.svg)](https://colab.research.google.com/github/bentrevett/pytorch-image-classification/blob/master/1_mlp.ipynb)\n",
        "\n",
        "This tutorial provides an introduction to PyTorch and TorchVision. We'll learn how to: load datasets, augment data, define a multilayer perceptron (MLP), train a model, view the outputs of our model, visualize the model's representations, and view the weights of the model. The experiments will be carried out on the MNIST dataset - a set of 28x28 handwritten grayscale digits.\n",
        "\n",
        "2 - LeNet [![Open In Colab](https://colab.research.google.com/assets/colab-badge.svg)](https://colab.research.google.com/github/bentrevett/pytorch-image-classification/blob/master/2_lenet.ipynb)\n",
        "\n",
        "In this tutorial we'll implement the classic LeNet architecture. We'll look into convolutional neural networks and how convolutional layers and subsampling (aka pooling) layers work.\n",
        "\n",
        "3 - [AlexNet] [![Open In Colab](https://colab.research.google.com/assets/colab-badge.svg)](https://colab.research.google.com/github/bentrevett/pytorch-image-classification/blob/master/3_alexnet.ipynb)\n",
        "\n",
        "In this tutorial we will implement AlexNet, the convolutional neural network architecture that helped start the current interest in deep learning. We will move on to the CIFAR10 dataset - 32x32 color images in ten classes. We show: how to define architectures using nn.Sequential, how to initialize the parameters of your neural network, and how to use the learning rate finder to determine a good initial learning rate.\n",
        "\n",
        "4 - [VGG] [![Open In Colab](https://colab.research.google.com/assets/colab-badge.svg)](https://colab.research.google.com/github/bentrevett/pytorch-image-classification/blob/master/4_vgg.ipynb)\n",
        "\n",
        "This tutorial will cover implementing the VGG model. However, instead of training the model from scratch we will instead load a VGG model pre-trained on the ImageNet dataset and show how to perform transfer learning to adapt its weights to the CIFAR10 dataset using a technique called discriminative fine-tuning. We'll also explain how adaptive pooling layers and batch normalization works.\n",
        "\n",
        "5 - [ResNet] [![Open In Colab](https://colab.research.google.com/assets/colab-badge.svg)](https://colab.research.google.com/github/bentrevett/pytorch-image-classification/blob/master/5_resnet.ipynb)\n",
        "\n",
        "In this tutorial we will be implementing the ResNet model. We'll show how to load your own dataset, using the CUB200 dataset as an example, and also how to use learning rate schedulers which dynamically alter the learning rate of your model whilst training. Specifially, we'll use the one cycle policy introduced in this paper and is now starting to be commonly used for training computer vision models."
      ]
    }
  ]
}
