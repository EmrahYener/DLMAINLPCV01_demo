{
  "nbformat": 4,
  "nbformat_minor": 0,
  "metadata": {
    "colab": {
      "name": "cv_filters_OpenCV.ipynb",
      "provenance": [],
      "collapsed_sections": [
        "Zq47n4f6T7hI"
      ],
      "toc_visible": true
    },
    "kernelspec": {
      "name": "python3",
      "display_name": "Python 3"
    }
  },
  "cells": [
    {
      "cell_type": "markdown",
      "metadata": {
        "id": "SkmFSELQvMIz"
      },
      "source": [
        "# Applying filters to an image with OpenCV\r\n",
        "\r\n",
        "This notebook shows different filters which can easily be created and applied to an image.\r\n",
        "Following filers will be shown:\r\n",
        "* 2D convolution\r\n",
        "* Image Blurring (smoothing)\r\n",
        "  - averaging\r\n",
        "  - gaussian filtering\r\n",
        "  - median filtering\r\n",
        "\r\n",
        "The code is based on the OpenCV-python tutorial [``Smoothing Images``](https://opencv-python-tutroals.readthedocs.io/en/latest/py_tutorials/py_imgproc/py_filtering/py_filtering.html)"
      ]
    },
    {
      "cell_type": "code",
      "metadata": {
        "id": "W4464G5TvEua"
      },
      "source": [
        "# load pictures from github repository to colab space\r\n",
        "#\r\n",
        "# \r\n",
        "!curl --remote-name -H 'Accept: application/vnd.github.v3.raw' --location https://raw.githubusercontent.com/iubh/DLMAIEAIS01_DEV/master/data/cv_pictures/baboon.jpg\r\n",
        "#"
      ],
      "execution_count": null,
      "outputs": []
    },
    {
      "cell_type": "markdown",
      "metadata": {
        "id": "Zq47n4f6T7hI"
      },
      "source": [
        "# Adding noise to image\r\n",
        "\r\n",
        "With the function ``add_noise()`` it is possible to add either a ``salt-and-pepper`` effect or ``gaussian-noise`` to an image."
      ]
    },
    {
      "cell_type": "code",
      "metadata": {
        "id": "AHS3P5DMT67F"
      },
      "source": [
        "# add_noise(image, mode, par_01, par_02)\r\n",
        "#\r\n",
        "# @ param image: original image to add noise to (grayscale)\r\n",
        "# @ param mode:  noise adding mode -> 'gauss' / 'sp' (salt-and-pepper)\r\n",
        "# @ param par_01: guass: 'mean' (default: 0)   | 'sp': ratio of white and black pixels (default: 0.2)\r\n",
        "# @ param par_02: gauss: 'sigma (default: 100) | 'sp': amount of pixels to count in for randomly choosing (default: 0.5)\r\n",
        "#\r\n",
        "def add_noise(image, mode, par_01=None, par_02=None):\r\n",
        "  if mode == \"gauss\":\r\n",
        "    gauss = np.zeros(image.shape, np.uint8) # temporary array for random distribution\r\n",
        "    #\r\n",
        "    mean = 0\r\n",
        "    if par_01 != None:\r\n",
        "      mean = par_01\r\n",
        "    sigma = 100\r\n",
        "    if par_02 != None:\r\n",
        "      sigma = par_02\r\n",
        "    #\r\n",
        "    cv2.randn(gauss, mean, sigma) # create the random distribution    \r\n",
        "    noisy = cv2.add(image, gauss) # add the noise to the original image\r\n",
        "    #\r\n",
        "    return noisy\r\n",
        "    #\r\n",
        "  if mode == \"sp\":\r\n",
        "    row,col = image.shape\r\n",
        "    s_vs_p = 0.2\r\n",
        "    #\r\n",
        "    if par_01 != None:\r\n",
        "      s_vs_p = par_01\r\n",
        "    amount = 0.5\r\n",
        "    if par_02 !=  None:\r\n",
        "      amount = par_02\r\n",
        "    #\r\n",
        "    out = np.copy(image)\r\n",
        "    # color random pixels in white\r\n",
        "    num_salt = np.ceil(amount * image.size * s_vs_p)\r\n",
        "    coords = [np.random.randint(0, i - 1, int(num_salt)) for i in image.shape]\r\n",
        "    out[coords] = 1\r\n",
        "    \r\n",
        "    # color random pixels in black\r\n",
        "    num_pepper = np.ceil(amount* image.size * (1. - s_vs_p))\r\n",
        "    coords = [np.random.randint(0, i - 1, int(num_pepper)) for i in image.shape]\r\n",
        "    out[coords] = 0\r\n",
        "    return out"
      ],
      "execution_count": null,
      "outputs": []
    },
    {
      "cell_type": "markdown",
      "metadata": {
        "id": "vqBUCuy6pQcq"
      },
      "source": [
        "# load resources"
      ]
    },
    {
      "cell_type": "code",
      "metadata": {
        "id": "ethTDQT7ToUN"
      },
      "source": [
        "# load modules\r\n",
        "#\r\n",
        "import cv2\r\n",
        "import numpy as np\r\n",
        "#\r\n",
        "from google.colab.patches import cv2_imshow  # a replacement for the cv2.imshow() function to use in jupyter-notebooks"
      ],
      "execution_count": null,
      "outputs": []
    },
    {
      "cell_type": "markdown",
      "metadata": {
        "id": "xrERfJtEwnfP"
      },
      "source": [
        "# 2D Convolution\r\n",
        "\r\n",
        "OpenCV provides a function, cv2.filter2D(), to convolve a kernel with an image. As an example, we will try an averaging filter on an image. A 5x5 averaging filter kernel can be defined as follows:\r\n",
        "\r\n",
        "$$K =  \\frac{1}{25} \\begin{bmatrix} 1 & 1 & 1 & 1 & 1  \\\\ 1 & 1 & 1 & 1 & 1 \\\\ 1 & 1 & 1 & 1 & 1 \\\\ 1 & 1 & 1 & 1 & 1 \\\\ 1 & 1 & 1 & 1 & 1 \\end{bmatrix}$$\r\n",
        "\r\n",
        "Filtering with the above kernel results in the following being performed: for each pixel, a 5x5 window is centered on this pixel, all pixels falling within this window are summed up, and the result is then divided by 25. This equates to computing the average of the pixel values inside that window. This operation is performed for all the pixels in the image to produce the output filtered image.\r\n",
        "\r\n",
        "**[source: //opencv-python-tutroals.readthedocs.io](https://opencv-python-tutroals.readthedocs.io/en/latest/py_tutorials/py_imgproc/py_filtering/py_filtering.html)**"
      ]
    },
    {
      "cell_type": "code",
      "metadata": {
        "id": "QVUjpr5WvhCC"
      },
      "source": [
        "# example: 2D convolution (filtering)\r\n",
        "#\r\n",
        "img = cv2.imread('baboon.jpg')\r\n",
        "#\r\n",
        "kernel = np.ones((5,5),np.float32)/25\r\n",
        "dst = cv2.filter2D(img,-1,kernel)\r\n",
        "#\r\n",
        "cv2_imshow(img)\r\n",
        "#\r\n",
        "cv2_imshow(dst)"
      ],
      "execution_count": null,
      "outputs": []
    },
    {
      "cell_type": "markdown",
      "metadata": {
        "id": "j1LccaiRwvjr"
      },
      "source": [
        "# Image Blurring (Smoothing)\r\n",
        "\r\n",
        "Image blurring is achieved by convolving the image with a low-pass filter kernel. It is useful for removing noise. It actually removes high frequency content (e.g: noise, edges) from the image resulting in edges being blurred when this is filter is applied. (Well, there are blurring techniques which do not blur edges). OpenCV provides mainly four types of blurring techniques.\r\n",
        "\r\n",
        "**[source: //opencv-python-tutroals.readthedocs.io](https://opencv-python-tutroals.readthedocs.io/en/latest/py_tutorials/py_imgproc/py_filtering/py_filtering.html)**"
      ]
    },
    {
      "cell_type": "markdown",
      "metadata": {
        "id": "f2it84nTtNtd"
      },
      "source": [
        "### Averaging\r\n",
        "This is done by convolving the image with a normalized box filter. It simply takes the average of all the pixels under kernel area and replaces the central element with this average. This is done by the function cv2.blur() or cv2.boxFilter(). Check the docs for more details about the kernel. We should specify the width and height of kernel. A 3x3 normalized box filter would look like this:\r\n",
        "\r\n",
        "$$K =  \\frac{1}{9} \\begin{bmatrix} 1 & 1 & 1  \\\\ 1 & 1 & 1 \\\\ 1 & 1 & 1 \\end{bmatrix}$$\r\n",
        "\r\n",
        "**[source: //opencv-python-tutroals.readthedocs.io](https://opencv-python-tutroals.readthedocs.io/en/latest/py_tutorials/py_imgproc/py_filtering/py_filtering.html)**"
      ]
    },
    {
      "cell_type": "code",
      "metadata": {
        "id": "zsp_RQ6MwwJw"
      },
      "source": [
        "# load original image\r\n",
        "#\r\n",
        "img = cv2.imread('baboon.jpg')\r\n",
        "blur = cv2.blur(img,(5,5))\r\n",
        "#\r\n",
        "# show original image\r\n",
        "cv2_imshow(img)\r\n",
        "#\r\n",
        "# show blurred image\r\n",
        "cv2_imshow(blur)"
      ],
      "execution_count": null,
      "outputs": []
    },
    {
      "cell_type": "markdown",
      "metadata": {
        "id": "ZvMQAS0Ct_lp"
      },
      "source": [
        "### Gaussian Filtering\r\n",
        "In this approach, instead of a box filter consisting of equal filter coefficients, a Gaussian kernel is used. It is done with the function, ``cv2.GaussianBlur()``. We should specify the width and height of the kernel which should be positive and odd. We also should specify the standard deviation in the X and Y directions, sigmaX and sigmaY respectively. If only sigmaX is specified, sigmaY is taken as equal to sigmaX. If both are given as zeros, they are calculated from the kernel size. Gaussian filtering is highly effective in removing Gaussian noise from the image.\r\n",
        "\r\n",
        "**[source: //opencv-python-tutroals.readthedocs.io](https://opencv-python-tutroals.readthedocs.io/en/latest/py_tutorials/py_imgproc/py_filtering/py_filtering.html)**"
      ]
    },
    {
      "cell_type": "code",
      "metadata": {
        "id": "QiNHh4PBuS7r"
      },
      "source": [
        "# load original image\r\n",
        "#\r\n",
        "img = cv2.imread('baboon.jpg')\r\n",
        "#\r\n",
        "blur_gs = cv2.GaussianBlur(img, (5,5), 0)\r\n",
        "#\r\n",
        "# show original image\r\n",
        "cv2_imshow(img)\r\n",
        "#\r\n",
        "# show blurred image with gaussian filtering\r\n",
        "cv2_imshow(blur_gs)"
      ],
      "execution_count": null,
      "outputs": []
    },
    {
      "cell_type": "markdown",
      "metadata": {
        "id": "3lQw6Vs6utNO"
      },
      "source": [
        "### Median Filtering\r\n",
        "Here, the function ``cv2.medianBlur()`` computes the median of all the pixels under the kernel window and the central pixel is replaced with this median value. This is highly effective in removing salt-and-pepper noise. One interesting thing to note is that, in the Gaussian and box filters, the filtered value for the central element can be a value which may not exist in the original image. However this is not the case in median filtering, since the central element is always replaced by some pixel value in the image. This reduces the noise effectively. The kernel size must be a positive odd integer.\r\n",
        "\r\n",
        "**[source: //opencv-python-tutroals.readthedocs.io](https://opencv-python-tutroals.readthedocs.io/en/latest/py_tutorials/py_imgproc/py_filtering/py_filtering.html)**"
      ]
    },
    {
      "cell_type": "code",
      "metadata": {
        "id": "nK-RAFPKuiaT"
      },
      "source": [
        "# load original image\r\n",
        "#\r\n",
        "img = cv2.imread('baboon.jpg')\r\n",
        "#\r\n",
        "median = cv2.medianBlur(img, 5)\r\n",
        "#\r\n",
        "# show original image\r\n",
        "cv2_imshow(img)\r\n",
        "#\r\n",
        "# show blurred image with gaussian filtering\r\n",
        "cv2_imshow(median)"
      ],
      "execution_count": null,
      "outputs": []
    },
    {
      "cell_type": "markdown",
      "metadata": {
        "id": "k-RUFsTN3pw9"
      },
      "source": [
        "### Salt-and-pepper noise\r\n",
        "\r\n",
        "With the function 'add_noise()' it is possible to create a salt-and-pepper effect on an image.\r\n",
        "Salt-and-pepper noise can be aplied only to greyscale images and"
      ]
    },
    {
      "cell_type": "code",
      "metadata": {
        "id": "pHbgK4_xwc9t"
      },
      "source": [
        "# example with salt-and-pepper noise and filtering with medianBlur()\r\n",
        "# \r\n",
        "# salt-and-pepper noise can be applied only to greyscale images \r\n",
        "# Reading the color image in greyscale image \r\n",
        "img = cv2.imread('baboon.jpg', cv2.IMREAD_GRAYSCALE) \r\n",
        "#\r\n",
        "# add_noise(image, mode, par_01, par_02)\r\n",
        "# @ param image: original image to add noise to (grayscale)\r\n",
        "# @ param mode:  noise adding mode -> 'gauss' / 'sp' (salt-and-pepper)\r\n",
        "# @ param par_01: guass: 'mean' (default: 0)   | 'sp': ratio of white and black pixels (default: 0.2)\r\n",
        "# @ param par_02: gauss: 'sigma (default: 100) | 'sp': amount of pixels to count in for randomly choosing (default: 0.5)\r\n",
        "#\r\n",
        "img_sp = add_noise(img, 'sp')\r\n",
        "#\r\n",
        "# medianBlur() filters noise from the image. the ksize parameter must be odd and greater than 1.\r\n",
        "median_sp = cv2.medianBlur(img_sp, 5)\r\n",
        "#\r\n",
        "# show original image with salt-and-pepper noise\r\n",
        "cv2_imshow(img_sp)\r\n",
        "#\r\n",
        "# show filtered image\r\n",
        "cv2_imshow(median_sp)"
      ],
      "execution_count": null,
      "outputs": []
    },
    {
      "cell_type": "markdown",
      "metadata": {
        "id": "1hbqYrdFsMXI"
      },
      "source": [
        "### Filtering gaussian noise"
      ]
    },
    {
      "cell_type": "code",
      "metadata": {
        "id": "mqfBN6eV1eaN"
      },
      "source": [
        "# example with gaussian noise\r\n",
        "#\r\n",
        "# the noise adding can only be done with grayscaled images\r\n",
        "img = cv2.imread('baboon.jpg', cv2.IMREAD_GRAYSCALE) \r\n",
        "#\r\n",
        "# add_noise(image, mode, par_01, par_02)\r\n",
        "# @ param image: original image to add noise to (grayscale)\r\n",
        "# @ param mode:  noise adding mode -> 'gauss' / 'sp' (salt-and-pepper)\r\n",
        "# @ param par_01: guass: 'mean' (default: 0)   | 'sp': ratio of white and black pixels (default: 0.2)\r\n",
        "# @ param par_02: gauss: 'sigma (default: 100) | 'sp': amount of pixels to count in for randomly choosing (default: 0.5)\r\n",
        "#\r\n",
        "img_gs = add_noise(img, 'gauss', 0, 50) # add noise to image\r\n",
        "#\r\n",
        "# medianBlur() filters noise from the image. the ksize parameter must be odd and greater than 1.\r\n",
        "median_gs = cv2.medianBlur(img_gs,  3)\r\n",
        "#\r\n",
        "# show original image with gausian noise\r\n",
        "cv2_imshow(img_gs)\r\n",
        "#\r\n",
        "# show filtered image\r\n",
        "cv2_imshow(median_gs)"
      ],
      "execution_count": null,
      "outputs": []
    }
  ]
}
