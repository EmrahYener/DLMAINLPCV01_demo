{
  "nbformat": 4,
  "nbformat_minor": 0,
  "metadata": {
    "kernelspec": {
      "display_name": "Python 3",
      "language": "python",
      "name": "python3"
    },
    "language_info": {
      "codemirror_mode": {
        "name": "ipython",
        "version": 3
      },
      "file_extension": ".py",
      "mimetype": "text/x-python",
      "name": "python",
      "nbconvert_exporter": "python",
      "pygments_lexer": "ipython3",
      "version": "3.8.2"
    },
    "nbTranslate": {
      "displayLangs": [
        "*"
      ],
      "hotkey": "alt-t",
      "langInMainMenu": true,
      "sourceLang": "en",
      "targetLang": "fr",
      "useGoogleTranslate": true
    },
    "colab": {
      "name": "nlp_1-6_part_of_speech_tagging.ipynb",
      "provenance": [],
      "collapsed_sections": [],
      "toc_visible": true
    }
  },
  "cells": [
    {
      "cell_type": "markdown",
      "metadata": {
        "id": "Q_X42HQ1pF84"
      },
      "source": [
        "# **Part-of-speech tagging**"
      ]
    },
    {
      "cell_type": "markdown",
      "source": [
        "Part-of-speech (POS) tagging is used to solve syntactic ambiguity. It adds grammatical word functions and categories to a\n",
        "given text [[1]](#scrollTo=op-j6UywUt5i). \n",
        "\n",
        "In the sentence “Our dogs bark all day,” the word “bark” appears as a verb\n",
        "(word category) taking the function of the predicate (word function). In “The bark of the\n",
        "old oak tree was wet,” the word “bark” is a noun (word category) in the function of the\n",
        "subject (word function). This example illustrates that context plays an important role in\n",
        "POS tagging [[1]](#scrollTo=op-j6UywUt5i).\n",
        "\n",
        "\n",
        "This notebook shows some basic examples of POS tagging with ``spacy``.\n"
      ],
      "metadata": {
        "id": "p07VlvadPlrX"
      }
    },
    {
      "cell_type": "markdown",
      "metadata": {
        "id": "qyo5PWLBpF9s"
      },
      "source": [
        "## **Part-of-speech tagging with ``spaCy``**\n",
        "\n",
        "``spaCy`` is a free, open-source library for advanced Natural Language Processing (NLP) in Python. It can be used to build information extraction or natural language understanding systems, or to pre-process text for deep learning [[2]](https://spacy.io/usage/spacy-101). For example, it supports the implementation of tasks for sentiment analysis, chatbots, text summarization, intent and entity extraction, and others [[1]](#scrollTo=op-j6UywUt5i). More information about ``spaCy``, please refer to  [[3]](https://spacy.io/).\n",
        "\n"
      ]
    },
    {
      "cell_type": "markdown",
      "source": [
        "For POS tagging, we will apply the following steps:\n",
        "1. Import the ``spaCy`` library\n",
        "2. Load the language model (English)\n",
        "3. Create a ``spaCy`` document\n",
        "4. Access the POS tags by iterating over the document object\n",
        "5. Print the POS tags"
      ],
      "metadata": {
        "id": "0JfXUPmkcWUF"
      }
    },
    {
      "cell_type": "markdown",
      "source": [
        "### Import spaCy library"
      ],
      "metadata": {
        "id": "O5kowC_hc37V"
      }
    },
    {
      "cell_type": "code",
      "metadata": {
        "id": "5rVtW6JEpF9f"
      },
      "source": [
        "# Import spaCy library to process the text\n",
        "import spacy"
      ],
      "execution_count": 1,
      "outputs": []
    },
    {
      "cell_type": "markdown",
      "source": [
        "### Load language model\n",
        "We will import ``en_core_web_sm`` English language model by using spaCy library.\n",
        "It is a small English pipeline trained on written web text (blogs, news, comments), that includes vocabulary, syntax and entities [[4]](https://spacy.io/models).\n",
        "It is optimized for CPU and its components are: ``tok2vec``, ``tagger``, ``parser``, ``senter``, ``ner``, ``attribute_ruler``, ``lemmatizer`` [[5]](https://spacy.io/models/en)."
      ],
      "metadata": {
        "id": "U3fJpxa0VzzT"
      }
    },
    {
      "cell_type": "code",
      "source": [
        "# Import \"en_core_web_sm\" English language model\n",
        "sp = spacy.load('en_core_web_sm')"
      ],
      "metadata": {
        "id": "eIrsC9DdV08P"
      },
      "execution_count": 2,
      "outputs": []
    },
    {
      "cell_type": "markdown",
      "source": [
        "### Create spaCy document and perform POS tagging\n",
        "\n",
        "When creating a ``doc`` object, ``spaCy`` automatically produces POS tags (tagger) for an input text. The following figure demonstrates the processing pipeline of a given text to produce a ``doc`` object [[6]](https://spacy.io/usage/processing-pipelines).\n",
        "\n",
        "![spaCy](https://spacy.io/pipeline-fde48da9b43661abcdf62ab70a546d71.svg)"
      ],
      "metadata": {
        "id": "IQRDu2pac7Yc"
      }
    },
    {
      "cell_type": "code",
      "metadata": {
        "id": "tZw2sdxSpF9v"
      },
      "source": [
        "# Create a sample spaCy document\n",
        "doc = sp(u\"I am going to complete this book by this weekend\")"
      ],
      "execution_count": 3,
      "outputs": []
    },
    {
      "cell_type": "markdown",
      "source": [
        "### Print POS tags\n",
        "\n",
        "For POS tagging, we will simply use the``pos_`` attribute of the \"Morphologizer\" class in ``spaCy``.\n",
        "\n",
        "``spaCy`` predicts the morphological features of a given text.\n",
        "These predictions are returned by using the ``pos_`` attribute. For more detail, please refer to [[7]](https://spacy.io/api/morphologizer#section-assigned-attributes)."
      ],
      "metadata": {
        "id": "pK8A81Vcf_wL"
      }
    },
    {
      "cell_type": "code",
      "metadata": {
        "colab": {
          "base_uri": "https://localhost:8080/"
        },
        "id": "WsXwhtZepF9x",
        "outputId": "9dbe7a8d-afe0-4e8e-9096-4e7d2dbc7f00"
      },
      "source": [
        "# Print each word token with its related POS tag.\n",
        "## For this, we use the \"pos_\" attribute of spaCy.\n",
        "## spaCy predicts the morphological features of a given text.\n",
        "## These predictions are returned by using the \"pos_\" attribute based on [7].\n",
        "for word in doc:\n",
        "    print(word.text + '-->' + word.pos_)"
      ],
      "execution_count": 4,
      "outputs": [
        {
          "output_type": "stream",
          "name": "stdout",
          "text": [
            "I-->PRON\n",
            "am-->AUX\n",
            "going-->VERB\n",
            "to-->PART\n",
            "complete-->VERB\n",
            "this-->DET\n",
            "book-->NOUN\n",
            "by-->ADP\n",
            "this-->DET\n",
            "weekend-->NOUN\n"
          ]
        }
      ]
    },
    {
      "cell_type": "markdown",
      "source": [
        "### Print POS tags and explanations\n",
        "\n",
        "To improve readability, we can define columns. The numbers in curly brackets indicate the space between the  columns [[8]](https://stackabuse.com/python-for-nlp-parts-of-speech-tagging-and-named-entity-recognition/).\n",
        "\n",
        "``spacy.explain()`` function returns a description for a given POS tag, dependency label or entity type [[9]](https://spacy.io/api/top-level)."
      ],
      "metadata": {
        "id": "6ZAVILFWhYCX"
      }
    },
    {
      "cell_type": "code",
      "source": [
        "# We will now print each word with its related POS tag and explanation:\n",
        "for word in doc:\n",
        "    print(f'{word.text:{12}} {word.pos_:{10}} {spacy.explain(word.tag_)}')"
      ],
      "metadata": {
        "colab": {
          "base_uri": "https://localhost:8080/"
        },
        "id": "glnP0a4Ag98q",
        "outputId": "f7e3d5f3-860a-42e5-e12d-fd31396c0b03"
      },
      "execution_count": 5,
      "outputs": [
        {
          "output_type": "stream",
          "name": "stdout",
          "text": [
            "I            PRON       pronoun, personal\n",
            "am           AUX        verb, non-3rd person singular present\n",
            "going        VERB       verb, gerund or present participle\n",
            "to           PART       infinitival \"to\"\n",
            "complete     VERB       verb, base form\n",
            "this         DET        determiner\n",
            "book         NOUN       noun, singular or mass\n",
            "by           ADP        conjunction, subordinating or preposition\n",
            "this         DET        determiner\n",
            "weekend      NOUN       noun, singular or mass\n"
          ]
        }
      ]
    },
    {
      "cell_type": "markdown",
      "source": [
        "# **References**\n",
        "\n",
        "- [1] NLP and Computer Vision_DLMAINLPCV01 Lecture Book\n",
        "- [2] https://spacy.io/usage/spacy-101\n",
        "- [3] https://spacy.io/\n",
        "- [4] https://spacy.io/models\n",
        "- [5] https://spacy.io/models/en\n",
        "- [6] https://spacy.io/usage/processing-pipelines\n",
        "- [7] https://spacy.io/api/morphologizer#section-assigned-attributes\n",
        "- [8] https://stackabuse.com/python-for-nlp-parts-of-speech-tagging-and-named-entity-recognition/\n",
        "- [9] https://spacy.io/api/top-level\n"
      ],
      "metadata": {
        "id": "op-j6UywUt5i"
      }
    },
    {
      "cell_type": "markdown",
      "metadata": {
        "id": "7kDAQDmXpF91"
      },
      "source": [
        "Copyright © 2022 IU International University of Applied Sciences"
      ]
    }
  ]
}