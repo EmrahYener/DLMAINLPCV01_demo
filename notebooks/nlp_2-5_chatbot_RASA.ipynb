{
 "cells": [
  {
   "cell_type": "markdown",
   "metadata": {},
   "source": [
    "chatbot with rasa\n",
    "\n",
    "[example](https://rasa.com/docs/rasa/jupyter-notebooks/)\n",
    "\n",
    "more on github:\n",
    "[RasaHQ](https://github.com/RasaHQ/rasa-demo)"
   ]
  },
  {
   "cell_type": "code",
   "execution_count": 1,
   "metadata": {},
   "outputs": [
    {
     "name": "stdout",
     "output_type": "stream",
     "text": [
      "Event loop ready.\n"
     ]
    }
   ],
   "source": [
    "import nest_asyncio\n",
    "\n",
    "nest_asyncio.apply()\n",
    "print(\"Event loop ready.\")"
   ]
  },
  {
   "cell_type": "code",
   "execution_count": 2,
   "metadata": {},
   "outputs": [
    {
     "name": "stdout",
     "output_type": "stream",
     "text": [
      "['actions', 'config.yml', 'credentials.yml', 'data', 'domain.yml', 'endpoints.yml', 'models', 'tests']\n"
     ]
    }
   ],
   "source": [
    "from rasa.cli.scaffold import create_initial_project\n",
    "import os\n",
    "\n",
    "project = \"test-project\"\n",
    "create_initial_project(project)\n",
    "\n",
    "# move into project directory and show files\n",
    "os.chdir(project)\n",
    "print(os.listdir(\".\"))"
   ]
  },
  {
   "cell_type": "code",
   "execution_count": 3,
   "metadata": {},
   "outputs": [
    {
     "name": "stdout",
     "output_type": "stream",
     "text": [
      "config.yml data/ domain.yml models/\n"
     ]
    }
   ],
   "source": [
    "config = \"config.yml\"\n",
    "training_files = \"data/\"\n",
    "domain = \"domain.yml\"\n",
    "output = \"models/\"\n",
    "print(config, training_files, domain, output)"
   ]
  },
  {
   "cell_type": "code",
   "execution_count": 4,
   "metadata": {},
   "outputs": [
    {
     "name": "stdout",
     "output_type": "stream",
     "text": [
      "The configuration for pipeline and policies was chosen automatically. It was written into the config file at 'config.yml'.\n",
      "Nothing changed. You can use the old model stored at 'D:\\Python_382\\test-project\\models\\20210117-211811.tar.gz'.\n",
      "TrainingResult(model='models\\\\20210117-211811.tar.gz', code=0)\n"
     ]
    }
   ],
   "source": [
    "import rasa\n",
    "\n",
    "model_path = rasa.train(domain, config, [training_files], output)\n",
    "print(model_path)"
   ]
  },
  {
   "cell_type": "code",
   "execution_count": 5,
   "metadata": {},
   "outputs": [
    {
     "name": "stdout",
     "output_type": "stream",
     "text": [
      "Your bot is ready to talk! Type your messages here or send '/stop'.\n",
      "hi, this is a test\n",
      "Hey! How are you?\n",
      "/stop\n"
     ]
    }
   ],
   "source": [
    "from rasa.jupyter import chat\n",
    "\n",
    "endpoints = \"endpoints.yml\"\n",
    "model_path = 'D:/Python_382/test-project/models/20210117-211811.tar.gz'\n",
    "chat(model_path, endpoints)"
   ]
  },
  {
   "cell_type": "markdown",
   "metadata": {},
   "source": [
    "** evaluation does not work this way**"
   ]
  },
  {
   "cell_type": "code",
   "execution_count": null,
   "metadata": {},
   "outputs": [],
   "source": [
    "import rasa.data as data\n",
    "nlu_data_directory = data.get_data_directories(training_files, data.is_nlu_file)\n",
    "stories_directory = data.get_data_directories(training_files, data.is_story_file)\n",
    "print(stories_directory, nlu_data_directory)"
   ]
  },
  {
   "cell_type": "code",
   "execution_count": null,
   "metadata": {},
   "outputs": [],
   "source": [
    "rasa.test(model_path, stories_directory, nlu_data_directory)\n",
    "print(\"Done testing.\")"
   ]
  },
  {
   "cell_type": "code",
   "execution_count": 9,
   "metadata": {},
   "outputs": [
    {
     "name": "stdout",
     "output_type": "stream",
     "text": [
      "No NLU errors.\n"
     ]
    }
   ],
   "source": [
    "if os.path.isfile(\"errors.json\"):\n",
    "    print(\"NLU Errors:\")\n",
    "    print(open(\"errors.json\").read())\n",
    "else:\n",
    "    print(\"No NLU errors.\")\n",
    "\n",
    "if os.path.isdir(\"results\"):\n",
    "      print(\"\\n\")\n",
    "      print(\"Core Errors:\")\n",
    "      print(open(\"results/failed_test_stories.yml\").read())"
   ]
  },
  {
   "cell_type": "code",
   "execution_count": null,
   "metadata": {},
   "outputs": [],
   "source": []
  }
 ],
 "metadata": {
  "kernelspec": {
   "display_name": "Python 3",
   "language": "python",
   "name": "python3"
  },
  "language_info": {
   "codemirror_mode": {
    "name": "ipython",
    "version": 3
   },
   "file_extension": ".py",
   "mimetype": "text/x-python",
   "name": "python",
   "nbconvert_exporter": "python",
   "pygments_lexer": "ipython3",
   "version": "3.8.2"
  },
  "nbTranslate": {
   "displayLangs": [
    "*"
   ],
   "hotkey": "alt-t",
   "langInMainMenu": true,
   "sourceLang": "en",
   "targetLang": "fr",
   "useGoogleTranslate": true
  }
 },
 "nbformat": 4,
 "nbformat_minor": 4
}
