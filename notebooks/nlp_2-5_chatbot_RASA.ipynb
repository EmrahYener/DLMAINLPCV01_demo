{
  "nbformat": 4,
  "nbformat_minor": 0,
  "metadata": {
    "kernelspec": {
      "display_name": "Python 3",
      "language": "python",
      "name": "python3"
    },
    "language_info": {
      "codemirror_mode": {
        "name": "ipython",
        "version": 3
      },
      "file_extension": ".py",
      "mimetype": "text/x-python",
      "name": "python",
      "nbconvert_exporter": "python",
      "pygments_lexer": "ipython3",
      "version": "3.8.2"
    },
    "nbTranslate": {
      "displayLangs": [
        "*"
      ],
      "hotkey": "alt-t",
      "langInMainMenu": true,
      "sourceLang": "en",
      "targetLang": "fr",
      "useGoogleTranslate": true
    },
    "colab": {
      "name": "nlp_2-5_chatbot_RASA.ipynb",
      "provenance": [],
      "collapsed_sections": []
    },
    "accelerator": "GPU"
  },
  "cells": [
    {
      "cell_type": "markdown",
      "metadata": {
        "id": "fCDc420aBIw7"
      },
      "source": [
        "chatbot with RASA:\n",
        "\n",
        "Here a simple chatbot with the ``rasa`` python module is shown. The code is based on this [example](https://rasa.com/docs/rasa/jupyter-notebooks/).\n",
        "\n",
        "more about Rasa on github:\n",
        "[RasaHQ](https://github.com/RasaHQ/rasa-demo)"
      ]
    },
    {
      "cell_type": "code",
      "metadata": {
        "id": "3mvdHYEEBr5W",
        "colab": {
          "base_uri": "https://localhost:8080/",
          "height": 1000
        },
        "collapsed": true,
        "outputId": "e344d549-cd04-403f-e5c0-2641bef3137a"
      },
      "source": [
        "# add additional modules\r\n",
        "#\r\n",
        "!pip3 install rasa"
      ],
      "execution_count": null,
      "outputs": [
        {
          "output_type": "stream",
          "text": [
            "Collecting rasa\n",
            "\u001b[?25l  Downloading https://files.pythonhosted.org/packages/4a/d0/dac871d1789bc903c72890a2917b1fbd58f07b68886fe09428c87ddcccd7/rasa-2.2.9-py3-none-any.whl (689kB)\n",
            "\r\u001b[K     |▌                               | 10kB 22.3MB/s eta 0:00:01\r\u001b[K     |█                               | 20kB 30.0MB/s eta 0:00:01\r\u001b[K     |█▍                              | 30kB 23.4MB/s eta 0:00:01\r\u001b[K     |██                              | 40kB 21.4MB/s eta 0:00:01\r\u001b[K     |██▍                             | 51kB 24.1MB/s eta 0:00:01\r\u001b[K     |██▉                             | 61kB 21.8MB/s eta 0:00:01\r\u001b[K     |███▎                            | 71kB 22.6MB/s eta 0:00:01\r\u001b[K     |███▉                            | 81kB 22.8MB/s eta 0:00:01\r\u001b[K     |████▎                           | 92kB 21.1MB/s eta 0:00:01\r\u001b[K     |████▊                           | 102kB 22.0MB/s eta 0:00:01\r\u001b[K     |█████▎                          | 112kB 22.0MB/s eta 0:00:01\r\u001b[K     |█████▊                          | 122kB 22.0MB/s eta 0:00:01\r\u001b[K     |██████▏                         | 133kB 22.0MB/s eta 0:00:01\r\u001b[K     |██████▋                         | 143kB 22.0MB/s eta 0:00:01\r\u001b[K     |███████▏                        | 153kB 22.0MB/s eta 0:00:01\r\u001b[K     |███████▋                        | 163kB 22.0MB/s eta 0:00:01\r\u001b[K     |████████                        | 174kB 22.0MB/s eta 0:00:01\r\u001b[K     |████████▌                       | 184kB 22.0MB/s eta 0:00:01\r\u001b[K     |█████████                       | 194kB 22.0MB/s eta 0:00:01\r\u001b[K     |█████████▌                      | 204kB 22.0MB/s eta 0:00:01\r\u001b[K     |██████████                      | 215kB 22.0MB/s eta 0:00:01\r\u001b[K     |██████████▌                     | 225kB 22.0MB/s eta 0:00:01\r\u001b[K     |███████████                     | 235kB 22.0MB/s eta 0:00:01\r\u001b[K     |███████████▍                    | 245kB 22.0MB/s eta 0:00:01\r\u001b[K     |███████████▉                    | 256kB 22.0MB/s eta 0:00:01\r\u001b[K     |████████████▍                   | 266kB 22.0MB/s eta 0:00:01\r\u001b[K     |████████████▉                   | 276kB 22.0MB/s eta 0:00:01\r\u001b[K     |█████████████▎                  | 286kB 22.0MB/s eta 0:00:01\r\u001b[K     |█████████████▊                  | 296kB 22.0MB/s eta 0:00:01\r\u001b[K     |██████████████▎                 | 307kB 22.0MB/s eta 0:00:01\r\u001b[K     |██████████████▊                 | 317kB 22.0MB/s eta 0:00:01\r\u001b[K     |███████████████▏                | 327kB 22.0MB/s eta 0:00:01\r\u001b[K     |███████████████▊                | 337kB 22.0MB/s eta 0:00:01\r\u001b[K     |████████████████▏               | 348kB 22.0MB/s eta 0:00:01\r\u001b[K     |████████████████▋               | 358kB 22.0MB/s eta 0:00:01\r\u001b[K     |█████████████████               | 368kB 22.0MB/s eta 0:00:01\r\u001b[K     |█████████████████▋              | 378kB 22.0MB/s eta 0:00:01\r\u001b[K     |██████████████████              | 389kB 22.0MB/s eta 0:00:01\r\u001b[K     |██████████████████▌             | 399kB 22.0MB/s eta 0:00:01\r\u001b[K     |███████████████████             | 409kB 22.0MB/s eta 0:00:01\r\u001b[K     |███████████████████▌            | 419kB 22.0MB/s eta 0:00:01\r\u001b[K     |████████████████████            | 430kB 22.0MB/s eta 0:00:01\r\u001b[K     |████████████████████▍           | 440kB 22.0MB/s eta 0:00:01\r\u001b[K     |█████████████████████           | 450kB 22.0MB/s eta 0:00:01\r\u001b[K     |█████████████████████▍          | 460kB 22.0MB/s eta 0:00:01\r\u001b[K     |█████████████████████▉          | 471kB 22.0MB/s eta 0:00:01\r\u001b[K     |██████████████████████▎         | 481kB 22.0MB/s eta 0:00:01\r\u001b[K     |██████████████████████▉         | 491kB 22.0MB/s eta 0:00:01\r\u001b[K     |███████████████████████▎        | 501kB 22.0MB/s eta 0:00:01\r\u001b[K     |███████████████████████▊        | 512kB 22.0MB/s eta 0:00:01\r\u001b[K     |████████████████████████▎       | 522kB 22.0MB/s eta 0:00:01\r\u001b[K     |████████████████████████▊       | 532kB 22.0MB/s eta 0:00:01\r\u001b[K     |█████████████████████████▏      | 542kB 22.0MB/s eta 0:00:01\r\u001b[K     |█████████████████████████▋      | 552kB 22.0MB/s eta 0:00:01\r\u001b[K     |██████████████████████████▏     | 563kB 22.0MB/s eta 0:00:01\r\u001b[K     |██████████████████████████▋     | 573kB 22.0MB/s eta 0:00:01\r\u001b[K     |███████████████████████████     | 583kB 22.0MB/s eta 0:00:01\r\u001b[K     |███████████████████████████▌    | 593kB 22.0MB/s eta 0:00:01\r\u001b[K     |████████████████████████████    | 604kB 22.0MB/s eta 0:00:01\r\u001b[K     |████████████████████████████▌   | 614kB 22.0MB/s eta 0:00:01\r\u001b[K     |█████████████████████████████   | 624kB 22.0MB/s eta 0:00:01\r\u001b[K     |█████████████████████████████▌  | 634kB 22.0MB/s eta 0:00:01\r\u001b[K     |██████████████████████████████  | 645kB 22.0MB/s eta 0:00:01\r\u001b[K     |██████████████████████████████▍ | 655kB 22.0MB/s eta 0:00:01\r\u001b[K     |██████████████████████████████▉ | 665kB 22.0MB/s eta 0:00:01\r\u001b[K     |███████████████████████████████▍| 675kB 22.0MB/s eta 0:00:01\r\u001b[K     |███████████████████████████████▉| 686kB 22.0MB/s eta 0:00:01\r\u001b[K     |████████████████████████████████| 696kB 22.0MB/s \n",
            "\u001b[?25hRequirement already satisfied: networkx<2.6,>=2.4 in /usr/local/lib/python3.6/dist-packages (from rasa) (2.5)\n",
            "Collecting boto3<2.0,>=1.12\n",
            "\u001b[?25l  Downloading https://files.pythonhosted.org/packages/c3/db/a7e290eb77632c9d25247977bbfc99aef9cd59f7c13eea69f8fea44404af/boto3-1.16.63-py2.py3-none-any.whl (130kB)\n",
            "\u001b[K     |████████████████████████████████| 133kB 62.2MB/s \n",
            "\u001b[?25hCollecting colorhash<1.1.0,>=1.0.2\n",
            "  Downloading https://files.pythonhosted.org/packages/ce/73/e867cd41ab0c15b26f89b0382527e525a2bee8f80ef7ac619fbe16f6ece6/colorhash-1.0.3-py3-none-any.whl\n",
            "Requirement already satisfied: tqdm<4.51,>=4.31 in /usr/local/lib/python3.6/dist-packages (from rasa) (4.41.1)\n",
            "Collecting psycopg2-binary<2.9.0,>=2.8.2\n",
            "\u001b[?25l  Downloading https://files.pythonhosted.org/packages/f2/1b/720b36697158113ca1b2221a8e96a470088ccf3770d182214689d1a96a07/psycopg2_binary-2.8.6-cp36-cp36m-manylinux1_x86_64.whl (3.0MB)\n",
            "\u001b[K     |████████████████████████████████| 3.0MB 57.3MB/s \n",
            "\u001b[?25hCollecting pyTelegramBotAPI<4.0.0,>=3.7.3\n",
            "\u001b[?25l  Downloading https://files.pythonhosted.org/packages/3d/44/dda2c6a43306b27eb23c327f780eb48479dfeda15f764f47004ebe60205e/pyTelegramBotAPI-3.7.6.tar.gz (81kB)\n",
            "\u001b[K     |████████████████████████████████| 81kB 14.2MB/s \n",
            "\u001b[?25hCollecting joblib<0.16.0,>=0.15.1\n",
            "\u001b[?25l  Downloading https://files.pythonhosted.org/packages/b8/a6/d1a816b89aa1e9e96bcb298eb1ee1854f21662ebc6d55ffa3d7b3b50122b/joblib-0.15.1-py3-none-any.whl (298kB)\n",
            "\u001b[K     |████████████████████████████████| 307kB 48.0MB/s \n",
            "\u001b[?25hCollecting PyJWT[crypto]<3.0.0,>=2.0.0\n",
            "  Downloading https://files.pythonhosted.org/packages/b4/9b/8850f99027ed029af6828199cc87179eaccbbf1f9e6e373e7f0177d32dad/PyJWT-2.0.1-py3-none-any.whl\n",
            "Collecting jsonschema<3.3,>=3.2\n",
            "\u001b[?25l  Downloading https://files.pythonhosted.org/packages/c5/8f/51e89ce52a085483359217bc72cdbf6e75ee595d5b1d4b5ade40c7e018b8/jsonschema-3.2.0-py2.py3-none-any.whl (56kB)\n",
            "\u001b[K     |████████████████████████████████| 61kB 11.2MB/s \n",
            "\u001b[?25hRequirement already satisfied: cloudpickle<1.5,>=1.2 in /usr/local/lib/python3.6/dist-packages (from rasa) (1.3.0)\n",
            "Collecting attrs<20.3,>=19.3\n",
            "\u001b[?25l  Downloading https://files.pythonhosted.org/packages/14/df/479736ae1ef59842f512548bacefad1abed705e400212acba43f9b0fa556/attrs-20.2.0-py2.py3-none-any.whl (48kB)\n",
            "\u001b[K     |████████████████████████████████| 51kB 9.6MB/s \n",
            "\u001b[?25hRequirement already satisfied: matplotlib<3.4,>=3.1 in /usr/local/lib/python3.6/dist-packages (from rasa) (3.2.2)\n",
            "Collecting aio-pika<7.0.0,>=6.7.1\n",
            "\u001b[?25l  Downloading https://files.pythonhosted.org/packages/57/9a/6fc106a9827e4424c4e0172674344086e5c0066c087f58b00c2d072b32af/aio_pika-6.7.1-py3-none-any.whl (41kB)\n",
            "\u001b[K     |████████████████████████████████| 51kB 9.4MB/s \n",
            "\u001b[?25hRequirement already satisfied: python-dateutil<2.9,>=2.8 in /usr/local/lib/python3.6/dist-packages (from rasa) (2.8.1)\n",
            "Collecting tensorflow-estimator<2.4,>=2.3\n",
            "\u001b[?25l  Downloading https://files.pythonhosted.org/packages/e9/ed/5853ec0ae380cba4588eab1524e18ece1583b65f7ae0e97321f5ff9dfd60/tensorflow_estimator-2.3.0-py2.py3-none-any.whl (459kB)\n",
            "\u001b[K     |████████████████████████████████| 460kB 51.8MB/s \n",
            "\u001b[?25hCollecting sanic-jwt<2.0,>=1.3.2\n",
            "  Downloading https://files.pythonhosted.org/packages/99/13/700ec275cace4448735e425fd41f135225d0a7be3926c0cddc74757ee8da/sanic-jwt-1.6.0.tar.gz\n",
            "Collecting rocketchat_API<1.10.0,>=0.6.31\n",
            "  Downloading https://files.pythonhosted.org/packages/fb/eb/bbedade2a83f04f8dbc9433cc1663e56585ff9be29d10a0fc4eb8bb01faa/rocketchat_API-1.9.1-py3-none-any.whl\n",
            "Collecting ujson<4.0,>=1.35\n",
            "\u001b[?25l  Downloading https://files.pythonhosted.org/packages/1c/8f/51bb597e79e4c642395c4512218dc6b475773701e67a84602c82fbdb77c9/ujson-3.2.0-cp36-cp36m-manylinux1_x86_64.whl (179kB)\n",
            "\u001b[K     |████████████████████████████████| 184kB 60.8MB/s \n",
            "\u001b[?25hRequirement already satisfied: scikit-learn<0.24,>=0.22 in /usr/local/lib/python3.6/dist-packages (from rasa) (0.22.2.post1)\n",
            "Requirement already satisfied: setuptools>=41.0.0 in /usr/local/lib/python3.6/dist-packages (from rasa) (53.0.0)\n",
            "Collecting webexteamssdk<1.7.0,>=1.1.1\n",
            "\u001b[?25l  Downloading https://files.pythonhosted.org/packages/4d/27/20edad1a463bd709e90ccc6be12cd5ce5db7ebeda98084143902c226adda/webexteamssdk-1.6-py3-none-any.whl (113kB)\n",
            "\u001b[K     |████████████████████████████████| 122kB 63.4MB/s \n",
            "\u001b[?25hCollecting sanic-cors<0.11.0,>=0.10.0b1\n",
            "  Downloading https://files.pythonhosted.org/packages/2d/33/5e1776669aa62dd9c65e3513425077915acb1758d6b19f08f830f27ce9a8/Sanic_Cors-0.10.0.post3-py2.py3-none-any.whl\n",
            "Collecting pytz<2021.0,>=2019.1\n",
            "\u001b[?25l  Downloading https://files.pythonhosted.org/packages/89/06/2c2d3034b4d6bf22f2a4ae546d16925898658a33b4400cfb7e2c1e2871a3/pytz-2020.5-py2.py3-none-any.whl (510kB)\n",
            "\u001b[K     |████████████████████████████████| 512kB 57.0MB/s \n",
            "\u001b[?25hRequirement already satisfied: requests<3.0,>=2.23 in /usr/local/lib/python3.6/dist-packages (from rasa) (2.23.0)\n",
            "Collecting tensorflow-probability<0.12,>=0.11\n",
            "\u001b[?25l  Downloading https://files.pythonhosted.org/packages/b3/99/07d4220b021a5d6f6b3de8872f2a634389ad224f8508258452e57aaaf328/tensorflow_probability-0.11.1-py2.py3-none-any.whl (4.3MB)\n",
            "\u001b[K     |████████████████████████████████| 4.3MB 56.8MB/s \n",
            "\u001b[?25hRequirement already satisfied: SQLAlchemy<1.4.0,>=1.3.3 in /usr/local/lib/python3.6/dist-packages (from rasa) (1.3.22)\n",
            "Collecting pymongo[srv,tls]<3.11,>=3.8\n",
            "\u001b[?25l  Downloading https://files.pythonhosted.org/packages/df/a5/84cf94d7718a107d84ac897c39850bbdd509a924b05942cad4768031ac6f/pymongo-3.10.1-cp36-cp36m-manylinux2014_x86_64.whl (460kB)\n",
            "\u001b[K     |████████████████████████████████| 460kB 59.6MB/s \n",
            "\u001b[?25hCollecting python-socketio<4.7,>=4.4\n",
            "\u001b[?25l  Downloading https://files.pythonhosted.org/packages/b2/91/d78afbe5861de53cafe9dcc6eb1a802d5495cfbffb79b8385ee7cf15a71c/python_socketio-4.6.1-py2.py3-none-any.whl (51kB)\n",
            "\u001b[K     |████████████████████████████████| 61kB 11.1MB/s \n",
            "\u001b[?25hRequirement already satisfied: async_generator<1.11,>=1.10 in /usr/local/lib/python3.6/dist-packages (from rasa) (1.10)\n",
            "Collecting multidict<5.0,>=4.6\n",
            "\u001b[?25l  Downloading https://files.pythonhosted.org/packages/1a/95/f50352b5366e7d579e8b99631680a9e32e1b22adfa1629a8f23b1d22d5e2/multidict-4.7.6-cp36-cp36m-manylinux1_x86_64.whl (148kB)\n",
            "\u001b[K     |████████████████████████████████| 153kB 60.2MB/s \n",
            "\u001b[?25hCollecting prompt-toolkit<3.0,>=2.0\n",
            "\u001b[?25l  Downloading https://files.pythonhosted.org/packages/87/61/2dfea88583d5454e3a64f9308a686071d58d59a55db638268a6413e1eb6d/prompt_toolkit-2.0.10-py3-none-any.whl (340kB)\n",
            "\u001b[K     |████████████████████████████████| 348kB 53.1MB/s \n",
            "\u001b[?25hCollecting redis<4.0,>=3.4\n",
            "\u001b[?25l  Downloading https://files.pythonhosted.org/packages/a7/7c/24fb0511df653cf1a5d938d8f5d19802a88cef255706fdda242ff97e91b7/redis-3.5.3-py2.py3-none-any.whl (72kB)\n",
            "\u001b[K     |████████████████████████████████| 81kB 13.8MB/s \n",
            "\u001b[?25hCollecting tensorflow<2.4,>=2.3\n",
            "\u001b[?25l  Downloading https://files.pythonhosted.org/packages/a8/a6/4c656fb0361871f8013ce5aba2ef2bf5f7dddf1cd7a9dc34c87934662e2c/tensorflow-2.3.2-cp36-cp36m-manylinux2010_x86_64.whl (320.4MB)\n",
            "\u001b[K     |████████████████████████████████| 320.4MB 48kB/s \n",
            "\u001b[?25hCollecting slackclient<3.0.0,>=2.0.0\n",
            "\u001b[?25l  Downloading https://files.pythonhosted.org/packages/ed/27/de9ce989d0964518152e1a164b08971c77a173b051a153e50220f1a963d9/slackclient-2.9.3-py2.py3-none-any.whl (96kB)\n",
            "\u001b[K     |████████████████████████████████| 102kB 9.5MB/s \n",
            "\u001b[?25hCollecting questionary<1.6.0,>=1.5.1\n",
            "  Downloading https://files.pythonhosted.org/packages/05/7d/61b7d0da15bb50e7239c870771320026447b7e2d9490ee96f49dddd3ef0d/questionary-1.5.2-py3-none-any.whl\n",
            "Collecting tensorflow-addons<=0.12,>=0.10\n",
            "\u001b[?25l  Downloading https://files.pythonhosted.org/packages/d6/98/8e97194e774f35a1319668e12571d5fa19f323e0ccae9d9890258aab1fcc/tensorflow_addons-0.12.0-cp36-cp36m-manylinux2010_x86_64.whl (703kB)\n",
            "\u001b[K     |████████████████████████████████| 706kB 52.0MB/s \n",
            "\u001b[?25hRequirement already satisfied: absl-py<0.11,>=0.9 in /usr/local/lib/python3.6/dist-packages (from rasa) (0.10.0)\n",
            "Collecting mattermostwrapper<2.3,>=2.2\n",
            "  Downloading https://files.pythonhosted.org/packages/d7/fd/f1ce046ddaeffa5073f87d7800c27ad2c8e543e924a8418675c64aea6a14/mattermostwrapper-2.2.tar.gz\n",
            "Requirement already satisfied: packaging<21.0,>=20.0 in /usr/local/lib/python3.6/dist-packages (from rasa) (20.8)\n",
            "Requirement already satisfied: numpy<2.0,>=1.16 in /usr/local/lib/python3.6/dist-packages (from rasa) (1.19.5)\n",
            "Collecting kafka-python<3.0,>=1.4\n",
            "\u001b[?25l  Downloading https://files.pythonhosted.org/packages/75/68/dcb0db055309f680ab2931a3eeb22d865604b638acf8c914bedf4c1a0c8c/kafka_python-2.0.2-py2.py3-none-any.whl (246kB)\n",
            "\u001b[K     |████████████████████████████████| 256kB 56.9MB/s \n",
            "\u001b[?25hCollecting pykwalify<1.8.0,>=1.7.0\n",
            "\u001b[?25l  Downloading https://files.pythonhosted.org/packages/36/9f/612de8ca540bd24d604f544248c4c46e9db76f6ea5eb75fb4244da6ebbf0/pykwalify-1.7.0-py2.py3-none-any.whl (40kB)\n",
            "\u001b[K     |████████████████████████████████| 40kB 7.8MB/s \n",
            "\u001b[?25hCollecting aiohttp<3.7,>=3.6\n",
            "\u001b[?25l  Downloading https://files.pythonhosted.org/packages/78/a6/93acfa8f8b3573c4445ace2f266de62783231923706a4c3ab705e7d43497/aiohttp-3.6.3-cp36-cp36m-manylinux1_x86_64.whl (1.2MB)\n",
            "\u001b[K     |████████████████████████████████| 1.2MB 51.2MB/s \n",
            "\u001b[?25hCollecting twilio<6.46,>=6.26\n",
            "\u001b[?25l  Downloading https://files.pythonhosted.org/packages/68/12/1904b22c2d622a4f1eeb3bea84250f07ed2bfc65fff6139bf1ba7111dd21/twilio-6.45.4.tar.gz (457kB)\n",
            "\u001b[K     |████████████████████████████████| 460kB 64.5MB/s \n",
            "\u001b[?25hCollecting tensorflow_hub<0.10,>=0.9\n",
            "\u001b[?25l  Downloading https://files.pythonhosted.org/packages/ac/83/a7df82744a794107641dad1decaad017d82e25f0e1f761ac9204829eef96/tensorflow_hub-0.9.0-py2.py3-none-any.whl (103kB)\n",
            "\u001b[K     |████████████████████████████████| 112kB 53.6MB/s \n",
            "\u001b[?25hRequirement already satisfied: oauth2client==4.1.3 in /usr/local/lib/python3.6/dist-packages (from rasa) (4.1.3)\n",
            "Collecting fbmessenger<6.1.0,>=6.0.0\n",
            "  Downloading https://files.pythonhosted.org/packages/bd/e9/646684226176782b9e3b7dd5b35d7ecfd1d13cba24ad2e33255079921aab/fbmessenger-6.0.0-py2.py3-none-any.whl\n",
            "Collecting apscheduler<3.7,>=3.6\n",
            "\u001b[?25l  Downloading https://files.pythonhosted.org/packages/f3/34/9ef20ed473c4fd2c3df54ef77a27ae3fc7500b16b192add4720cab8b2c09/APScheduler-3.6.3-py2.py3-none-any.whl (58kB)\n",
            "\u001b[K     |████████████████████████████████| 61kB 10.6MB/s \n",
            "\u001b[?25hCollecting sentry-sdk<0.20.0,>=0.17.0\n",
            "\u001b[?25l  Downloading https://files.pythonhosted.org/packages/b1/5c/018bf9a5c24343a664deaea70e61f33f53bb1bd3caf193110f827bfd07e2/sentry_sdk-0.19.5-py2.py3-none-any.whl (128kB)\n",
            "\u001b[K     |████████████████████████████████| 133kB 56.2MB/s \n",
            "\u001b[?25hCollecting sklearn-crfsuite<0.4,>=0.3\n",
            "  Downloading https://files.pythonhosted.org/packages/25/74/5b7befa513482e6dee1f3dd68171a6c9dfc14c0eaa00f885ffeba54fe9b0/sklearn_crfsuite-0.3.6-py2.py3-none-any.whl\n",
            "Collecting sanic<21.0.0,>=19.12.2\n",
            "\u001b[?25l  Downloading https://files.pythonhosted.org/packages/f0/9d/30d32d1705988494426932caa4ee7f35fc7f42f56c20ca19ee5cdac7a2b2/sanic-20.12.1-py3-none-any.whl (79kB)\n",
            "\u001b[K     |████████████████████████████████| 81kB 13.2MB/s \n",
            "\u001b[?25hCollecting regex<2020.10,>=2020.6\n",
            "\u001b[?25l  Downloading https://files.pythonhosted.org/packages/e4/90/0dae9bdebd8f8f8a39f1b80fdef240bec36ff64359f5fc584034ce4633cf/regex-2020.9.27-cp36-cp36m-manylinux2010_x86_64.whl (662kB)\n",
            "\u001b[K     |████████████████████████████████| 665kB 57.7MB/s \n",
            "\u001b[?25hCollecting jsonpickle<1.5,>=1.3\n",
            "  Downloading https://files.pythonhosted.org/packages/ee/d5/1cc282dc23346a43aab461bf2e8c36593aacd34242bee1a13fa750db0cfe/jsonpickle-1.4.2-py2.py3-none-any.whl\n",
            "Collecting rasa-sdk<3.0.0,>=2.2.0\n",
            "\u001b[?25l  Downloading https://files.pythonhosted.org/packages/12/7b/62f62d7a036a21e2b9426337782c2bd789dc81001823ae3ffe2e844b381e/rasa_sdk-2.2.0-py3-none-any.whl (42kB)\n",
            "\u001b[K     |████████████████████████████████| 51kB 9.3MB/s \n",
            "\u001b[?25hCollecting ruamel.yaml<0.17.0,>=0.16.5\n",
            "\u001b[?25l  Downloading https://files.pythonhosted.org/packages/7e/39/186f14f3836ac5d2a6a042c8de69988770e8b9abb537610edc429e4914aa/ruamel.yaml-0.16.12-py2.py3-none-any.whl (111kB)\n",
            "\u001b[K     |████████████████████████████████| 112kB 59.3MB/s \n",
            "\u001b[?25hRequirement already satisfied: scipy<2.0.0,>=1.4.1 in /usr/local/lib/python3.6/dist-packages (from rasa) (1.4.1)\n",
            "Collecting terminaltables<3.2.0,>=3.1.0\n",
            "  Downloading https://files.pythonhosted.org/packages/9b/c4/4a21174f32f8a7e1104798c445dacdc1d4df86f2f26722767034e4de4bff/terminaltables-3.1.0.tar.gz\n",
            "Collecting colorclass<2.3,>=2.2\n",
            "  Downloading https://files.pythonhosted.org/packages/37/ea/ae8dbb956939d4392e6a7fdef87fda273854da1128edae016c4104240be8/colorclass-2.2.0.tar.gz\n",
            "Collecting pydot<1.5,>=1.4\n",
            "  Downloading https://files.pythonhosted.org/packages/33/d1/b1479a770f66d962f545c2101630ce1d5592d90cb4f083d38862e93d16d2/pydot-1.4.1-py2.py3-none-any.whl\n",
            "Collecting python-engineio<3.14,>=3.11\n",
            "\u001b[?25l  Downloading https://files.pythonhosted.org/packages/4a/b0/602e549c6d735eb487f186b35e0b82e61c89459f57d1c24d5c7be6f56d05/python_engineio-3.13.2-py2.py3-none-any.whl (50kB)\n",
            "\u001b[K     |████████████████████████████████| 51kB 9.1MB/s \n",
            "\u001b[?25hCollecting coloredlogs<15,>=10\n",
            "\u001b[?25l  Downloading https://files.pythonhosted.org/packages/f3/56/c11e7ef34316b22db4e6d1b9de6e54f332243b72ce63eab676f87744d5ad/coloredlogs-14.3-py2.py3-none-any.whl (44kB)\n",
            "\u001b[K     |████████████████████████████████| 51kB 9.4MB/s \n",
            "\u001b[?25hCollecting tensorflow-text<2.4,>=2.3; sys_platform != \"win32\"\n",
            "\u001b[?25l  Downloading https://files.pythonhosted.org/packages/28/b2/2dbd90b93913afd07e6101b8b84327c401c394e60141c1e98590038060b3/tensorflow_text-2.3.0-cp36-cp36m-manylinux1_x86_64.whl (2.6MB)\n",
            "\u001b[K     |████████████████████████████████| 2.6MB 43.3MB/s \n",
            "\u001b[?25hRequirement already satisfied: decorator>=4.3.0 in /usr/local/lib/python3.6/dist-packages (from networkx<2.6,>=2.4->rasa) (4.4.2)\n",
            "Collecting s3transfer<0.4.0,>=0.3.0\n",
            "\u001b[?25l  Downloading https://files.pythonhosted.org/packages/ea/43/4b4a1b26eb03a429a4c37ca7fdf369d938bd60018fc194e94b8379b0c77c/s3transfer-0.3.4-py2.py3-none-any.whl (69kB)\n",
            "\u001b[K     |████████████████████████████████| 71kB 11.1MB/s \n",
            "\u001b[?25hCollecting jmespath<1.0.0,>=0.7.1\n",
            "  Downloading https://files.pythonhosted.org/packages/07/cb/5f001272b6faeb23c1c9e0acc04d48eaaf5c862c17709d20e3469c6e0139/jmespath-0.10.0-py2.py3-none-any.whl\n",
            "Collecting botocore<1.20.0,>=1.19.63\n",
            "\u001b[?25l  Downloading https://files.pythonhosted.org/packages/2c/05/0a955f0c92bec7da076fbbc73926dfb13fab8e2b88de7f8eb17c443f28f0/botocore-1.19.63-py2.py3-none-any.whl (7.2MB)\n",
            "\u001b[K     |████████████████████████████████| 7.2MB 39.2MB/s \n",
            "\u001b[?25hCollecting cryptography<4.0.0,>=3.3.1; extra == \"crypto\"\n",
            "\u001b[?25l  Downloading https://files.pythonhosted.org/packages/c9/de/7054df0620b5411ba45480f0261e1fb66a53f3db31b28e3aa52c026e72d9/cryptography-3.3.1-cp36-abi3-manylinux2010_x86_64.whl (2.6MB)\n",
            "\u001b[K     |████████████████████████████████| 2.6MB 50.1MB/s \n",
            "\u001b[?25hRequirement already satisfied: pyrsistent>=0.14.0 in /usr/local/lib/python3.6/dist-packages (from jsonschema<3.3,>=3.2->rasa) (0.17.3)\n",
            "Requirement already satisfied: six>=1.11.0 in /usr/local/lib/python3.6/dist-packages (from jsonschema<3.3,>=3.2->rasa) (1.15.0)\n",
            "Requirement already satisfied: importlib-metadata; python_version < \"3.8\" in /usr/local/lib/python3.6/dist-packages (from jsonschema<3.3,>=3.2->rasa) (3.4.0)\n",
            "Requirement already satisfied: kiwisolver>=1.0.1 in /usr/local/lib/python3.6/dist-packages (from matplotlib<3.4,>=3.1->rasa) (1.3.1)\n",
            "Requirement already satisfied: pyparsing!=2.0.4,!=2.1.2,!=2.1.6,>=2.0.1 in /usr/local/lib/python3.6/dist-packages (from matplotlib<3.4,>=3.1->rasa) (2.4.7)\n",
            "Requirement already satisfied: cycler>=0.10 in /usr/local/lib/python3.6/dist-packages (from matplotlib<3.4,>=3.1->rasa) (0.10.0)\n",
            "Collecting aiormq<4,>=3.2.3\n",
            "  Downloading https://files.pythonhosted.org/packages/0b/c4/dc5b9d50c15af2ee187974a5a0c3f20c06cce6559eea4c065d372e846b6a/aiormq-3.3.1-py3-none-any.whl\n",
            "Collecting yarl\n",
            "\u001b[?25l  Downloading https://files.pythonhosted.org/packages/da/08/52b26b44bce7b818b410aee37c5e424c9ea420c557bca97dc2adac29b151/yarl-1.6.3-cp36-cp36m-manylinux2014_x86_64.whl (293kB)\n",
            "\u001b[K     |████████████████████████████████| 296kB 62.7MB/s \n",
            "\u001b[?25hRequirement already satisfied: future in /usr/local/lib/python3.6/dist-packages (from webexteamssdk<1.7.0,>=1.1.1->rasa) (0.16.0)\n",
            "Collecting requests-toolbelt\n",
            "\u001b[?25l  Downloading https://files.pythonhosted.org/packages/60/ef/7681134338fc097acef8d9b2f8abe0458e4d87559c689a8c306d0957ece5/requests_toolbelt-0.9.1-py2.py3-none-any.whl (54kB)\n",
            "\u001b[K     |████████████████████████████████| 61kB 10.8MB/s \n",
            "\u001b[?25hCollecting sanic-plugins-framework>=0.9.0\n",
            "  Downloading https://files.pythonhosted.org/packages/06/19/b8770ed083f405d00235080d697ad59adbfe92195e32cc649bbe0af5ab20/Sanic_Plugins_Framework-0.9.5-py2.py3-none-any.whl\n",
            "Requirement already satisfied: idna<3,>=2.5 in /usr/local/lib/python3.6/dist-packages (from requests<3.0,>=2.23->rasa) (2.10)\n",
            "Requirement already satisfied: chardet<4,>=3.0.2 in /usr/local/lib/python3.6/dist-packages (from requests<3.0,>=2.23->rasa) (3.0.4)\n",
            "Requirement already satisfied: urllib3!=1.25.0,!=1.25.1,<1.26,>=1.21.1 in /usr/local/lib/python3.6/dist-packages (from requests<3.0,>=2.23->rasa) (1.24.3)\n",
            "Requirement already satisfied: certifi>=2017.4.17 in /usr/local/lib/python3.6/dist-packages (from requests<3.0,>=2.23->rasa) (2020.12.5)\n",
            "Requirement already satisfied: dm-tree in /usr/local/lib/python3.6/dist-packages (from tensorflow-probability<0.12,>=0.11->rasa) (0.1.5)\n",
            "Requirement already satisfied: gast>=0.3.2 in /usr/local/lib/python3.6/dist-packages (from tensorflow-probability<0.12,>=0.11->rasa) (0.3.3)\n",
            "Collecting dnspython<2.0.0,>=1.16.0; extra == \"srv\"\n",
            "\u001b[?25l  Downloading https://files.pythonhosted.org/packages/ec/d3/3aa0e7213ef72b8585747aa0e271a9523e713813b9a20177ebe1e939deb0/dnspython-1.16.0-py2.py3-none-any.whl (188kB)\n",
            "\u001b[K     |████████████████████████████████| 194kB 62.0MB/s \n",
            "\u001b[?25hRequirement already satisfied: wcwidth in /usr/local/lib/python3.6/dist-packages (from prompt-toolkit<3.0,>=2.0->rasa) (0.2.5)\n",
            "Requirement already satisfied: opt-einsum>=2.3.2 in /usr/local/lib/python3.6/dist-packages (from tensorflow<2.4,>=2.3->rasa) (3.3.0)\n",
            "Requirement already satisfied: protobuf>=3.9.2 in /usr/local/lib/python3.6/dist-packages (from tensorflow<2.4,>=2.3->rasa) (3.12.4)\n",
            "Requirement already satisfied: google-pasta>=0.1.8 in /usr/local/lib/python3.6/dist-packages (from tensorflow<2.4,>=2.3->rasa) (0.2.0)\n",
            "Requirement already satisfied: wheel>=0.26 in /usr/local/lib/python3.6/dist-packages (from tensorflow<2.4,>=2.3->rasa) (0.36.2)\n",
            "Requirement already satisfied: astunparse==1.6.3 in /usr/local/lib/python3.6/dist-packages (from tensorflow<2.4,>=2.3->rasa) (1.6.3)\n",
            "Requirement already satisfied: keras-preprocessing<1.2,>=1.1.1 in /usr/local/lib/python3.6/dist-packages (from tensorflow<2.4,>=2.3->rasa) (1.1.2)\n",
            "Requirement already satisfied: tensorboard<3,>=2.3.0 in /usr/local/lib/python3.6/dist-packages (from tensorflow<2.4,>=2.3->rasa) (2.4.1)\n",
            "Requirement already satisfied: termcolor>=1.1.0 in /usr/local/lib/python3.6/dist-packages (from tensorflow<2.4,>=2.3->rasa) (1.1.0)\n",
            "Requirement already satisfied: h5py<2.11.0,>=2.10.0 in /usr/local/lib/python3.6/dist-packages (from tensorflow<2.4,>=2.3->rasa) (2.10.0)\n",
            "Requirement already satisfied: grpcio>=1.8.6 in /usr/local/lib/python3.6/dist-packages (from tensorflow<2.4,>=2.3->rasa) (1.32.0)\n",
            "Requirement already satisfied: wrapt>=1.11.1 in /usr/local/lib/python3.6/dist-packages (from tensorflow<2.4,>=2.3->rasa) (1.12.1)\n",
            "Requirement already satisfied: typeguard>=2.7 in /usr/local/lib/python3.6/dist-packages (from tensorflow-addons<=0.12,>=0.10->rasa) (2.7.1)\n",
            "Requirement already satisfied: PyYAML>=3.11 in /usr/local/lib/python3.6/dist-packages (from pykwalify<1.8.0,>=1.7.0->rasa) (3.13)\n",
            "Requirement already satisfied: docopt>=0.6.2 in /usr/local/lib/python3.6/dist-packages (from pykwalify<1.8.0,>=1.7.0->rasa) (0.6.2)\n",
            "Requirement already satisfied: typing-extensions>=3.6.5; python_version < \"3.7\" in /usr/local/lib/python3.6/dist-packages (from aiohttp<3.7,>=3.6->rasa) (3.7.4.3)\n",
            "Collecting async-timeout<4.0,>=3.0\n",
            "  Downloading https://files.pythonhosted.org/packages/e1/1e/5a4441be21b0726c4464f3f23c8b19628372f606755a9d2e46c187e65ec4/async_timeout-3.0.1-py3-none-any.whl\n",
            "Collecting idna-ssl>=1.0; python_version < \"3.7\"\n",
            "  Downloading https://files.pythonhosted.org/packages/46/03/07c4894aae38b0de52b52586b24bf189bb83e4ddabfe2e2c8f2419eec6f4/idna-ssl-1.1.0.tar.gz\n",
            "Requirement already satisfied: pyasn1>=0.1.7 in /usr/local/lib/python3.6/dist-packages (from oauth2client==4.1.3->rasa) (0.4.8)\n",
            "Requirement already satisfied: rsa>=3.1.4 in /usr/local/lib/python3.6/dist-packages (from oauth2client==4.1.3->rasa) (4.7)\n",
            "Requirement already satisfied: httplib2>=0.9.1 in /usr/local/lib/python3.6/dist-packages (from oauth2client==4.1.3->rasa) (0.17.4)\n",
            "Requirement already satisfied: pyasn1-modules>=0.0.5 in /usr/local/lib/python3.6/dist-packages (from oauth2client==4.1.3->rasa) (0.2.8)\n",
            "Requirement already satisfied: tzlocal>=1.2 in /usr/local/lib/python3.6/dist-packages (from apscheduler<3.7,>=3.6->rasa) (1.5.1)\n",
            "Requirement already satisfied: tabulate in /usr/local/lib/python3.6/dist-packages (from sklearn-crfsuite<0.4,>=0.3->rasa) (0.8.7)\n",
            "Collecting python-crfsuite>=0.8.3\n",
            "\u001b[?25l  Downloading https://files.pythonhosted.org/packages/95/99/869dde6dbf3e0d07a013c8eebfb0a3d30776334e0097f8432b631a9a3a19/python_crfsuite-0.9.7-cp36-cp36m-manylinux1_x86_64.whl (743kB)\n",
            "\u001b[K     |████████████████████████████████| 747kB 51.5MB/s \n",
            "\u001b[?25hCollecting websockets<9.0,>=8.1\n",
            "\u001b[?25l  Downloading https://files.pythonhosted.org/packages/bb/d9/856af84843912e2853b1b6e898ac8b802989fcf9ecf8e8445a1da263bf3b/websockets-8.1-cp36-cp36m-manylinux2010_x86_64.whl (78kB)\n",
            "\u001b[K     |████████████████████████████████| 81kB 12.5MB/s \n",
            "\u001b[?25hCollecting aiofiles>=0.6.0\n",
            "  Downloading https://files.pythonhosted.org/packages/ba/21/df5eae4b6db2eb00d58428dd7f793ecbf99942fcafcea141cbf108fa72f4/aiofiles-0.6.0-py3-none-any.whl\n",
            "Collecting httpx==0.15.4\n",
            "\u001b[?25l  Downloading https://files.pythonhosted.org/packages/b3/01/0b3a83352d75e3e57134abf5bef8fa3c64152e6107b5d57d510ad8d49a2a/httpx-0.15.4-py3-none-any.whl (65kB)\n",
            "\u001b[K     |████████████████████████████████| 71kB 9.7MB/s \n",
            "\u001b[?25hCollecting httptools>=0.0.10\n",
            "\u001b[?25l  Downloading https://files.pythonhosted.org/packages/b1/a6/dc1e7e8f4049ab70d52c9690ec10652e268ab2542853033cc1d539594102/httptools-0.1.1-cp36-cp36m-manylinux1_x86_64.whl (216kB)\n",
            "\u001b[K     |████████████████████████████████| 225kB 64.8MB/s \n",
            "\u001b[?25hCollecting uvloop>=0.5.3; sys_platform != \"win32\" and implementation_name == \"cpython\"\n",
            "\u001b[?25l  Downloading https://files.pythonhosted.org/packages/41/48/586225bbb02d3bdca475b17e4be5ce5b3f09da2d6979f359916c1592a687/uvloop-0.14.0-cp36-cp36m-manylinux2010_x86_64.whl (3.9MB)\n",
            "\u001b[K     |████████████████████████████████| 3.9MB 48.4MB/s \n",
            "\u001b[?25hCollecting ruamel.yaml.clib>=0.1.2; platform_python_implementation == \"CPython\" and python_version < \"3.9\"\n",
            "\u001b[?25l  Downloading https://files.pythonhosted.org/packages/88/ff/ec25dc01ef04232a9e68ff18492e37dfa01f1f58172e702ad4f38536d41b/ruamel.yaml.clib-0.2.2-cp36-cp36m-manylinux1_x86_64.whl (549kB)\n",
            "\u001b[K     |████████████████████████████████| 552kB 60.9MB/s \n",
            "\u001b[?25hCollecting humanfriendly>=7.1\n",
            "\u001b[?25l  Downloading https://files.pythonhosted.org/packages/93/66/363d01a81da2108a5cf446daf619779f06d49a0c4426dd02b40734f10e2f/humanfriendly-9.1-py2.py3-none-any.whl (86kB)\n",
            "\u001b[K     |████████████████████████████████| 92kB 14.4MB/s \n",
            "\u001b[?25hRequirement already satisfied: cffi>=1.12 in /usr/local/lib/python3.6/dist-packages (from cryptography<4.0.0,>=3.3.1; extra == \"crypto\"->PyJWT[crypto]<3.0.0,>=2.0.0->rasa) (1.14.4)\n",
            "Requirement already satisfied: zipp>=0.5 in /usr/local/lib/python3.6/dist-packages (from importlib-metadata; python_version < \"3.8\"->jsonschema<3.3,>=3.2->rasa) (3.4.0)\n",
            "Collecting pamqp==2.3.0\n",
            "  Downloading https://files.pythonhosted.org/packages/eb/56/afa06143361e640c9159d828dadc95fc9195c52c95b4a97d136617b0166d/pamqp-2.3.0-py2.py3-none-any.whl\n",
            "Requirement already satisfied: google-auth<2,>=1.6.3 in /usr/local/lib/python3.6/dist-packages (from tensorboard<3,>=2.3.0->tensorflow<2.4,>=2.3->rasa) (1.24.0)\n",
            "Requirement already satisfied: werkzeug>=0.11.15 in /usr/local/lib/python3.6/dist-packages (from tensorboard<3,>=2.3.0->tensorflow<2.4,>=2.3->rasa) (1.0.1)\n",
            "Requirement already satisfied: markdown>=2.6.8 in /usr/local/lib/python3.6/dist-packages (from tensorboard<3,>=2.3.0->tensorflow<2.4,>=2.3->rasa) (3.3.3)\n",
            "Requirement already satisfied: tensorboard-plugin-wit>=1.6.0 in /usr/local/lib/python3.6/dist-packages (from tensorboard<3,>=2.3.0->tensorflow<2.4,>=2.3->rasa) (1.8.0)\n",
            "Requirement already satisfied: google-auth-oauthlib<0.5,>=0.4.1 in /usr/local/lib/python3.6/dist-packages (from tensorboard<3,>=2.3.0->tensorflow<2.4,>=2.3->rasa) (0.4.2)\n",
            "Collecting rfc3986[idna2008]<2,>=1.3\n",
            "  Downloading https://files.pythonhosted.org/packages/78/be/7b8b99fd74ff5684225f50dd0e865393d2265656ef3b4ba9eaaaffe622b8/rfc3986-1.4.0-py2.py3-none-any.whl\n",
            "Collecting sniffio\n",
            "  Downloading https://files.pythonhosted.org/packages/52/b0/7b2e028b63d092804b6794595871f936aafa5e9322dcaaad50ebf67445b3/sniffio-1.2.0-py3-none-any.whl\n",
            "Collecting httpcore==0.11.*\n",
            "\u001b[?25l  Downloading https://files.pythonhosted.org/packages/d8/e7/f25e08617b4be99d38e4ef6c4d1b744bf065b9c93156ecd691d95897e0e4/httpcore-0.11.1-py3-none-any.whl (52kB)\n",
            "\u001b[K     |████████████████████████████████| 61kB 10.5MB/s \n",
            "\u001b[?25hRequirement already satisfied: pycparser in /usr/local/lib/python3.6/dist-packages (from cffi>=1.12->cryptography<4.0.0,>=3.3.1; extra == \"crypto\"->PyJWT[crypto]<3.0.0,>=2.0.0->rasa) (2.20)\n",
            "Requirement already satisfied: cachetools<5.0,>=2.0.0 in /usr/local/lib/python3.6/dist-packages (from google-auth<2,>=1.6.3->tensorboard<3,>=2.3.0->tensorflow<2.4,>=2.3->rasa) (4.2.1)\n",
            "Requirement already satisfied: requests-oauthlib>=0.7.0 in /usr/local/lib/python3.6/dist-packages (from google-auth-oauthlib<0.5,>=0.4.1->tensorboard<3,>=2.3.0->tensorflow<2.4,>=2.3->rasa) (1.3.0)\n",
            "Collecting contextvars>=2.1; python_version < \"3.7\"\n",
            "  Downloading https://files.pythonhosted.org/packages/83/96/55b82d9f13763be9d672622e1b8106c85acb83edd7cc2fa5bc67cd9877e9/contextvars-2.4.tar.gz\n",
            "Collecting h11<0.10,>=0.8\n",
            "\u001b[?25l  Downloading https://files.pythonhosted.org/packages/5a/fd/3dad730b0f95e78aeeb742f96fa7bbecbdd56a58e405d3da440d5bfb90c6/h11-0.9.0-py2.py3-none-any.whl (53kB)\n",
            "\u001b[K     |████████████████████████████████| 61kB 10.3MB/s \n",
            "\u001b[?25hRequirement already satisfied: oauthlib>=3.0.0 in /usr/local/lib/python3.6/dist-packages (from requests-oauthlib>=0.7.0->google-auth-oauthlib<0.5,>=0.4.1->tensorboard<3,>=2.3.0->tensorflow<2.4,>=2.3->rasa) (3.1.0)\n",
            "Collecting immutables>=0.9\n",
            "\u001b[?25l  Downloading https://files.pythonhosted.org/packages/99/e0/ea6fd4697120327d26773b5a84853f897a68e33d3f9376b00a8ff96e4f63/immutables-0.14-cp36-cp36m-manylinux1_x86_64.whl (98kB)\n",
            "\u001b[K     |████████████████████████████████| 102kB 15.1MB/s \n",
            "\u001b[?25hBuilding wheels for collected packages: pyTelegramBotAPI, sanic-jwt, mattermostwrapper, twilio, terminaltables, colorclass, idna-ssl, contextvars\n",
            "  Building wheel for pyTelegramBotAPI (setup.py) ... \u001b[?25l\u001b[?25hdone\n",
            "  Created wheel for pyTelegramBotAPI: filename=pyTelegramBotAPI-3.7.6-cp36-none-any.whl size=59261 sha256=a0072662400695308967381c5e259788cf63660d659763f58bb03abd25fe70c1\n",
            "  Stored in directory: /root/.cache/pip/wheels/f6/66/6e/d42e8fcb446d2683b5afe0b23318f4bb58896bad26549c47b9\n",
            "  Building wheel for sanic-jwt (setup.py) ... \u001b[?25l\u001b[?25hdone\n",
            "  Created wheel for sanic-jwt: filename=sanic_jwt-1.6.0-cp36-none-any.whl size=21955 sha256=4eb09885456205f22d4c9eee0e26dac69f887e80880258b2281d55774a7f9c4b\n",
            "  Stored in directory: /root/.cache/pip/wheels/2b/6d/e2/6b4b2a376e61d0434cc1b1a5b30eb66f08b053b1e59cd29171\n",
            "  Building wheel for mattermostwrapper (setup.py) ... \u001b[?25l\u001b[?25hdone\n",
            "  Created wheel for mattermostwrapper: filename=mattermostwrapper-2.2-cp36-none-any.whl size=2466 sha256=d4ad460cdfca376776686ce824b9537e1c344e71f3f114f7cc71f99d2dede12b\n",
            "  Stored in directory: /root/.cache/pip/wheels/c5/47/19/47188b3036316651250c4f7df23d59a3b524c82921bfb6daa3\n",
            "  Building wheel for twilio (setup.py) ... \u001b[?25l\u001b[?25hdone\n",
            "  Created wheel for twilio: filename=twilio-6.45.4-py2.py3-none-any.whl size=1211595 sha256=7d80f629168beccadae970a3038b8dc25e882d803e0bcd9d2b0c2e25e62f7d86\n",
            "  Stored in directory: /root/.cache/pip/wheels/1d/61/91/fff62515b077db8f02e731de1f01315e3f31c862a60d6dd014\n",
            "  Building wheel for terminaltables (setup.py) ... \u001b[?25l\u001b[?25hdone\n",
            "  Created wheel for terminaltables: filename=terminaltables-3.1.0-cp36-none-any.whl size=15358 sha256=3b25b6449df8f7d73fae13b52669a544793e62efc373b9968d1acf4fe5f0c26c\n",
            "  Stored in directory: /root/.cache/pip/wheels/30/6b/50/6c75775b681fb36cdfac7f19799888ef9d8813aff9e379663e\n",
            "  Building wheel for colorclass (setup.py) ... \u001b[?25l\u001b[?25hdone\n",
            "  Created wheel for colorclass: filename=colorclass-2.2.0-cp36-none-any.whl size=19396 sha256=f5d755978b6ca4aa516fc20919c611e065add1f19bafbe45f0a958c552e1db96\n",
            "  Stored in directory: /root/.cache/pip/wheels/d1/86/9d/16127127306a92d7fd30267890a5634026c045391979c4c317\n",
            "  Building wheel for idna-ssl (setup.py) ... \u001b[?25l\u001b[?25hdone\n",
            "  Created wheel for idna-ssl: filename=idna_ssl-1.1.0-cp36-none-any.whl size=3163 sha256=a2d91ede967f29d9702776ef6dcabd09438355430072fa03244cf87da0f9a3fd\n",
            "  Stored in directory: /root/.cache/pip/wheels/d3/00/b3/32d613e19e08a739751dd6bf998cfed277728f8b2127ad4eb7\n",
            "  Building wheel for contextvars (setup.py) ... \u001b[?25l\u001b[?25hdone\n",
            "  Created wheel for contextvars: filename=contextvars-2.4-cp36-none-any.whl size=7667 sha256=a8f6da9f741cf5571967076aa820be5fd11d8af0e63732c869f3920f7947a4e8\n",
            "  Stored in directory: /root/.cache/pip/wheels/a5/7d/68/1ebae2668bda2228686e3c1cf16f2c2384cea6e9334ad5f6de\n",
            "Successfully built pyTelegramBotAPI sanic-jwt mattermostwrapper twilio terminaltables colorclass idna-ssl contextvars\n",
            "\u001b[31mERROR: tensorflow 2.3.2 has requirement numpy<1.19.0,>=1.16.0, but you'll have numpy 1.19.5 which is incompatible.\u001b[0m\n",
            "\u001b[31mERROR: nbclient 0.5.1 has requirement jupyter-client>=6.1.5, but you'll have jupyter-client 5.3.5 which is incompatible.\u001b[0m\n",
            "\u001b[31mERROR: jupyter-console 5.2.0 has requirement prompt-toolkit<2.0.0,>=1.0.0, but you'll have prompt-toolkit 2.0.10 which is incompatible.\u001b[0m\n",
            "\u001b[31mERROR: ipython 5.5.0 has requirement prompt-toolkit<2.0.0,>=1.0.4, but you'll have prompt-toolkit 2.0.10 which is incompatible.\u001b[0m\n",
            "\u001b[31mERROR: datascience 0.10.6 has requirement folium==0.2.1, but you'll have folium 0.8.3 which is incompatible.\u001b[0m\n",
            "\u001b[31mERROR: convertdate 2.2.0 has requirement pytz<2020,>=2014.10, but you'll have pytz 2020.5 which is incompatible.\u001b[0m\n",
            "\u001b[31mERROR: botocore 1.19.63 has requirement urllib3<1.27,>=1.25.4; python_version != \"3.4\", but you'll have urllib3 1.24.3 which is incompatible.\u001b[0m\n",
            "\u001b[31mERROR: sanic-jwt 1.6.0 has requirement pyjwt==2.0.0, but you'll have pyjwt 2.0.1 which is incompatible.\u001b[0m\n",
            "\u001b[31mERROR: sanic 20.12.1 has requirement multidict<6.0,>=5.0, but you'll have multidict 4.7.6 which is incompatible.\u001b[0m\n",
            "\u001b[31mERROR: aiohttp 3.6.3 has requirement yarl<1.6.0,>=1.0, but you'll have yarl 1.6.3 which is incompatible.\u001b[0m\n",
            "Installing collected packages: jmespath, botocore, s3transfer, boto3, colorhash, psycopg2-binary, pyTelegramBotAPI, joblib, cryptography, PyJWT, attrs, jsonschema, multidict, yarl, pamqp, aiormq, aio-pika, tensorflow-estimator, sanic-jwt, rocketchat-API, ujson, requests-toolbelt, webexteamssdk, websockets, aiofiles, rfc3986, immutables, contextvars, sniffio, h11, httpcore, httpx, httptools, uvloop, sanic, sanic-plugins-framework, sanic-cors, pytz, tensorflow-probability, dnspython, pymongo, python-engineio, python-socketio, prompt-toolkit, redis, tensorflow, async-timeout, idna-ssl, aiohttp, slackclient, questionary, tensorflow-addons, mattermostwrapper, kafka-python, pykwalify, twilio, tensorflow-hub, fbmessenger, apscheduler, sentry-sdk, python-crfsuite, sklearn-crfsuite, regex, jsonpickle, humanfriendly, coloredlogs, rasa-sdk, ruamel.yaml.clib, ruamel.yaml, terminaltables, colorclass, pydot, tensorflow-text, rasa\n",
            "  Found existing installation: joblib 1.0.0\n",
            "    Uninstalling joblib-1.0.0:\n",
            "      Successfully uninstalled joblib-1.0.0\n",
            "  Found existing installation: attrs 20.3.0\n",
            "    Uninstalling attrs-20.3.0:\n",
            "      Successfully uninstalled attrs-20.3.0\n",
            "  Found existing installation: jsonschema 2.6.0\n",
            "    Uninstalling jsonschema-2.6.0:\n",
            "      Successfully uninstalled jsonschema-2.6.0\n",
            "  Found existing installation: tensorflow-estimator 2.4.0\n",
            "    Uninstalling tensorflow-estimator-2.4.0:\n",
            "      Successfully uninstalled tensorflow-estimator-2.4.0\n",
            "  Found existing installation: pytz 2018.9\n",
            "    Uninstalling pytz-2018.9:\n",
            "      Successfully uninstalled pytz-2018.9\n",
            "  Found existing installation: tensorflow-probability 0.12.1\n",
            "    Uninstalling tensorflow-probability-0.12.1:\n",
            "      Successfully uninstalled tensorflow-probability-0.12.1\n",
            "  Found existing installation: pymongo 3.11.2\n",
            "    Uninstalling pymongo-3.11.2:\n",
            "      Successfully uninstalled pymongo-3.11.2\n",
            "  Found existing installation: prompt-toolkit 1.0.18\n",
            "    Uninstalling prompt-toolkit-1.0.18:\n",
            "      Successfully uninstalled prompt-toolkit-1.0.18\n",
            "  Found existing installation: tensorflow 2.4.1\n",
            "    Uninstalling tensorflow-2.4.1:\n",
            "      Successfully uninstalled tensorflow-2.4.1\n",
            "  Found existing installation: tensorflow-addons 0.8.3\n",
            "    Uninstalling tensorflow-addons-0.8.3:\n",
            "      Successfully uninstalled tensorflow-addons-0.8.3\n",
            "  Found existing installation: tensorflow-hub 0.11.0\n",
            "    Uninstalling tensorflow-hub-0.11.0:\n",
            "      Successfully uninstalled tensorflow-hub-0.11.0\n",
            "  Found existing installation: regex 2019.12.20\n",
            "    Uninstalling regex-2019.12.20:\n",
            "      Successfully uninstalled regex-2019.12.20\n",
            "  Found existing installation: pydot 1.3.0\n",
            "    Uninstalling pydot-1.3.0:\n",
            "      Successfully uninstalled pydot-1.3.0\n",
            "Successfully installed PyJWT-2.0.1 aio-pika-6.7.1 aiofiles-0.6.0 aiohttp-3.6.3 aiormq-3.3.1 apscheduler-3.6.3 async-timeout-3.0.1 attrs-20.2.0 boto3-1.16.63 botocore-1.19.63 colorclass-2.2.0 coloredlogs-14.3 colorhash-1.0.3 contextvars-2.4 cryptography-3.3.1 dnspython-1.16.0 fbmessenger-6.0.0 h11-0.9.0 httpcore-0.11.1 httptools-0.1.1 httpx-0.15.4 humanfriendly-9.1 idna-ssl-1.1.0 immutables-0.14 jmespath-0.10.0 joblib-0.15.1 jsonpickle-1.4.2 jsonschema-3.2.0 kafka-python-2.0.2 mattermostwrapper-2.2 multidict-4.7.6 pamqp-2.3.0 prompt-toolkit-2.0.10 psycopg2-binary-2.8.6 pyTelegramBotAPI-3.7.6 pydot-1.4.1 pykwalify-1.7.0 pymongo-3.10.1 python-crfsuite-0.9.7 python-engineio-3.13.2 python-socketio-4.6.1 pytz-2020.5 questionary-1.5.2 rasa-2.2.9 rasa-sdk-2.2.0 redis-3.5.3 regex-2020.9.27 requests-toolbelt-0.9.1 rfc3986-1.4.0 rocketchat-API-1.9.1 ruamel.yaml-0.16.12 ruamel.yaml.clib-0.2.2 s3transfer-0.3.4 sanic-20.12.1 sanic-cors-0.10.0.post3 sanic-jwt-1.6.0 sanic-plugins-framework-0.9.5 sentry-sdk-0.19.5 sklearn-crfsuite-0.3.6 slackclient-2.9.3 sniffio-1.2.0 tensorflow-2.3.2 tensorflow-addons-0.12.0 tensorflow-estimator-2.3.0 tensorflow-hub-0.9.0 tensorflow-probability-0.11.1 tensorflow-text-2.3.0 terminaltables-3.1.0 twilio-6.45.4 ujson-3.2.0 uvloop-0.14.0 webexteamssdk-1.6 websockets-8.1 yarl-1.6.3\n"
          ],
          "name": "stdout"
        },
        {
          "output_type": "display_data",
          "data": {
            "application/vnd.colab-display-data+json": {
              "pip_warning": {
                "packages": [
                  "prompt_toolkit",
                  "pytz"
                ]
              }
            }
          },
          "metadata": {
            "tags": []
          }
        }
      ]
    },
    {
      "cell_type": "code",
      "metadata": {
        "id": "ku2i5x-h6La_",
        "colab": {
          "base_uri": "https://localhost:8080/",
          "height": 598
        },
        "collapsed": true,
        "outputId": "7857ee01-68cd-4a98-efd1-5bd9ea1573c5"
      },
      "source": [
        "!pip install -U ipython"
      ],
      "execution_count": null,
      "outputs": [
        {
          "output_type": "stream",
          "text": [
            "Collecting ipython\n",
            "\u001b[?25l  Downloading https://files.pythonhosted.org/packages/23/6a/210816c943c9aeeb29e4e18a298f14bf0e118fe222a23e13bfcc2d41b0a4/ipython-7.16.1-py3-none-any.whl (785kB)\n",
            "\r\u001b[K     |▍                               | 10kB 23.9MB/s eta 0:00:01\r\u001b[K     |▉                               | 20kB 16.1MB/s eta 0:00:01\r\u001b[K     |█▎                              | 30kB 13.9MB/s eta 0:00:01\r\u001b[K     |█▊                              | 40kB 14.2MB/s eta 0:00:01\r\u001b[K     |██                              | 51kB 16.7MB/s eta 0:00:01\r\u001b[K     |██▌                             | 61kB 14.5MB/s eta 0:00:01\r\u001b[K     |███                             | 71kB 14.3MB/s eta 0:00:01\r\u001b[K     |███▍                            | 81kB 15.6MB/s eta 0:00:01\r\u001b[K     |███▊                            | 92kB 15.7MB/s eta 0:00:01\r\u001b[K     |████▏                           | 102kB 15.7MB/s eta 0:00:01\r\u001b[K     |████▋                           | 112kB 15.7MB/s eta 0:00:01\r\u001b[K     |█████                           | 122kB 15.7MB/s eta 0:00:01\r\u001b[K     |█████▍                          | 133kB 15.7MB/s eta 0:00:01\r\u001b[K     |█████▉                          | 143kB 15.7MB/s eta 0:00:01\r\u001b[K     |██████▎                         | 153kB 15.7MB/s eta 0:00:01\r\u001b[K     |██████▊                         | 163kB 15.7MB/s eta 0:00:01\r\u001b[K     |███████                         | 174kB 15.7MB/s eta 0:00:01\r\u001b[K     |███████▌                        | 184kB 15.7MB/s eta 0:00:01\r\u001b[K     |████████                        | 194kB 15.7MB/s eta 0:00:01\r\u001b[K     |████████▍                       | 204kB 15.7MB/s eta 0:00:01\r\u001b[K     |████████▊                       | 215kB 15.7MB/s eta 0:00:01\r\u001b[K     |█████████▏                      | 225kB 15.7MB/s eta 0:00:01\r\u001b[K     |█████████▋                      | 235kB 15.7MB/s eta 0:00:01\r\u001b[K     |██████████                      | 245kB 15.7MB/s eta 0:00:01\r\u001b[K     |██████████▍                     | 256kB 15.7MB/s eta 0:00:01\r\u001b[K     |██████████▉                     | 266kB 15.7MB/s eta 0:00:01\r\u001b[K     |███████████▎                    | 276kB 15.7MB/s eta 0:00:01\r\u001b[K     |███████████▊                    | 286kB 15.7MB/s eta 0:00:01\r\u001b[K     |████████████                    | 296kB 15.7MB/s eta 0:00:01\r\u001b[K     |████████████▌                   | 307kB 15.7MB/s eta 0:00:01\r\u001b[K     |█████████████                   | 317kB 15.7MB/s eta 0:00:01\r\u001b[K     |█████████████▍                  | 327kB 15.7MB/s eta 0:00:01\r\u001b[K     |█████████████▊                  | 337kB 15.7MB/s eta 0:00:01\r\u001b[K     |██████████████▏                 | 348kB 15.7MB/s eta 0:00:01\r\u001b[K     |██████████████▋                 | 358kB 15.7MB/s eta 0:00:01\r\u001b[K     |███████████████                 | 368kB 15.7MB/s eta 0:00:01\r\u001b[K     |███████████████▍                | 378kB 15.7MB/s eta 0:00:01\r\u001b[K     |███████████████▉                | 389kB 15.7MB/s eta 0:00:01\r\u001b[K     |████████████████▎               | 399kB 15.7MB/s eta 0:00:01\r\u001b[K     |████████████████▊               | 409kB 15.7MB/s eta 0:00:01\r\u001b[K     |█████████████████▏              | 419kB 15.7MB/s eta 0:00:01\r\u001b[K     |█████████████████▌              | 430kB 15.7MB/s eta 0:00:01\r\u001b[K     |██████████████████              | 440kB 15.7MB/s eta 0:00:01\r\u001b[K     |██████████████████▍             | 450kB 15.7MB/s eta 0:00:01\r\u001b[K     |██████████████████▉             | 460kB 15.7MB/s eta 0:00:01\r\u001b[K     |███████████████████▏            | 471kB 15.7MB/s eta 0:00:01\r\u001b[K     |███████████████████▋            | 481kB 15.7MB/s eta 0:00:01\r\u001b[K     |████████████████████            | 491kB 15.7MB/s eta 0:00:01\r\u001b[K     |████████████████████▌           | 501kB 15.7MB/s eta 0:00:01\r\u001b[K     |████████████████████▉           | 512kB 15.7MB/s eta 0:00:01\r\u001b[K     |█████████████████████▎          | 522kB 15.7MB/s eta 0:00:01\r\u001b[K     |█████████████████████▊          | 532kB 15.7MB/s eta 0:00:01\r\u001b[K     |██████████████████████▏         | 542kB 15.7MB/s eta 0:00:01\r\u001b[K     |██████████████████████▌         | 552kB 15.7MB/s eta 0:00:01\r\u001b[K     |███████████████████████         | 563kB 15.7MB/s eta 0:00:01\r\u001b[K     |███████████████████████▍        | 573kB 15.7MB/s eta 0:00:01\r\u001b[K     |███████████████████████▉        | 583kB 15.7MB/s eta 0:00:01\r\u001b[K     |████████████████████████▏       | 593kB 15.7MB/s eta 0:00:01\r\u001b[K     |████████████████████████▋       | 604kB 15.7MB/s eta 0:00:01\r\u001b[K     |█████████████████████████       | 614kB 15.7MB/s eta 0:00:01\r\u001b[K     |█████████████████████████▌      | 624kB 15.7MB/s eta 0:00:01\r\u001b[K     |█████████████████████████▉      | 634kB 15.7MB/s eta 0:00:01\r\u001b[K     |██████████████████████████▎     | 645kB 15.7MB/s eta 0:00:01\r\u001b[K     |██████████████████████████▊     | 655kB 15.7MB/s eta 0:00:01\r\u001b[K     |███████████████████████████▏    | 665kB 15.7MB/s eta 0:00:01\r\u001b[K     |███████████████████████████▌    | 675kB 15.7MB/s eta 0:00:01\r\u001b[K     |████████████████████████████    | 686kB 15.7MB/s eta 0:00:01\r\u001b[K     |████████████████████████████▍   | 696kB 15.7MB/s eta 0:00:01\r\u001b[K     |████████████████████████████▉   | 706kB 15.7MB/s eta 0:00:01\r\u001b[K     |█████████████████████████████▏  | 716kB 15.7MB/s eta 0:00:01\r\u001b[K     |█████████████████████████████▋  | 727kB 15.7MB/s eta 0:00:01\r\u001b[K     |██████████████████████████████  | 737kB 15.7MB/s eta 0:00:01\r\u001b[K     |██████████████████████████████▌ | 747kB 15.7MB/s eta 0:00:01\r\u001b[K     |██████████████████████████████▉ | 757kB 15.7MB/s eta 0:00:01\r\u001b[K     |███████████████████████████████▎| 768kB 15.7MB/s eta 0:00:01\r\u001b[K     |███████████████████████████████▊| 778kB 15.7MB/s eta 0:00:01\r\u001b[K     |████████████████████████████████| 788kB 15.7MB/s \n",
            "\u001b[?25hRequirement already satisfied, skipping upgrade: pickleshare in /usr/local/lib/python3.6/dist-packages (from ipython) (0.7.5)\n",
            "Requirement already satisfied, skipping upgrade: pygments in /usr/local/lib/python3.6/dist-packages (from ipython) (2.6.1)\n",
            "Requirement already satisfied, skipping upgrade: pexpect; sys_platform != \"win32\" in /usr/local/lib/python3.6/dist-packages (from ipython) (4.8.0)\n",
            "Requirement already satisfied, skipping upgrade: prompt-toolkit!=3.0.0,!=3.0.1,<3.1.0,>=2.0.0 in /usr/local/lib/python3.6/dist-packages (from ipython) (2.0.10)\n",
            "Requirement already satisfied, skipping upgrade: traitlets>=4.2 in /usr/local/lib/python3.6/dist-packages (from ipython) (4.3.3)\n",
            "Requirement already satisfied, skipping upgrade: jedi>=0.10 in /usr/local/lib/python3.6/dist-packages (from ipython) (0.18.0)\n",
            "Requirement already satisfied, skipping upgrade: decorator in /usr/local/lib/python3.6/dist-packages (from ipython) (4.4.2)\n",
            "Requirement already satisfied, skipping upgrade: backcall in /usr/local/lib/python3.6/dist-packages (from ipython) (0.2.0)\n",
            "Requirement already satisfied, skipping upgrade: setuptools>=18.5 in /usr/local/lib/python3.6/dist-packages (from ipython) (53.0.0)\n",
            "Requirement already satisfied, skipping upgrade: ptyprocess>=0.5 in /usr/local/lib/python3.6/dist-packages (from pexpect; sys_platform != \"win32\"->ipython) (0.7.0)\n",
            "Requirement already satisfied, skipping upgrade: wcwidth in /usr/local/lib/python3.6/dist-packages (from prompt-toolkit!=3.0.0,!=3.0.1,<3.1.0,>=2.0.0->ipython) (0.2.5)\n",
            "Requirement already satisfied, skipping upgrade: six>=1.9.0 in /usr/local/lib/python3.6/dist-packages (from prompt-toolkit!=3.0.0,!=3.0.1,<3.1.0,>=2.0.0->ipython) (1.15.0)\n",
            "Requirement already satisfied, skipping upgrade: ipython-genutils in /usr/local/lib/python3.6/dist-packages (from traitlets>=4.2->ipython) (0.2.0)\n",
            "Requirement already satisfied, skipping upgrade: parso<0.9.0,>=0.8.0 in /usr/local/lib/python3.6/dist-packages (from jedi>=0.10->ipython) (0.8.1)\n",
            "\u001b[31mERROR: jupyter-console 5.2.0 has requirement prompt-toolkit<2.0.0,>=1.0.0, but you'll have prompt-toolkit 2.0.10 which is incompatible.\u001b[0m\n",
            "\u001b[31mERROR: google-colab 1.0.0 has requirement ipython~=5.5.0, but you'll have ipython 7.16.1 which is incompatible.\u001b[0m\n",
            "Installing collected packages: ipython\n",
            "  Found existing installation: ipython 5.5.0\n",
            "    Uninstalling ipython-5.5.0:\n",
            "      Successfully uninstalled ipython-5.5.0\n",
            "Successfully installed ipython-7.16.1\n"
          ],
          "name": "stdout"
        },
        {
          "output_type": "display_data",
          "data": {
            "application/vnd.colab-display-data+json": {
              "pip_warning": {
                "packages": [
                  "IPython"
                ]
              }
            }
          },
          "metadata": {
            "tags": []
          }
        }
      ]
    },
    {
      "cell_type": "code",
      "metadata": {
        "colab": {
          "base_uri": "https://localhost:8080/"
        },
        "id": "mWM8dB6pBIxD",
        "outputId": "1f4881ae-5f66-451c-b2ec-dee50a19f107"
      },
      "source": [
        "import nest_asyncio\n",
        "\n",
        "nest_asyncio.apply()\n",
        "print(\"Event loop ready.\")"
      ],
      "execution_count": null,
      "outputs": [
        {
          "output_type": "stream",
          "text": [
            "Event loop ready.\n"
          ],
          "name": "stdout"
        }
      ]
    },
    {
      "cell_type": "code",
      "metadata": {
        "id": "f0OLJ_vQBIxJ",
        "colab": {
          "base_uri": "https://localhost:8080/"
        },
        "outputId": "cb9c2ccb-fb7f-4d8c-d354-6430d2a0b661"
      },
      "source": [
        "from rasa.cli.scaffold import create_initial_project\n",
        "import os\n",
        "\n",
        "project = \"test-project\"\n",
        "create_initial_project(project)\n",
        "\n",
        "# move into project directory and show files\n",
        "os.chdir('/content/test-project/')\n",
        "print(os.listdir(\".\"))"
      ],
      "execution_count": null,
      "outputs": [
        {
          "output_type": "stream",
          "text": [
            "['credentials.yml', 'actions', 'config.yml', 'domain.yml', 'endpoints.yml', 'data', 'tests']\n"
          ],
          "name": "stdout"
        }
      ]
    },
    {
      "cell_type": "code",
      "metadata": {
        "id": "mkUlRUmxBIxL",
        "colab": {
          "base_uri": "https://localhost:8080/"
        },
        "outputId": "22e0bea3-cfdf-48de-93ee-5c0a0fe36c35"
      },
      "source": [
        "config = \"config.yml\"\n",
        "training_files = \"data/\"\n",
        "domain = \"domain.yml\"\n",
        "output = \"models/\"\n",
        "print(config, training_files, domain, output)"
      ],
      "execution_count": null,
      "outputs": [
        {
          "output_type": "stream",
          "text": [
            "config.yml data/ domain.yml models/\n"
          ],
          "name": "stdout"
        }
      ]
    },
    {
      "cell_type": "code",
      "metadata": {
        "id": "oXwgd7VzBIxN",
        "colab": {
          "base_uri": "https://localhost:8080/"
        },
        "outputId": "81d6cffa-f4ba-472c-9ffb-106cec42b121"
      },
      "source": [
        "import rasa\n",
        "\n",
        "model_path = rasa.train(domain, config, [training_files], output)\n",
        "print(model_path)"
      ],
      "execution_count": null,
      "outputs": [
        {
          "output_type": "stream",
          "text": [
            "\u001b[94mThe configuration for pipeline and policies was chosen automatically. It was written into the config file at 'config.yml'.\u001b[0m\n",
            "\u001b(0lqqqqqqqqqqqqqqqqqqqqqqqqqqqqqqqqqqqqqqqqqqqqqqqqqqqqqqqqqqqqqqqqqqqqqqqqqqqqqqqqk\u001b(B\n",
            "\u001b(0x\u001b(B Rasa Open Source reports anonymous usage telemetry to help improve the product \u001b(0x\u001b(B\n",
            "\u001b(0x\u001b(B for all its users.                                                             \u001b(0x\u001b(B\n",
            "\u001b(0x\u001b(B                                                                                \u001b(0x\u001b(B\n",
            "\u001b(0x\u001b(B If you'd like to opt-out, you can use `rasa telemetry disable`.                \u001b(0x\u001b(B\n",
            "\u001b(0x\u001b(B To learn more, check out https://rasa.com/docs/rasa/telemetry/telemetry.       \u001b(0x\u001b(B\n",
            "\u001b(0mqqqqqqqqqqqqqqqqqqqqqqqqqqqqqqqqqqqqqqqqqqqqqqqqqqqqqqqqqqqqqqqqqqqqqqqqqqqqqqqqj\u001b(B\n",
            "\u001b[94mTraining NLU model...\u001b[0m\n"
          ],
          "name": "stdout"
        },
        {
          "output_type": "stream",
          "text": [
            "Epochs:   0%|          | 0/100 [00:00<?, ?it/s]/usr/local/lib/python3.6/dist-packages/rasa/utils/tensorflow/model_data.py:861: VisibleDeprecationWarning: Creating an ndarray from ragged nested sequences (which is a list-or-tuple of lists-or-tuples-or ndarrays with different lengths or shapes) is deprecated. If you meant to do this, you must specify 'dtype=object' when creating the ndarray\n",
            "  np.concatenate(np.array(f)),\n",
            "Epochs: 100%|██████████| 100/100 [00:08<00:00, 12.35it/s, t_loss=1.416, i_acc=0.986]\n"
          ],
          "name": "stderr"
        },
        {
          "output_type": "stream",
          "text": [
            "\u001b[94mNLU model training completed.\u001b[0m\n",
            "\u001b[94mTraining Core model...\u001b[0m\n"
          ],
          "name": "stdout"
        },
        {
          "output_type": "stream",
          "text": [
            "Processed story blocks: 100%|██████████| 3/3 [00:00<00:00, 325.18it/s, # trackers=1]\n",
            "Processed story blocks: 100%|██████████| 3/3 [00:00<00:00, 337.11it/s, # trackers=3]\n",
            "Processed story blocks: 100%|██████████| 3/3 [00:00<00:00, 133.69it/s, # trackers=12]\n",
            "Processed story blocks: 100%|██████████| 3/3 [00:00<00:00, 43.42it/s, # trackers=39]\n",
            "Processed rules: 100%|██████████| 2/2 [00:00<00:00, 371.95it/s, # trackers=1]\n",
            "Processed trackers: 100%|██████████| 3/3 [00:00<00:00, 144.85it/s, # actions=12]\n",
            "Processed actions: 12it [00:00, 1328.05it/s, # examples=12]\n",
            "Processed trackers: 100%|██████████| 120/120 [00:02<00:00, 40.95it/s, # actions=30]\n",
            "/usr/local/lib/python3.6/dist-packages/rasa/utils/tensorflow/model_data_utils.py:338: VisibleDeprecationWarning: Creating an ndarray from ragged nested sequences (which is a list-or-tuple of lists-or-tuples-or ndarrays with different lengths or shapes) is deprecated. If you meant to do this, you must specify 'dtype=object' when creating the ndarray\n",
            "  np.array(values), number_of_dimensions=4\n",
            "/usr/local/lib/python3.6/dist-packages/rasa/utils/tensorflow/model_data_utils.py:354: VisibleDeprecationWarning: Creating an ndarray from ragged nested sequences (which is a list-or-tuple of lists-or-tuples-or ndarrays with different lengths or shapes) is deprecated. If you meant to do this, you must specify 'dtype=object' when creating the ndarray\n",
            "  MASK: [FeatureArray(np.array(attribute_masks), number_of_dimensions=3)]\n",
            "Epochs:   0%|          | 0/100 [00:00<?, ?it/s]/usr/local/lib/python3.6/dist-packages/rasa/utils/tensorflow/model_data.py:861: VisibleDeprecationWarning: Creating an ndarray from ragged nested sequences (which is a list-or-tuple of lists-or-tuples-or ndarrays with different lengths or shapes) is deprecated. If you meant to do this, you must specify 'dtype=object' when creating the ndarray\n",
            "  np.concatenate(np.array(f)),\n",
            "Epochs: 100%|██████████| 100/100 [00:07<00:00, 12.73it/s, t_loss=13.491, loss=13.328, acc=0.933]\n",
            "Processed trackers: 100%|██████████| 2/2 [00:00<00:00, 258.76it/s, # actions=5]\n",
            "Processed actions: 5it [00:00, 1198.51it/s, # examples=4]\n",
            "Processed trackers: 100%|██████████| 3/3 [00:00<00:00, 186.54it/s, # actions=12]\n",
            "Processed trackers: 100%|██████████| 2/2 [00:00<00:00, 573.03it/s]\n",
            "Processed trackers: 100%|██████████| 5/5 [00:00<00:00, 568.06it/s]\n"
          ],
          "name": "stderr"
        },
        {
          "output_type": "stream",
          "text": [
            "\u001b[94mCore model training completed.\u001b[0m\n",
            "\u001b[92mYour Rasa model is trained and saved at '/content/test-project/models/20210202-211140.tar.gz'.\u001b[0m\n",
            "TrainingResult(model='models/20210202-211140.tar.gz', code=0)\n"
          ],
          "name": "stdout"
        }
      ]
    },
    {
      "cell_type": "code",
      "metadata": {
        "id": "8yZCzbKp8hqN"
      },
      "source": [
        "os.chdir('models/')\r\n",
        "model_name = os.listdir()\r\n",
        "os.chdir('../../')"
      ],
      "execution_count": null,
      "outputs": []
    },
    {
      "cell_type": "code",
      "metadata": {
        "id": "XlxQ-6qWBIxP",
        "colab": {
          "base_uri": "https://localhost:8080/"
        },
        "outputId": "390d1727-00f0-46c2-d163-5ff1984e14c8"
      },
      "source": [
        "from rasa.jupyter import chat\n",
        "\n",
        "endpoints = \"endpoints.yml\"\n",
        "model_path = \"test-project/models/\" + model_name[0]\n",
        "chat(model_path, endpoints)"
      ],
      "execution_count": null,
      "outputs": [
        {
          "output_type": "stream",
          "text": [
            "Your bot is ready to talk! Type your messages here or send '/stop'.\n",
            "Hi\n",
            "\u001b[92mHey! How are you?\u001b[0m\n",
            "fine\n",
            "\u001b[92mGreat, carry on!\u001b[0m\n",
            "OK\n",
            "\u001b[92mGreat, carry on!\u001b[0m\n",
            "/stop\n"
          ],
          "name": "stdout"
        }
      ]
    },
    {
      "cell_type": "code",
      "metadata": {
        "id": "MmPzDVt_-mnf",
        "colab": {
          "base_uri": "https://localhost:8080/"
        },
        "outputId": "e4da445e-bef1-4775-c122-0f1ddbd1d32a"
      },
      "source": [
        "import rasa.shared.data as data\r\n",
        "#\r\n",
        "nlu_data_directory = data.get_data_files('/content/test-project', rasa.shared.data.is_nlu_file)\r\n",
        "stories_directory = data.get_data_files('/content/test-project', rasa.shared.data.is_story_file)\r\n",
        "print(stories_directory, nlu_data_directory)"
      ],
      "execution_count": null,
      "outputs": [
        {
          "output_type": "stream",
          "text": [
            "['/content/test-project/data/rules.yml', '/content/test-project/data/stories.yml', '/content/test-project/tests/test_stories.yml'] ['/content/test-project/data/nlu.yml', '/content/test-project/domain.yml']\n"
          ],
          "name": "stdout"
        }
      ]
    },
    {
      "cell_type": "code",
      "metadata": {
        "id": "ckY7sGXhBIxS",
        "colab": {
          "base_uri": "https://localhost:8080/",
          "height": 1000
        },
        "outputId": "aa51b003-5000-4905-87b5-32d09b1ed5ce"
      },
      "source": [
        "rasa.test(model_path, stories_directory[1], nlu_data_directory[0])\n",
        "print(\"Done testing.\")"
      ],
      "execution_count": null,
      "outputs": [
        {
          "output_type": "stream",
          "text": [
            "WARNING:tensorflow:Unresolved object in checkpoint: (root).optimizer's state 'm' for (root)._tf_layers.sparse_to_dense.action_name_sentence.kernel\n",
            "WARNING:tensorflow:Unresolved object in checkpoint: (root).optimizer's state 'm' for (root)._tf_layers.sparse_to_dense.action_name_sentence.bias\n",
            "WARNING:tensorflow:Unresolved object in checkpoint: (root).optimizer's state 'm' for (root)._tf_layers.sparse_to_dense.intent_sentence.kernel\n",
            "WARNING:tensorflow:Unresolved object in checkpoint: (root).optimizer's state 'm' for (root)._tf_layers.sparse_to_dense.intent_sentence.bias\n",
            "WARNING:tensorflow:Unresolved object in checkpoint: (root).optimizer's state 'm' for (root)._tf_layers.encoding_layer.action_name._ffn_layers.0.kernel\n",
            "WARNING:tensorflow:Unresolved object in checkpoint: (root).optimizer's state 'm' for (root)._tf_layers.encoding_layer.action_name._ffn_layers.0.bias\n",
            "WARNING:tensorflow:Unresolved object in checkpoint: (root).optimizer's state 'm' for (root)._tf_layers.encoding_layer.intent._ffn_layers.0.kernel\n",
            "WARNING:tensorflow:Unresolved object in checkpoint: (root).optimizer's state 'm' for (root)._tf_layers.encoding_layer.intent._ffn_layers.0.bias\n",
            "WARNING:tensorflow:Unresolved object in checkpoint: (root).optimizer's state 'v' for (root)._tf_layers.sparse_to_dense.action_name_sentence.kernel\n",
            "WARNING:tensorflow:Unresolved object in checkpoint: (root).optimizer's state 'v' for (root)._tf_layers.sparse_to_dense.action_name_sentence.bias\n",
            "WARNING:tensorflow:Unresolved object in checkpoint: (root).optimizer's state 'v' for (root)._tf_layers.sparse_to_dense.intent_sentence.kernel\n",
            "WARNING:tensorflow:Unresolved object in checkpoint: (root).optimizer's state 'v' for (root)._tf_layers.sparse_to_dense.intent_sentence.bias\n",
            "WARNING:tensorflow:Unresolved object in checkpoint: (root).optimizer's state 'v' for (root)._tf_layers.encoding_layer.action_name._ffn_layers.0.kernel\n",
            "WARNING:tensorflow:Unresolved object in checkpoint: (root).optimizer's state 'v' for (root)._tf_layers.encoding_layer.action_name._ffn_layers.0.bias\n",
            "WARNING:tensorflow:Unresolved object in checkpoint: (root).optimizer's state 'v' for (root)._tf_layers.encoding_layer.intent._ffn_layers.0.kernel\n",
            "WARNING:tensorflow:Unresolved object in checkpoint: (root).optimizer's state 'v' for (root)._tf_layers.encoding_layer.intent._ffn_layers.0.bias\n",
            "WARNING:tensorflow:A checkpoint was restored (e.g. tf.train.Checkpoint.restore or tf.keras.Model.load_weights) but not all checkpointed values were used. See above for specific issues. Use expect_partial() on the load status object, e.g. tf.train.Checkpoint.restore(...).expect_partial(), to silence these warnings, or use assert_consumed() to make the check explicit. See https://www.tensorflow.org/guide/checkpoint#loading_mechanics for details.\n"
          ],
          "name": "stdout"
        },
        {
          "output_type": "stream",
          "text": [
            "Processed story blocks: 100%|██████████| 3/3 [00:00<00:00, 423.74it/s, # trackers=1]\n",
            "100%|██████████| 3/3 [00:00<00:00, 13.38it/s]\n",
            "100%|██████████| 69/69 [00:00<00:00, 102.80it/s]\n"
          ],
          "name": "stderr"
        },
        {
          "output_type": "stream",
          "text": [
            "Done testing.\n"
          ],
          "name": "stdout"
        },
        {
          "output_type": "display_data",
          "data": {
            "text/plain": [
              "<Figure size 1440x1440 with 0 Axes>"
            ]
          },
          "metadata": {
            "tags": []
          }
        },
        {
          "output_type": "display_data",
          "data": {
            "image/png": "[encoded data removed]",
            "text/plain": [
              "<Figure size 720x720 with 3 Axes>"
            ]
          },
          "metadata": {
            "tags": [],
            "needs_background": "light"
          }
        }
      ]
    },
    {
      "cell_type": "code",
      "metadata": {
        "id": "om1A-wF8BIxT",
        "colab": {
          "base_uri": "https://localhost:8080/"
        },
        "outputId": "448f37bc-6f91-4adf-df6f-cb6ac2cbb317"
      },
      "source": [
        "if os.path.isfile(\"errors.json\"):\n",
        "    print(\"NLU Errors:\")\n",
        "    print(open(\"errors.json\").read())\n",
        "else:\n",
        "    print(\"No NLU errors.\")\n",
        "\n",
        "if os.path.isdir(\"results\"):\n",
        "      print(\"\\n\")\n",
        "      print(\"Core Errors:\")\n",
        "      print(open(\"results/failed_test_stories.yml\").read())"
      ],
      "execution_count": null,
      "outputs": [
        {
          "output_type": "stream",
          "text": [
            "No NLU errors.\n",
            "\n",
            "\n",
            "Core Errors:\n",
            "# None of the test stories failed - all good!\n"
          ],
          "name": "stdout"
        }
      ]
    },
    {
      "cell_type": "markdown",
      "metadata": {
        "id": "HKIBWrvkBNoa"
      },
      "source": [
        "Copyright © 2021 IUBH Internationale Hochschule"
      ]
    }
  ]
}
