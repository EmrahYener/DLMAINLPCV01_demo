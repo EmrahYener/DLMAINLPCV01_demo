{
  "nbformat": 4,
  "nbformat_minor": 0,
  "metadata": {
    "kernelspec": {
      "display_name": "Python 3",
      "language": "python",
      "name": "python3"
    },
    "language_info": {
      "codemirror_mode": {
        "name": "ipython",
        "version": 3
      },
      "file_extension": ".py",
      "mimetype": "text/x-python",
      "name": "python",
      "nbconvert_exporter": "python",
      "pygments_lexer": "ipython3",
      "version": "3.8.2"
    },
    "nbTranslate": {
      "displayLangs": [
        "*"
      ],
      "hotkey": "alt-t",
      "langInMainMenu": true,
      "sourceLang": "en",
      "targetLang": "fr",
      "useGoogleTranslate": true
    },
    "colab": {
      "name": "nlp_2-5_chatbot_RASA.ipynb",
      "provenance": [],
      "collapsed_sections": [],
      "toc_visible": true
    },
    "accelerator": "GPU"
  },
  "cells": [
    {
      "cell_type": "markdown",
      "metadata": {
        "id": "fCDc420aBIw7"
      },
      "source": [
        "# Chatbot\n",
        "A chatbot is a text-based dialog system allowing the interaction with a computer system.\n",
        "The system reacts on natural language text input by triggering actions and/or\n",
        "replying with a text in natural language. Chatbots can be used in conjunction with an\n",
        "avatar, i.e., they mimic a certain character and personality (e.g., ELIZA simulates a psychotherapist). \n",
        "Powered by NLP, chatbots are the foundation of digital assistants (e.g.,\n",
        "Google Assistant, Amazon’s Alexa). Furthermore, they are often used through messenger\n",
        "apps (e.g., Facebook Messenger, WhatsApp), organizational tools, and websites.\n",
        "\n",
        "This notebook demstrates a simple chatbot with the python library ``rasa``.\n",
        "More about ``Rasa`` can be found here: [gitHub.RasaHQ](https://github.com/RasaHQ/rasa-demo).\n",
        "\n",
        "Following code snippets are base on this example from [rasa.com/docs](https://rasa.com/docs/rasa/jupyter-notebooks/)."
      ]
    },
    {
      "cell_type": "markdown",
      "metadata": {
        "id": "VrAEsgZn7yq6"
      },
      "source": [
        "### Install additional modules"
      ]
    },
    {
      "cell_type": "code",
      "metadata": {
        "id": "3mvdHYEEBr5W",
        "collapsed": true
      },
      "source": [
        "# Install rasa module\n",
        "\n",
        "!pip3 install rasa"
      ],
      "execution_count": null,
      "outputs": []
    },
    {
      "cell_type": "code",
      "metadata": {
        "id": "0MmNPF3M82Gr"
      },
      "source": [
        "# Due to the rasa installation, IPython must also be reinstalled\n",
        "# NOTE: By the end of the insatallation, it might ask for restarting the runtime...\n",
        "# In this case, just click the \"RESTART RUNTIME\" button.\n",
        "\n",
        "!pip install -U ipython"
      ],
      "execution_count": null,
      "outputs": []
    },
    {
      "cell_type": "markdown",
      "metadata": {
        "id": "8Lu21yyM9Xdg"
      },
      "source": [
        "## Load Resources"
      ]
    },
    {
      "cell_type": "code",
      "metadata": {
        "colab": {
          "base_uri": "https://localhost:8080/"
        },
        "id": "mWM8dB6pBIxD",
        "outputId": "cdb6ad6d-cac9-45a4-8740-67ce8ecc16bc"
      },
      "source": [
        "import nest_asyncio\n",
        "\n",
        "nest_asyncio.apply()\n",
        "print(\"Event loop ready.\")"
      ],
      "execution_count": null,
      "outputs": [
        {
          "output_type": "stream",
          "text": [
            "Event loop ready.\n"
          ],
          "name": "stdout"
        }
      ]
    },
    {
      "cell_type": "code",
      "metadata": {
        "id": "f0OLJ_vQBIxJ",
        "colab": {
          "base_uri": "https://localhost:8080/"
        },
        "outputId": "612145f8-2cdb-46d9-be3d-9ebc08d68ad5"
      },
      "source": [
        "import rasa\n",
        "from rasa.cli.scaffold import create_initial_project\n",
        "import os\n",
        "\n",
        "project = \"test-project\"\n",
        "create_initial_project(project)\n",
        "\n",
        "# Move into project directory and show files\n",
        "os.chdir('/content/test-project/')\n",
        "print(os.listdir(\".\"))"
      ],
      "execution_count": null,
      "outputs": [
        {
          "output_type": "stream",
          "text": [
            "['credentials.yml', 'data', 'tests', 'domain.yml', 'actions', 'config.yml', 'endpoints.yml']\n"
          ],
          "name": "stdout"
        }
      ]
    },
    {
      "cell_type": "markdown",
      "metadata": {
        "id": "Oh5dLlfp_BxD"
      },
      "source": [
        "## Train model"
      ]
    },
    {
      "cell_type": "code",
      "metadata": {
        "id": "mkUlRUmxBIxL",
        "colab": {
          "base_uri": "https://localhost:8080/"
        },
        "outputId": "dcfc5d7f-f543-4ae8-84fa-110fd639bd47"
      },
      "source": [
        "# Prepare settings\n",
        "config = \"config.yml\"\n",
        "training_files = \"data/\"\n",
        "domain = \"domain.yml\"\n",
        "output = \"models/\"\n",
        "\n",
        "# Train model\n",
        "model_path = rasa.train(domain, config, [training_files], output)"
      ],
      "execution_count": null,
      "outputs": [
        {
          "output_type": "stream",
          "text": [
            "\u001b[94mThe configuration for pipeline and policies was chosen automatically. It was written into the config file at 'config.yml'.\u001b[0m\n",
            "\u001b(0lqqqqqqqqqqqqqqqqqqqqqqqqqqqqqqqqqqqqqqqqqqqqqqqqqqqqqqqqqqqqqqqqqqqqqqqqqqqqqqqqk\u001b(B\n",
            "\u001b(0x\u001b(B Rasa Open Source reports anonymous usage telemetry to help improve the product \u001b(0x\u001b(B\n",
            "\u001b(0x\u001b(B for all its users.                                                             \u001b(0x\u001b(B\n",
            "\u001b(0x\u001b(B                                                                                \u001b(0x\u001b(B\n",
            "\u001b(0x\u001b(B If you'd like to opt-out, you can use `rasa telemetry disable`.                \u001b(0x\u001b(B\n",
            "\u001b(0x\u001b(B To learn more, check out https://rasa.com/docs/rasa/telemetry/telemetry.       \u001b(0x\u001b(B\n",
            "\u001b(0mqqqqqqqqqqqqqqqqqqqqqqqqqqqqqqqqqqqqqqqqqqqqqqqqqqqqqqqqqqqqqqqqqqqqqqqqqqqqqqqqj\u001b(B\n",
            "\u001b[94mTraining NLU model...\u001b[0m\n"
          ],
          "name": "stdout"
        },
        {
          "output_type": "stream",
          "text": [
            "\u001b[93m/usr/local/lib/python3.7/dist-packages/rasa/utils/train_utils.py:535: UserWarning: model_confidence is set to `softmax`. It is recommended to try using `model_confidence=linear_norm` to make it easier to tune fallback thresholds.\n",
            "  category=UserWarning,\n",
            "Epochs: 100%|██████████| 100/100 [00:18<00:00,  5.35it/s, t_loss=1.49, i_acc=1]\n"
          ],
          "name": "stderr"
        },
        {
          "output_type": "stream",
          "text": [
            "\u001b[94mNLU model training completed.\u001b[0m\n",
            "\u001b[94mTraining Core model...\u001b[0m\n"
          ],
          "name": "stdout"
        },
        {
          "output_type": "stream",
          "text": [
            "Processed story blocks: 100%|██████████| 3/3 [00:00<00:00, 250.26it/s, # trackers=1]\n",
            "Processed story blocks: 100%|██████████| 3/3 [00:00<00:00, 209.95it/s, # trackers=3]\n",
            "Processed story blocks: 100%|██████████| 3/3 [00:00<00:00, 90.71it/s, # trackers=12]\n",
            "Processed story blocks: 100%|██████████| 3/3 [00:00<00:00, 32.86it/s, # trackers=39]\n",
            "Processed rules: 100%|██████████| 2/2 [00:00<00:00, 273.49it/s, # trackers=1]\n",
            "Processed trackers: 100%|██████████| 3/3 [00:00<00:00, 53.68it/s, # actions=12]\n",
            "Processed actions: 12it [00:00, 516.00it/s, # examples=12]\n",
            "Processed trackers: 100%|██████████| 120/120 [00:09<00:00, 13.30it/s, # actions=30]\n",
            "Epochs: 100%|██████████| 100/100 [00:15<00:00,  6.34it/s, t_loss=0.672, loss=0.501, acc=1]\n",
            "Processed trackers: 100%|██████████| 2/2 [00:00<00:00, 108.97it/s, # actions=5]\n",
            "Processed actions: 5it [00:00, 599.79it/s, # examples=4]\n",
            "Processed trackers: 100%|██████████| 3/3 [00:00<00:00, 51.60it/s, # actions=12]\n",
            "Processed trackers: 100%|██████████| 2/2 [00:00<00:00, 547.67it/s]\n",
            "Processed trackers: 100%|██████████| 5/5 [00:00<00:00, 506.95it/s]\n"
          ],
          "name": "stderr"
        },
        {
          "output_type": "stream",
          "text": [
            "\u001b[94mCore model training completed.\u001b[0m\n",
            "\u001b[92mYour Rasa model is trained and saved at '/content/test-project/models/20210326-095729.tar.gz'.\u001b[0m\n"
          ],
          "name": "stdout"
        }
      ]
    },
    {
      "cell_type": "code",
      "metadata": {
        "id": "8yZCzbKp8hqN"
      },
      "source": [
        "# Save the model name\n",
        "\n",
        "os.chdir('models/')\n",
        "model_name = os.listdir()\n",
        "os.chdir('../../')"
      ],
      "execution_count": null,
      "outputs": []
    },
    {
      "cell_type": "markdown",
      "metadata": {
        "id": "C-YWfksW_FVq"
      },
      "source": [
        "## Launch chatbot"
      ]
    },
    {
      "cell_type": "code",
      "metadata": {
        "id": "XlxQ-6qWBIxP",
        "colab": {
          "base_uri": "https://localhost:8080/"
        },
        "outputId": "848831fb-0afb-4945-f19a-16309fd11f3e"
      },
      "source": [
        "# Start a chatbot\n",
        "\n",
        "from rasa.jupyter import chat\n",
        "\n",
        "endpoints = \"endpoints.yml\"\n",
        "model_path = \"test-project/models/\" + model_name[0]\n",
        "\n",
        "chat(model_path, endpoints)"
      ],
      "execution_count": null,
      "outputs": [
        {
          "output_type": "stream",
          "text": [
            "\u001b[93m/usr/local/lib/python3.7/dist-packages/rasa/utils/train_utils.py:535: UserWarning: model_confidence is set to `softmax`. It is recommended to try using `model_confidence=linear_norm` to make it easier to tune fallback thresholds.\n",
            "  category=UserWarning,\n",
            "\u001b[0m"
          ],
          "name": "stderr"
        },
        {
          "output_type": "stream",
          "text": [
            "WARNING:tensorflow:5 out of the last 104 calls to <function Model.make_train_function.<locals>.train_function at 0x7f641df2cb00> triggered tf.function retracing. Tracing is expensive and the excessive number of tracings could be due to (1) creating @tf.function repeatedly in a loop, (2) passing tensors with different shapes, (3) passing Python objects instead of tensors. For (1), please define your @tf.function outside of the loop. For (2), @tf.function has experimental_relax_shapes=True option that relaxes argument shapes that can avoid unnecessary retracing. For (3), please refer to https://www.tensorflow.org/tutorials/customization/performance#python_or_tensor_args and https://www.tensorflow.org/api_docs/python/tf/function for  more details.\n",
            "WARNING:tensorflow:5 out of the last 8 calls to <bound method RasaModel.predict_step of <rasa.core.policies.ted_policy.TED object at 0x7f641dfbef50>> triggered tf.function retracing. Tracing is expensive and the excessive number of tracings could be due to (1) creating @tf.function repeatedly in a loop, (2) passing tensors with different shapes, (3) passing Python objects instead of tensors. For (1), please define your @tf.function outside of the loop. For (2), @tf.function has experimental_relax_shapes=True option that relaxes argument shapes that can avoid unnecessary retracing. For (3), please refer to https://www.tensorflow.org/tutorials/customization/performance#python_or_tensor_args and https://www.tensorflow.org/api_docs/python/tf/function for  more details.\n",
            "Your bot is ready to talk! Type your messages here or send '/stop'.\n",
            "Hi\n",
            "\u001b[92mHey! How are you?\u001b[0m\n",
            "Fine, thanks\n",
            "\u001b[92mBye\u001b[0m\n",
            "wait\n",
            "\u001b[92mBye\u001b[0m\n",
            "What's your name\n",
            "\u001b[92mGreat, carry on!\u001b[0m\n",
            "Ok, let's take some time to talk\n",
            "\u001b[92mI am a bot, powered by Rasa.\u001b[0m\n",
            "I know..\n",
            "\u001b[92mBye\u001b[0m\n",
            "/Stop\n"
          ],
          "name": "stdout"
        },
        {
          "output_type": "stream",
          "text": [
            "\u001b[93m/usr/local/lib/python3.7/dist-packages/rasa/shared/utils/io.py:96: UserWarning: Interpreter parsed an intent 'Stop' which is not defined in the domain. Please make sure all intents are listed in the domain.\n",
            "  More info at https://rasa.com/docs/rasa/domain\n",
            "\u001b[0m"
          ],
          "name": "stderr"
        },
        {
          "output_type": "stream",
          "text": [
            "\u001b[92mGreat, carry on!\u001b[0m\n",
            "/stop\n"
          ],
          "name": "stdout"
        }
      ]
    },
    {
      "cell_type": "markdown",
      "metadata": {
        "id": "yv9puICp_toH"
      },
      "source": [
        "## Evaluate the model against test data"
      ]
    },
    {
      "cell_type": "code",
      "metadata": {
        "id": "MmPzDVt_-mnf",
        "colab": {
          "base_uri": "https://localhost:8080/"
        },
        "outputId": "696c6d0e-1ea1-4895-e1c6-61d4690e9063"
      },
      "source": [
        "import rasa.shared.data as data\n",
        "#\n",
        "nlu_data_directory = data.get_data_files('/content/test-project', rasa.shared.data.is_nlu_file)\n",
        "stories_directory = data.get_data_files('/content/test-project', rasa.shared.data.is_story_file)\n",
        "print(stories_directory, nlu_data_directory)"
      ],
      "execution_count": null,
      "outputs": [
        {
          "output_type": "stream",
          "text": [
            "['/content/test-project/data/rules.yml', '/content/test-project/data/stories.yml', '/content/test-project/tests/test_stories.yml'] ['/content/test-project/data/nlu.yml', '/content/test-project/domain.yml']\n"
          ],
          "name": "stdout"
        }
      ]
    },
    {
      "cell_type": "code",
      "metadata": {
        "id": "ckY7sGXhBIxS",
        "colab": {
          "base_uri": "https://localhost:8080/",
          "height": 1000
        },
        "outputId": "fbff149f-1339-43f3-9d66-b76f65138021"
      },
      "source": [
        "rasa.test(model_path, stories_directory[1], nlu_data_directory[0])\n",
        "print(\"Done testing.\")"
      ],
      "execution_count": null,
      "outputs": [
        {
          "output_type": "stream",
          "text": [
            "WARNING:tensorflow:6 out of the last 105 calls to <function Model.make_train_function.<locals>.train_function at 0x7f641be38290> triggered tf.function retracing. Tracing is expensive and the excessive number of tracings could be due to (1) creating @tf.function repeatedly in a loop, (2) passing tensors with different shapes, (3) passing Python objects instead of tensors. For (1), please define your @tf.function outside of the loop. For (2), @tf.function has experimental_relax_shapes=True option that relaxes argument shapes that can avoid unnecessary retracing. For (3), please refer to https://www.tensorflow.org/tutorials/customization/performance#python_or_tensor_args and https://www.tensorflow.org/api_docs/python/tf/function for  more details.\n"
          ],
          "name": "stdout"
        },
        {
          "output_type": "stream",
          "text": [
            "\u001b[93m/usr/local/lib/python3.7/dist-packages/rasa/utils/train_utils.py:535: UserWarning: model_confidence is set to `softmax`. It is recommended to try using `model_confidence=linear_norm` to make it easier to tune fallback thresholds.\n",
            "  category=UserWarning,\n",
            "\u001b[0m"
          ],
          "name": "stderr"
        },
        {
          "output_type": "stream",
          "text": [
            "WARNING:tensorflow:7 out of the last 106 calls to <function Model.make_train_function.<locals>.train_function at 0x7f641b5f4440> triggered tf.function retracing. Tracing is expensive and the excessive number of tracings could be due to (1) creating @tf.function repeatedly in a loop, (2) passing tensors with different shapes, (3) passing Python objects instead of tensors. For (1), please define your @tf.function outside of the loop. For (2), @tf.function has experimental_relax_shapes=True option that relaxes argument shapes that can avoid unnecessary retracing. For (3), please refer to https://www.tensorflow.org/tutorials/customization/performance#python_or_tensor_args and https://www.tensorflow.org/api_docs/python/tf/function for  more details.\n"
          ],
          "name": "stdout"
        },
        {
          "output_type": "stream",
          "text": [
            "\u001b[93m/usr/local/lib/python3.7/dist-packages/rasa/shared/utils/io.py:96: UserWarning: Issue found in '/content/test-project/data/stories.yml': \n",
            "Found intent 'greet' in stories which is not part of the domain.\n",
            "  More info at https://rasa.com/docs/rasa/stories\n",
            "\u001b[0m\u001b[93m/usr/local/lib/python3.7/dist-packages/rasa/shared/utils/io.py:96: UserWarning: Issue found in '/content/test-project/data/stories.yml': \n",
            "Found intent 'mood_great' in stories which is not part of the domain.\n",
            "  More info at https://rasa.com/docs/rasa/stories\n",
            "\u001b[0m\u001b[93m/usr/local/lib/python3.7/dist-packages/rasa/shared/utils/io.py:96: UserWarning: Issue found in '/content/test-project/data/stories.yml': \n",
            "Found intent 'mood_unhappy' in stories which is not part of the domain.\n",
            "  More info at https://rasa.com/docs/rasa/stories\n",
            "\u001b[0m\u001b[93m/usr/local/lib/python3.7/dist-packages/rasa/shared/utils/io.py:96: UserWarning: Issue found in '/content/test-project/data/stories.yml': \n",
            "Found intent 'affirm' in stories which is not part of the domain.\n",
            "  More info at https://rasa.com/docs/rasa/stories\n",
            "\u001b[0m\u001b[93m/usr/local/lib/python3.7/dist-packages/rasa/shared/utils/io.py:96: UserWarning: Issue found in '/content/test-project/data/stories.yml': \n",
            "Found intent 'deny' in stories which is not part of the domain.\n",
            "  More info at https://rasa.com/docs/rasa/stories\n",
            "Processed story blocks: 100%|██████████| 3/3 [00:00<00:00, 226.06it/s, # trackers=1]\n",
            "100%|██████████| 3/3 [00:00<00:00,  8.80it/s]\n",
            "/usr/local/lib/python3.7/dist-packages/rasa/utils/plotting.py:81: UserWarning: Attempting to set identical left == right == -0.5 results in singular transformations; automatically expanding.\n",
            "  norm=LogNorm(vmin=zmin, vmax=zmax),\n",
            "/usr/local/lib/python3.7/dist-packages/rasa/utils/plotting.py:81: UserWarning: Attempting to set identical bottom == top == -0.5 results in singular transformations; automatically expanding.\n",
            "  norm=LogNorm(vmin=zmin, vmax=zmax),\n"
          ],
          "name": "stderr"
        },
        {
          "output_type": "stream",
          "text": [
            "WARNING:tensorflow:8 out of the last 107 calls to <function Model.make_train_function.<locals>.train_function at 0x7f642180f5f0> triggered tf.function retracing. Tracing is expensive and the excessive number of tracings could be due to (1) creating @tf.function repeatedly in a loop, (2) passing tensors with different shapes, (3) passing Python objects instead of tensors. For (1), please define your @tf.function outside of the loop. For (2), @tf.function has experimental_relax_shapes=True option that relaxes argument shapes that can avoid unnecessary retracing. For (3), please refer to https://www.tensorflow.org/tutorials/customization/performance#python_or_tensor_args and https://www.tensorflow.org/api_docs/python/tf/function for  more details.\n"
          ],
          "name": "stdout"
        },
        {
          "output_type": "stream",
          "text": [
            "\u001b[93m/usr/local/lib/python3.7/dist-packages/rasa/utils/train_utils.py:535: UserWarning: model_confidence is set to `softmax`. It is recommended to try using `model_confidence=linear_norm` to make it easier to tune fallback thresholds.\n",
            "  category=UserWarning,\n",
            "100%|██████████| 69/69 [00:01<00:00, 67.97it/s]\n",
            "/usr/local/lib/python3.7/dist-packages/rasa/utils/plotting.py:194: UserWarning: Attempting to set identical left == right == 0 results in singular transformations; automatically expanding.\n",
            "  axes[1].set(yticks=yticks, xlim=(0, max_xlims[1]), ylim=(min_ylim, max_ylim))\n"
          ],
          "name": "stderr"
        },
        {
          "output_type": "stream",
          "text": [
            "Done testing.\n"
          ],
          "name": "stdout"
        },
        {
          "output_type": "display_data",
          "data": {
            "text/plain": [
              "<Figure size 1440x1440 with 0 Axes>"
            ]
          },
          "metadata": {
            "tags": []
          }
        },
        {
          "output_type": "display_data",
          "data": {
            "image/png": "[encoded data removed]",
            "text/plain": [
              "<Figure size 720x720 with 3 Axes>"
            ]
          },
          "metadata": {
            "tags": [],
            "needs_background": "light"
          }
        }
      ]
    },
    {
      "cell_type": "code",
      "metadata": {
        "id": "om1A-wF8BIxT",
        "colab": {
          "base_uri": "https://localhost:8080/"
        },
        "outputId": "9fe58757-93a3-4554-f7ba-ae76cdd3251a"
      },
      "source": [
        "if os.path.isfile(\"errors.json\"):\n",
        "    print(\"NLU Errors:\")\n",
        "    print(open(\"errors.json\").read())\n",
        "else:\n",
        "    print(\"No NLU errors.\")\n",
        "\n",
        "if os.path.isdir(\"results\"):\n",
        "      print(\"\\n\")\n",
        "      print(\"Core Errors:\")\n",
        "      print(open(\"results/failed_test_stories.yml\").read())"
      ],
      "execution_count": null,
      "outputs": [
        {
          "output_type": "stream",
          "text": [
            "No NLU errors.\n",
            "\n",
            "\n",
            "Core Errors:\n",
            "# None of the test stories failed - all good!\n"
          ],
          "name": "stdout"
        }
      ]
    },
    {
      "cell_type": "markdown",
      "metadata": {
        "id": "HKIBWrvkBNoa"
      },
      "source": [
        "Copyright © 2021 IU International University of Applied Sciences"
      ]
    }
  ]
}