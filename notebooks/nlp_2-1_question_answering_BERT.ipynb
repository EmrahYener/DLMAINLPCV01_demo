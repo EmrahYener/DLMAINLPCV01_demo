{
  "nbformat": 4,
  "nbformat_minor": 0,
  "metadata": {
    "colab": {
      "name": "question_answering_BERT.ipynb",
      "provenance": [],
      "collapsed_sections": [],
      "toc_visible": true
    },
    "kernelspec": {
      "name": "python3",
      "display_name": "Python 3"
    },
    "widgets": {
      "application/vnd.jupyter.widget-state+json": {
        "d8f6b7933b7347bc9bb291becacab3da": {
          "model_module": "@jupyter-widgets/controls",
          "model_name": "HBoxModel",
          "state": {
            "_view_name": "HBoxView",
            "_dom_classes": [],
            "_model_name": "HBoxModel",
            "_view_module": "@jupyter-widgets/controls",
            "_model_module_version": "1.5.0",
            "_view_count": null,
            "_view_module_version": "1.5.0",
            "box_style": "",
            "layout": "IPY_MODEL_755fab60b7694ec4a1d5ec2aee5a17ca",
            "_model_module": "@jupyter-widgets/controls",
            "children": [
              "IPY_MODEL_d1046fcafcd84ea7a094fb7bbb58e15a",
              "IPY_MODEL_1c52fdeae7734d53b13e45de3d3226dc"
            ]
          }
        },
        "755fab60b7694ec4a1d5ec2aee5a17ca": {
          "model_module": "@jupyter-widgets/base",
          "model_name": "LayoutModel",
          "state": {
            "_view_name": "LayoutView",
            "grid_template_rows": null,
            "right": null,
            "justify_content": null,
            "_view_module": "@jupyter-widgets/base",
            "overflow": null,
            "_model_module_version": "1.2.0",
            "_view_count": null,
            "flex_flow": null,
            "width": null,
            "min_width": null,
            "border": null,
            "align_items": null,
            "bottom": null,
            "_model_module": "@jupyter-widgets/base",
            "top": null,
            "grid_column": null,
            "overflow_y": null,
            "overflow_x": null,
            "grid_auto_flow": null,
            "grid_area": null,
            "grid_template_columns": null,
            "flex": null,
            "_model_name": "LayoutModel",
            "justify_items": null,
            "grid_row": null,
            "max_height": null,
            "align_content": null,
            "visibility": null,
            "align_self": null,
            "height": null,
            "min_height": null,
            "padding": null,
            "grid_auto_rows": null,
            "grid_gap": null,
            "max_width": null,
            "order": null,
            "_view_module_version": "1.2.0",
            "grid_template_areas": null,
            "object_position": null,
            "object_fit": null,
            "grid_auto_columns": null,
            "margin": null,
            "display": null,
            "left": null
          }
        },
        "d1046fcafcd84ea7a094fb7bbb58e15a": {
          "model_module": "@jupyter-widgets/controls",
          "model_name": "FloatProgressModel",
          "state": {
            "_view_name": "ProgressView",
            "style": "IPY_MODEL_b23fce812c4743539e7a4aca1c7faab3",
            "_dom_classes": [],
            "description": "Downloading: 100%",
            "_model_name": "FloatProgressModel",
            "bar_style": "success",
            "max": 473,
            "_view_module": "@jupyter-widgets/controls",
            "_model_module_version": "1.5.0",
            "value": 473,
            "_view_count": null,
            "_view_module_version": "1.5.0",
            "orientation": "horizontal",
            "min": 0,
            "description_tooltip": null,
            "_model_module": "@jupyter-widgets/controls",
            "layout": "IPY_MODEL_a6b7e114550747ec8fc13d065ef1de58"
          }
        },
        "1c52fdeae7734d53b13e45de3d3226dc": {
          "model_module": "@jupyter-widgets/controls",
          "model_name": "HTMLModel",
          "state": {
            "_view_name": "HTMLView",
            "style": "IPY_MODEL_836be5051d3f4ca58bf7dc599d9dca28",
            "_dom_classes": [],
            "description": "",
            "_model_name": "HTMLModel",
            "placeholder": "​",
            "_view_module": "@jupyter-widgets/controls",
            "_model_module_version": "1.5.0",
            "value": " 473/473 [00:00&lt;00:00, 14.1kB/s]",
            "_view_count": null,
            "_view_module_version": "1.5.0",
            "description_tooltip": null,
            "_model_module": "@jupyter-widgets/controls",
            "layout": "IPY_MODEL_e7b6a5b50f524f7dad4ef67231a118f0"
          }
        },
        "b23fce812c4743539e7a4aca1c7faab3": {
          "model_module": "@jupyter-widgets/controls",
          "model_name": "ProgressStyleModel",
          "state": {
            "_view_name": "StyleView",
            "_model_name": "ProgressStyleModel",
            "description_width": "initial",
            "_view_module": "@jupyter-widgets/base",
            "_model_module_version": "1.5.0",
            "_view_count": null,
            "_view_module_version": "1.2.0",
            "bar_color": null,
            "_model_module": "@jupyter-widgets/controls"
          }
        },
        "a6b7e114550747ec8fc13d065ef1de58": {
          "model_module": "@jupyter-widgets/base",
          "model_name": "LayoutModel",
          "state": {
            "_view_name": "LayoutView",
            "grid_template_rows": null,
            "right": null,
            "justify_content": null,
            "_view_module": "@jupyter-widgets/base",
            "overflow": null,
            "_model_module_version": "1.2.0",
            "_view_count": null,
            "flex_flow": null,
            "width": null,
            "min_width": null,
            "border": null,
            "align_items": null,
            "bottom": null,
            "_model_module": "@jupyter-widgets/base",
            "top": null,
            "grid_column": null,
            "overflow_y": null,
            "overflow_x": null,
            "grid_auto_flow": null,
            "grid_area": null,
            "grid_template_columns": null,
            "flex": null,
            "_model_name": "LayoutModel",
            "justify_items": null,
            "grid_row": null,
            "max_height": null,
            "align_content": null,
            "visibility": null,
            "align_self": null,
            "height": null,
            "min_height": null,
            "padding": null,
            "grid_auto_rows": null,
            "grid_gap": null,
            "max_width": null,
            "order": null,
            "_view_module_version": "1.2.0",
            "grid_template_areas": null,
            "object_position": null,
            "object_fit": null,
            "grid_auto_columns": null,
            "margin": null,
            "display": null,
            "left": null
          }
        },
        "836be5051d3f4ca58bf7dc599d9dca28": {
          "model_module": "@jupyter-widgets/controls",
          "model_name": "DescriptionStyleModel",
          "state": {
            "_view_name": "StyleView",
            "_model_name": "DescriptionStyleModel",
            "description_width": "",
            "_view_module": "@jupyter-widgets/base",
            "_model_module_version": "1.5.0",
            "_view_count": null,
            "_view_module_version": "1.2.0",
            "_model_module": "@jupyter-widgets/controls"
          }
        },
        "e7b6a5b50f524f7dad4ef67231a118f0": {
          "model_module": "@jupyter-widgets/base",
          "model_name": "LayoutModel",
          "state": {
            "_view_name": "LayoutView",
            "grid_template_rows": null,
            "right": null,
            "justify_content": null,
            "_view_module": "@jupyter-widgets/base",
            "overflow": null,
            "_model_module_version": "1.2.0",
            "_view_count": null,
            "flex_flow": null,
            "width": null,
            "min_width": null,
            "border": null,
            "align_items": null,
            "bottom": null,
            "_model_module": "@jupyter-widgets/base",
            "top": null,
            "grid_column": null,
            "overflow_y": null,
            "overflow_x": null,
            "grid_auto_flow": null,
            "grid_area": null,
            "grid_template_columns": null,
            "flex": null,
            "_model_name": "LayoutModel",
            "justify_items": null,
            "grid_row": null,
            "max_height": null,
            "align_content": null,
            "visibility": null,
            "align_self": null,
            "height": null,
            "min_height": null,
            "padding": null,
            "grid_auto_rows": null,
            "grid_gap": null,
            "max_width": null,
            "order": null,
            "_view_module_version": "1.2.0",
            "grid_template_areas": null,
            "object_position": null,
            "object_fit": null,
            "grid_auto_columns": null,
            "margin": null,
            "display": null,
            "left": null
          }
        },
        "980f67dbb1d34515b8eaf2b867987b3a": {
          "model_module": "@jupyter-widgets/controls",
          "model_name": "HBoxModel",
          "state": {
            "_view_name": "HBoxView",
            "_dom_classes": [],
            "_model_name": "HBoxModel",
            "_view_module": "@jupyter-widgets/controls",
            "_model_module_version": "1.5.0",
            "_view_count": null,
            "_view_module_version": "1.5.0",
            "box_style": "",
            "layout": "IPY_MODEL_ae3746b4aed94e85808b9eaee0c39067",
            "_model_module": "@jupyter-widgets/controls",
            "children": [
              "IPY_MODEL_96be1fb39ab94836ba619aca14e1b153",
              "IPY_MODEL_24f394d5f0ea4d24b1c9906313bcd24e"
            ]
          }
        },
        "ae3746b4aed94e85808b9eaee0c39067": {
          "model_module": "@jupyter-widgets/base",
          "model_name": "LayoutModel",
          "state": {
            "_view_name": "LayoutView",
            "grid_template_rows": null,
            "right": null,
            "justify_content": null,
            "_view_module": "@jupyter-widgets/base",
            "overflow": null,
            "_model_module_version": "1.2.0",
            "_view_count": null,
            "flex_flow": null,
            "width": null,
            "min_width": null,
            "border": null,
            "align_items": null,
            "bottom": null,
            "_model_module": "@jupyter-widgets/base",
            "top": null,
            "grid_column": null,
            "overflow_y": null,
            "overflow_x": null,
            "grid_auto_flow": null,
            "grid_area": null,
            "grid_template_columns": null,
            "flex": null,
            "_model_name": "LayoutModel",
            "justify_items": null,
            "grid_row": null,
            "max_height": null,
            "align_content": null,
            "visibility": null,
            "align_self": null,
            "height": null,
            "min_height": null,
            "padding": null,
            "grid_auto_rows": null,
            "grid_gap": null,
            "max_width": null,
            "order": null,
            "_view_module_version": "1.2.0",
            "grid_template_areas": null,
            "object_position": null,
            "object_fit": null,
            "grid_auto_columns": null,
            "margin": null,
            "display": null,
            "left": null
          }
        },
        "96be1fb39ab94836ba619aca14e1b153": {
          "model_module": "@jupyter-widgets/controls",
          "model_name": "FloatProgressModel",
          "state": {
            "_view_name": "ProgressView",
            "style": "IPY_MODEL_1139f15fc7724f38bb2044dd41672c28",
            "_dom_classes": [],
            "description": "Downloading: 100%",
            "_model_name": "FloatProgressModel",
            "bar_style": "success",
            "max": 260793700,
            "_view_module": "@jupyter-widgets/controls",
            "_model_module_version": "1.5.0",
            "value": 260793700,
            "_view_count": null,
            "_view_module_version": "1.5.0",
            "orientation": "horizontal",
            "min": 0,
            "description_tooltip": null,
            "_model_module": "@jupyter-widgets/controls",
            "layout": "IPY_MODEL_c9c9fea0d21a43909fcbe8a66952ed2e"
          }
        },
        "24f394d5f0ea4d24b1c9906313bcd24e": {
          "model_module": "@jupyter-widgets/controls",
          "model_name": "HTMLModel",
          "state": {
            "_view_name": "HTMLView",
            "style": "IPY_MODEL_8f52fda5d1884b44b1746f77c3f13aa5",
            "_dom_classes": [],
            "description": "",
            "_model_name": "HTMLModel",
            "placeholder": "​",
            "_view_module": "@jupyter-widgets/controls",
            "_model_module_version": "1.5.0",
            "value": " 261M/261M [00:03&lt;00:00, 66.6MB/s]",
            "_view_count": null,
            "_view_module_version": "1.5.0",
            "description_tooltip": null,
            "_model_module": "@jupyter-widgets/controls",
            "layout": "IPY_MODEL_0fa9acc9d4574054bedc1047605c0289"
          }
        },
        "1139f15fc7724f38bb2044dd41672c28": {
          "model_module": "@jupyter-widgets/controls",
          "model_name": "ProgressStyleModel",
          "state": {
            "_view_name": "StyleView",
            "_model_name": "ProgressStyleModel",
            "description_width": "initial",
            "_view_module": "@jupyter-widgets/base",
            "_model_module_version": "1.5.0",
            "_view_count": null,
            "_view_module_version": "1.2.0",
            "bar_color": null,
            "_model_module": "@jupyter-widgets/controls"
          }
        },
        "c9c9fea0d21a43909fcbe8a66952ed2e": {
          "model_module": "@jupyter-widgets/base",
          "model_name": "LayoutModel",
          "state": {
            "_view_name": "LayoutView",
            "grid_template_rows": null,
            "right": null,
            "justify_content": null,
            "_view_module": "@jupyter-widgets/base",
            "overflow": null,
            "_model_module_version": "1.2.0",
            "_view_count": null,
            "flex_flow": null,
            "width": null,
            "min_width": null,
            "border": null,
            "align_items": null,
            "bottom": null,
            "_model_module": "@jupyter-widgets/base",
            "top": null,
            "grid_column": null,
            "overflow_y": null,
            "overflow_x": null,
            "grid_auto_flow": null,
            "grid_area": null,
            "grid_template_columns": null,
            "flex": null,
            "_model_name": "LayoutModel",
            "justify_items": null,
            "grid_row": null,
            "max_height": null,
            "align_content": null,
            "visibility": null,
            "align_self": null,
            "height": null,
            "min_height": null,
            "padding": null,
            "grid_auto_rows": null,
            "grid_gap": null,
            "max_width": null,
            "order": null,
            "_view_module_version": "1.2.0",
            "grid_template_areas": null,
            "object_position": null,
            "object_fit": null,
            "grid_auto_columns": null,
            "margin": null,
            "display": null,
            "left": null
          }
        },
        "8f52fda5d1884b44b1746f77c3f13aa5": {
          "model_module": "@jupyter-widgets/controls",
          "model_name": "DescriptionStyleModel",
          "state": {
            "_view_name": "StyleView",
            "_model_name": "DescriptionStyleModel",
            "description_width": "",
            "_view_module": "@jupyter-widgets/base",
            "_model_module_version": "1.5.0",
            "_view_count": null,
            "_view_module_version": "1.2.0",
            "_model_module": "@jupyter-widgets/controls"
          }
        },
        "0fa9acc9d4574054bedc1047605c0289": {
          "model_module": "@jupyter-widgets/base",
          "model_name": "LayoutModel",
          "state": {
            "_view_name": "LayoutView",
            "grid_template_rows": null,
            "right": null,
            "justify_content": null,
            "_view_module": "@jupyter-widgets/base",
            "overflow": null,
            "_model_module_version": "1.2.0",
            "_view_count": null,
            "flex_flow": null,
            "width": null,
            "min_width": null,
            "border": null,
            "align_items": null,
            "bottom": null,
            "_model_module": "@jupyter-widgets/base",
            "top": null,
            "grid_column": null,
            "overflow_y": null,
            "overflow_x": null,
            "grid_auto_flow": null,
            "grid_area": null,
            "grid_template_columns": null,
            "flex": null,
            "_model_name": "LayoutModel",
            "justify_items": null,
            "grid_row": null,
            "max_height": null,
            "align_content": null,
            "visibility": null,
            "align_self": null,
            "height": null,
            "min_height": null,
            "padding": null,
            "grid_auto_rows": null,
            "grid_gap": null,
            "max_width": null,
            "order": null,
            "_view_module_version": "1.2.0",
            "grid_template_areas": null,
            "object_position": null,
            "object_fit": null,
            "grid_auto_columns": null,
            "margin": null,
            "display": null,
            "left": null
          }
        },
        "368a0693a851409ea828a9b78a6027fa": {
          "model_module": "@jupyter-widgets/controls",
          "model_name": "HBoxModel",
          "state": {
            "_view_name": "HBoxView",
            "_dom_classes": [],
            "_model_name": "HBoxModel",
            "_view_module": "@jupyter-widgets/controls",
            "_model_module_version": "1.5.0",
            "_view_count": null,
            "_view_module_version": "1.5.0",
            "box_style": "",
            "layout": "IPY_MODEL_51e1e0e11c734d58a2c06b765805a014",
            "_model_module": "@jupyter-widgets/controls",
            "children": [
              "IPY_MODEL_43aec7b3b3cf4bc382c3846efc9d56ac",
              "IPY_MODEL_54ea5c48a4b4480c8f1609de8156804d"
            ]
          }
        },
        "51e1e0e11c734d58a2c06b765805a014": {
          "model_module": "@jupyter-widgets/base",
          "model_name": "LayoutModel",
          "state": {
            "_view_name": "LayoutView",
            "grid_template_rows": null,
            "right": null,
            "justify_content": null,
            "_view_module": "@jupyter-widgets/base",
            "overflow": null,
            "_model_module_version": "1.2.0",
            "_view_count": null,
            "flex_flow": null,
            "width": null,
            "min_width": null,
            "border": null,
            "align_items": null,
            "bottom": null,
            "_model_module": "@jupyter-widgets/base",
            "top": null,
            "grid_column": null,
            "overflow_y": null,
            "overflow_x": null,
            "grid_auto_flow": null,
            "grid_area": null,
            "grid_template_columns": null,
            "flex": null,
            "_model_name": "LayoutModel",
            "justify_items": null,
            "grid_row": null,
            "max_height": null,
            "align_content": null,
            "visibility": null,
            "align_self": null,
            "height": null,
            "min_height": null,
            "padding": null,
            "grid_auto_rows": null,
            "grid_gap": null,
            "max_width": null,
            "order": null,
            "_view_module_version": "1.2.0",
            "grid_template_areas": null,
            "object_position": null,
            "object_fit": null,
            "grid_auto_columns": null,
            "margin": null,
            "display": null,
            "left": null
          }
        },
        "43aec7b3b3cf4bc382c3846efc9d56ac": {
          "model_module": "@jupyter-widgets/controls",
          "model_name": "FloatProgressModel",
          "state": {
            "_view_name": "ProgressView",
            "style": "IPY_MODEL_f70919a3aa2e4f96b952a61ee9f6471e",
            "_dom_classes": [],
            "description": "Downloading: 100%",
            "_model_name": "FloatProgressModel",
            "bar_style": "success",
            "max": 213450,
            "_view_module": "@jupyter-widgets/controls",
            "_model_module_version": "1.5.0",
            "value": 213450,
            "_view_count": null,
            "_view_module_version": "1.5.0",
            "orientation": "horizontal",
            "min": 0,
            "description_tooltip": null,
            "_model_module": "@jupyter-widgets/controls",
            "layout": "IPY_MODEL_5007a340d8a24628995773949dc443e0"
          }
        },
        "54ea5c48a4b4480c8f1609de8156804d": {
          "model_module": "@jupyter-widgets/controls",
          "model_name": "HTMLModel",
          "state": {
            "_view_name": "HTMLView",
            "style": "IPY_MODEL_5e114c76296a49f3811194c78c4d0924",
            "_dom_classes": [],
            "description": "",
            "_model_name": "HTMLModel",
            "placeholder": "​",
            "_view_module": "@jupyter-widgets/controls",
            "_model_module_version": "1.5.0",
            "value": " 213k/213k [00:02&lt;00:00, 84.9kB/s]",
            "_view_count": null,
            "_view_module_version": "1.5.0",
            "description_tooltip": null,
            "_model_module": "@jupyter-widgets/controls",
            "layout": "IPY_MODEL_150f0eab37e145ad972423a1b685fb66"
          }
        },
        "f70919a3aa2e4f96b952a61ee9f6471e": {
          "model_module": "@jupyter-widgets/controls",
          "model_name": "ProgressStyleModel",
          "state": {
            "_view_name": "StyleView",
            "_model_name": "ProgressStyleModel",
            "description_width": "initial",
            "_view_module": "@jupyter-widgets/base",
            "_model_module_version": "1.5.0",
            "_view_count": null,
            "_view_module_version": "1.2.0",
            "bar_color": null,
            "_model_module": "@jupyter-widgets/controls"
          }
        },
        "5007a340d8a24628995773949dc443e0": {
          "model_module": "@jupyter-widgets/base",
          "model_name": "LayoutModel",
          "state": {
            "_view_name": "LayoutView",
            "grid_template_rows": null,
            "right": null,
            "justify_content": null,
            "_view_module": "@jupyter-widgets/base",
            "overflow": null,
            "_model_module_version": "1.2.0",
            "_view_count": null,
            "flex_flow": null,
            "width": null,
            "min_width": null,
            "border": null,
            "align_items": null,
            "bottom": null,
            "_model_module": "@jupyter-widgets/base",
            "top": null,
            "grid_column": null,
            "overflow_y": null,
            "overflow_x": null,
            "grid_auto_flow": null,
            "grid_area": null,
            "grid_template_columns": null,
            "flex": null,
            "_model_name": "LayoutModel",
            "justify_items": null,
            "grid_row": null,
            "max_height": null,
            "align_content": null,
            "visibility": null,
            "align_self": null,
            "height": null,
            "min_height": null,
            "padding": null,
            "grid_auto_rows": null,
            "grid_gap": null,
            "max_width": null,
            "order": null,
            "_view_module_version": "1.2.0",
            "grid_template_areas": null,
            "object_position": null,
            "object_fit": null,
            "grid_auto_columns": null,
            "margin": null,
            "display": null,
            "left": null
          }
        },
        "5e114c76296a49f3811194c78c4d0924": {
          "model_module": "@jupyter-widgets/controls",
          "model_name": "DescriptionStyleModel",
          "state": {
            "_view_name": "StyleView",
            "_model_name": "DescriptionStyleModel",
            "description_width": "",
            "_view_module": "@jupyter-widgets/base",
            "_model_module_version": "1.5.0",
            "_view_count": null,
            "_view_module_version": "1.2.0",
            "_model_module": "@jupyter-widgets/controls"
          }
        },
        "150f0eab37e145ad972423a1b685fb66": {
          "model_module": "@jupyter-widgets/base",
          "model_name": "LayoutModel",
          "state": {
            "_view_name": "LayoutView",
            "grid_template_rows": null,
            "right": null,
            "justify_content": null,
            "_view_module": "@jupyter-widgets/base",
            "overflow": null,
            "_model_module_version": "1.2.0",
            "_view_count": null,
            "flex_flow": null,
            "width": null,
            "min_width": null,
            "border": null,
            "align_items": null,
            "bottom": null,
            "_model_module": "@jupyter-widgets/base",
            "top": null,
            "grid_column": null,
            "overflow_y": null,
            "overflow_x": null,
            "grid_auto_flow": null,
            "grid_area": null,
            "grid_template_columns": null,
            "flex": null,
            "_model_name": "LayoutModel",
            "justify_items": null,
            "grid_row": null,
            "max_height": null,
            "align_content": null,
            "visibility": null,
            "align_self": null,
            "height": null,
            "min_height": null,
            "padding": null,
            "grid_auto_rows": null,
            "grid_gap": null,
            "max_width": null,
            "order": null,
            "_view_module_version": "1.2.0",
            "grid_template_areas": null,
            "object_position": null,
            "object_fit": null,
            "grid_auto_columns": null,
            "margin": null,
            "display": null,
            "left": null
          }
        },
        "65ae18cb38474912a92807639773b9ed": {
          "model_module": "@jupyter-widgets/controls",
          "model_name": "HBoxModel",
          "state": {
            "_view_name": "HBoxView",
            "_dom_classes": [],
            "_model_name": "HBoxModel",
            "_view_module": "@jupyter-widgets/controls",
            "_model_module_version": "1.5.0",
            "_view_count": null,
            "_view_module_version": "1.5.0",
            "box_style": "",
            "layout": "IPY_MODEL_8972496898b84b90bb2d9d5153d1be73",
            "_model_module": "@jupyter-widgets/controls",
            "children": [
              "IPY_MODEL_2bb77ad282c84dcca3ba1236eefb667b",
              "IPY_MODEL_373aeaf068e348cd872bc047a3012624"
            ]
          }
        },
        "8972496898b84b90bb2d9d5153d1be73": {
          "model_module": "@jupyter-widgets/base",
          "model_name": "LayoutModel",
          "state": {
            "_view_name": "LayoutView",
            "grid_template_rows": null,
            "right": null,
            "justify_content": null,
            "_view_module": "@jupyter-widgets/base",
            "overflow": null,
            "_model_module_version": "1.2.0",
            "_view_count": null,
            "flex_flow": null,
            "width": null,
            "min_width": null,
            "border": null,
            "align_items": null,
            "bottom": null,
            "_model_module": "@jupyter-widgets/base",
            "top": null,
            "grid_column": null,
            "overflow_y": null,
            "overflow_x": null,
            "grid_auto_flow": null,
            "grid_area": null,
            "grid_template_columns": null,
            "flex": null,
            "_model_name": "LayoutModel",
            "justify_items": null,
            "grid_row": null,
            "max_height": null,
            "align_content": null,
            "visibility": null,
            "align_self": null,
            "height": null,
            "min_height": null,
            "padding": null,
            "grid_auto_rows": null,
            "grid_gap": null,
            "max_width": null,
            "order": null,
            "_view_module_version": "1.2.0",
            "grid_template_areas": null,
            "object_position": null,
            "object_fit": null,
            "grid_auto_columns": null,
            "margin": null,
            "display": null,
            "left": null
          }
        },
        "2bb77ad282c84dcca3ba1236eefb667b": {
          "model_module": "@jupyter-widgets/controls",
          "model_name": "FloatProgressModel",
          "state": {
            "_view_name": "ProgressView",
            "style": "IPY_MODEL_c4d5a6e50f914268aa6278c074f612ee",
            "_dom_classes": [],
            "description": "Downloading: 100%",
            "_model_name": "FloatProgressModel",
            "bar_style": "success",
            "max": 435797,
            "_view_module": "@jupyter-widgets/controls",
            "_model_module_version": "1.5.0",
            "value": 435797,
            "_view_count": null,
            "_view_module_version": "1.5.0",
            "orientation": "horizontal",
            "min": 0,
            "description_tooltip": null,
            "_model_module": "@jupyter-widgets/controls",
            "layout": "IPY_MODEL_235f87a1200e4409b4b01aae5fe03290"
          }
        },
        "373aeaf068e348cd872bc047a3012624": {
          "model_module": "@jupyter-widgets/controls",
          "model_name": "HTMLModel",
          "state": {
            "_view_name": "HTMLView",
            "style": "IPY_MODEL_ed22cb737e8045dfb50eaac0a23ccda3",
            "_dom_classes": [],
            "description": "",
            "_model_name": "HTMLModel",
            "placeholder": "​",
            "_view_module": "@jupyter-widgets/controls",
            "_model_module_version": "1.5.0",
            "value": " 436k/436k [00:01&lt;00:00, 268kB/s]",
            "_view_count": null,
            "_view_module_version": "1.5.0",
            "description_tooltip": null,
            "_model_module": "@jupyter-widgets/controls",
            "layout": "IPY_MODEL_497e012fc78c497caf1f34574b261c17"
          }
        },
        "c4d5a6e50f914268aa6278c074f612ee": {
          "model_module": "@jupyter-widgets/controls",
          "model_name": "ProgressStyleModel",
          "state": {
            "_view_name": "StyleView",
            "_model_name": "ProgressStyleModel",
            "description_width": "initial",
            "_view_module": "@jupyter-widgets/base",
            "_model_module_version": "1.5.0",
            "_view_count": null,
            "_view_module_version": "1.2.0",
            "bar_color": null,
            "_model_module": "@jupyter-widgets/controls"
          }
        },
        "235f87a1200e4409b4b01aae5fe03290": {
          "model_module": "@jupyter-widgets/base",
          "model_name": "LayoutModel",
          "state": {
            "_view_name": "LayoutView",
            "grid_template_rows": null,
            "right": null,
            "justify_content": null,
            "_view_module": "@jupyter-widgets/base",
            "overflow": null,
            "_model_module_version": "1.2.0",
            "_view_count": null,
            "flex_flow": null,
            "width": null,
            "min_width": null,
            "border": null,
            "align_items": null,
            "bottom": null,
            "_model_module": "@jupyter-widgets/base",
            "top": null,
            "grid_column": null,
            "overflow_y": null,
            "overflow_x": null,
            "grid_auto_flow": null,
            "grid_area": null,
            "grid_template_columns": null,
            "flex": null,
            "_model_name": "LayoutModel",
            "justify_items": null,
            "grid_row": null,
            "max_height": null,
            "align_content": null,
            "visibility": null,
            "align_self": null,
            "height": null,
            "min_height": null,
            "padding": null,
            "grid_auto_rows": null,
            "grid_gap": null,
            "max_width": null,
            "order": null,
            "_view_module_version": "1.2.0",
            "grid_template_areas": null,
            "object_position": null,
            "object_fit": null,
            "grid_auto_columns": null,
            "margin": null,
            "display": null,
            "left": null
          }
        },
        "ed22cb737e8045dfb50eaac0a23ccda3": {
          "model_module": "@jupyter-widgets/controls",
          "model_name": "DescriptionStyleModel",
          "state": {
            "_view_name": "StyleView",
            "_model_name": "DescriptionStyleModel",
            "description_width": "",
            "_view_module": "@jupyter-widgets/base",
            "_model_module_version": "1.5.0",
            "_view_count": null,
            "_view_module_version": "1.2.0",
            "_model_module": "@jupyter-widgets/controls"
          }
        },
        "497e012fc78c497caf1f34574b261c17": {
          "model_module": "@jupyter-widgets/base",
          "model_name": "LayoutModel",
          "state": {
            "_view_name": "LayoutView",
            "grid_template_rows": null,
            "right": null,
            "justify_content": null,
            "_view_module": "@jupyter-widgets/base",
            "overflow": null,
            "_model_module_version": "1.2.0",
            "_view_count": null,
            "flex_flow": null,
            "width": null,
            "min_width": null,
            "border": null,
            "align_items": null,
            "bottom": null,
            "_model_module": "@jupyter-widgets/base",
            "top": null,
            "grid_column": null,
            "overflow_y": null,
            "overflow_x": null,
            "grid_auto_flow": null,
            "grid_area": null,
            "grid_template_columns": null,
            "flex": null,
            "_model_name": "LayoutModel",
            "justify_items": null,
            "grid_row": null,
            "max_height": null,
            "align_content": null,
            "visibility": null,
            "align_self": null,
            "height": null,
            "min_height": null,
            "padding": null,
            "grid_auto_rows": null,
            "grid_gap": null,
            "max_width": null,
            "order": null,
            "_view_module_version": "1.2.0",
            "grid_template_areas": null,
            "object_position": null,
            "object_fit": null,
            "grid_auto_columns": null,
            "margin": null,
            "display": null,
            "left": null
          }
        }
      }
    },
    "accelerator": "GPU"
  },
  "cells": [
    {
      "cell_type": "markdown",
      "metadata": {
        "id": "_fB7BWFRJiwa"
      },
      "source": [
        "# Question Answering\r\n",
        "\r\n",
        "Extractive Question Answering is the task of extracting an answer from a text to a given question. An example of a question answering dataset is the SQuAD dataset, which is entirely based on that task.<br>\r\n",
        "Find the base code on huggingface.com: [huggingface.com](https://huggingface.co/transformers/task_summary.html#extractive-question-answering)"
      ]
    },
    {
      "cell_type": "code",
      "metadata": {
        "colab": {
          "base_uri": "https://localhost:8080/"
        },
        "id": "mMAnoBCqJHeI",
        "outputId": "8081c8f9-207e-4d46-acf3-1d173668325a"
      },
      "source": [
        "!pip install transformers"
      ],
      "execution_count": null,
      "outputs": [
        {
          "output_type": "stream",
          "text": [
            "Collecting transformers\n",
            "\u001b[?25l  Downloading https://files.pythonhosted.org/packages/88/b1/41130a228dd656a1a31ba281598a968320283f48d42782845f6ba567f00b/transformers-4.2.2-py3-none-any.whl (1.8MB)\n",
            "\r\u001b[K     |▏                               | 10kB 20.9MB/s eta 0:00:01\r\u001b[K     |▍                               | 20kB 28.4MB/s eta 0:00:01\r\u001b[K     |▋                               | 30kB 19.3MB/s eta 0:00:01\r\u001b[K     |▊                               | 40kB 18.4MB/s eta 0:00:01\r\u001b[K     |█                               | 51kB 14.3MB/s eta 0:00:01\r\u001b[K     |█▏                              | 61kB 13.6MB/s eta 0:00:01\r\u001b[K     |█▎                              | 71kB 14.2MB/s eta 0:00:01\r\u001b[K     |█▌                              | 81kB 14.7MB/s eta 0:00:01\r\u001b[K     |█▊                              | 92kB 13.8MB/s eta 0:00:01\r\u001b[K     |█▉                              | 102kB 11.8MB/s eta 0:00:01\r\u001b[K     |██                              | 112kB 11.8MB/s eta 0:00:01\r\u001b[K     |██▎                             | 122kB 11.8MB/s eta 0:00:01\r\u001b[K     |██▍                             | 133kB 11.8MB/s eta 0:00:01\r\u001b[K     |██▋                             | 143kB 11.8MB/s eta 0:00:01\r\u001b[K     |██▉                             | 153kB 11.8MB/s eta 0:00:01\r\u001b[K     |███                             | 163kB 11.8MB/s eta 0:00:01\r\u001b[K     |███▏                            | 174kB 11.8MB/s eta 0:00:01\r\u001b[K     |███▍                            | 184kB 11.8MB/s eta 0:00:01\r\u001b[K     |███▌                            | 194kB 11.8MB/s eta 0:00:01\r\u001b[K     |███▊                            | 204kB 11.8MB/s eta 0:00:01\r\u001b[K     |████                            | 215kB 11.8MB/s eta 0:00:01\r\u001b[K     |████                            | 225kB 11.8MB/s eta 0:00:01\r\u001b[K     |████▎                           | 235kB 11.8MB/s eta 0:00:01\r\u001b[K     |████▌                           | 245kB 11.8MB/s eta 0:00:01\r\u001b[K     |████▋                           | 256kB 11.8MB/s eta 0:00:01\r\u001b[K     |████▉                           | 266kB 11.8MB/s eta 0:00:01\r\u001b[K     |█████                           | 276kB 11.8MB/s eta 0:00:01\r\u001b[K     |█████▏                          | 286kB 11.8MB/s eta 0:00:01\r\u001b[K     |█████▍                          | 296kB 11.8MB/s eta 0:00:01\r\u001b[K     |█████▋                          | 307kB 11.8MB/s eta 0:00:01\r\u001b[K     |█████▊                          | 317kB 11.8MB/s eta 0:00:01\r\u001b[K     |██████                          | 327kB 11.8MB/s eta 0:00:01\r\u001b[K     |██████▏                         | 337kB 11.8MB/s eta 0:00:01\r\u001b[K     |██████▎                         | 348kB 11.8MB/s eta 0:00:01\r\u001b[K     |██████▌                         | 358kB 11.8MB/s eta 0:00:01\r\u001b[K     |██████▊                         | 368kB 11.8MB/s eta 0:00:01\r\u001b[K     |██████▉                         | 378kB 11.8MB/s eta 0:00:01\r\u001b[K     |███████                         | 389kB 11.8MB/s eta 0:00:01\r\u001b[K     |███████▎                        | 399kB 11.8MB/s eta 0:00:01\r\u001b[K     |███████▍                        | 409kB 11.8MB/s eta 0:00:01\r\u001b[K     |███████▋                        | 419kB 11.8MB/s eta 0:00:01\r\u001b[K     |███████▉                        | 430kB 11.8MB/s eta 0:00:01\r\u001b[K     |████████                        | 440kB 11.8MB/s eta 0:00:01\r\u001b[K     |████████▏                       | 450kB 11.8MB/s eta 0:00:01\r\u001b[K     |████████▍                       | 460kB 11.8MB/s eta 0:00:01\r\u001b[K     |████████▌                       | 471kB 11.8MB/s eta 0:00:01\r\u001b[K     |████████▊                       | 481kB 11.8MB/s eta 0:00:01\r\u001b[K     |█████████                       | 491kB 11.8MB/s eta 0:00:01\r\u001b[K     |█████████                       | 501kB 11.8MB/s eta 0:00:01\r\u001b[K     |█████████▎                      | 512kB 11.8MB/s eta 0:00:01\r\u001b[K     |█████████▌                      | 522kB 11.8MB/s eta 0:00:01\r\u001b[K     |█████████▋                      | 532kB 11.8MB/s eta 0:00:01\r\u001b[K     |█████████▉                      | 542kB 11.8MB/s eta 0:00:01\r\u001b[K     |██████████                      | 552kB 11.8MB/s eta 0:00:01\r\u001b[K     |██████████▏                     | 563kB 11.8MB/s eta 0:00:01\r\u001b[K     |██████████▍                     | 573kB 11.8MB/s eta 0:00:01\r\u001b[K     |██████████▋                     | 583kB 11.8MB/s eta 0:00:01\r\u001b[K     |██████████▊                     | 593kB 11.8MB/s eta 0:00:01\r\u001b[K     |███████████                     | 604kB 11.8MB/s eta 0:00:01\r\u001b[K     |███████████▏                    | 614kB 11.8MB/s eta 0:00:01\r\u001b[K     |███████████▎                    | 624kB 11.8MB/s eta 0:00:01\r\u001b[K     |███████████▌                    | 634kB 11.8MB/s eta 0:00:01\r\u001b[K     |███████████▊                    | 645kB 11.8MB/s eta 0:00:01\r\u001b[K     |███████████▉                    | 655kB 11.8MB/s eta 0:00:01\r\u001b[K     |████████████                    | 665kB 11.8MB/s eta 0:00:01\r\u001b[K     |████████████▎                   | 675kB 11.8MB/s eta 0:00:01\r\u001b[K     |████████████▍                   | 686kB 11.8MB/s eta 0:00:01\r\u001b[K     |████████████▋                   | 696kB 11.8MB/s eta 0:00:01\r\u001b[K     |████████████▉                   | 706kB 11.8MB/s eta 0:00:01\r\u001b[K     |█████████████                   | 716kB 11.8MB/s eta 0:00:01\r\u001b[K     |█████████████▏                  | 727kB 11.8MB/s eta 0:00:01\r\u001b[K     |█████████████▍                  | 737kB 11.8MB/s eta 0:00:01\r\u001b[K     |█████████████▌                  | 747kB 11.8MB/s eta 0:00:01\r\u001b[K     |█████████████▊                  | 757kB 11.8MB/s eta 0:00:01\r\u001b[K     |██████████████                  | 768kB 11.8MB/s eta 0:00:01\r\u001b[K     |██████████████                  | 778kB 11.8MB/s eta 0:00:01\r\u001b[K     |██████████████▎                 | 788kB 11.8MB/s eta 0:00:01\r\u001b[K     |██████████████▌                 | 798kB 11.8MB/s eta 0:00:01\r\u001b[K     |██████████████▋                 | 808kB 11.8MB/s eta 0:00:01\r\u001b[K     |██████████████▉                 | 819kB 11.8MB/s eta 0:00:01\r\u001b[K     |███████████████                 | 829kB 11.8MB/s eta 0:00:01\r\u001b[K     |███████████████▏                | 839kB 11.8MB/s eta 0:00:01\r\u001b[K     |███████████████▍                | 849kB 11.8MB/s eta 0:00:01\r\u001b[K     |███████████████▋                | 860kB 11.8MB/s eta 0:00:01\r\u001b[K     |███████████████▊                | 870kB 11.8MB/s eta 0:00:01\r\u001b[K     |████████████████                | 880kB 11.8MB/s eta 0:00:01\r\u001b[K     |████████████████▏               | 890kB 11.8MB/s eta 0:00:01\r\u001b[K     |████████████████▎               | 901kB 11.8MB/s eta 0:00:01\r\u001b[K     |████████████████▌               | 911kB 11.8MB/s eta 0:00:01\r\u001b[K     |████████████████▊               | 921kB 11.8MB/s eta 0:00:01\r\u001b[K     |████████████████▉               | 931kB 11.8MB/s eta 0:00:01\r\u001b[K     |█████████████████               | 942kB 11.8MB/s eta 0:00:01\r\u001b[K     |█████████████████▎              | 952kB 11.8MB/s eta 0:00:01\r\u001b[K     |█████████████████▍              | 962kB 11.8MB/s eta 0:00:01\r\u001b[K     |█████████████████▋              | 972kB 11.8MB/s eta 0:00:01\r\u001b[K     |█████████████████▉              | 983kB 11.8MB/s eta 0:00:01\r\u001b[K     |██████████████████              | 993kB 11.8MB/s eta 0:00:01\r\u001b[K     |██████████████████▏             | 1.0MB 11.8MB/s eta 0:00:01\r\u001b[K     |██████████████████▍             | 1.0MB 11.8MB/s eta 0:00:01\r\u001b[K     |██████████████████▌             | 1.0MB 11.8MB/s eta 0:00:01\r\u001b[K     |██████████████████▊             | 1.0MB 11.8MB/s eta 0:00:01\r\u001b[K     |███████████████████             | 1.0MB 11.8MB/s eta 0:00:01\r\u001b[K     |███████████████████             | 1.1MB 11.8MB/s eta 0:00:01\r\u001b[K     |███████████████████▎            | 1.1MB 11.8MB/s eta 0:00:01\r\u001b[K     |███████████████████▌            | 1.1MB 11.8MB/s eta 0:00:01\r\u001b[K     |███████████████████▋            | 1.1MB 11.8MB/s eta 0:00:01\r\u001b[K     |███████████████████▉            | 1.1MB 11.8MB/s eta 0:00:01\r\u001b[K     |████████████████████            | 1.1MB 11.8MB/s eta 0:00:01\r\u001b[K     |████████████████████▏           | 1.1MB 11.8MB/s eta 0:00:01\r\u001b[K     |████████████████████▍           | 1.1MB 11.8MB/s eta 0:00:01\r\u001b[K     |████████████████████▋           | 1.1MB 11.8MB/s eta 0:00:01\r\u001b[K     |████████████████████▊           | 1.1MB 11.8MB/s eta 0:00:01\r\u001b[K     |█████████████████████           | 1.2MB 11.8MB/s eta 0:00:01\r\u001b[K     |█████████████████████▏          | 1.2MB 11.8MB/s eta 0:00:01\r\u001b[K     |█████████████████████▎          | 1.2MB 11.8MB/s eta 0:00:01\r\u001b[K     |█████████████████████▌          | 1.2MB 11.8MB/s eta 0:00:01\r\u001b[K     |█████████████████████▊          | 1.2MB 11.8MB/s eta 0:00:01\r\u001b[K     |█████████████████████▉          | 1.2MB 11.8MB/s eta 0:00:01\r\u001b[K     |██████████████████████          | 1.2MB 11.8MB/s eta 0:00:01\r\u001b[K     |██████████████████████▎         | 1.2MB 11.8MB/s eta 0:00:01\r\u001b[K     |██████████████████████▍         | 1.2MB 11.8MB/s eta 0:00:01\r\u001b[K     |██████████████████████▋         | 1.2MB 11.8MB/s eta 0:00:01\r\u001b[K     |██████████████████████▉         | 1.3MB 11.8MB/s eta 0:00:01\r\u001b[K     |███████████████████████         | 1.3MB 11.8MB/s eta 0:00:01\r\u001b[K     |███████████████████████▏        | 1.3MB 11.8MB/s eta 0:00:01\r\u001b[K     |███████████████████████▍        | 1.3MB 11.8MB/s eta 0:00:01\r\u001b[K     |███████████████████████▌        | 1.3MB 11.8MB/s eta 0:00:01\r\u001b[K     |███████████████████████▊        | 1.3MB 11.8MB/s eta 0:00:01\r\u001b[K     |████████████████████████        | 1.3MB 11.8MB/s eta 0:00:01\r\u001b[K     |████████████████████████        | 1.3MB 11.8MB/s eta 0:00:01\r\u001b[K     |████████████████████████▎       | 1.3MB 11.8MB/s eta 0:00:01\r\u001b[K     |████████████████████████▌       | 1.4MB 11.8MB/s eta 0:00:01\r\u001b[K     |████████████████████████▊       | 1.4MB 11.8MB/s eta 0:00:01\r\u001b[K     |████████████████████████▉       | 1.4MB 11.8MB/s eta 0:00:01\r\u001b[K     |█████████████████████████       | 1.4MB 11.8MB/s eta 0:00:01\r\u001b[K     |█████████████████████████▎      | 1.4MB 11.8MB/s eta 0:00:01\r\u001b[K     |█████████████████████████▍      | 1.4MB 11.8MB/s eta 0:00:01\r\u001b[K     |█████████████████████████▋      | 1.4MB 11.8MB/s eta 0:00:01\r\u001b[K     |█████████████████████████▉      | 1.4MB 11.8MB/s eta 0:00:01\r\u001b[K     |██████████████████████████      | 1.4MB 11.8MB/s eta 0:00:01\r\u001b[K     |██████████████████████████▏     | 1.4MB 11.8MB/s eta 0:00:01\r\u001b[K     |██████████████████████████▍     | 1.5MB 11.8MB/s eta 0:00:01\r\u001b[K     |██████████████████████████▌     | 1.5MB 11.8MB/s eta 0:00:01\r\u001b[K     |██████████████████████████▊     | 1.5MB 11.8MB/s eta 0:00:01\r\u001b[K     |███████████████████████████     | 1.5MB 11.8MB/s eta 0:00:01\r\u001b[K     |███████████████████████████     | 1.5MB 11.8MB/s eta 0:00:01\r\u001b[K     |███████████████████████████▎    | 1.5MB 11.8MB/s eta 0:00:01\r\u001b[K     |███████████████████████████▌    | 1.5MB 11.8MB/s eta 0:00:01\r\u001b[K     |███████████████████████████▋    | 1.5MB 11.8MB/s eta 0:00:01\r\u001b[K     |███████████████████████████▉    | 1.5MB 11.8MB/s eta 0:00:01\r\u001b[K     |████████████████████████████    | 1.5MB 11.8MB/s eta 0:00:01\r\u001b[K     |████████████████████████████▏   | 1.6MB 11.8MB/s eta 0:00:01\r\u001b[K     |████████████████████████████▍   | 1.6MB 11.8MB/s eta 0:00:01\r\u001b[K     |████████████████████████████▋   | 1.6MB 11.8MB/s eta 0:00:01\r\u001b[K     |████████████████████████████▊   | 1.6MB 11.8MB/s eta 0:00:01\r\u001b[K     |█████████████████████████████   | 1.6MB 11.8MB/s eta 0:00:01\r\u001b[K     |█████████████████████████████▏  | 1.6MB 11.8MB/s eta 0:00:01\r\u001b[K     |█████████████████████████████▎  | 1.6MB 11.8MB/s eta 0:00:01\r\u001b[K     |█████████████████████████████▌  | 1.6MB 11.8MB/s eta 0:00:01\r\u001b[K     |█████████████████████████████▊  | 1.6MB 11.8MB/s eta 0:00:01\r\u001b[K     |█████████████████████████████▉  | 1.6MB 11.8MB/s eta 0:00:01\r\u001b[K     |██████████████████████████████  | 1.7MB 11.8MB/s eta 0:00:01\r\u001b[K     |██████████████████████████████▎ | 1.7MB 11.8MB/s eta 0:00:01\r\u001b[K     |██████████████████████████████▍ | 1.7MB 11.8MB/s eta 0:00:01\r\u001b[K     |██████████████████████████████▋ | 1.7MB 11.8MB/s eta 0:00:01\r\u001b[K     |██████████████████████████████▉ | 1.7MB 11.8MB/s eta 0:00:01\r\u001b[K     |███████████████████████████████ | 1.7MB 11.8MB/s eta 0:00:01\r\u001b[K     |███████████████████████████████▏| 1.7MB 11.8MB/s eta 0:00:01\r\u001b[K     |███████████████████████████████▍| 1.7MB 11.8MB/s eta 0:00:01\r\u001b[K     |███████████████████████████████▌| 1.7MB 11.8MB/s eta 0:00:01\r\u001b[K     |███████████████████████████████▊| 1.8MB 11.8MB/s eta 0:00:01\r\u001b[K     |████████████████████████████████| 1.8MB 11.8MB/s eta 0:00:01\r\u001b[K     |████████████████████████████████| 1.8MB 11.8MB/s \n",
            "\u001b[?25hRequirement already satisfied: filelock in /usr/local/lib/python3.6/dist-packages (from transformers) (3.0.12)\n",
            "Requirement already satisfied: tqdm>=4.27 in /usr/local/lib/python3.6/dist-packages (from transformers) (4.41.1)\n",
            "Requirement already satisfied: numpy in /usr/local/lib/python3.6/dist-packages (from transformers) (1.19.5)\n",
            "Requirement already satisfied: requests in /usr/local/lib/python3.6/dist-packages (from transformers) (2.23.0)\n",
            "Requirement already satisfied: regex!=2019.12.17 in /usr/local/lib/python3.6/dist-packages (from transformers) (2019.12.20)\n",
            "Collecting tokenizers==0.9.4\n",
            "\u001b[?25l  Downloading https://files.pythonhosted.org/packages/0f/1c/e789a8b12e28be5bc1ce2156cf87cb522b379be9cadc7ad8091a4cc107c4/tokenizers-0.9.4-cp36-cp36m-manylinux2010_x86_64.whl (2.9MB)\n",
            "\u001b[K     |████████████████████████████████| 2.9MB 56.0MB/s \n",
            "\u001b[?25hRequirement already satisfied: dataclasses; python_version < \"3.7\" in /usr/local/lib/python3.6/dist-packages (from transformers) (0.8)\n",
            "Requirement already satisfied: importlib-metadata; python_version < \"3.8\" in /usr/local/lib/python3.6/dist-packages (from transformers) (3.4.0)\n",
            "Requirement already satisfied: packaging in /usr/local/lib/python3.6/dist-packages (from transformers) (20.8)\n",
            "Collecting sacremoses\n",
            "\u001b[?25l  Downloading https://files.pythonhosted.org/packages/7d/34/09d19aff26edcc8eb2a01bed8e98f13a1537005d31e95233fd48216eed10/sacremoses-0.0.43.tar.gz (883kB)\n",
            "\u001b[K     |████████████████████████████████| 890kB 55.8MB/s \n",
            "\u001b[?25hRequirement already satisfied: chardet<4,>=3.0.2 in /usr/local/lib/python3.6/dist-packages (from requests->transformers) (3.0.4)\n",
            "Requirement already satisfied: idna<3,>=2.5 in /usr/local/lib/python3.6/dist-packages (from requests->transformers) (2.10)\n",
            "Requirement already satisfied: urllib3!=1.25.0,!=1.25.1,<1.26,>=1.21.1 in /usr/local/lib/python3.6/dist-packages (from requests->transformers) (1.24.3)\n",
            "Requirement already satisfied: certifi>=2017.4.17 in /usr/local/lib/python3.6/dist-packages (from requests->transformers) (2020.12.5)\n",
            "Requirement already satisfied: zipp>=0.5 in /usr/local/lib/python3.6/dist-packages (from importlib-metadata; python_version < \"3.8\"->transformers) (3.4.0)\n",
            "Requirement already satisfied: typing-extensions>=3.6.4; python_version < \"3.8\" in /usr/local/lib/python3.6/dist-packages (from importlib-metadata; python_version < \"3.8\"->transformers) (3.7.4.3)\n",
            "Requirement already satisfied: pyparsing>=2.0.2 in /usr/local/lib/python3.6/dist-packages (from packaging->transformers) (2.4.7)\n",
            "Requirement already satisfied: six in /usr/local/lib/python3.6/dist-packages (from sacremoses->transformers) (1.15.0)\n",
            "Requirement already satisfied: click in /usr/local/lib/python3.6/dist-packages (from sacremoses->transformers) (7.1.2)\n",
            "Requirement already satisfied: joblib in /usr/local/lib/python3.6/dist-packages (from sacremoses->transformers) (1.0.0)\n",
            "Building wheels for collected packages: sacremoses\n",
            "  Building wheel for sacremoses (setup.py) ... \u001b[?25l\u001b[?25hdone\n",
            "  Created wheel for sacremoses: filename=sacremoses-0.0.43-cp36-none-any.whl size=893261 sha256=4c7da23217a466775bcc271fa98aefafe93ce80bc3cf6688a28b079aaf3a161d\n",
            "  Stored in directory: /root/.cache/pip/wheels/29/3c/fd/7ce5c3f0666dab31a50123635e6fb5e19ceb42ce38d4e58f45\n",
            "Successfully built sacremoses\n",
            "Installing collected packages: tokenizers, sacremoses, transformers\n",
            "Successfully installed sacremoses-0.0.43 tokenizers-0.9.4 transformers-4.2.2\n"
          ],
          "name": "stdout"
        }
      ]
    },
    {
      "cell_type": "code",
      "metadata": {
        "id": "Nozj7MgHIsoB"
      },
      "source": [
        "from transformers import pipeline"
      ],
      "execution_count": null,
      "outputs": []
    },
    {
      "cell_type": "code",
      "metadata": {
        "colab": {
          "base_uri": "https://localhost:8080/",
          "height": 212,
          "referenced_widgets": [
            "d8f6b7933b7347bc9bb291becacab3da",
            "755fab60b7694ec4a1d5ec2aee5a17ca",
            "d1046fcafcd84ea7a094fb7bbb58e15a",
            "1c52fdeae7734d53b13e45de3d3226dc",
            "b23fce812c4743539e7a4aca1c7faab3",
            "a6b7e114550747ec8fc13d065ef1de58",
            "836be5051d3f4ca58bf7dc599d9dca28",
            "e7b6a5b50f524f7dad4ef67231a118f0",
            "980f67dbb1d34515b8eaf2b867987b3a",
            "ae3746b4aed94e85808b9eaee0c39067",
            "96be1fb39ab94836ba619aca14e1b153",
            "24f394d5f0ea4d24b1c9906313bcd24e",
            "1139f15fc7724f38bb2044dd41672c28",
            "c9c9fea0d21a43909fcbe8a66952ed2e",
            "8f52fda5d1884b44b1746f77c3f13aa5",
            "0fa9acc9d4574054bedc1047605c0289",
            "368a0693a851409ea828a9b78a6027fa",
            "51e1e0e11c734d58a2c06b765805a014",
            "43aec7b3b3cf4bc382c3846efc9d56ac",
            "54ea5c48a4b4480c8f1609de8156804d",
            "f70919a3aa2e4f96b952a61ee9f6471e",
            "5007a340d8a24628995773949dc443e0",
            "5e114c76296a49f3811194c78c4d0924",
            "150f0eab37e145ad972423a1b685fb66",
            "65ae18cb38474912a92807639773b9ed",
            "8972496898b84b90bb2d9d5153d1be73",
            "2bb77ad282c84dcca3ba1236eefb667b",
            "373aeaf068e348cd872bc047a3012624",
            "c4d5a6e50f914268aa6278c074f612ee",
            "235f87a1200e4409b4b01aae5fe03290",
            "ed22cb737e8045dfb50eaac0a23ccda3",
            "497e012fc78c497caf1f34574b261c17"
          ]
        },
        "id": "2_k_jdXUI-26",
        "outputId": "139bdb51-8beb-4fd3-f936-f81512608c12"
      },
      "source": [
        "nlp = pipeline(\"question-answering\")"
      ],
      "execution_count": null,
      "outputs": [
        {
          "output_type": "display_data",
          "data": {
            "application/vnd.jupyter.widget-view+json": {
              "model_id": "d8f6b7933b7347bc9bb291becacab3da",
              "version_minor": 0,
              "version_major": 2
            },
            "text/plain": [
              "HBox(children=(FloatProgress(value=0.0, description='Downloading', max=473.0, style=ProgressStyle(description_…"
            ]
          },
          "metadata": {
            "tags": []
          }
        },
        {
          "output_type": "stream",
          "text": [
            "\n"
          ],
          "name": "stdout"
        },
        {
          "output_type": "display_data",
          "data": {
            "application/vnd.jupyter.widget-view+json": {
              "model_id": "980f67dbb1d34515b8eaf2b867987b3a",
              "version_minor": 0,
              "version_major": 2
            },
            "text/plain": [
              "HBox(children=(FloatProgress(value=0.0, description='Downloading', max=260793700.0, style=ProgressStyle(descri…"
            ]
          },
          "metadata": {
            "tags": []
          }
        },
        {
          "output_type": "stream",
          "text": [
            "\n"
          ],
          "name": "stdout"
        },
        {
          "output_type": "display_data",
          "data": {
            "application/vnd.jupyter.widget-view+json": {
              "model_id": "368a0693a851409ea828a9b78a6027fa",
              "version_minor": 0,
              "version_major": 2
            },
            "text/plain": [
              "HBox(children=(FloatProgress(value=0.0, description='Downloading', max=213450.0, style=ProgressStyle(descripti…"
            ]
          },
          "metadata": {
            "tags": []
          }
        },
        {
          "output_type": "stream",
          "text": [
            "\n"
          ],
          "name": "stdout"
        },
        {
          "output_type": "display_data",
          "data": {
            "application/vnd.jupyter.widget-view+json": {
              "model_id": "65ae18cb38474912a92807639773b9ed",
              "version_minor": 0,
              "version_major": 2
            },
            "text/plain": [
              "HBox(children=(FloatProgress(value=0.0, description='Downloading', max=435797.0, style=ProgressStyle(descripti…"
            ]
          },
          "metadata": {
            "tags": []
          }
        },
        {
          "output_type": "stream",
          "text": [
            "\n"
          ],
          "name": "stdout"
        }
      ]
    },
    {
      "cell_type": "code",
      "metadata": {
        "id": "z_5geX1dJBQS"
      },
      "source": [
        "context = r\"\"\"\r\n",
        "... Extractive Question Answering is the task of extracting an answer from a text given a question. An example of a\r\n",
        "... question answering dataset is the SQuAD dataset, which is entirely based on that task. If you would like to fine-tune\r\n",
        "... a model on a SQuAD task, you may leverage the examples/question-answering/run_squad.py script.\r\n",
        "... \"\"\""
      ],
      "execution_count": null,
      "outputs": []
    },
    {
      "cell_type": "code",
      "metadata": {
        "id": "n0y02IGmJRgi"
      },
      "source": [
        "result = nlp(question=\"What is extractive question answering?\", context=context)\r\n",
        "print(f\"Answer: '{result['answer']}', score: {round(result['score'], 4)}, start: {result['start']}, end: {result['end']}\")\r\n",
        "result = nlp(question=\"What is a good example of a question answering dataset?\", context=context)\r\n",
        "print(f\"Answer: '{result['answer']}', score: {round(result['score'], 4)}, start: {result['start']}, end: {result['end']}\")"
      ],
      "execution_count": null,
      "outputs": []
    },
    {
      "cell_type": "markdown",
      "metadata": {
        "id": "NfNoE8J8KXWE"
      },
      "source": [
        "Copyright © 2021 IUBH Internationale Hochschule"
      ]
    }
  ]
}
