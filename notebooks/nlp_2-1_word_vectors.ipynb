{
  "nbformat": 4,
  "nbformat_minor": 0,
  "metadata": {
    "colab": {
      "name": "nlp_2-1_word_vectors.ipynb",
      "provenance": [],
      "collapsed_sections": [],
      "toc_visible": true
    },
    "kernelspec": {
      "name": "python3",
      "display_name": "Python 3"
    }
  },
  "cells": [
    {
      "cell_type": "markdown",
      "metadata": {
        "id": "JP6yXUiMx0Jo"
      },
      "source": [
        "# Bag of words and Word vectorization\r\n",
        "\r\n",
        "\"Text Analysis is a major application field for machine learning algorithms. However the raw data, a sequence of symbols cannot be fed directly to the algorithms themselves as most of them expect numerical feature vectors with a fixed size rather than the raw text documents with variable length.\"\r\n",
        "[skicit_learn.text_feature_extraction](https://scikit-learn.org/stable/modules/feature_extraction.html#text-feature-extraction)\r\n",
        "\r\n",
        "This notebook shows basic examples for bag of word representation and word vecorization.\r\n",
        "\r\n",
        "example_1: bag of word representation with scikit-learn\r\n",
        "\r\n",
        "example_2: word vectors with word2vec algorith used in spaCy\r\n",
        "\r\n",
        "example_3: word vectors with keras tokenizator"
      ]
    },
    {
      "cell_type": "markdown",
      "metadata": {
        "id": "uCLeHGenReU4"
      },
      "source": [
        "# Bag of words\r\n",
        "\r\n",
        "in this exeample the class ``CountVectorzier`` creates tokenized and counted outputs of a given text.\r\n",
        "More about featrue extraction with scikit can be found here: [scikit-learn.FeatureExtraction](https://scikit-learn.org/stable/modules/feature_extraction.html#text-feature-extraction)"
      ]
    },
    {
      "cell_type": "code",
      "metadata": {
        "colab": {
          "base_uri": "https://localhost:8080/"
        },
        "id": "a_XW1E3RSomk",
        "outputId": "09e252d9-8cab-4d91-c6ba-90f3daa511d2"
      },
      "source": [
        "from sklearn.feature_extraction.text import CountVectorizer\r\n",
        "\r\n",
        "# per default, the CountVectorzier model can tokenize and count \r\n",
        "# word occourrences with at least 2 letters. \r\n",
        "# when parameters are specified, the model can be adjusted for further features.\r\n",
        "# class description: https://scikit-learn.org/stable/modules/generated/sklearn.feature_extraction.text.CountVectorizer.html#sklearn.feature_extraction.text.CountVectorizer\r\n",
        "vectorizer = CountVectorizer();\r\n",
        "\r\n",
        "doc = [\r\n",
        "       'Federer is one of the greatest tennis players of all time.',\r\n",
        "       'Federer has won twenty grand slam titles to date.'\r\n",
        "       ]\r\n",
        "#\r\n",
        "X= vectorizer.fit_transform(doc)\r\n",
        "#\r\n",
        "# vectorizer output\r\n",
        "X"
      ],
      "execution_count": 40,
      "outputs": [
        {
          "output_type": "execute_result",
          "data": {
            "text/plain": [
              "<2x18 sparse matrix of type '<class 'numpy.int64'>'\n",
              "\twith 19 stored elements in Compressed Sparse Row format>"
            ]
          },
          "metadata": {
            "tags": []
          },
          "execution_count": 40
        }
      ]
    },
    {
      "cell_type": "code",
      "metadata": {
        "colab": {
          "base_uri": "https://localhost:8080/"
        },
        "id": "cOQWe4dKU88A",
        "outputId": "057ff670-40ee-4bcc-c7f7-5672c23c3654"
      },
      "source": [
        "# show the found unique words in the 2 sentences (automatically ordered)\r\n",
        "vectorizer.get_feature_names()"
      ],
      "execution_count": 41,
      "outputs": [
        {
          "output_type": "execute_result",
          "data": {
            "text/plain": [
              "['all',\n",
              " 'date',\n",
              " 'federer',\n",
              " 'grand',\n",
              " 'greatest',\n",
              " 'has',\n",
              " 'is',\n",
              " 'of',\n",
              " 'one',\n",
              " 'players',\n",
              " 'slam',\n",
              " 'tennis',\n",
              " 'the',\n",
              " 'time',\n",
              " 'titles',\n",
              " 'to',\n",
              " 'twenty',\n",
              " 'won']"
            ]
          },
          "metadata": {
            "tags": []
          },
          "execution_count": 41
        }
      ]
    },
    {
      "cell_type": "code",
      "metadata": {
        "colab": {
          "base_uri": "https://localhost:8080/"
        },
        "id": "HTMux0GKVcIL",
        "outputId": "a0b30f50-2bf1-4464-a3d9-3b5076fee8f2"
      },
      "source": [
        "# show the vector according to the features\r\n",
        "X.toarray()"
      ],
      "execution_count": 42,
      "outputs": [
        {
          "output_type": "execute_result",
          "data": {
            "text/plain": [
              "array([[1, 0, 1, 0, 1, 0, 1, 2, 1, 1, 0, 1, 1, 1, 0, 0, 0, 0],\n",
              "       [0, 1, 1, 1, 0, 1, 0, 0, 0, 0, 1, 0, 0, 0, 1, 1, 1, 1]])"
            ]
          },
          "metadata": {
            "tags": []
          },
          "execution_count": 42
        }
      ]
    },
    {
      "cell_type": "markdown",
      "metadata": {
        "id": "nzHvmeofc5HE"
      },
      "source": [
        "## PCA scatterplot visualizing word vectors of selected food and beverages"
      ]
    },
    {
      "cell_type": "code",
      "metadata": {
        "id": "u2tw7ob2tWng"
      },
      "source": [
        "\"\"\" source: \r\n",
        "https://web.stanford.edu/class/cs224n/materials/Gensim%20word%20vector%20visualization.html\r\n",
        "\"\"\"\r\n",
        "import matplotlib.pyplot as plt\r\n",
        "import numpy as np\r\n",
        "# set a default style for the plot\r\n",
        "plt.style.use('bmh')\r\n",
        "\r\n",
        "from sklearn.decomposition import PCA\r\n",
        "\r\n",
        "from gensim.test.utils import datapath, get_tmpfile\r\n",
        "from gensim.models import KeyedVectors\r\n",
        "from gensim.scripts.glove2word2vec import glove2word2vec"
      ],
      "execution_count": 23,
      "outputs": []
    },
    {
      "cell_type": "code",
      "metadata": {
        "colab": {
          "base_uri": "https://localhost:8080/"
        },
        "id": "RVioFgWZo6ML",
        "outputId": "f6fd7e3b-f44a-425c-a64a-1f829caf89fc"
      },
      "source": [
        "#get glove data\r\n",
        "!wget http://downloads.cs.stanford.edu/nlp/data/wordvecs/glove.6B.zip"
      ],
      "execution_count": 68,
      "outputs": [
        {
          "output_type": "stream",
          "text": [
            "--2021-02-25 14:44:50--  http://downloads.cs.stanford.edu/nlp/data/wordvecs/glove.6B.zip\n",
            "Resolving downloads.cs.stanford.edu (downloads.cs.stanford.edu)... 171.64.64.22\n",
            "Connecting to downloads.cs.stanford.edu (downloads.cs.stanford.edu)|171.64.64.22|:80... connected.\n",
            "HTTP request sent, awaiting response... 200 OK\n",
            "Length: 862182753 (822M) [application/zip]\n",
            "Saving to: ‘glove.6B.zip’\n",
            "\n",
            "glove.6B.zip        100%[===================>] 822.24M  1.79MB/s    in 6m 52s  \n",
            "\n",
            "2021-02-25 14:51:43 (1.99 MB/s) - ‘glove.6B.zip’ saved [862182753/862182753]\n",
            "\n"
          ],
          "name": "stdout"
        }
      ]
    },
    {
      "cell_type": "code",
      "metadata": {
        "colab": {
          "base_uri": "https://localhost:8080/"
        },
        "id": "KzJ5ytvasnjn",
        "outputId": "eee4fe7f-b8d7-4568-ce12-bd951b6539d1"
      },
      "source": [
        "!unzip glove.6B.zip"
      ],
      "execution_count": 70,
      "outputs": [
        {
          "output_type": "stream",
          "text": [
            "Archive:  glove.6B.zip\n",
            "  inflating: glove.6B.100d.txt       \n",
            "  inflating: glove.6B.200d.txt       \n",
            "  inflating: glove.6B.300d.txt       \n",
            "  inflating: glove.6B.50d.txt        \n"
          ],
          "name": "stdout"
        }
      ]
    },
    {
      "cell_type": "code",
      "metadata": {
        "colab": {
          "base_uri": "https://localhost:8080/"
        },
        "id": "wyWg7lwrs3Oa",
        "outputId": "a8d38f09-95ba-4f8d-a9f4-e44803262d24"
      },
      "source": [
        "glove_file = '/content/glove.6B.100d.txt'\r\n",
        "word2vec_glove_file = get_tmpfile('glove.6B.100d.word2vec.txt')\r\n",
        "glove2word2vec(glove_file, word2vec_glove_file)"
      ],
      "execution_count": 2,
      "outputs": [
        {
          "output_type": "execute_result",
          "data": {
            "text/plain": [
              "(400001, 100)"
            ]
          },
          "metadata": {
            "tags": []
          },
          "execution_count": 2
        }
      ]
    },
    {
      "cell_type": "code",
      "metadata": {
        "id": "9is6CYb6tbX7"
      },
      "source": [
        "model = KeyedVectors.load_word2vec_format(word2vec_glove_file)"
      ],
      "execution_count": 3,
      "outputs": []
    },
    {
      "cell_type": "code",
      "metadata": {
        "id": "TQPyLonIttW9"
      },
      "source": [
        "def display_pca_scatterplot(model, words=None, sample=0):\r\n",
        "    if words == None:\r\n",
        "        if sample > 0:\r\n",
        "            words = np.random.choice(list(model.vocab.keys()), sample)\r\n",
        "        else:\r\n",
        "            words = [ word for word in model.vocab ]\r\n",
        "        \r\n",
        "    word_vectors = np.array([model[w] for w in words])\r\n",
        "\r\n",
        "    twodim = PCA(n_components=2).fit_transform(word_vectors)[:,:2]    \r\n",
        "\r\n",
        "    plt.figure(figsize=(6,6))\r\n",
        "    plt.scatter(twodim[:,0], twodim[:,1], edgecolors='k', c='r')\r\n",
        "    plt.plot([-3, 3], [3, -3], ls=\"--\", c=\"r\")\r\n",
        "    # add names\r\n",
        "    for word, (x,y) in zip(words, twodim):\r\n",
        "      plt.text(x+0.05, y+0.05, word)\r\n"
      ],
      "execution_count": 53,
      "outputs": []
    },
    {
      "cell_type": "code",
      "metadata": {
        "colab": {
          "base_uri": "https://localhost:8080/",
          "height": 397
        },
        "id": "G6b7xLMRtvUO",
        "outputId": "c9aa443a-7a3f-486d-a6a1-f00ba526b8f1"
      },
      "source": [
        "#\r\n",
        "ingredients = [\r\n",
        "               'bread', 'butter', 'burger', 'cheese','coffee', 'coke',\r\n",
        "               'espresso','honey', 'jam','juice','liquor','milk', 'pizza',\r\n",
        "               'sandwich', 'tea', 'toast','wine'\r\n",
        "               ]\r\n",
        "#\r\n",
        "display_pca_scatterplot(model, ingredients)"
      ],
      "execution_count": 54,
      "outputs": [
        {
          "output_type": "display_data",
          "data": {
            "image/png": "[encoded data removed]",
            "text/plain": [
              "<Figure size 432x432 with 1 Axes>"
            ]
          },
          "metadata": {
            "tags": []
          }
        }
      ]
    },
    {
      "cell_type": "markdown",
      "metadata": {
        "id": "kx75JBH2yueg"
      },
      "source": [
        "# SpaCy\r\n",
        "\r\n",
        "to get the word vectors in a given text, it is important to load a large pipeline package as spaCy's small pipeline packages installed by default, don't ship with word vectors.\r\n"
      ]
    },
    {
      "cell_type": "code",
      "metadata": {
        "id": "n6qsw2Z_xd01",
        "colab": {
          "base_uri": "https://localhost:8080/"
        },
        "outputId": "6bdb8ccb-b466-4cee-9e3c-942b0e614893"
      },
      "source": [
        "import spacy\r\n",
        "\r\n",
        "spacy.cli.download(\"en_core_web_lg\")"
      ],
      "execution_count": null,
      "outputs": [
        {
          "output_type": "stream",
          "text": [
            "\u001b[38;5;2m✔ Download and installation successful\u001b[0m\n",
            "You can now load the model via spacy.load('en_core_web_lg')\n"
          ],
          "name": "stdout"
        }
      ]
    },
    {
      "cell_type": "code",
      "metadata": {
        "colab": {
          "base_uri": "https://localhost:8080/"
        },
        "id": "n0-4VV_CZS2N",
        "outputId": "350473ba-6265-4e62-a098-fb35c3abe78c"
      },
      "source": [
        "nlp = spacy.load(\"en_core_web_lg\")\r\n",
        "tokens = nlp(\"dog cat banana afskfsd\")\r\n",
        "\r\n",
        "for token in tokens:\r\n",
        "    print(token.text, token.has_vector, token.vector_norm, token.is_oov)"
      ],
      "execution_count": null,
      "outputs": [
        {
          "output_type": "stream",
          "text": [
            "dog True 7.0336733 False\n",
            "cat True 6.6808186 False\n",
            "banana True 6.700014 False\n",
            "afskfsd False 0.0 True\n"
          ],
          "name": "stdout"
        }
      ]
    },
    {
      "cell_type": "code",
      "metadata": {
        "colab": {
          "base_uri": "https://localhost:8080/"
        },
        "id": "EheQ4EihZlEY",
        "outputId": "d506f0e8-4ffe-4cd7-9107-4ef01b13fe7a"
      },
      "source": [
        "doc1 = nlp(\"I like salty fries and hamburgers.\")\r\n",
        "doc2 = nlp(\"Fast food tastes very good.\")\r\n",
        "\r\n",
        "# Similarity of two documents\r\n",
        "print(doc1, \"<->\", doc2, doc1.similarity(doc2))\r\n",
        "# Similarity of tokens and spans\r\n",
        "french_fries = doc1[2:4]\r\n",
        "burgers = doc1[5]\r\n",
        "print(french_fries, \"<->\", burgers, french_fries.similarity(burgers))"
      ],
      "execution_count": null,
      "outputs": [
        {
          "output_type": "stream",
          "text": [
            "I like salty fries and hamburgers. <-> Fast food tastes very good. 0.7687607012190486\n",
            "salty fries <-> hamburgers 0.6949788\n"
          ],
          "name": "stdout"
        }
      ]
    },
    {
      "cell_type": "markdown",
      "metadata": {
        "id": "M4L0I9XThkl6"
      },
      "source": [
        "# KERAS\r\n",
        "\r\n",
        "As an important task in preprocessing data for further machine learning processes, ``TextVectorization`` holds an index mapping words or tokens to integer indices.\r\n",
        "\r\n",
        "sourec: [keras.getting_started](https://keras.io/getting_started/intro_to_keras_for_engineers/#data-preprocessing-with-keras)"
      ]
    },
    {
      "cell_type": "markdown",
      "metadata": {
        "id": "pZq2FWCplrRZ"
      },
      "source": [
        "##### example 1:\r\n",
        "\r\n",
        "turning strings into sequences of integer word indices"
      ]
    },
    {
      "cell_type": "code",
      "metadata": {
        "colab": {
          "base_uri": "https://localhost:8080/"
        },
        "id": "mI3qyDHTjBx4",
        "outputId": "b8a43ce1-f091-4359-964b-2c161993bcad"
      },
      "source": [
        "import numpy as np\r\n",
        "from tensorflow.keras.layers.experimental.preprocessing import TextVectorization\r\n",
        "\r\n",
        "# Example training data, of dtype `string`.\r\n",
        "training_data = np.array([[\"This is the 1st sample.\"], [\"And here's the 2nd sample.\"]])\r\n",
        "\r\n",
        "# Create a TextVectorization layer instance. It can be configured to either\r\n",
        "# return integer token indices, or a dense token representation (e.g. multi-hot\r\n",
        "# or TF-IDF). The text standardization and text splitting algorithms are fully\r\n",
        "# configurable.\r\n",
        "vectorizer = TextVectorization(output_mode=\"int\")\r\n",
        "\r\n",
        "# Calling `adapt` on an array or dataset makes the layer generate a vocabulary\r\n",
        "# index for the data, which can then be reused when seeing new data.\r\n",
        "vectorizer.adapt(training_data)\r\n",
        "\r\n",
        "# After calling adapt, the layer is able to encode any n-gram it has seen before\r\n",
        "# in the `adapt()` data. Unknown n-grams are encoded via an \"out-of-vocabulary\"\r\n",
        "# token.\r\n",
        "integer_data = vectorizer(training_data)\r\n",
        "print(integer_data)"
      ],
      "execution_count": null,
      "outputs": [
        {
          "output_type": "stream",
          "text": [
            "tf.Tensor(\n",
            "[[4 5 2 9 3]\n",
            " [7 6 2 8 3]], shape=(2, 5), dtype=int64)\n"
          ],
          "name": "stdout"
        }
      ]
    },
    {
      "cell_type": "markdown",
      "metadata": {
        "id": "C7sYqFqkmBUz"
      },
      "source": [
        "##### example 2: \r\n",
        "\r\n",
        "turning strings into sequences of one-hot encoded bigrams"
      ]
    },
    {
      "cell_type": "code",
      "metadata": {
        "colab": {
          "base_uri": "https://localhost:8080/"
        },
        "id": "IpsVMyyhhmlf",
        "outputId": "d03375ef-44ca-44c6-d412-9230130d103b"
      },
      "source": [
        "from tensorflow.keras.layers.experimental.preprocessing import TextVectorization\r\n",
        "\r\n",
        "# Example training data, of dtype `string`.\r\n",
        "training_data = np.array([[\"This is the 1st sample.\"], [\"And here's the 2nd sample.\"]])\r\n",
        "\r\n",
        "# Create a TextVectorization layer instance. It can be configured to either\r\n",
        "# return integer token indices, or a dense token representation (e.g. multi-hot\r\n",
        "# or TF-IDF). The text standardization and text splitting algorithms are fully\r\n",
        "# configurable.\r\n",
        "vectorizer = TextVectorization(output_mode=\"binary\", ngrams=2)\r\n",
        "\r\n",
        "# Calling `adapt` on an array or dataset makes the layer generate a vocabulary\r\n",
        "# index for the data, which can then be reused when seeing new data.\r\n",
        "vectorizer.adapt(training_data)\r\n",
        "\r\n",
        "# After calling adapt, the layer is able to encode any n-gram it has seen before\r\n",
        "# in the `adapt()` data. Unknown n-grams are encoded via an \"out-of-vocabulary\"\r\n",
        "# token.\r\n",
        "integer_data = vectorizer(training_data)\r\n",
        "print(integer_data)"
      ],
      "execution_count": null,
      "outputs": [
        {
          "output_type": "stream",
          "text": [
            "tf.Tensor(\n",
            "[[0. 1. 1. 1. 1. 0. 1. 1. 1. 0. 0. 0. 0. 0. 0. 1. 1.]\n",
            " [0. 1. 1. 0. 0. 1. 0. 0. 0. 1. 1. 1. 1. 1. 1. 0. 0.]], shape=(2, 17), dtype=float32)\n"
          ],
          "name": "stdout"
        }
      ]
    }
  ]
}
