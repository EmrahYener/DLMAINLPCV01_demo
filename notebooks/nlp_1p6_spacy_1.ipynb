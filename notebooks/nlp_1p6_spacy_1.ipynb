{
 "cells": [
  {
   "cell_type": "markdown",
   "metadata": {},
   "source": [
    "**NLP with spaCy**\n",
    "\n",
    "SpaCy is one of the most famous framework for NLP. It can be used for the implementation of tasks for sentiment analysis, chatbots, text summarization, intent and entity extraction, and others.\n",
    "\n",
    "In this notebook some basic examples for following topics are shown:\n",
    "- [Tokenization](#tokenization)\n",
    "- [Sentence Tokenization](#sentence_tokenization)\n",
    "- [Part-Of-Speach Tagging](#pos_tagging)\n",
    "- [named entity recognition](#ner)\n",
    "\n",
    "mor information about spaCy:  [www.spacy.io](https://spacy.io/)\n"
   ]
  },
  {
   "cell_type": "code",
   "execution_count": 1,
   "metadata": {},
   "outputs": [],
   "source": [
    "# load resources for all following code cells\n",
    "import spacy\n",
    "#\n",
    "# Load English tokenizer, tagger, parser, NER and word vectors\n",
    "sp = spacy.load('en_core_web_sm')\n",
    "#"
   ]
  },
  {
   "cell_type": "markdown",
   "metadata": {},
   "source": [
    "<a id=tokenization>**Tokenization**</a>\n",
    "\n",
    "access the word tokens by iterating over the document object doc and print them"
   ]
  },
  {
   "cell_type": "code",
   "execution_count": 2,
   "metadata": {},
   "outputs": [
    {
     "name": "stdout",
     "output_type": "stream",
     "text": [
      "I\n",
      "am\n",
      "non\n",
      "-\n",
      "vegetarian\n",
      ",\n",
      "send\n",
      "me\n",
      "the\n",
      "menu\n",
      "at\n",
      "abs-xyz@gmail.com\n",
      ".\n",
      "\"\n",
      "They\n",
      "are\n",
      "going\n",
      "to\n",
      "U.K.\n",
      "and\n",
      "the\n",
      "to\n",
      "the\n",
      "U.S.A\n",
      "\"\n"
     ]
    }
   ],
   "source": [
    "# create document\n",
    "doc = sp(u'I am non-vegetarian, send me the menu at abs-xyz@gmail.com. \"They are going to U.K. and the to the U.S.A\"')\n",
    "#\n",
    "for token in doc:\n",
    "    print(token.text)"
   ]
  },
  {
   "cell_type": "markdown",
   "metadata": {},
   "source": [
    "<a id=sentence_tokenization>**Sentence tokenization**</a>"
   ]
  },
  {
   "cell_type": "code",
   "execution_count": 3,
   "metadata": {},
   "outputs": [
    {
     "name": "stdout",
     "output_type": "stream",
     "text": [
      "I am non-vegetarian, send me the menu at abs-xyz@gmail.com.\n",
      "\"They are going to U.K. and the to the U.S.A\"\n"
     ]
    }
   ],
   "source": [
    "for sentence in doc.sents:\n",
    "    print(sentence)"
   ]
  },
  {
   "cell_type": "markdown",
   "metadata": {},
   "source": [
    "<a id=pos_tagging>**part-of-speech tagging**</a>\n",
    "\n",
    "to output POS tags in spaCy, we iterate over the word token in our document ``doc_POS`` and print out the ``pos_`` attribute of each token\n"
   ]
  },
  {
   "cell_type": "code",
   "execution_count": 4,
   "metadata": {},
   "outputs": [],
   "source": [
    "doc_POS = sp(u\"I am going to complete this book by this weekend\")"
   ]
  },
  {
   "cell_type": "code",
   "execution_count": 5,
   "metadata": {},
   "outputs": [
    {
     "name": "stdout",
     "output_type": "stream",
     "text": [
      "I-->PRON\n",
      "am-->AUX\n",
      "going-->VERB\n",
      "to-->PART\n",
      "complete-->VERB\n",
      "this-->DET\n",
      "book-->NOUN\n",
      "by-->ADP\n",
      "this-->DET\n",
      "weekend-->NOUN\n"
     ]
    }
   ],
   "source": [
    "for word in doc_POS:\n",
    "    print(word.text + '-->' + word.pos_)"
   ]
  },
  {
   "cell_type": "markdown",
   "metadata": {},
   "source": [
    "<a id=ner>**named entity recognition**</a>\n",
    "\n",
    "to output named entity labels in spaCy we just have to iterate over the entities in our document ``doc.ents`` and print out the ``label_`` attribute."
   ]
  },
  {
   "cell_type": "code",
   "execution_count": 6,
   "metadata": {},
   "outputs": [
    {
     "name": "stdout",
     "output_type": "stream",
     "text": [
      "Christiano Ronaldo - PERSON - People, including fictional\n",
      "Juventus - ORG - Companies, agencies, institutions, etc.\n",
      "$105 million - MONEY - Monetary values, including unit\n"
     ]
    }
   ],
   "source": [
    "doc_ner = sp(u'Christiano Ronaldo was signed by Juventus for $105 million')\n",
    "#\n",
    "for entity in doc_ner.ents:\n",
    "    print(entity.text + ' - ' \n",
    "          + entity.label_ + ' - ' \n",
    "          + str(spacy.explain(entity.label_)))"
   ]
  },
    {
   "cell_type": "markdown",
   "metadata": {},
   "source": [
    "Copyright © 2020 IUBH Internationale Hochschule"
   ]
  }
 ],
 "metadata": {
  "kernelspec": {
   "display_name": "Python 3",
   "language": "python",
   "name": "python3"
  },
  "language_info": {
   "codemirror_mode": {
    "name": "ipython",
    "version": 3
   },
   "file_extension": ".py",
   "mimetype": "text/x-python",
   "name": "python",
   "nbconvert_exporter": "python",
   "pygments_lexer": "ipython3",
   "version": "3.8.2"
  },
  "nbTranslate": {
   "displayLangs": [
    "*"
   ],
   "hotkey": "alt-t",
   "langInMainMenu": true,
   "sourceLang": "en",
   "targetLang": "fr",
   "useGoogleTranslate": true
  }
 },
 "nbformat": 4,
 "nbformat_minor": 4
}
