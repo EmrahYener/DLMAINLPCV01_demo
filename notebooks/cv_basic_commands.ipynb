{
  "nbformat": 4,
  "nbformat_minor": 0,
  "metadata": {
    "colab": {
      "name": "cv_basic_commands.ipynb",
      "provenance": [],
      "collapsed_sections": [],
      "toc_visible": true
    },
    "kernelspec": {
      "name": "python3",
      "display_name": "Python 3"
    }
  },
  "cells": [
    {
      "cell_type": "markdown",
      "metadata": {
        "id": "Cr9hD6uI4hCF"
      },
      "source": [
        "# Basic commands with OpenCV\n",
        "\n",
        "OpenCV (Open Source Computer Vision Library: http://opencv.org) is an open-source library that includes several hundreds of computer vision algorithms. \n",
        "\n",
        "In this notebook some basic commands for opencv should be introduced.\n"
      ]
    },
    {
      "cell_type": "markdown",
      "metadata": {
        "id": "XSFC1rkdFik0"
      },
      "source": [
        "## Bring pictures into Colab environment\n",
        "\n",
        "Before an image can be processed, it must exist in the colab environment."
      ]
    },
    {
      "cell_type": "markdown",
      "metadata": {
        "id": "YODqVRjtAlnu"
      },
      "source": [
        "### Load picture from a github repository"
      ]
    },
    {
      "cell_type": "code",
      "metadata": {
        "id": "U9WZgyUjSr4r",
        "colab": {
          "base_uri": "https://localhost:8080/"
        },
        "outputId": "0967e8a1-16c2-4c2f-bbff-b520a6480271"
      },
      "source": [
        "!curl --remote-name -H 'Accept: application/vnd.github.v3.raw' --location https://raw.githubusercontent.com/iubh/DLMAIEAIS01_DEV/master/data/cv_pictures/baboon.jpg"
      ],
      "execution_count": null,
      "outputs": [
        {
          "output_type": "stream",
          "text": [
            "  % Total    % Received % Xferd  Average Speed   Time    Time     Time  Current\n",
            "                                 Dload  Upload   Total   Spent    Left  Speed\n",
            "100  175k  100  175k    0     0  1255k      0 --:--:-- --:--:-- --:--:-- 1255k\n"
          ],
          "name": "stdout"
        }
      ]
    },
    {
      "cell_type": "markdown",
      "metadata": {
        "id": "0RpQGFUFExo4"
      },
      "source": [
        "### Load picture from www.pexels.com"
      ]
    },
    {
      "cell_type": "code",
      "metadata": {
        "id": "MGvywwfiEwfy",
        "colab": {
          "base_uri": "https://localhost:8080/"
        },
        "outputId": "2386715d-56ce-4598-8715-0feb5aa624e2"
      },
      "source": [
        "!curl -O --location https://images.pexels.com/photos/1387037/pexels-photo-1387037.jpeg?auto=compress&cs=tinysrgb&dpr=1&w=500"
      ],
      "execution_count": null,
      "outputs": [
        {
          "output_type": "stream",
          "text": [
            "  % Total    % Received % Xferd  Average Speed   Time    Time     Time  Current\n",
            "                                 Dload  Upload   Total   Spent    Left  Speed\n",
            "100  317k  100  317k    0     0  1847k      0 --:--:-- --:--:-- --:--:-- 1857k\n"
          ],
          "name": "stdout"
        }
      ]
    },
    {
      "cell_type": "markdown",
      "metadata": {
        "id": "7QukyNoQAxAX"
      },
      "source": [
        "## Import Picture\n",
        "\n",
        "The function ``imread()`` loads an image from a file.\n",
        "\n",
        "further documentation to [imread()](https://docs.opencv.org/master/d4/da8/group__imgcodecs.html#ga288b8b3da0892bd651fce07b3bbd3a56)"
      ]
    },
    {
      "cell_type": "code",
      "metadata": {
        "id": "VG_tUriB4gUU"
      },
      "source": [
        "import cv2\n",
        "\n",
        "img_1 = cv2.imread('baboon.jpg')\n",
        "\n",
        "img_2 = cv2.imread('/content/pexels-photo-1387037.jpeg?auto=compress')"
      ],
      "execution_count": null,
      "outputs": []
    },
    {
      "cell_type": "markdown",
      "metadata": {
        "id": "YmPtfLQhGmEN"
      },
      "source": [
        "## Display pictures"
      ]
    },
    {
      "cell_type": "markdown",
      "metadata": {
        "id": "icDHmUjHC_yB"
      },
      "source": [
        "### Show picture with ``cv2_imshow()``\n",
        "The cv2.imshow() and cv.imshow() functions from the opencv-python package are incompatible with Jupyter notebook; see https://github.com/jupyter/notebook/issues/3935.\n",
        "\n",
        "As a replacement, you can use the following function:\n",
        "``google.colab.patches.cv2_imshow``"
      ]
    },
    {
      "cell_type": "code",
      "metadata": {
        "id": "5zztrralGQa7",
        "colab": {
          "base_uri": "https://localhost:8080/",
          "height": 958
        },
        "outputId": "e57684a6-f56b-47a2-aaa3-15f505ceb1c7"
      },
      "source": [
        "from google.colab.patches import cv2_imshow\n",
        "cv2_imshow(img_2)"
      ],
      "execution_count": null,
      "outputs": [
        {
          "output_type": "display_data",
          "data": {
            "image/png": "\n",
            "text/plain": [
              "<PIL.Image.Image image mode=RGB size=3008x2000 at 0x7FF05ACF0D50>"
            ]
          },
          "metadata": {
            "tags": []
          }
        }
      ]
    },
    {
      "cell_type": "markdown",
      "metadata": {
        "id": "wSUlWc1gDEmp"
      },
      "source": [
        "### Show picture with matplotlib\n",
        "A color image loaded by OpenCV is in BGR mode. But Matplotlib displays in RGB mode. \n",
        "Hence color images will not be displayed correctly in Matplotlib if an image is read with OpenCV. \n",
        "\n",
        "see [stackoverflow_15072736](https://stackoverflow.com/questions/15072736/extracting-a-region-from-an-image-using-slicing-in-python-opencv/15074748#15074748)\n"
      ]
    },
    {
      "cell_type": "code",
      "metadata": {
        "id": "1q6rc7p9DYKp",
        "colab": {
          "base_uri": "https://localhost:8080/",
          "height": 297
        },
        "outputId": "790d0c16-8f92-4127-e357-1cc4aecb43f8"
      },
      "source": [
        "from matplotlib import pyplot as plt\n",
        "\n",
        "# Convert BGR color image to RGB color image manually \n",
        "b,g,r = cv2.split(img_1)\n",
        "img_rgb = cv2.merge([r,g,b])\n",
        "\n",
        "# Show 3 images in one row\n",
        "plt.subplots(1,3, figsize =(15,15),sharey=True)\n",
        "\n",
        "# 1st picture\n",
        "plt.subplot(131)\n",
        "plt.imshow(img_1)\n",
        "plt.title('image in BGR'), plt.xticks([]), plt.yticks([])\n",
        "\n",
        "# 2nd picture\n",
        "plt.subplot(132)\n",
        "plt.imshow(img_rgb)\n",
        "plt.title('manual RGB conversion'), plt.xticks([]), plt.yticks([])\n",
        "\n",
        "# 3rd picture\n",
        "plt.subplot(133)\n",
        "im3 = cv2.cvtColor(img_1, cv2.COLOR_BGR2RGB)\n",
        "plt.imshow(im3)\n",
        "plt.title('CV2 conversion'), plt.xticks([]), plt.yticks([])\n",
        "\n",
        "plt.show()"
      ],
      "execution_count": null,
      "outputs": [
        {
          "output_type": "display_data",
          "data": {
            "image/png": "\n",
            "text/plain": [
              "<Figure size 1080x1080 with 3 Axes>"
            ]
          },
          "metadata": {
            "tags": []
          }
        }
      ]
    },
    {
      "cell_type": "markdown",
      "metadata": {
        "id": "P-7mEf4KCC8C"
      },
      "source": [
        "## Accessing and Modifying pixel values\n",
        "\n",
        "source: [opencv.org](https://docs.opencv.org/master/d3/df2/tutorial_py_basic_ops.html)"
      ]
    },
    {
      "cell_type": "code",
      "metadata": {
        "id": "UJUHAoYXoqdd"
      },
      "source": [
        "import numpy as np"
      ],
      "execution_count": null,
      "outputs": []
    },
    {
      "cell_type": "code",
      "metadata": {
        "id": "9ND4QT-zmzfC",
        "colab": {
          "base_uri": "https://localhost:8080/"
        },
        "outputId": "c4a61bff-49b4-4861-a932-702a389b4923"
      },
      "source": [
        "img_1 = cv2.imread('baboon.jpg')\n",
        "\n",
        "# display shape of an image\n",
        "#\n",
        "# nx: number of pixels in x-direction\n",
        "# ny: number of pixels in y-direction\n",
        "# nc: number of color channels (BGR / RGB = 3)\n",
        "\n",
        "[nx, ny, nc] = img_1.shape\n",
        "\n",
        "print(f'x: {nx}\\ty: {ny}\\tcolors: {nc}')"
      ],
      "execution_count": null,
      "outputs": [
        {
          "output_type": "stream",
          "text": [
            "x: 512\ty: 512\tcolors: 3\n"
          ],
          "name": "stdout"
        }
      ]
    },
    {
      "cell_type": "code",
      "metadata": {
        "id": "155rlt01fHp-",
        "colab": {
          "base_uri": "https://localhost:8080/"
        },
        "outputId": "5d0a0c5a-253d-4426-c386-d162e0f2fc34"
      },
      "source": [
        "# Access a pixel value by its row and column coordinates.\n",
        "img = img_1\n",
        "px = img[100,100]\n",
        "print( px )\n",
        "\n",
        "# Modify single pixel values\n",
        "img[100,100] = [255,255,255]\n",
        "print( img[100,100] )"
      ],
      "execution_count": null,
      "outputs": [
        {
          "output_type": "stream",
          "text": [
            "[140 145 100]\n",
            "[255 255 255]\n"
          ],
          "name": "stdout"
        }
      ]
    },
    {
      "cell_type": "code",
      "metadata": {
        "id": "YVbAbthCqSl6",
        "colab": {
          "base_uri": "https://localhost:8080/",
          "height": 203
        },
        "outputId": "8af3b910-77a3-4c2b-eac9-8b523a357c74"
      },
      "source": [
        "# Demonstrate pixel modifying with whitening a square of 90x90 pixels\n",
        "img[10:100, 10:100] = [255, 255, 255]\n",
        "\n",
        "plt.subplots(nrows=1, ncols=2, sharey=True)\n",
        "\n",
        "plt.subplot(121)\n",
        "plt.imshow(img_rgb)\n",
        "plt.title('Original'), plt.xticks([]), plt.yticks([])\n",
        "\n",
        "plt.subplot(122)\n",
        "im4 = cv2.cvtColor(img, cv2.COLOR_BGR2RGB)\n",
        "plt.imshow(im4)\n",
        "plt.title('Modified pixels'), plt.xticks([]), plt.yticks([])\n",
        "\n",
        "plt.show()"
      ],
      "execution_count": null,
      "outputs": [
        {
          "output_type": "display_data",
          "data": {
            "image/png": "\n",
            "text/plain": [
              "<Figure size 432x288 with 2 Axes>"
            ]
          },
          "metadata": {
            "tags": []
          }
        }
      ]
    },
    {
      "cell_type": "markdown",
      "metadata": {
        "id": "kG4OHYvynjuf"
      },
      "source": [
        "***Note***<br>\n",
        "The above method is normally used for selecting a region of an array, say the first 5 rows and last 3 columns. For individual pixel access, the Numpy array methods, array.item() and array.itemset() are considered better. They always return a scalar, however, so if you want to access all the B,G,R values, you will need to call array.item() separately for each value.\n",
        "Better pixel accessing and editing method :"
      ]
    },
    {
      "cell_type": "code",
      "metadata": {
        "id": "--pGXzXSnpTQ",
        "colab": {
          "base_uri": "https://localhost:8080/"
        },
        "outputId": "252300bd-d4f7-4169-9c86-0ecc3b4594e4"
      },
      "source": [
        "# Accessing RED value\n",
        "img.item(10,10,2)\n",
        "\n",
        "# Modifying RED value\n",
        "img.itemset((10,10,2),100)\n",
        "img.item(10,10,2)"
      ],
      "execution_count": null,
      "outputs": [
        {
          "output_type": "execute_result",
          "data": {
            "text/plain": [
              "100"
            ]
          },
          "metadata": {
            "tags": []
          },
          "execution_count": 10
        }
      ]
    },
    {
      "cell_type": "code",
      "metadata": {
        "id": "sRZ7zRXAo_iH"
      },
      "source": [
        "# Convert color image to grayscale image\n",
        "img_1 = cv2.imread('baboon.jpg')\n",
        "\n",
        "# Get single color channels\n",
        "b_ch, g_ch, r_ch = img_1[:, :, 0], img_1[:, :, 1], img_1[:, :, 2]\n",
        "\n",
        "# Take weights according to the opencv conversion documentation\n",
        "# to convert the color image to grayscale\n",
        "#\n",
        "# see: https://docs.opencv.org/3.4/de/d25/imgproc_color_conversions.html\n",
        "\n",
        "r_const = 0.299 \n",
        "g_const = 0.587 \n",
        "b_const = 0.114 \n",
        "\n",
        "grayscale_image =  b_const * b_ch + g_const * g_ch + r_const * r_ch"
      ],
      "execution_count": null,
      "outputs": []
    },
    {
      "cell_type": "code",
      "metadata": {
        "id": "Kw3UeyLst4g3",
        "colab": {
          "base_uri": "https://localhost:8080/",
          "height": 203
        },
        "outputId": "59c387b8-a419-416a-ab53-00624655bc0f"
      },
      "source": [
        "# Display the grayscale image\n",
        "\n",
        "plt.subplots(nrows=1, ncols=2, sharey=True)\n",
        "\n",
        "plt.subplot(121)\n",
        "plt.imshow(img_rgb)\n",
        "plt.title('Original'), plt.xticks([]), plt.yticks([])\n",
        "\n",
        "plt.subplot(122)\n",
        "plt.imshow(grayscale_image, cmap='gray')\n",
        "plt.title('Grayscale image'), plt.xticks([]), plt.yticks([])\n",
        "\n",
        "plt.show()"
      ],
      "execution_count": null,
      "outputs": [
        {
          "output_type": "display_data",
          "data": {
            "image/png": "\n",
            "text/plain": [
              "<Figure size 432x288 with 2 Axes>"
            ]
          },
          "metadata": {
            "tags": []
          }
        }
      ]
    }
  ]
}
