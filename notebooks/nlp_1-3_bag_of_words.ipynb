{
  "nbformat": 4,
  "nbformat_minor": 0,
  "metadata": {
    "colab": {
      "name": "nlp_1-3_bag_of_words.ipynb",
      "provenance": [],
      "collapsed_sections": [],
      "toc_visible": true
    },
    "kernelspec": {
      "name": "python3",
      "display_name": "Python 3"
    }
  },
  "cells": [
    {
      "cell_type": "markdown",
      "metadata": {
        "id": "P8kWlZt0q7F5"
      },
      "source": [
        "# Bag of words\r\n"
      ]
    },
    {
      "cell_type": "code",
      "metadata": {
        "colab": {
          "base_uri": "https://localhost:8080/"
        },
        "id": "Hnkiu6mG6qsz",
        "outputId": "f5950109-5f42-4af2-fd71-ede570568888"
      },
      "source": [
        "# \r\n",
        "s1=\"Federer is one of the greatest tennis players of all time.\"\r\n",
        "s2=\"Federer has won twenty grand slam titles to date.\"\r\n",
        "\r\n",
        "# find unique tokens for both sentences\r\n",
        "#  \r\n",
        "# filter '.' and concaternate the sentences to one list\r\n",
        "doc = s1.replace('.','').split() + s2.replace('.','').split()\r\n",
        "#\r\n",
        "oc = set() # build an unordered collection of unique elements\r\n",
        "unique_tokens = [\r\n",
        "                 t for t in doc if not (t in oc or oc.add(t))\r\n",
        "                 ] \r\n",
        "#\r\n",
        "print(unique_tokens)\r\n",
        "#"
      ],
      "execution_count": null,
      "outputs": [
        {
          "output_type": "stream",
          "text": [
            "['Federer', 'is', 'one', 'of', 'the', 'greatest', 'tennis', 'players', 'all', 'time', 'has', 'won', 'twenty', 'grand', 'slam', 'titles', 'to', 'date']\n"
          ],
          "name": "stdout"
        }
      ]
    },
    {
      "cell_type": "code",
      "metadata": {
        "colab": {
          "base_uri": "https://localhost:8080/"
        },
        "id": "EGF-n6l5FcMS",
        "outputId": "2573b886-766d-4e90-b7b8-d04628939d78"
      },
      "source": [
        "# count the frequency of each word in sentence 1 regarding the unique tokens\r\n",
        "#\r\n",
        "vec_1 = []\r\n",
        "token_1 = s1.replace('.','').split()\r\n",
        "for t in unique_tokens:\r\n",
        "  count = token_1.count(t)\r\n",
        "  print(f'{t}: {count}')\r\n",
        "  vec_1.append(count)\r\n",
        "\r\n",
        "print(f'\\nvector ouput\\n{s1}\\n{vec_1}')"
      ],
      "execution_count": null,
      "outputs": [
        {
          "output_type": "stream",
          "text": [
            "Federer: 1\n",
            "is: 1\n",
            "one: 1\n",
            "of: 2\n",
            "the: 1\n",
            "greatest: 1\n",
            "tennis: 1\n",
            "players: 1\n",
            "all: 1\n",
            "time: 1\n",
            "has: 0\n",
            "won: 0\n",
            "twenty: 0\n",
            "grand: 0\n",
            "slam: 0\n",
            "titles: 0\n",
            "to: 0\n",
            "date: 0\n",
            "\n",
            "vector ouput\n",
            "Federer is one of the greatest tennis players of all time.\n",
            "[1, 1, 1, 2, 1, 1, 1, 1, 1, 1, 0, 0, 0, 0, 0, 0, 0, 0]\n"
          ],
          "name": "stdout"
        }
      ]
    },
    {
      "cell_type": "code",
      "metadata": {
        "colab": {
          "base_uri": "https://localhost:8080/"
        },
        "id": "ugB8f6YZHlNL",
        "outputId": "25d06ce4-692d-4a4e-b50f-b7fb093afd0c"
      },
      "source": [
        "# count the frequency of each word in sentence 2 regarding the unique tokens\r\n",
        "#\r\n",
        "vec_2 = []\r\n",
        "token_2 = s2.replace('.','').split()\r\n",
        "for t in unique_tokens:\r\n",
        "  count = token_2.count(t)\r\n",
        "  print(f'{t}: {count}')\r\n",
        "  vec_2.append(count)\r\n",
        "\r\n",
        "print(f'\\nvector ouput\\n{s2}\\n{vec_2}')"
      ],
      "execution_count": null,
      "outputs": [
        {
          "output_type": "stream",
          "text": [
            "Federer: 1\n",
            "is: 0\n",
            "one: 0\n",
            "of: 0\n",
            "the: 0\n",
            "greatest: 0\n",
            "tennis: 0\n",
            "players: 0\n",
            "all: 0\n",
            "time: 0\n",
            "has: 1\n",
            "won: 1\n",
            "twenty: 1\n",
            "grand: 1\n",
            "slam: 1\n",
            "titles: 1\n",
            "to: 1\n",
            "date: 1\n",
            "\n",
            "vector ouput\n",
            "Federer has won twenty grand slam titles to date.\n",
            "[1, 0, 0, 0, 0, 0, 0, 0, 0, 0, 1, 1, 1, 1, 1, 1, 1, 1]\n"
          ],
          "name": "stdout"
        }
      ]
    },
    {
      "cell_type": "code",
      "metadata": {
        "colab": {
          "base_uri": "https://localhost:8080/"
        },
        "id": "qwQ7y9kjHwbw",
        "outputId": "15fd075b-e98d-49a7-c24b-f38458104f7f"
      },
      "source": [
        "# print both vectors\r\n",
        "print(f'\\n{s1}\\n{vec_1}')\r\n",
        "print(f'\\n{s2}\\n{vec_2}')"
      ],
      "execution_count": null,
      "outputs": [
        {
          "output_type": "stream",
          "text": [
            "\n",
            "Federer is one of the greatest tennis players of all time.\n",
            "[1, 1, 1, 2, 1, 1, 1, 1, 1, 1, 0, 0, 0, 0, 0, 0, 0, 0]\n",
            "\n",
            "Federer has won twenty grand slam titles to date.\n",
            "[1, 0, 0, 0, 0, 0, 0, 0, 0, 0, 1, 1, 1, 1, 1, 1, 1, 1]\n"
          ],
          "name": "stdout"
        }
      ]
    }
  ]
}
