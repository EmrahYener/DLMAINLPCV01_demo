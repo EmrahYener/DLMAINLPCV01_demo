{
  "nbformat": 4,
  "nbformat_minor": 0,
  "metadata": {
    "kernelspec": {
      "display_name": "Python 3",
      "language": "python",
      "name": "python3"
    },
    "language_info": {
      "codemirror_mode": {
        "name": "ipython",
        "version": 3
      },
      "file_extension": ".py",
      "mimetype": "text/x-python",
      "name": "python",
      "nbconvert_exporter": "python",
      "pygments_lexer": "ipython3",
      "version": "3.8.2"
    },
    "nbTranslate": {
      "displayLangs": [
        "*"
      ],
      "hotkey": "alt-t",
      "langInMainMenu": true,
      "sourceLang": "en",
      "targetLang": "fr",
      "useGoogleTranslate": true
    },
    "colab": {
      "name": "nlp_1p2_regexp.ipynb",
      "provenance": [],
      "collapsed_sections": []
    }
  },
  "cells": [
    {
      "cell_type": "markdown",
      "metadata": {
        "id": "i8EfESNNankA"
      },
      "source": [
        "# **Regular expressions**\n",
        "\n",
        "python library: **Lib/re.py**\n",
        "\n",
        "Regular expressions (also called “RegEx”) are a powerful tool and a standardized language to search for patterns in strings.\n",
        "\n",
        "The built-in python module ``re`` contains different methods for performing matches. The most signigiciant are:\n",
        "- ``match()``:$\\qquad \\text{Determine if the RE matches at the beginning of the string.}$<br>\n",
        "- ``search()``:$\\qquad \\text{Scan through a string, looking for any location where this RE matches.}$<br>\n",
        "- ``findall()``:$\\qquad \\text{Find all substrings where the RE matches, and returns them as a list.}$<br>\n",
        "- ``finditer()``:$\\qquad \\text{Find all substrings where the RE matches, and returns them as an iterator.}$<br>\n",
        "\n",
        "This notebook shows examples to following metacharacter settings:\n",
        "- Anchors\n",
        "- Quantifiers\n",
        "- Disjunctions\n",
        "- Character Classes\n",
        "\n",
        "python documentation:\n",
        "- Regular Expression Syntax [library \"re\"](https://docs.python.org/3/library/re.html)\n",
        "- How-to use re [re-how-to](https://docs.python.org/3/howto/regex.html#regex-howto)\n",
        "\n",
        "\n"
      ]
    },
    {
      "cell_type": "code",
      "metadata": {
        "id": "VmYmsxu4ankY"
      },
      "source": [
        "# Load resouces for all following code cells\n",
        "import re"
      ],
      "execution_count": null,
      "outputs": []
    },
    {
      "cell_type": "markdown",
      "metadata": {
        "id": "t8E9--jiankb"
      },
      "source": [
        "## **Anchors mark a position in the string**\n",
        "\n",
        "- $\\text{^}$ : $\\quad$ means the beginning of the string\n",
        "- $\\text{\\$}$: $\\quad$  means the end"
      ]
    },
    {
      "cell_type": "code",
      "metadata": {
        "colab": {
          "base_uri": "https://localhost:8080/"
        },
        "id": "CoZ1BlC7ankc",
        "outputId": "4917b869-9cc0-49b2-cb34-39c498e35685"
      },
      "source": [
        "# Define regular expression\n",
        "\n",
        "# Does them sentence \"bananas are cheap\" begin with \"banana\"?\n",
        "p = re.search('^banana', \"bananas are cheap\")\n",
        "\n",
        "# Show results:\n",
        "\n",
        "if p:\n",
        "    # Print the string wich matches the regular expression\n",
        "    print('matching string:\\t' + p.group())\n",
        "    \n",
        "    # Print the beginning and last character of the match\n",
        "    print('index of first and last matching character in the sentence: \\t start: {} \\t end: {}'.format(p.start(), p.end()))\n",
        "    \n",
        "    # Print the start and end position as tuple:\n",
        "    print('index of first and last matching charcter as tuple: \\t{}'.format(p.span()))\n",
        "else:\n",
        "    print(\"no match\")"
      ],
      "execution_count": null,
      "outputs": [
        {
          "output_type": "stream",
          "text": [
            "matching string:\tbanana\n",
            "index of first and last matching character in the sentence: \t start: 0 \t end: 6\n",
            "index of first and last matching charcter as tuple: \t(0, 6)\n"
          ],
          "name": "stdout"
        }
      ]
    },
    {
      "cell_type": "code",
      "metadata": {
        "colab": {
          "base_uri": "https://localhost:8080/"
        },
        "id": "F6xZn3SdgaA-",
        "outputId": "e33f1265-b310-4468-fd13-52cde4ec7f6e"
      },
      "source": [
        "# The function match() would return the same result\n",
        "#\n",
        "# Note:\n",
        "# The match() function only checks if the RE matches at the beginning of the string while search()\n",
        "# will scan forward through the string for a match. \n",
        "# It’s important to keep this distinction in mind. \n",
        "# Remember, match() will only report a successful match which will start at 0; \n",
        "# if the match wouldn’t start at zero, match() will not report it.\n",
        "\n",
        "p = re.match('^banana', \"bananas are cheap\")\n",
        "\n",
        "if p:\n",
        "  print('matching string: ' + p.group())"
      ],
      "execution_count": null,
      "outputs": [
        {
          "output_type": "stream",
          "text": [
            "matching string: banana\n"
          ],
          "name": "stdout"
        }
      ]
    },
    {
      "cell_type": "code",
      "metadata": {
        "colab": {
          "base_uri": "https://localhost:8080/"
        },
        "id": "3O0t2i5dankg",
        "outputId": "d2ede294-4b14-4357-97a5-00f1e00ff04e"
      },
      "source": [
        "# Check if the sentence \"I have a banana\" ends with \"banana\"\n",
        "\n",
        "p = re.search('banana$', \"I have a banana\")\n",
        "\n",
        "# Show results:\n",
        "\n",
        "if p:\n",
        "  # Print the string wich matches the regular expression\n",
        "  print('matching string:\\t' + p.group())\n",
        "  \n",
        "  # Print the beginning and last character of the match\n",
        "  print('index of first and last matching character in the sentence: \\t start: {} \\t end: {}'.format(p.start(), p.end()))\n",
        "  \n",
        "  # Print the start and end position as tuple:\n",
        "  print('index of first and last matching charcter as tuple: \\t{}'.format(p.span()))\n",
        "  \n",
        "else:\n",
        "    print(\"no match\")"
      ],
      "execution_count": null,
      "outputs": [
        {
          "output_type": "stream",
          "text": [
            "matching string:\tbanana\n",
            "index of first and last matching character in the sentence: \t start: 9 \t end: 15\n",
            "index of first and last matching charcter as tuple: \t(9, 15)\n"
          ],
          "name": "stdout"
        }
      ]
    },
    {
      "cell_type": "code",
      "metadata": {
        "colab": {
          "base_uri": "https://localhost:8080/"
        },
        "id": "5FZcOwE0hOkb",
        "outputId": "eaadcce4-189e-439e-dfbc-eedb529fe209"
      },
      "source": [
        "# $ Matches at the end of a line, which is defined as either\n",
        "#  - the end of the string,\n",
        "#  or,\n",
        "#  - any location followed by a newline character.\n",
        "\n",
        "p = re.search('}$', '{block}')\n",
        "\n",
        "print('search {} in {}'.format('}$', '{block}'))\n",
        "if p:\n",
        "  print('is {} the last character?: True\\t match: {}'.format('}', p.group()))\n",
        "else:\n",
        "  print('{} is not the last character in this line'.format('{'))\n",
        "\n",
        "print('\\n-----------------------------------------')\n",
        "\n",
        "\n",
        "p = re.search('}$', '{block} ')\n",
        "\n",
        "print('search {} in {}'.format('}$', '{block} '))\n",
        "if p:\n",
        "  print('is {} the last character?: True\\t match: {}'.format('}', p.group()))\n",
        "else:\n",
        "  print('{} is not the last character in this line'.format('{'))\n",
        "\n",
        "print('\\n-----------------------------------------')\n",
        "\n",
        "p = re.search('}$', '{block}\\n')\n",
        "\n",
        "print('search {} in {}'.format('}$', '{block}\\\\n'))\n",
        "if p:\n",
        "  print('is {} the last character in this line? True \\t match: {}'.format('}', p.group()))\n",
        "else:\n",
        "    print('{} is not the last character in this line'.format('{'))"
      ],
      "execution_count": null,
      "outputs": [
        {
          "output_type": "stream",
          "text": [
            "search }$ in {block}\n",
            "is } the last character?: True\t match: }\n",
            "\n",
            "-----------------------------------------\n",
            "search }$ in {block} \n",
            "{ is not the last character in this line\n",
            "\n",
            "-----------------------------------------\n",
            "search }$ in {block}\\n\n",
            "is } the last character in this line? True \t match: }\n"
          ],
          "name": "stdout"
        }
      ]
    },
    {
      "cell_type": "code",
      "metadata": {
        "colab": {
          "base_uri": "https://localhost:8080/"
        },
        "id": "4EDrbIwnoTsZ",
        "outputId": "6e067b2b-68a2-45dd-ee92-e247be1f5a42"
      },
      "source": [
        "# ^ means the beginning of a string\n",
        "# $ means the end of a string\n",
        "\n",
        " \n",
        "# Do following strings begin and end with 'banana' ?\n",
        "print(re.search('^banana$', 'bananas are cheap'))\n",
        "\n",
        "print(re.search('^banana$', 'I have a banana'))\n",
        "\n",
        "print(re.search('^banana$', 'banana').group())"
      ],
      "execution_count": null,
      "outputs": [
        {
          "output_type": "stream",
          "text": [
            "None\n",
            "None\n",
            "banana\n"
          ],
          "name": "stdout"
        }
      ]
    },
    {
      "cell_type": "markdown",
      "metadata": {
        "id": "Rf4tEmyuankj"
      },
      "source": [
        "## **Quantifiers indicate the number of repetitions of the previous character**\n",
        "\n",
        "- $\\text{*}$: $\\quad$  means zero or more\n",
        "- $\\text{+}$: $\\quad$ means one or more\n",
        "- $\\text{?}$: $\\quad$ means zero or one repetitions\n",
        "- If more precise quantifiers are needed, the number of repetitions can be written in curly brackets"
      ]
    },
    {
      "cell_type": "code",
      "metadata": {
        "colab": {
          "base_uri": "https://localhost:8080/"
        },
        "id": "fa6CZQn8hWE_",
        "outputId": "ecfa163a-ae24-4ab9-b555-373055eeb26a"
      },
      "source": [
        "# '?' means zero or one repetitions\n",
        "\n",
        "print(re.search('ba?nana', 'banana').group())\n",
        "print(re.search('ba?nana', 'bnana').group())\n",
        "print(re.search('ba?nana', 'baaaaanana'))"
      ],
      "execution_count": null,
      "outputs": [
        {
          "output_type": "stream",
          "text": [
            "banana\n",
            "bnana\n",
            "None\n"
          ],
          "name": "stdout"
        }
      ]
    },
    {
      "cell_type": "code",
      "metadata": {
        "colab": {
          "base_uri": "https://localhost:8080/"
        },
        "id": "U3W7HfpZhWBk",
        "outputId": "0cd544fd-79aa-48db-ea44-1be23be3ffb7"
      },
      "source": [
        "# '+' means one or more repetitions\n",
        "print(re.search('ba+nana', 'banana').group())\n",
        "print(re.search('ba+nana', 'bnana'))\n",
        "print(re.search('ba+nana', 'baaaaanana').group())"
      ],
      "execution_count": null,
      "outputs": [
        {
          "output_type": "stream",
          "text": [
            "banana\n",
            "None\n",
            "baaaaanana\n"
          ],
          "name": "stdout"
        }
      ]
    },
    {
      "cell_type": "code",
      "metadata": {
        "colab": {
          "base_uri": "https://localhost:8080/"
        },
        "id": "eKenVK1vhV_S",
        "outputId": "bc1e2ea5-3b57-4486-85d7-1721e135b481"
      },
      "source": [
        "# '*' means zero or more repetitions\n",
        "print(re.search('ba*nana', 'banana').group())\n",
        "print(re.search('ba*nana', 'bnana').group())\n",
        "print(re.search('ba*nana', 'baaaaanana').group())"
      ],
      "execution_count": null,
      "outputs": [
        {
          "output_type": "stream",
          "text": [
            "banana\n",
            "bnana\n",
            "baaaaanana\n"
          ],
          "name": "stdout"
        }
      ]
    },
    {
      "cell_type": "code",
      "metadata": {
        "colab": {
          "base_uri": "https://localhost:8080/"
        },
        "id": "iZIT8o30hV9A",
        "outputId": "524c96cb-b8c4-4050-c3af-f7ce71c680f0"
      },
      "source": [
        "# a{2,7} means that the letter “a” must repeat at least 2 times and \n",
        "# at maximum 7 times for the string to match the pattern\n",
        "\n",
        "print(re.search('a{2,7}', 'banana'))\n",
        "print(re.search('a{2,7}', 'bnana'))\n",
        "print(re.search('a{2,7}', 'baaaaanana').group())"
      ],
      "execution_count": null,
      "outputs": [
        {
          "output_type": "stream",
          "text": [
            "None\n",
            "None\n",
            "aaaaa\n"
          ],
          "name": "stdout"
        }
      ]
    },
    {
      "cell_type": "markdown",
      "metadata": {
        "id": "HoCP2GKqankn"
      },
      "source": [
        "## **Disjunctions represent a logical OR.**\n",
        "\n",
        "written in squared brackets [ ] or separated by the pipe sign |."
      ]
    },
    {
      "cell_type": "code",
      "metadata": {
        "colab": {
          "base_uri": "https://localhost:8080/"
        },
        "id": "Lw1j1CYyiDXD",
        "outputId": "a8f09330-542a-4f27-a9f1-c02dc25f73bc"
      },
      "source": [
        "# b[aou]nana matches 'b*anana' strings which have either 'a', 'o' or 'u' as 2nd character\n",
        "\n",
        "print(re.search('b[aou]nana', 'banana').group())\n",
        "print(re.search('b[aou]nana', 'bonana').group())\n",
        "print(re.search('b[aou]nana', 'bunana').group())"
      ],
      "execution_count": null,
      "outputs": [
        {
          "output_type": "stream",
          "text": [
            "banana\n",
            "bonana\n",
            "bunana\n"
          ],
          "name": "stdout"
        }
      ]
    },
    {
      "cell_type": "code",
      "metadata": {
        "colab": {
          "base_uri": "https://localhost:8080/"
        },
        "id": "MhEND9CliDTj",
        "outputId": "048ff507-1448-49dd-a619-eda6673ee3d2"
      },
      "source": [
        "# b(a|o|u)nana matches 'b*anana' strings which have either 'a', 'o' or 'u' as 2nd character\n",
        "\n",
        "print(re.search('b(a|o|u)nana', 'banana').group())\n",
        "print(re.search('b(a|o|u)nana', 'bonana').group())\n",
        "print(re.search('b(a|o|u)nana', 'bunana').group())"
      ],
      "execution_count": null,
      "outputs": [
        {
          "output_type": "stream",
          "text": [
            "banana\n",
            "bonana\n",
            "bunana\n"
          ],
          "name": "stdout"
        }
      ]
    },
    {
      "cell_type": "code",
      "metadata": {
        "colab": {
          "base_uri": "https://localhost:8080/"
        },
        "id": "qpZQFcC5iDQX",
        "outputId": "34c62dc0-f388-4477-e37c-6099c5c7bfae"
      },
      "source": [
        "# Here, the 3 strings 'banana', 'bonana' 'bunana' are disjuncted to the word 'banana', 'bonana' 'bunana'.  \n",
        "\n",
        "print(re.search('banana|bonana|bunana', 'banana').group())\n",
        "print(re.search('banana|bonana|bunana', 'bonana').group())\n",
        "print(re.search('banana|bonana|bunana', 'bunana').group())"
      ],
      "execution_count": null,
      "outputs": [
        {
          "output_type": "stream",
          "text": [
            "banana\n",
            "bonana\n",
            "bunana\n"
          ],
          "name": "stdout"
        }
      ]
    },
    {
      "cell_type": "markdown",
      "metadata": {
        "id": "v8__BV-uankq"
      },
      "source": [
        "## **Character classes represent certain groups of characters.**\n",
        "\n",
        "* $\\text{\\d or [0-9]}\\quad \\quad \\quad \\quad$ :   matches digits\n",
        "* $\\text{\\w or [0-9A-Za-z_]}\\quad$ :  matches alphanumeric characters and underscores\n",
        "* $\\text{\\s} \\qquad \\qquad \\qquad \\qquad$:  matches white spaces\n",
        "* $. \\qquad \\qquad \\qquad \\qquad$ :  matches any character."
      ]
    },
    {
      "cell_type": "code",
      "metadata": {
        "colab": {
          "base_uri": "https://localhost:8080/"
        },
        "id": "lvuE_qzeankq",
        "outputId": "b0f5a9e4-aa4e-4a86-8e7a-30c3e6bdb7d8"
      },
      "source": [
        "# The expressions would match string which start with 'Hello'\n",
        "\n",
        "print(re.search('^Hello \\w+$', 'Hello World').group())\n",
        "print(re.search('^Hello \\w+$', 'Hello new World'))\n",
        "\n",
        "print(re.search('^Hello.+$', 'Hello World').group())\n",
        "print(re.search('^Hello.+$', 'Hello new world').group())"
      ],
      "execution_count": null,
      "outputs": [
        {
          "output_type": "stream",
          "text": [
            "Hello World\n",
            "None\n",
            "Hello World\n",
            "Hello new world\n"
          ],
          "name": "stdout"
        }
      ]
    },
    {
      "cell_type": "markdown",
      "metadata": {
        "id": "j5RqQDag2ksH"
      },
      "source": [
        "## find regular expressions in files "
      ]
    },
    {
      "cell_type": "code",
      "metadata": {
        "id": "a5MPCO_T0zRJ"
      },
      "source": [
        "# Create sample text file\n",
        "\n",
        "text = \"\"\"\\\n",
        " this is a sample text which contains several characters.\n",
        " For example, I bought cheap bananas today. \n",
        " \"\"\"\n",
        "# write content in output file\n",
        "with open(\"/content/regText.txt\", 'w') as file:\n",
        "  file.write(text)"
      ],
      "execution_count": null,
      "outputs": []
    },
    {
      "cell_type": "code",
      "metadata": {
        "colab": {
          "base_uri": "https://localhost:8080/"
        },
        "id": "Ugkw9ErK3kcX",
        "outputId": "1bdba8cf-ebe4-45a4-a6d8-0e9505f8d907"
      },
      "source": [
        "# Find the epression 'text' in sample file 'regText.txt'\n",
        "\n",
        "!fgrep -ew text regText.txt  "
      ],
      "execution_count": null,
      "outputs": [
        {
          "output_type": "stream",
          "text": [
            "grep: text: No such file or directory\n",
            "regText.txt: this is a sample text which contains several characters.\n"
          ],
          "name": "stdout"
        }
      ]
    },
    {
      "cell_type": "code",
      "metadata": {
        "colab": {
          "base_uri": "https://localhost:8080/"
        },
        "id": "vFLlcKWC8Q5u",
        "outputId": "f2e2c263-99ff-4a8b-af73-00bbba3301e9"
      },
      "source": [
        "# Replace the word banana with test in regText.txt\n",
        "\n",
        "!sed -e 's/banana/test/' regText.txt"
      ],
      "execution_count": null,
      "outputs": [
        {
          "output_type": "stream",
          "text": [
            " this is a sample text which contains several characters.\n",
            "For example, I bought cheap tests today. \n"
          ],
          "name": "stdout"
        }
      ]
    },
    {
      "cell_type": "markdown",
      "metadata": {
        "id": "7ZPgsZNYanks"
      },
      "source": [
        "Copyright © 2020 IUBH Internationale Hochschule"
      ]
    }
  ]
}
