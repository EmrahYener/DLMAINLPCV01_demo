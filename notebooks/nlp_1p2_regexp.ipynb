{
  "nbformat": 4,
  "nbformat_minor": 0,
  "metadata": {
    "kernelspec": {
      "display_name": "Python 3",
      "language": "python",
      "name": "python3"
    },
    "language_info": {
      "codemirror_mode": {
        "name": "ipython",
        "version": 3
      },
      "file_extension": ".py",
      "mimetype": "text/x-python",
      "name": "python",
      "nbconvert_exporter": "python",
      "pygments_lexer": "ipython3",
      "version": "3.8.2"
    },
    "nbTranslate": {
      "displayLangs": [
        "*"
      ],
      "hotkey": "alt-t",
      "langInMainMenu": true,
      "sourceLang": "en",
      "targetLang": "fr",
      "useGoogleTranslate": true
    },
    "colab": {
      "name": "nlp_1p2_regexp.ipynb",
      "provenance": [],
      "collapsed_sections": []
    }
  },
  "cells": [
    {
      "cell_type": "markdown",
      "metadata": {
        "id": "i8EfESNNankA"
      },
      "source": [
        "**regular expression**\n",
        "\n",
        "python library: **Lib/re.py**\n",
        "\n",
        "Regular expressions (also called “RegEx”) are a powerful tool and a standardized language to search for patterns in strings.\n",
        "\n",
        "the built-in python module \"re\" contains different methods for performing matches. The most signigiciant are:\n",
        "- ``match()``:$\\qquad \\text{Determine if the RE matches at the beginning of the string.}$<br>\n",
        "- ``search()``:$\\qquad \\text{Scan through a string, looking for any location where this RE matches.}$<br>\n",
        "- ``findall()``:$\\qquad \\text{Find all substrings where the RE matches, and returns them as a list.}$<br>\n",
        "- ``finditer()``:$\\qquad \\text{Find all substrings where the RE matches, and returns them as an iterator.}$<br>\n",
        "\n",
        "find in this notebook examples to following metacharacter setting can be found:\n",
        "- [Anchors](#anchors)\n",
        "- [Quantifiers](#quantifiers)\n",
        "- [Disjunctions](#disjunctions)\n",
        "- [Character Classes](#character_classes)\n",
        "\n",
        "python documentation:\n",
        "- Regular Expression Syntax [library \"re\"](https://docs.python.org/3/library/re.html)\n",
        "- How-to use re [re-how-to](https://docs.python.org/3/howto/regex.html#regex-howto)\n",
        "\n",
        "\n"
      ]
    },
    {
      "cell_type": "code",
      "metadata": {
        "id": "VmYmsxu4ankY"
      },
      "source": [
        "# load resouces for all following code cells\n",
        "import re\n",
        "#"
      ],
      "execution_count": null,
      "outputs": []
    },
    {
      "cell_type": "markdown",
      "metadata": {
        "id": "t8E9--jiankb"
      },
      "source": [
        "<a id=\"anchors\">**Anchors mark a position in the string**</a>\n",
        "\n",
        "- $\\text{^}$ : $\\quad$ means the beginning of the string\n",
        "- $\\text{\\$}$: $\\quad$  means the end"
      ]
    },
    {
      "cell_type": "code",
      "metadata": {
        "colab": {
          "base_uri": "https://localhost:8080/"
        },
        "id": "CoZ1BlC7ankc",
        "outputId": "5e86d288-db17-4be0-d2ac-5dd6c96e9670"
      },
      "source": [
        "# define regular expression\n",
        "#\n",
        "# does them sentence \"bananas are cheap\" begin with \"banana\"?\n",
        "p = re.search('^banana', \"bananas are cheap\")\n",
        "\n",
        "# the function match() would return the same result\n",
        "# p = re.match('^banana', \"bananas are cheap\")\n",
        "#\n",
        "\n",
        "#\n",
        "# show results:\n",
        "#\n",
        "if p:\n",
        "    # print the string wich matches the regular expression\n",
        "    print(p.group())\n",
        "    #\n",
        "    # print the beginning of the match\n",
        "    print(p.start())\n",
        "    #\n",
        "    # print the last character of the match\n",
        "    print(p.end())\n",
        "    #\n",
        "    # print the start and end position as tuple:\n",
        "    print(p.span())\n",
        "else:\n",
        "    print(\"no match\")"
      ],
      "execution_count": null,
      "outputs": [
        {
          "output_type": "stream",
          "text": [
            "banana\n",
            "0\n",
            "6\n",
            "(0, 6)\n"
          ],
          "name": "stdout"
        }
      ]
    },
    {
      "cell_type": "code",
      "metadata": {
        "colab": {
          "base_uri": "https://localhost:8080/"
        },
        "id": "3O0t2i5dankg",
        "outputId": "15a7d212-a3ce-4c70-fa0d-3ba38d4d8a37"
      },
      "source": [
        "# check if the sentence \"I have a banana\" ends with \"banana\"\n",
        "#\n",
        "p = re.search('banana$', \"I have a banana\")\n",
        "\n",
        "# note:\n",
        "# The match() function only checks if the RE matches at the beginning of the string while search()\n",
        "# will scan forward through the string for a match. \n",
        "# It’s important to keep this distinction in mind. \n",
        "# Remember, match() will only report a successful match which will start at 0; \n",
        "# if the match wouldn’t start at zero, match() will not report it.\n",
        "\n",
        "#\n",
        "# show results:\n",
        "#\n",
        "if p:\n",
        "    # print the string wich matches the regular expression\n",
        "    print(p.group())\n",
        "    #\n",
        "    # print the beginning of the match\n",
        "    print(p.start())\n",
        "    #\n",
        "    # print the last character of the match\n",
        "    print(p.end())\n",
        "    #\n",
        "    # print the start and end position as tuple:\n",
        "    print(p.span())\n",
        "else:\n",
        "    print(\"no match\")\n",
        "\n",
        "    \n",
        "# $ Matches at the end of a line, which is defined as either the end of the string,\n",
        "#   or any location followed by a newline character.\n",
        "print('-------------------------------------------------')\n",
        "#\n",
        "print(re.search('}$', '{block}'))\n",
        "print(re.search('}$', '{block} '))\n",
        "print(re.search('}$', '{block}\\n'))\n",
        "#\n",
        "print('-------------------------------------------------')\n",
        "#\n",
        "print(re.search('^banana$', 'bananas are cheap'))\n",
        "print(re.search('^banana$', 'I have a banana'))\n",
        "print(re.search('^banana$', 'banana'))"
      ],
      "execution_count": null,
      "outputs": [
        {
          "output_type": "stream",
          "text": [
            "banana\n",
            "9\n",
            "15\n",
            "(9, 15)\n",
            "-------------------------------------------------\n",
            "<_sre.SRE_Match object; span=(6, 7), match='}'>\n",
            "None\n",
            "<_sre.SRE_Match object; span=(6, 7), match='}'>\n",
            "-------------------------------------------------\n",
            "None\n",
            "None\n",
            "<_sre.SRE_Match object; span=(0, 6), match='banana'>\n"
          ],
          "name": "stdout"
        }
      ]
    },
    {
      "cell_type": "markdown",
      "metadata": {
        "id": "Rf4tEmyuankj"
      },
      "source": [
        "<a id=quantifiers> **Quantifiers indicate the number of repetitions of the previous character** </a>\n",
        "\n",
        "- $\\text{*}$: $\\quad$  means zero or more\n",
        "- $\\text{+}$: $\\quad$ means one or more\n",
        "- $\\text{?}$: $\\quad$ means zero or one repetitions\n",
        "- If more precise quantifiers are needed, the number of repetitions can be written in curly brackets"
      ]
    },
    {
      "cell_type": "code",
      "metadata": {
        "colab": {
          "base_uri": "https://localhost:8080/"
        },
        "id": "Cd1E--zRankl",
        "outputId": "711082ba-0c90-4d82-9182-343c860004c4"
      },
      "source": [
        "print(re.search('ba?nana', 'banana'))\n",
        "print(re.search('ba?nana', 'bnana'))\n",
        "print(re.search('ba?nana', 'baaaaanana'))\n",
        "#\n",
        "print('-------------------------------------------------')\n",
        "#\n",
        "print(re.search('ba+nana', 'banana'))\n",
        "print(re.search('ba+nana', 'bnana'))\n",
        "print(re.search('ba+nana', 'baaaaanana'))\n",
        "#\n",
        "print('-------------------------------------------------')\n",
        "#\n",
        "print(re.search('ba*nana', 'banana'))\n",
        "print(re.search('ba*nana', 'bnana'))\n",
        "print(re.search('ba*nana', 'baaaaanana'))\n",
        "#\n",
        "print('-------------------------------------------------')\n",
        "#\n",
        "# a{2,7} means that the letter “a” must repeat at least 2 times and at maximum 7 times for the string to match the pattern\n",
        "#\n",
        "print(re.search('a{2,7}', 'banana'))\n",
        "print(re.search('a{2,7}', 'bnana'))\n",
        "print(re.search('a{2,7}', 'baaaaanana'))"
      ],
      "execution_count": null,
      "outputs": [
        {
          "output_type": "stream",
          "text": [
            "<_sre.SRE_Match object; span=(0, 6), match='banana'>\n",
            "<_sre.SRE_Match object; span=(0, 5), match='bnana'>\n",
            "None\n",
            "-------------------------------------------------\n",
            "<_sre.SRE_Match object; span=(0, 6), match='banana'>\n",
            "None\n",
            "<_sre.SRE_Match object; span=(0, 10), match='baaaaanana'>\n",
            "-------------------------------------------------\n",
            "<_sre.SRE_Match object; span=(0, 6), match='banana'>\n",
            "<_sre.SRE_Match object; span=(0, 5), match='bnana'>\n",
            "<_sre.SRE_Match object; span=(0, 10), match='baaaaanana'>\n",
            "-------------------------------------------------\n",
            "None\n",
            "None\n",
            "<_sre.SRE_Match object; span=(1, 6), match='aaaaa'>\n"
          ],
          "name": "stdout"
        }
      ]
    },
    {
      "cell_type": "markdown",
      "metadata": {
        "id": "HoCP2GKqankn"
      },
      "source": [
        "<a id=disjunctions>**Disjunctions represent a logical OR.**</a>\n",
        "\n",
        "$\\text{written in squared brackets [] or separated by the pipe sign |.}$"
      ]
    },
    {
      "cell_type": "code",
      "metadata": {
        "colab": {
          "base_uri": "https://localhost:8080/"
        },
        "id": "7mFoOxmaanko",
        "outputId": "f1aa3fe0-f998-4930-9d6c-380f802fefb4"
      },
      "source": [
        "print(re.search('b[aou]nana', 'banana'))\n",
        "print(re.search('b[aou]nana', 'bonana'))\n",
        "print(re.search('b[aou]nana', 'bunana'))\n",
        "#\n",
        "print('-------------------------------------------------')\n",
        "#\n",
        "print(re.search('b(a|o|u)nana', 'banana'))\n",
        "print(re.search('b(a|o|u)nana', 'bonana'))\n",
        "print(re.search('b(a|o|u)nana', 'bunana'))\n",
        "#\n",
        "print('-------------------------------------------------')\n",
        "#\n",
        "print(re.search('banana|bonana|bunana', 'banana'))\n",
        "print(re.search('banana|bonana|bunana', 'bonana'))\n",
        "print(re.search('banana|bonana|bunana', 'bunana'))\n",
        "#\n",
        "print('-------------------------------------------------')\n",
        "#"
      ],
      "execution_count": null,
      "outputs": [
        {
          "output_type": "stream",
          "text": [
            "<_sre.SRE_Match object; span=(0, 6), match='banana'>\n",
            "<_sre.SRE_Match object; span=(0, 6), match='bonana'>\n",
            "<_sre.SRE_Match object; span=(0, 6), match='bunana'>\n",
            "-------------------------------------------------\n",
            "<_sre.SRE_Match object; span=(0, 6), match='banana'>\n",
            "<_sre.SRE_Match object; span=(0, 6), match='bonana'>\n",
            "<_sre.SRE_Match object; span=(0, 6), match='bunana'>\n",
            "-------------------------------------------------\n",
            "<_sre.SRE_Match object; span=(0, 6), match='banana'>\n",
            "<_sre.SRE_Match object; span=(0, 6), match='bonana'>\n",
            "<_sre.SRE_Match object; span=(0, 6), match='bunana'>\n",
            "-------------------------------------------------\n"
          ],
          "name": "stdout"
        }
      ]
    },
    {
      "cell_type": "markdown",
      "metadata": {
        "id": "v8__BV-uankq"
      },
      "source": [
        "<a id=character_classes>**Character classes represent certain groups of characters.**</a>\n",
        "\n",
        "- $\\text{\\d or [0-9]}: \\quad$ matches digits\n",
        "- $\\text{\\w or [0-9A-Za-z_]}: \\quad$ matches alphanumeric characters and underscores\n",
        "- $\\text{\\s}: \\qquad$ matches white spaces\n",
        "- $\\text{.}: \\qquad$ matches any character.\n"
      ]
    },
    {
      "cell_type": "code",
      "metadata": {
        "colab": {
          "base_uri": "https://localhost:8080/"
        },
        "id": "lvuE_qzeankq",
        "outputId": "6dcf0d12-9806-4d76-bdc1-05386c802db5"
      },
      "source": [
        "print(re.search('^Hello \\w+$', 'Hello World'))\n",
        "print(re.search('^Hello.+$', 'Hello new world'))\n",
        "#\n",
        "print('-------------------------------------------------')"
      ],
      "execution_count": null,
      "outputs": [
        {
          "output_type": "stream",
          "text": [
            "<_sre.SRE_Match object; span=(0, 11), match='Hello World'>\n",
            "<_sre.SRE_Match object; span=(0, 15), match='Hello new world'>\n",
            "-------------------------------------------------\n"
          ],
          "name": "stdout"
        }
      ]
    },
    {
      "cell_type": "markdown",
      "metadata": {
        "id": "7ZPgsZNYanks"
      },
      "source": [
        "Copyright © 2021 IUBH Internationale Hochschule"
      ]
    }
  ]
}
