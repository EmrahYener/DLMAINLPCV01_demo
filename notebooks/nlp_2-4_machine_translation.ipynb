{
 "cells": [
  {
   "cell_type": "markdown",
   "metadata": {},
   "source": [
    "**Machine translation with OpenNMT**\n",
    "\n",
    "[git_hub](https://github.com/OpenNMT/OpenNMT-py)\n",
    "\n",
    "In this example the OpenNMT-py - [``quick_start``](https://opennmt.net/OpenNMT-py/quickstart.html#step-0-install-opennmt-py) example is transfered from a colab interpretation: [colab_OpenNMT-py](https://colab.research.google.com/drive/1eaRV_mEkR5p3_mTbfXcSWHNE-ypreJo8?usp=sharing#scrollTo=Esz4fKZRGVvx)"
   ]
  },
  {
   "cell_type": "markdown",
   "metadata": {},
   "source": [
    "[![Open In Colab](https://colab.research.google.com/assets/colab-badge.svg)](https://colab.research.google.com/drive/1eaRV_mEkR5p3_mTbfXcSWHNE-ypreJo8?usp=sharing#scrollTo=Esz4fKZRGVvx)"
   ]
  }
 ],
 "metadata": {
  "kernelspec": {
   "display_name": "Python 3",
   "language": "python",
   "name": "python3"
  },
  "language_info": {
   "codemirror_mode": {
    "name": "ipython",
    "version": 3
   },
   "file_extension": ".py",
   "mimetype": "text/x-python",
   "name": "python",
   "nbconvert_exporter": "python",
   "pygments_lexer": "ipython3",
   "version": "3.8.2"
  },
  "nbTranslate": {
   "displayLangs": [
    "*"
   ],
   "hotkey": "alt-t",
   "langInMainMenu": true,
   "sourceLang": "en",
   "targetLang": "fr",
   "useGoogleTranslate": true
  }
 },
 "nbformat": 4,
 "nbformat_minor": 4
}
