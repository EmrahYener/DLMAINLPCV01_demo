{
  "nbformat": 4,
  "nbformat_minor": 0,
  "metadata": {
    "accelerator": "GPU",
    "colab": {
      "name": "nlp_2-4_machine_translation.ipynb",
      "provenance": [],
      "collapsed_sections": [],
      "toc_visible": true
    },
    "kernelspec": {
      "display_name": "Python 3",
      "name": "python3"
    }
  },
  "cells": [
    {
      "cell_type": "markdown",
      "metadata": {
        "id": "QPLJlTVjbLWA"
      },
      "source": [
        "# **Machine Translation**\n",
        "\n",
        "Machine translation (MT) is the task of automatically translating text or speech from\n",
        "one natural language to another (Wang et al., 2019). MT is a subfield of NLP that leverages\n",
        "the disciplines of artificial intelligence, information theory, computer science, and\n",
        "statistics.\n",
        "\n",
        "In this example the ``OpenNMT-py`` library is used to demnstrate a **N**eural **M**achine **T**ranslation task.\n",
        "The code follows the instruction on the ``quickstart`` example found on [OpenNMT-py:Quickstart](https://github.com/OpenNMT/OpenNMT-py#quickstart)"
      ]
    },
    {
      "cell_type": "markdown",
      "metadata": {
        "id": "Rr4B7Gr-dpEU"
      },
      "source": [
        "## **Installation**"
      ]
    },
    {
      "cell_type": "code",
      "metadata": {
        "id": "CClOS9iT1Fsp"
      },
      "source": [
        "# Install OpenNMT-py 2.x\n",
        "# NOTE: By the end of the insatallation, it might ask for restarting the runtime...\n",
        "# In this case, just click the \"RESTART RUNTIME\" button.\n",
        "\n",
        "!pip3 install git+https://github.com/OpenNMT/OpenNMT-py.git"
      ],
      "execution_count": null,
      "outputs": []
    },
    {
      "cell_type": "code",
      "metadata": {
        "id": "Esz4fKZRGVvx"
      },
      "source": [
        "# On Google Colab ONLY\n",
        "# Reinstall Torch to avoid incompatibility with Cuda 10.1\n",
        "\n",
        "# NOTE: By the end of the insatallation, it might ask for restarting the runtime...\n",
        "# In this case, just click the \"RESTART RUNTIME\" button.\n",
        "\n",
        "!pip3 install --ignore-installed torch==1.6.0+cu101 -f https://download.pytorch.org/whl/torch_stable.html"
      ],
      "execution_count": null,
      "outputs": []
    },
    {
      "cell_type": "markdown",
      "metadata": {
        "id": "jxm8jIf_epJz"
      },
      "source": [
        "## **Download files**"
      ]
    },
    {
      "cell_type": "code",
      "metadata": {
        "id": "pj-PhnzqzMBQ",
        "colab": {
          "base_uri": "https://localhost:8080/"
        },
        "outputId": "666f7642-3f70-4351-8051-9564019fc839"
      },
      "source": [
        "# Download the files of the QuickStart\n",
        "\n",
        "!wget https://s3.amazonaws.com/opennmt-trainingdata/toy-ende.tar.gz\n",
        "!tar xf toy-ende.tar.gz"
      ],
      "execution_count": 1,
      "outputs": [
        {
          "output_type": "stream",
          "text": [
            "--2021-03-26 08:58:13--  https://s3.amazonaws.com/opennmt-trainingdata/toy-ende.tar.gz\n",
            "Resolving s3.amazonaws.com (s3.amazonaws.com)... 52.216.206.85\n",
            "Connecting to s3.amazonaws.com (s3.amazonaws.com)|52.216.206.85|:443... connected.\n",
            "HTTP request sent, awaiting response... 200 OK\n",
            "Length: 1662081 (1.6M) [application/x-gzip]\n",
            "Saving to: ‘toy-ende.tar.gz’\n",
            "\n",
            "toy-ende.tar.gz     100%[===================>]   1.58M  3.38MB/s    in 0.5s    \n",
            "\n",
            "2021-03-26 08:58:13 (3.38 MB/s) - ‘toy-ende.tar.gz’ saved [1662081/1662081]\n",
            "\n"
          ],
          "name": "stdout"
        }
      ]
    },
    {
      "cell_type": "code",
      "metadata": {
        "id": "V7oLWNaPZ_3m",
        "colab": {
          "base_uri": "https://localhost:8080/"
        },
        "outputId": "361fe4cd-547e-465c-938f-ebd6ce05ff1e"
      },
      "source": [
        "# Optional: List the extracted files\n",
        "\n",
        "!cd toy-ende/ && ls"
      ],
      "execution_count": 2,
      "outputs": [
        {
          "output_type": "stream",
          "text": [
            "src-test.txt   src-val.txt   tgt-train.txt\n",
            "src-train.txt  tgt-test.txt  tgt-val.txt\n"
          ],
          "name": "stdout"
        }
      ]
    },
    {
      "cell_type": "code",
      "metadata": {
        "id": "nUxHPm8izhzJ",
        "colab": {
          "base_uri": "https://localhost:8080/"
        },
        "outputId": "7509253d-45d0-43d4-c740-5256f813fde7"
      },
      "source": [
        "# Optional: Print the first 3 lines of the source file\n",
        "\n",
        "!head -n 3 toy-ende/src-train.txt"
      ],
      "execution_count": 3,
      "outputs": [
        {
          "output_type": "stream",
          "text": [
            "It is not acceptable that , with the help of the national bureaucracies , Parliament &apos;s legislative prerogative should be made null and void by means of implementing provisions whose content , purpose and extent are not laid down in advance .\n",
            "Federal Master Trainer and Senior Instructor of the Italian Federation of Aerobic Fitness , Group Fitness , Postural Gym , Stretching and Pilates; from 2004 , he has been collaborating with Antiche Terme as personal Trainer and Instructor of Stretching , Pilates and Postural Gym .\n",
            "&quot; Two soldiers came up to me and told me that if I refuse to sleep with them , they will kill me . They beat me and ripped my clothes .\n"
          ],
          "name": "stdout"
        }
      ]
    },
    {
      "cell_type": "code",
      "metadata": {
        "id": "aOXCYqXOM9un",
        "colab": {
          "base_uri": "https://localhost:8080/"
        },
        "outputId": "8184072a-c4e9-4001-9648-3e4ba0ec28ad"
      },
      "source": [
        "# Optional: Check the number of lines in the source file\n",
        "\n",
        "!echo \"Number of lines:\" && wc -l toy-ende/src-train.txt"
      ],
      "execution_count": 4,
      "outputs": [
        {
          "output_type": "stream",
          "text": [
            "Number of lines:\n",
            "10000 toy-ende/src-train.txt\n"
          ],
          "name": "stdout"
        }
      ]
    },
    {
      "cell_type": "markdown",
      "metadata": {
        "id": "F7alI6tLfF1Q"
      },
      "source": [
        "## **Prepare data**"
      ]
    },
    {
      "cell_type": "code",
      "metadata": {
        "id": "9jgYJhuzzh96",
        "colab": {
          "base_uri": "https://localhost:8080/"
        },
        "outputId": "f446a1ed-47fe-4858-af0e-64894a0a3102"
      },
      "source": [
        "# Create the YAML configuration file\n",
        "# On a regular machine, you can create it manually or with nano\n",
        "\n",
        "config = '''# toy_en_de.yaml\n",
        "\n",
        "## Where the samples will be written\n",
        "save_data: toy-ende/run/example\n",
        "\n",
        "## Where the vocab(s) will be written\n",
        "src_vocab: toy-ende/run/example.vocab.src\n",
        "tgt_vocab: toy-ende/run/example.vocab.tgt\n",
        "\n",
        "## Where the model will be saved\n",
        "save_model: model/model\n",
        "\n",
        "# Prevent overwriting existing files in the folder\n",
        "overwrite: False\n",
        "\n",
        "# Corpus opts:\n",
        "data:\n",
        "    corpus_1:\n",
        "        path_src: toy-ende/src-train.txt\n",
        "        path_tgt: toy-ende/tgt-train.txt\n",
        "    valid:\n",
        "        path_src: toy-ende/src-val.txt\n",
        "        path_tgt: toy-ende/tgt-val.txt\n",
        "\n",
        "world_size: 1\n",
        "gpu_ranks: [0]\n",
        "\n",
        "# Remove or modify these lines for bigger files\n",
        "train_steps: 1000\n",
        "valid_steps: 200\n",
        "'''\n",
        "# Look at the file content\n",
        "with open(\"toy_en_de.yaml\", \"w+\") as config_yaml:\n",
        "  config_yaml.write(config)\n",
        "\n",
        "!cat toy_en_de.yaml"
      ],
      "execution_count": 5,
      "outputs": [
        {
          "output_type": "stream",
          "text": [
            "# toy_en_de.yaml\n",
            "\n",
            "## Where the samples will be written\n",
            "save_data: toy-ende/run/example\n",
            "\n",
            "## Where the vocab(s) will be written\n",
            "src_vocab: toy-ende/run/example.vocab.src\n",
            "tgt_vocab: toy-ende/run/example.vocab.tgt\n",
            "\n",
            "## Where the model will be saved\n",
            "save_model: model/model\n",
            "\n",
            "# Prevent overwriting existing files in the folder\n",
            "overwrite: False\n",
            "\n",
            "# Corpus opts:\n",
            "data:\n",
            "    corpus_1:\n",
            "        path_src: toy-ende/src-train.txt\n",
            "        path_tgt: toy-ende/tgt-train.txt\n",
            "    valid:\n",
            "        path_src: toy-ende/src-val.txt\n",
            "        path_tgt: toy-ende/tgt-val.txt\n",
            "\n",
            "world_size: 1\n",
            "gpu_ranks: [0]\n",
            "\n",
            "# Remove or modify these lines for bigger files\n",
            "train_steps: 1000\n",
            "valid_steps: 200\n"
          ],
          "name": "stdout"
        }
      ]
    },
    {
      "cell_type": "code",
      "metadata": {
        "id": "eRMJGSan8FoF",
        "colab": {
          "base_uri": "https://localhost:8080/"
        },
        "outputId": "1914e871-46a4-44a1-f423-66bf5e94426c"
      },
      "source": [
        "# Build Vocabulary\n",
        "\n",
        "!onmt_build_vocab -config toy_en_de.yaml -n_sample -1"
      ],
      "execution_count": 6,
      "outputs": [
        {
          "output_type": "stream",
          "text": [
            "Corpus corpus_1's weight should be given. We default it to 1 for you.\n",
            "[2021-03-26 08:59:38,054 INFO] Counter vocab from -1 samples.\n",
            "[2021-03-26 08:59:38,054 INFO] n_sample=-1: Build vocab on full datasets.\n",
            "[2021-03-26 08:59:38,063 INFO] corpus_1's transforms: TransformPipe()\n",
            "[2021-03-26 08:59:38,064 INFO] Loading ParallelCorpus(toy-ende/src-train.txt, toy-ende/tgt-train.txt, align=None)...\n",
            "[2021-03-26 08:59:38,366 INFO] Counters src:24995\n",
            "[2021-03-26 08:59:38,366 INFO] Counters tgt:35816\n"
          ],
          "name": "stdout"
        }
      ]
    },
    {
      "cell_type": "code",
      "metadata": {
        "id": "BRMNMIBzziDs",
        "colab": {
          "base_uri": "https://localhost:8080/"
        },
        "outputId": "41a63602-1c55-4721-90ba-60938c122fd9"
      },
      "source": [
        "# Check if GPU is active\n",
        "# If not, go to \"Runtime\" menu > \"Change runtime type\" > \"GPU\"\n",
        "\n",
        "!nvidia-smi -L"
      ],
      "execution_count": 7,
      "outputs": [
        {
          "output_type": "stream",
          "text": [
            "GPU 0: Tesla T4 (UUID: GPU-39210352-32c6-3d62-accf-350493941670)\n"
          ],
          "name": "stdout"
        }
      ]
    },
    {
      "cell_type": "code",
      "metadata": {
        "id": "DhpACn0WFQgG",
        "colab": {
          "base_uri": "https://localhost:8080/"
        },
        "outputId": "7f7a6928-46a8-4613-ef32-4ec444c42460"
      },
      "source": [
        "# Make sure the GPU is visable to PyTorch\n",
        "\n",
        "import torch\n",
        "\n",
        "gpu_id = torch.cuda.current_device()\n",
        "print(torch.cuda.is_available())\n",
        "print(torch.cuda.get_device_name(gpu_id))"
      ],
      "execution_count": 8,
      "outputs": [
        {
          "output_type": "stream",
          "text": [
            "True\n",
            "Tesla T4\n"
          ],
          "name": "stdout"
        }
      ]
    },
    {
      "cell_type": "markdown",
      "metadata": {
        "id": "ROwXb_4wfqsi"
      },
      "source": [
        "## **Train model**"
      ]
    },
    {
      "cell_type": "code",
      "metadata": {
        "id": "B6mgFwEX90UP"
      },
      "source": [
        "# Train the NMT model  -> will take ~ 5min\n",
        "\n",
        "!onmt_train -config toy_en_de.yaml"
      ],
      "execution_count": null,
      "outputs": []
    },
    {
      "cell_type": "markdown",
      "metadata": {
        "id": "JRhFNM6ofxnw"
      },
      "source": [
        "## **Translate**"
      ]
    },
    {
      "cell_type": "code",
      "metadata": {
        "id": "GQtKJduoXCz7"
      },
      "source": [
        "# Translate\n",
        "\n",
        "!onmt_translate -model model/model_step_1000.pt -src toy-ende/src-test.txt -output toy-ende/pred_1000.txt -gpu 0 -verbose"
      ],
      "execution_count": null,
      "outputs": []
    },
    {
      "cell_type": "code",
      "metadata": {
        "colab": {
          "base_uri": "https://localhost:8080/"
        },
        "id": "GJgfzhRp5_Ta",
        "outputId": "3ecfe7f8-ff25-4556-86f9-acb9d38a4b08"
      },
      "source": [
        "# Look at some of the translations \n",
        "\n",
        "!head -n 5 toy-ende/pred_1000.txt"
      ],
      "execution_count": 26,
      "outputs": [
        {
          "output_type": "stream",
          "text": [
            "Die Aussprache ist ein\n",
            "Die Aussprache ist von der Europäischen Union , die auf der USA .\n",
            "Das ist jedoch für den Vorschlag der Europäischen Union .\n",
            "Die Aussprache ist von der Europäischen Union .\n",
            "Die Aussprache ist von der Europäischen Union , die auf der USA .\n"
          ],
          "name": "stdout"
        }
      ]
    },
    {
      "cell_type": "markdown",
      "metadata": {
        "id": "n333ZT4Ff3Ta"
      },
      "source": [
        "Copyright © 2021 IU International University of Applied Sciences"
      ]
    }
  ]
}