{
  "nbformat": 4,
  "nbformat_minor": 0,
  "metadata": {
    "kernelspec": {
      "display_name": "Python 3",
      "language": "python",
      "name": "python3"
    },
    "language_info": {
      "codemirror_mode": {
        "name": "ipython",
        "version": 3
      },
      "file_extension": ".py",
      "mimetype": "text/x-python",
      "name": "python",
      "nbconvert_exporter": "python",
      "pygments_lexer": "ipython3",
      "version": "3.8.2"
    },
    "nbTranslate": {
      "displayLangs": [
        "*"
      ],
      "hotkey": "alt-t",
      "langInMainMenu": true,
      "sourceLang": "en",
      "targetLang": "fr",
      "useGoogleTranslate": true
    },
    "colab": {
      "name": "nlp_1-6_named_entity_recognition.ipynb",
      "provenance": [],
      "collapsed_sections": [],
      "toc_visible": true
    }
  },
  "cells": [
    {
      "cell_type": "markdown",
      "metadata": {
        "id": "Q_X42HQ1pF84"
      },
      "source": [
        "# **Named Entity Recognition**"
      ]
    },
    {
      "cell_type": "markdown",
      "source": [
        "## **1- Introduction**\n",
        "\n",
        "In this section, we demonstrate how to implement named entity recognition using spaCy.\n",
        "\n",
        "SpaCy is one of the most famous framework for NLP. It can be used for the implementation of tasks for sentiment analysis, chatbots, text summarization, intent and entity extraction, and others.\n",
        "\n",
        "More information about spaCy please refer to [[1]](#scrollTo=op-j6UywUt5i).\n",
        "\n",
        "### **Content**\n",
        "In this notebook, some basic examples of named entity recognition will be shown.\n"
      ],
      "metadata": {
        "id": "p07VlvadPlrX"
      }
    },
    {
      "cell_type": "markdown",
      "metadata": {
        "id": "V3KClYAYpF9y"
      },
      "source": [
        "## **2- Named Entity Recognition (NER)**\n",
        "\n",
        "Named entity recognition (NER) is the task of locating and classifying\n",
        "named entities mentioned in unstructured text into predefined categories such as\n",
        "names, organizations, locations, medical codes, time expressions, quantities, monetary values, and percentages. \n",
        "\n",
        "NER provides important information to understand the content of a text, and is an excellent starting point for all kinds of text analysis and data organization. NER is a token classification problem."
      ]
    },
    {
      "cell_type": "markdown",
      "source": [
        "### **Code Examples**\n",
        "\n",
        "For named entity recognition , we will follow the following steps:\n",
        "* Import the spaCy library\n",
        "* Load the language model (English)\n",
        "* Create a spaCy document\n",
        "* Access the POS tags by iterating over the document object\n",
        "* Print the POS tags"
      ],
      "metadata": {
        "id": "Cy3gmFQ3RGMp"
      }
    },
    {
      "cell_type": "code",
      "metadata": {
        "id": "5rVtW6JEpF9f"
      },
      "source": [
        "# Load resources for all following code cells\n",
        "import spacy\n",
        "\n",
        "# Load English tokenizer, tagger, parser, NER and word vectors\n",
        "sp = spacy.load('en_core_web_sm')"
      ],
      "execution_count": 1,
      "outputs": []
    },
    {
      "cell_type": "code",
      "metadata": {
        "colab": {
          "base_uri": "https://localhost:8080/"
        },
        "id": "8KRXu4WQpF90",
        "outputId": "eba47b00-6178-4303-8a76-a3ed2f4061dc"
      },
      "source": [
        "# Create NER document\n",
        "## We can improve the readability and formatting by adding columns. \n",
        "## The numbers in curly brackets indicate the space between columns [2].\n",
        "doc_ner = sp(u'Christiano Ronaldo was signed by Juventus for $105 million')\n",
        "\n",
        "for entity in doc_ner.ents:\n",
        "    print(f'{entity.text:{25}} {entity.label_:{10}} {str(spacy.explain(entity.label_))}')\n",
        "    \n"
      ],
      "execution_count": 5,
      "outputs": [
        {
          "output_type": "stream",
          "name": "stdout",
          "text": [
            "Christiano Ronaldo        PERSON     People, including fictional\n",
            "Juventus                  ORG        Companies, agencies, institutions, etc.\n",
            "$105 million              MONEY      Monetary values, including unit\n"
          ]
        }
      ]
    },
    {
      "cell_type": "markdown",
      "source": [
        "## **3- References**\n",
        "\n",
        "- [1] https://spacy.io/\n",
        "- [2] https://stackabuse.com/python-for-nlp-parts-of-speech-tagging-and-named-entity-recognition/"
      ],
      "metadata": {
        "id": "op-j6UywUt5i"
      }
    },
    {
      "cell_type": "markdown",
      "metadata": {
        "id": "7kDAQDmXpF91"
      },
      "source": [
        "Copyright © 2021 IU International University of Applied Sciences"
      ]
    }
  ]
}